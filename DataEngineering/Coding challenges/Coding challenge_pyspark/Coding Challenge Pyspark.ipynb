{
 "cells": [
  {
   "cell_type": "code",
   "execution_count": 0,
   "metadata": {
    "application/vnd.databricks.v1+cell": {
     "cellMetadata": {},
     "inputWidgets": {},
     "nuid": "ecac782a-b988-42fc-b7d2-e472b8585bd5",
     "showTitle": false,
     "tableResultSettingsMap": {},
     "title": ""
    }
   },
   "outputs": [],
   "source": [
    "#2.Using spark sql Transformations such as Filter, Join, Simple Aggregations, GroupBy on the case study dataset"
   ]
  },
  {
   "cell_type": "code",
   "execution_count": 0,
   "metadata": {
    "application/vnd.databricks.v1+cell": {
     "cellMetadata": {
      "byteLimit": 2048000,
      "rowLimit": 10000
     },
     "inputWidgets": {},
     "nuid": "b666f456-7754-4097-adf8-90570a81bfc1",
     "showTitle": false,
     "tableResultSettingsMap": {},
     "title": ""
    }
   },
   "outputs": [
    {
     "output_type": "stream",
     "name": "stdout",
     "output_type": "stream",
     "text": [
      "+---------+----------+--------+-----------+---------+------+---+------+---------+-------------+--------------+---------------+------+\n|RowNumber|CustomerId| Surname|CreditScore|Geography|Gender|Age|Tenure|  Balance|NumOfProducts|IsActiveMember|EstimatedSalary|Exited|\n+---------+----------+--------+-----------+---------+------+---+------+---------+-------------+--------------+---------------+------+\n|        1|  15634602|Hargrave|        619|   France|Female| 42|     2|      0.0|            1|             1|      101348.88|     1|\n|        2|  15647311|    Hill|        608|    Spain|Female| 41|     1| 83807.86|            1|             1|      112542.58|     0|\n|        3|  15619304|    Onio|        502|   France|Female| 42|     8| 159660.8|            3|             0|      113931.57|     1|\n|        4|  15701354|    Boni|        699|   France|Female| 39|     1|      0.0|            2|             0|       93826.63|     0|\n|        5|  15737888|Mitchell|        850|    Spain|Female| 43|     2|125510.82|            1|             1|        79084.1|     0|\n+---------+----------+--------+-----------+---------+------+---+------+---------+-------------+--------------+---------------+------+\n\n"
     ]
    }
   ],
   "source": [
    "from pyspark.sql import SparkSession\n",
    "\n",
    "# Initialize Spark Session\n",
    "spark = SparkSession.builder.appName(\"CreditCardAnalysis\").getOrCreate()\n",
    "\n",
    "# Load dataset\n",
    "credit_card_df = spark.read.csv(\"/FileStore/tables/credit_card-1.csv\", header=True, inferSchema=True)\n",
    "new_credit=spark.read.csv(\"/FileStore/tables/book.csv\", header=True, inferSchema=True)\n",
    "\n",
    "# Create a temporary SQL view\n",
    "credit_card_df.createOrReplaceTempView(\"credit_card\")\n",
    "new_credit.createOrReplaceTempView(\"new\")\n"
   ]
  },
  {
   "cell_type": "code",
   "execution_count": 0,
   "metadata": {
    "application/vnd.databricks.v1+cell": {
     "cellMetadata": {
      "byteLimit": 2048000,
      "rowLimit": 10000
     },
     "inputWidgets": {},
     "nuid": "e29a94bf-74b1-40c0-bdb3-e6474bff6047",
     "showTitle": false,
     "tableResultSettingsMap": {},
     "title": ""
    }
   },
   "outputs": [
    {
     "output_type": "stream",
     "name": "stdout",
     "output_type": "stream",
     "text": [
      "+---------+----------+----------+-----------+---------+------+---+------+---------+-------------+--------------+---------------+------+\n|RowNumber|CustomerId|   Surname|CreditScore|Geography|Gender|Age|Tenure|  Balance|NumOfProducts|IsActiveMember|EstimatedSalary|Exited|\n+---------+----------+----------+-----------+---------+------+---+------+---------+-------------+--------------+---------------+------+\n|        5|  15737888|  Mitchell|        850|    Spain|Female| 43|     2|125510.82|            1|             1|        79084.1|     0|\n|       25|  15625047|       Yen|        846|   France|Female| 38|     5|      0.0|            1|             1|      187616.16|     0|\n|       39|  15717426| Armstrong|        850|   France|  Male| 36|     7|      0.0|            1|             1|        40812.9|     0|\n|       44|  15755196|    Lavine|        834|   France|Female| 49|     2|131394.56|            1|             0|      194365.76|     1|\n|      181|  15716334|    Rozier|        850|    Spain|Female| 45|     2|122311.21|            1|             1|        19482.5|     0|\n|      201|  15604482| Chiemezie|        850|    Spain|  Male| 30|     2|141040.01|            1|             1|         5978.2|     0|\n|      224|  15733247| Stevenson|        850|   France|  Male| 33|    10|      0.0|            1|             0|        4861.72|     1|\n|      260|  15607178|     Welch|        850|  Germany|  Male| 38|     3| 54901.01|            1|             1|      140075.55|     0|\n|      346|  15763859|     Brown|        840|   France|Female| 43|     7|      0.0|            2|             0|       90908.95|     0|\n|      357|  15611759|   Simmons|        850|    Spain|Female| 57|     8| 126776.3|            2|             1|      132298.49|     0|\n|      412|  15760431|      Pino|        850|   France|  Male| 38|     1|      0.0|            2|             1|       80006.65|     0|\n|      452|  15785798|Uchechukwu|        850|   France|  Male| 40|     9|      0.0|            2|             1|      119232.33|     0|\n|      467|  15663252| Olisanugo|        850|    Spain|Female| 32|     9|      0.0|            2|             1|       18924.92|     0|\n|      521|  15671256| Macartney|        850|   France|Female| 35|     1|211774.31|            1|             0|      188574.12|     1|\n|      522|  15653547|   Madukwe|        850|   France|  Male| 56|     7|131317.48|            1|             1|      119175.45|     0|\n|      541|  15667896|   De Luca|        833|   France|  Male| 37|     8|151226.18|            2|             1|      136129.49|     0|\n|      546|  15615457|     Burns|        842|    Spain|Female| 44|     2|112652.08|            2|             0|      126644.98|     0|\n|      560|  15571816|   Ritchie|        850|    Spain|Female| 70|     5|      0.0|            1|             1|         705.18|     0|\n|      575|  15644753|      Hung|        848|    Spain|  Male| 40|     3|110929.96|            1|             1|       30876.84|     0|\n|      626|  15604119|  Alderete|        850|    Spain|  Male| 35|     7|110349.82|            1|             0|       126355.8|     0|\n+---------+----------+----------+-----------+---------+------+---+------+---------+-------------+--------------+---------------+------+\nonly showing top 20 rows\n\n+---------+----------+----------+-----------+---------+------+---+------+---------+-------------+--------------+---------------+------+\n|RowNumber|CustomerId|   Surname|CreditScore|Geography|Gender|Age|Tenure|  Balance|NumOfProducts|IsActiveMember|EstimatedSalary|Exited|\n+---------+----------+----------+-----------+---------+------+---+------+---------+-------------+--------------+---------------+------+\n|        1|  15634602|  Hargrave|        619|   France|Female| 42|     2|      0.0|            1|             1|      101348.88|     1|\n|        2|  15647311|      Hill|        608|    Spain|Female| 41|     1| 83807.86|            1|             1|      112542.58|     0|\n|        3|  15619304|      Onio|        502|   France|Female| 42|     8| 159660.8|            3|             0|      113931.57|     1|\n|        4|  15701354|      Boni|        699|   France|Female| 39|     1|      0.0|            2|             0|       93826.63|     0|\n|        5|  15737888|  Mitchell|        850|    Spain|Female| 43|     2|125510.82|            1|             1|        79084.1|     0|\n|        8|  15656148|    Obinna|        376|  Germany|Female| 29|     4|115046.74|            4|             0|      119346.88|     1|\n|       13|  15632264|       Kay|        476|   France|Female| 34|    10|      0.0|            2|             0|       26260.98|     0|\n|       14|  15691483|      Chin|        549|   France|Female| 25|     5|      0.0|            2|             0|      190857.79|     0|\n|       15|  15600882|     Scott|        635|    Spain|Female| 35|     7|      0.0|            2|             1|       65951.65|     0|\n|       18|  15788218| Henderson|        549|    Spain|Female| 24|     9|      0.0|            2|             1|       14406.41|     0|\n|       20|  15568982|       Hao|        726|   France|Female| 24|     6|      0.0|            2|             1|       54724.03|     0|\n|       22|  15597945|  Dellucci|        636|    Spain|Female| 32|     8|      0.0|            2|             0|      138555.46|     0|\n|       23|  15699309| Gerasimov|        510|    Spain|Female| 38|     4|      0.0|            1|             0|      118913.53|     1|\n|       25|  15625047|       Yen|        846|   France|Female| 38|     5|      0.0|            1|             1|      187616.16|     0|\n|       29|  15728693|McWilliams|        574|  Germany|Female| 43|     3|141349.43|            1|             1|      100187.43|     0|\n|       31|  15589475|   Azikiwe|        591|    Spain|Female| 39|     3|      0.0|            3|             0|      140469.38|     1|\n|       34|  15659428|   Maggard|        520|    Spain|Female| 42|     6|      0.0|            2|             1|       34410.55|     0|\n|       35|  15732963|  Clements|        722|    Spain|Female| 29|     9|      0.0|            2|             1|      142033.07|     0|\n|       36|  15794171|  Lombardo|        475|   France|Female| 45|     0|134264.04|            1|             0|       27822.99|     1|\n|       42|  15738148|    Clarke|        465|   France|Female| 51|     8|122522.32|            1|             0|      181297.65|     1|\n+---------+----------+----------+-----------+---------+------+---+------+---------+-------------+--------------+---------------+------+\nonly showing top 20 rows\n\n"
     ]
    }
   ],
   "source": [
    "# 1.Using FIlter\n",
    "\n",
    "# 1. Filter transactions where credit score is above 830\n",
    "spark.sql(\"SELECT * FROM credit_card WHERE CreditScore > 830\").show()\n",
    "\n",
    "\n"
   ]
  },
  {
   "cell_type": "code",
   "execution_count": 0,
   "metadata": {
    "application/vnd.databricks.v1+cell": {
     "cellMetadata": {
      "byteLimit": 2048000,
      "rowLimit": 10000
     },
     "inputWidgets": {},
     "nuid": "2d428fba-5456-4074-b6a7-768f81f396f0",
     "showTitle": false,
     "tableResultSettingsMap": {},
     "title": ""
    }
   },
   "outputs": [
    {
     "output_type": "stream",
     "name": "stdout",
     "output_type": "stream",
     "text": [
      "+---------+----------+----------+-----------+---------+------+---+------+---------+-------------+--------------+---------------+------+\n|RowNumber|CustomerId|   Surname|CreditScore|Geography|Gender|Age|Tenure|  Balance|NumOfProducts|IsActiveMember|EstimatedSalary|Exited|\n+---------+----------+----------+-----------+---------+------+---+------+---------+-------------+--------------+---------------+------+\n|        1|  15634602|  Hargrave|        619|   France|Female| 42|     2|      0.0|            1|             1|      101348.88|     1|\n|        2|  15647311|      Hill|        608|    Spain|Female| 41|     1| 83807.86|            1|             1|      112542.58|     0|\n|        3|  15619304|      Onio|        502|   France|Female| 42|     8| 159660.8|            3|             0|      113931.57|     1|\n|        4|  15701354|      Boni|        699|   France|Female| 39|     1|      0.0|            2|             0|       93826.63|     0|\n|        5|  15737888|  Mitchell|        850|    Spain|Female| 43|     2|125510.82|            1|             1|        79084.1|     0|\n|        8|  15656148|    Obinna|        376|  Germany|Female| 29|     4|115046.74|            4|             0|      119346.88|     1|\n|       13|  15632264|       Kay|        476|   France|Female| 34|    10|      0.0|            2|             0|       26260.98|     0|\n|       14|  15691483|      Chin|        549|   France|Female| 25|     5|      0.0|            2|             0|      190857.79|     0|\n|       15|  15600882|     Scott|        635|    Spain|Female| 35|     7|      0.0|            2|             1|       65951.65|     0|\n|       18|  15788218| Henderson|        549|    Spain|Female| 24|     9|      0.0|            2|             1|       14406.41|     0|\n|       20|  15568982|       Hao|        726|   France|Female| 24|     6|      0.0|            2|             1|       54724.03|     0|\n|       22|  15597945|  Dellucci|        636|    Spain|Female| 32|     8|      0.0|            2|             0|      138555.46|     0|\n|       23|  15699309| Gerasimov|        510|    Spain|Female| 38|     4|      0.0|            1|             0|      118913.53|     1|\n|       25|  15625047|       Yen|        846|   France|Female| 38|     5|      0.0|            1|             1|      187616.16|     0|\n|       29|  15728693|McWilliams|        574|  Germany|Female| 43|     3|141349.43|            1|             1|      100187.43|     0|\n|       31|  15589475|   Azikiwe|        591|    Spain|Female| 39|     3|      0.0|            3|             0|      140469.38|     1|\n|       34|  15659428|   Maggard|        520|    Spain|Female| 42|     6|      0.0|            2|             1|       34410.55|     0|\n|       35|  15732963|  Clements|        722|    Spain|Female| 29|     9|      0.0|            2|             1|      142033.07|     0|\n|       36|  15794171|  Lombardo|        475|   France|Female| 45|     0|134264.04|            1|             0|       27822.99|     1|\n|       42|  15738148|    Clarke|        465|   France|Female| 51|     8|122522.32|            1|             0|      181297.65|     1|\n+---------+----------+----------+-----------+---------+------+---+------+---------+-------------+--------------+---------------+------+\nonly showing top 20 rows\n\n"
     ]
    }
   ],
   "source": [
    "# 2. FIlter for female customer\n",
    "\n",
    "spark.sql(\"SELECT * FROM credit_card WHERE Gender = 'Female'\").show()"
   ]
  },
  {
   "cell_type": "code",
   "execution_count": 0,
   "metadata": {
    "application/vnd.databricks.v1+cell": {
     "cellMetadata": {
      "byteLimit": 2048000,
      "rowLimit": 10000
     },
     "inputWidgets": {},
     "nuid": "b3a19547-3053-47ed-9b73-a4b1d6e13f69",
     "showTitle": false,
     "tableResultSettingsMap": {},
     "title": ""
    }
   },
   "outputs": [
    {
     "output_type": "stream",
     "name": "stdout",
     "output_type": "stream",
     "text": [
      "+---------+----------+--------+-----------+---------+------+---+------+---------+-------------+--------------+---------------+------+\n|RowNumber|CustomerId| Surname|CreditScore|Geography|Gender|Age|Tenure|  Balance|NumOfProducts|IsActiveMember|EstimatedSalary|Exited|\n+---------+----------+--------+-----------+---------+------+---+------+---------+-------------+--------------+---------------+------+\n|        1|  15634602|Hargrave|        619|   France|Female| 42|     2|      0.0|            1|             1|      101348.88|     1|\n|        2|  15647311|    Hill|        608|    Spain|Female| 41|     1| 83807.86|            1|             1|      112542.58|     0|\n|        3|  15619304|    Onio|        502|   France|Female| 42|     8| 159660.8|            3|             0|      113931.57|     1|\n|        4|  15701354|    Boni|        699|   France|Female| 39|     1|      0.0|            2|             0|       93826.63|     0|\n|        5|  15737888|Mitchell|        850|    Spain|Female| 43|     2|125510.82|            1|             1|        79084.1|     0|\n+---------+----------+--------+-----------+---------+------+---+------+---------+-------------+--------------+---------------+------+\n\n+---------+----------+--------+-----------+---------+------+---+------+---------+-------------+--------------+---------------+------+\n|RowNumber|CustomerId| Surname|CreditScore|Geography|Gender|Age|Tenure|  Balance|NumOfProducts|IsActiveMember|EstimatedSalary|Exited|\n+---------+----------+--------+-----------+---------+------+---+------+---------+-------------+--------------+---------------+------+\n|     1288|  15565701|   Ferri|        698|    Spain|Female| 39|     9|161993.89|            1|             0|       90212.38|     0|\n|     4199|  15565706|Akobundu|        612|    Spain|  Male| 35|     1|      0.0|            1|             1|       83256.26|     1|\n|     7091|  15565714|Cattaneo|        601|   France|  Male| 47|     1| 64430.06|            2|             1|       96517.97|     0|\n|     2021|  15565779|    Kent|        627|  Germany|Female| 30|     6| 57809.32|            1|             0|      188258.49|     0|\n|     3698|  15565796|Docherty|        745|  Germany|  Male| 48|    10| 96048.55|            1|             0|       74510.65|     0|\n+---------+----------+--------+-----------+---------+------+---+------+---------+-------------+--------------+---------------+------+\nonly showing top 5 rows\n\n+---------+----------+--------+-----------+---------+------+---+------+---------+-------------+--------------+---------------+------+\n|RowNumber|CustomerId| Surname|CreditScore|Geography|Gender|Age|Tenure|  Balance|NumOfProducts|IsActiveMember|EstimatedSalary|Exited|\n+---------+----------+--------+-----------+---------+------+---+------+---------+-------------+--------------+---------------+------+\n|        1|  15634602|Hargrave|        619|   France|Female| 42|     2|      0.0|            1|             1|      101348.88|     1|\n|        2|  15647311|    Hill|        608|    Spain|Female| 41|     1| 83807.86|            1|             1|      112542.58|     0|\n|        3|  15619304|    Onio|        502|   France|Female| 42|     8| 159660.8|            3|             0|      113931.57|     1|\n|        4|  15701354|    Boni|        699|   France|Female| 39|     1|      0.0|            2|             0|       93826.63|     0|\n|        5|  15737888|Mitchell|        850|    Spain|Female| 43|     2|125510.82|            1|             1|        79084.1|     0|\n+---------+----------+--------+-----------+---------+------+---+------+---------+-------------+--------------+---------------+------+\nonly showing top 5 rows\n\n+---------+----------+--------+-----------+---------+------+---+------+---------+-------------+--------------+---------------+------+\n|RowNumber|CustomerId| Surname|CreditScore|Geography|Gender|Age|Tenure|  Balance|NumOfProducts|IsActiveMember|EstimatedSalary|Exited|\n+---------+----------+--------+-----------+---------+------+---+------+---------+-------------+--------------+---------------+------+\n|        1|  15634602|Hargrave|        619|   France|Female| 42|     2|      0.0|            1|             1|      101348.88|     1|\n|        2|  15647311|    Hill|        608|    Spain|Female| 41|     1| 83807.86|            1|             1|      112542.58|     0|\n|        3|  15619304|    Onio|        502|   France|Female| 42|     8| 159660.8|            3|             0|      113931.57|     1|\n|        4|  15701354|    Boni|        699|   France|Female| 39|     1|      0.0|            2|             0|       93826.63|     0|\n|        5|  15737888|Mitchell|        850|    Spain|Female| 43|     2|125510.82|            1|             1|        79084.1|     0|\n+---------+----------+--------+-----------+---------+------+---+------+---------+-------------+--------------+---------------+------+\n\n+---------+----------+--------+-----------+---------+------+---+------+---------+-------------+--------------+---------------+------+\n|RowNumber|CustomerId| Surname|CreditScore|Geography|Gender|Age|Tenure|  Balance|NumOfProducts|IsActiveMember|EstimatedSalary|Exited|\n+---------+----------+--------+-----------+---------+------+---+------+---------+-------------+--------------+---------------+------+\n|        6|  15574012|     Chu|        645|    Spain|  Male| 44|     8|113755.78|            2|             0|      149756.71|     1|\n|        7|  15592531|Bartlett|        822|   France|  Male| 50|     7|      0.0|            2|             1|        10062.8|     0|\n|        8|  15656148|  Obinna|        376|  Germany|Female| 29|     4|115046.74|            4|             0|      119346.88|     1|\n|        9|  15792365|      He|        501|   France|  Male| 44|     4|142051.07|            2|             1|        74940.5|     0|\n|       10|  15592389|      H?|        684|   France|  Male| 27|     2|134603.88|            1|             1|       71725.73|     0|\n+---------+----------+--------+-----------+---------+------+---+------+---------+-------------+--------------+---------------+------+\nonly showing top 5 rows\n\n+---------+----------+--------+-----------+---------+------+---+------+---------+-------------+--------------+---------------+------+\n|RowNumber|CustomerId| Surname|CreditScore|Geography|Gender|Age|Tenure|  Balance|NumOfProducts|IsActiveMember|EstimatedSalary|Exited|\n+---------+----------+--------+-----------+---------+------+---+------+---------+-------------+--------------+---------------+------+\n|        1|  15634602|Hargrave|        619|   France|Female| 42|     2|      0.0|            1|             1|      101348.88|     1|\n|        2|  15647311|    Hill|        608|    Spain|Female| 41|     1| 83807.86|            1|             1|      112542.58|     0|\n|        3|  15619304|    Onio|        502|   France|Female| 42|     8| 159660.8|            3|             0|      113931.57|     1|\n|        4|  15701354|    Boni|        699|   France|Female| 39|     1|      0.0|            2|             0|       93826.63|     0|\n|        5|  15737888|Mitchell|        850|    Spain|Female| 43|     2|125510.82|            1|             1|        79084.1|     0|\n+---------+----------+--------+-----------+---------+------+---+------+---------+-------------+--------------+---------------+------+\n\n"
     ]
    }
   ],
   "source": [
    "# 2.Using joins\n",
    "# 1. Inner join on customer_id\n",
    "\n",
    "spark.sql(\"\"\"\n",
    "    SELECT cc.*\n",
    "    FROM credit_card cc\n",
    "    INNER JOIN new n\n",
    "    ON n.CustomerId = cc.CustomerId\n",
    "\"\"\").show(5)\n",
    "\n",
    "\n",
    "# 2. Outer join on customer_id\n",
    "spark.sql(\"\"\"\n",
    "    SELECT cc.*\n",
    "    FROM credit_card cc\n",
    "    full OUTER JOIN new n\n",
    "    ON n.CustomerId = cc.CustomerId\n",
    "\"\"\").show(5)\n",
    "\n",
    "# 3.Left join\n",
    "spark.sql(\"\"\"\n",
    "    SELECT cc.*\n",
    "    FROM credit_card cc\n",
    "    left JOIN new n\n",
    "    ON n.CustomerId = cc.CustomerId\n",
    "\"\"\").show(5)\n",
    "\n",
    "# Right join\n",
    "spark.sql(\"\"\"\n",
    "    SELECT cc.*\n",
    "    FROM credit_card cc\n",
    "    Right JOIN new n\n",
    "    ON n.CustomerId = cc.CustomerId\n",
    "\"\"\").show(5)\n",
    "\n",
    "#Left Anti join\n",
    "spark.sql(\"\"\"\n",
    "    SELECT cc.*\n",
    "    FROM credit_card cc\n",
    "    LEFT ANTI JOIN new n\n",
    "    ON n.CustomerId = cc.CustomerId\n",
    "\"\"\").show(5)\n",
    "\n",
    "#left semi join\n",
    "spark.sql(\"\"\"\n",
    "    SELECT cc.*\n",
    "    FROM credit_card cc\n",
    "    LEFT SEMI JOIN new n\n",
    "    ON n.CustomerId = cc.CustomerId\n",
    "\"\"\").show(5)\n",
    "\n"
   ]
  },
  {
   "cell_type": "code",
   "execution_count": 0,
   "metadata": {
    "application/vnd.databricks.v1+cell": {
     "cellMetadata": {
      "byteLimit": 2048000,
      "rowLimit": 10000
     },
     "inputWidgets": {},
     "nuid": "7d5a8967-e8f9-4b38-8f80-54f7baec3611",
     "showTitle": false,
     "tableResultSettingsMap": {},
     "title": ""
    }
   },
   "outputs": [
    {
     "output_type": "stream",
     "name": "stdout",
     "output_type": "stream",
     "text": [
      "+-------------------+\n|       total_amount|\n+-------------------+\n|7.648588928799961E8|\n+-------------------+\n\n+-----------------+\n|          Average|\n+-----------------+\n|76485.88928799961|\n+-----------------+\n\n"
     ]
    }
   ],
   "source": [
    "# Using Simple Aggregations\n",
    "# 1. Total Balance Amount\n",
    "spark.sql(\"SELECT SUM(Balance) AS total_amount FROM credit_card\").show()\n",
    "\n",
    "#2.Average of Balance amount\n",
    "spark.sql(\"SELECT avg(Balance) AS Average FROM credit_card\").show()\n"
   ]
  },
  {
   "cell_type": "code",
   "execution_count": 0,
   "metadata": {
    "application/vnd.databricks.v1+cell": {
     "cellMetadata": {
      "byteLimit": 2048000,
      "rowLimit": 10000
     },
     "inputWidgets": {},
     "nuid": "f89bcbf8-0804-4d22-9c1f-c0085568f1ef",
     "showTitle": false,
     "tableResultSettingsMap": {},
     "title": ""
    }
   },
   "outputs": [
    {
     "output_type": "stream",
     "name": "stdout",
     "output_type": "stream",
     "text": [
      "+---------+------------------+\n|Geography|         avg_spent|\n+---------+------------------+\n|  Germany|119730.11613391782|\n|   France|  62092.6365157559|\n|    Spain| 61818.14776342349|\n+---------+------------------+\n\n"
     ]
    }
   ],
   "source": [
    "# Using group by\n",
    "# 2. Average transaction amount by region\n",
    "spark.sql(\"\"\"\n",
    "    SELECT Geography, AVG(Balance) AS avg_spent\n",
    "    FROM credit_card\n",
    "    GROUP BY Geography\n",
    "\"\"\").show()"
   ]
  },
  {
   "cell_type": "markdown",
   "metadata": {
    "application/vnd.databricks.v1+cell": {
     "cellMetadata": {},
     "inputWidgets": {},
     "nuid": "18e11c96-2153-4955-a624-9b86dbce2c9c",
     "showTitle": false,
     "tableResultSettingsMap": {},
     "title": ""
    }
   },
   "source": [
    "**Pyspark Implementation**\n"
   ]
  },
  {
   "cell_type": "code",
   "execution_count": 0,
   "metadata": {
    "application/vnd.databricks.v1+cell": {
     "cellMetadata": {
      "byteLimit": 2048000,
      "rowLimit": 10000
     },
     "inputWidgets": {},
     "nuid": "d7310733-69d4-48ae-a203-9b6d27296405",
     "showTitle": false,
     "tableResultSettingsMap": {},
     "title": ""
    }
   },
   "outputs": [],
   "source": [
    "from pyspark.sql import SparkSession\n",
    "\n",
    "# Initialize Spark Session\n",
    "spark = SparkSession.builder \\\n",
    "    .appName(\"Credit Card Analysis\") \\\n",
    "    .getOrCreate()\n",
    "\n",
    "# Load the dataset\n",
    "file_path = '/FileStore/tables/credit_card-1.csv'  \n",
    "credit_df = spark.read.csv(file_path, header=True, inferSchema=True)\n",
    "\n",
    "filenew = '/FileStore/tables/book.csv'\n",
    "new_df=spark.read.csv(filenew, header=True, inferSchema=True)"
   ]
  },
  {
   "cell_type": "code",
   "execution_count": 0,
   "metadata": {
    "application/vnd.databricks.v1+cell": {
     "cellMetadata": {
      "byteLimit": 2048000,
      "rowLimit": 10000
     },
     "inputWidgets": {},
     "nuid": "b31fb9cf-4c84-44cd-8332-fd23eb456e0c",
     "showTitle": false,
     "tableResultSettingsMap": {},
     "title": ""
    }
   },
   "outputs": [
    {
     "output_type": "stream",
     "name": "stdout",
     "output_type": "stream",
     "text": [
      "+---------+----------+----------+-----------+---------+------+---+------+---------+-------------+--------------+---------------+------+\n|RowNumber|CustomerId|   Surname|CreditScore|Geography|Gender|Age|Tenure|  Balance|NumOfProducts|IsActiveMember|EstimatedSalary|Exited|\n+---------+----------+----------+-----------+---------+------+---+------+---------+-------------+--------------+---------------+------+\n|        5|  15737888|  Mitchell|        850|    Spain|Female| 43|     2|125510.82|            1|             1|        79084.1|     0|\n|       25|  15625047|       Yen|        846|   France|Female| 38|     5|      0.0|            1|             1|      187616.16|     0|\n|       39|  15717426| Armstrong|        850|   France|  Male| 36|     7|      0.0|            1|             1|        40812.9|     0|\n|       44|  15755196|    Lavine|        834|   France|Female| 49|     2|131394.56|            1|             0|      194365.76|     1|\n|      181|  15716334|    Rozier|        850|    Spain|Female| 45|     2|122311.21|            1|             1|        19482.5|     0|\n|      201|  15604482| Chiemezie|        850|    Spain|  Male| 30|     2|141040.01|            1|             1|         5978.2|     0|\n|      224|  15733247| Stevenson|        850|   France|  Male| 33|    10|      0.0|            1|             0|        4861.72|     1|\n|      260|  15607178|     Welch|        850|  Germany|  Male| 38|     3| 54901.01|            1|             1|      140075.55|     0|\n|      346|  15763859|     Brown|        840|   France|Female| 43|     7|      0.0|            2|             0|       90908.95|     0|\n|      357|  15611759|   Simmons|        850|    Spain|Female| 57|     8| 126776.3|            2|             1|      132298.49|     0|\n|      412|  15760431|      Pino|        850|   France|  Male| 38|     1|      0.0|            2|             1|       80006.65|     0|\n|      452|  15785798|Uchechukwu|        850|   France|  Male| 40|     9|      0.0|            2|             1|      119232.33|     0|\n|      467|  15663252| Olisanugo|        850|    Spain|Female| 32|     9|      0.0|            2|             1|       18924.92|     0|\n|      521|  15671256| Macartney|        850|   France|Female| 35|     1|211774.31|            1|             0|      188574.12|     1|\n|      522|  15653547|   Madukwe|        850|   France|  Male| 56|     7|131317.48|            1|             1|      119175.45|     0|\n|      541|  15667896|   De Luca|        833|   France|  Male| 37|     8|151226.18|            2|             1|      136129.49|     0|\n|      546|  15615457|     Burns|        842|    Spain|Female| 44|     2|112652.08|            2|             0|      126644.98|     0|\n|      560|  15571816|   Ritchie|        850|    Spain|Female| 70|     5|      0.0|            1|             1|         705.18|     0|\n|      575|  15644753|      Hung|        848|    Spain|  Male| 40|     3|110929.96|            1|             1|       30876.84|     0|\n|      626|  15604119|  Alderete|        850|    Spain|  Male| 35|     7|110349.82|            1|             0|       126355.8|     0|\n+---------+----------+----------+-----------+---------+------+---+------+---------+-------------+--------------+---------------+------+\nonly showing top 20 rows\n\n"
     ]
    }
   ],
   "source": [
    "# Filter transactions where CreditScore > 830 using DataFrame API\n",
    "filtered_df = credit_df.filter(credit_df[\"CreditScore\"] > 830)\n",
    "\n",
    "# Show the results\n",
    "filtered_df.show()"
   ]
  },
  {
   "cell_type": "code",
   "execution_count": 0,
   "metadata": {
    "application/vnd.databricks.v1+cell": {
     "cellMetadata": {
      "byteLimit": 2048000,
      "rowLimit": 10000
     },
     "inputWidgets": {},
     "nuid": "e0da010b-e96f-4013-af68-3f50dab601f1",
     "showTitle": false,
     "tableResultSettingsMap": {},
     "title": ""
    }
   },
   "outputs": [
    {
     "output_type": "stream",
     "name": "stdout",
     "output_type": "stream",
     "text": [
      "+---------+----------+----------+-----------+---------+------+---+------+---------+-------------+--------------+---------------+------+\n|RowNumber|CustomerId|   Surname|CreditScore|Geography|Gender|Age|Tenure|  Balance|NumOfProducts|IsActiveMember|EstimatedSalary|Exited|\n+---------+----------+----------+-----------+---------+------+---+------+---------+-------------+--------------+---------------+------+\n|        1|  15634602|  Hargrave|        619|   France|Female| 42|     2|      0.0|            1|             1|      101348.88|     1|\n|        2|  15647311|      Hill|        608|    Spain|Female| 41|     1| 83807.86|            1|             1|      112542.58|     0|\n|        3|  15619304|      Onio|        502|   France|Female| 42|     8| 159660.8|            3|             0|      113931.57|     1|\n|        4|  15701354|      Boni|        699|   France|Female| 39|     1|      0.0|            2|             0|       93826.63|     0|\n|        5|  15737888|  Mitchell|        850|    Spain|Female| 43|     2|125510.82|            1|             1|        79084.1|     0|\n|        8|  15656148|    Obinna|        376|  Germany|Female| 29|     4|115046.74|            4|             0|      119346.88|     1|\n|       13|  15632264|       Kay|        476|   France|Female| 34|    10|      0.0|            2|             0|       26260.98|     0|\n|       14|  15691483|      Chin|        549|   France|Female| 25|     5|      0.0|            2|             0|      190857.79|     0|\n|       15|  15600882|     Scott|        635|    Spain|Female| 35|     7|      0.0|            2|             1|       65951.65|     0|\n|       18|  15788218| Henderson|        549|    Spain|Female| 24|     9|      0.0|            2|             1|       14406.41|     0|\n|       20|  15568982|       Hao|        726|   France|Female| 24|     6|      0.0|            2|             1|       54724.03|     0|\n|       22|  15597945|  Dellucci|        636|    Spain|Female| 32|     8|      0.0|            2|             0|      138555.46|     0|\n|       23|  15699309| Gerasimov|        510|    Spain|Female| 38|     4|      0.0|            1|             0|      118913.53|     1|\n|       25|  15625047|       Yen|        846|   France|Female| 38|     5|      0.0|            1|             1|      187616.16|     0|\n|       29|  15728693|McWilliams|        574|  Germany|Female| 43|     3|141349.43|            1|             1|      100187.43|     0|\n|       31|  15589475|   Azikiwe|        591|    Spain|Female| 39|     3|      0.0|            3|             0|      140469.38|     1|\n|       34|  15659428|   Maggard|        520|    Spain|Female| 42|     6|      0.0|            2|             1|       34410.55|     0|\n|       35|  15732963|  Clements|        722|    Spain|Female| 29|     9|      0.0|            2|             1|      142033.07|     0|\n|       36|  15794171|  Lombardo|        475|   France|Female| 45|     0|134264.04|            1|             0|       27822.99|     1|\n|       42|  15738148|    Clarke|        465|   France|Female| 51|     8|122522.32|            1|             0|      181297.65|     1|\n+---------+----------+----------+-----------+---------+------+---+------+---------+-------------+--------------+---------------+------+\nonly showing top 20 rows\n\n"
     ]
    }
   ],
   "source": [
    "# Filter for female customers using DataFrame API\n",
    "female_customers_df = credit_df.filter(credit_df[\"Gender\"] == \"Female\")\n",
    "\n",
    "# Show the results\n",
    "female_customers_df.show()"
   ]
  },
  {
   "cell_type": "code",
   "execution_count": 0,
   "metadata": {
    "application/vnd.databricks.v1+cell": {
     "cellMetadata": {
      "byteLimit": 2048000,
      "rowLimit": 10000
     },
     "inputWidgets": {},
     "nuid": "22c1d8c9-5c8d-4a1e-9675-b92511466916",
     "showTitle": false,
     "tableResultSettingsMap": {},
     "title": ""
    }
   },
   "outputs": [
    {
     "output_type": "stream",
     "name": "stdout",
     "output_type": "stream",
     "text": [
      "+-------------------+\n|       TotalBalance|\n+-------------------+\n|7.648588928799961E8|\n+-------------------+\n\n+-----------------+\n|   AverageBalance|\n+-----------------+\n|76485.88928799961|\n+-----------------+\n\n"
     ]
    }
   ],
   "source": [
    "from pyspark.sql.functions import sum, avg\n",
    "# 1. Total Balance Amount\n",
    "total_balance = credit_df.agg(sum(\"Balance\").alias(\"TotalBalance\"))\n",
    "total_balance.show()\n",
    "\n",
    "# 2. Average of Balance Amount\n",
    "average_balance = credit_df.agg(avg(\"Balance\").alias(\"AverageBalance\"))\n",
    "average_balance.show()"
   ]
  },
  {
   "cell_type": "code",
   "execution_count": 0,
   "metadata": {
    "application/vnd.databricks.v1+cell": {
     "cellMetadata": {
      "byteLimit": 2048000,
      "rowLimit": 10000
     },
     "inputWidgets": {},
     "nuid": "f54afa6e-ce29-4c1b-9ce1-7c272899be16",
     "showTitle": false,
     "tableResultSettingsMap": {},
     "title": ""
    }
   },
   "outputs": [
    {
     "output_type": "stream",
     "name": "stdout",
     "output_type": "stream",
     "text": [
      "+---------+------------------+\n|Geography|      avg(Balance)|\n+---------+------------------+\n|  Germany|119730.11613391782|\n|   France|  62092.6365157559|\n|    Spain| 61818.14776342349|\n+---------+------------------+\n\n"
     ]
    }
   ],
   "source": [
    "# Group by Geography and calculate the average transaction amount using DataFrame API\n",
    "avg_transaction_by_region = credit_df.groupBy(\"Geography\").avg(\"Balance\").alias(\"avg_spent\"))\n",
    "\n",
    "# Show the results\n",
    "avg_transaction_by_region.show()"
   ]
  },
  {
   "cell_type": "code",
   "execution_count": 0,
   "metadata": {
    "application/vnd.databricks.v1+cell": {
     "cellMetadata": {
      "byteLimit": 2048000,
      "rowLimit": 10000
     },
     "inputWidgets": {},
     "nuid": "37b07eb3-7b69-41ee-a9ae-a1ead928d9cd",
     "showTitle": false,
     "tableResultSettingsMap": {},
     "title": ""
    }
   },
   "outputs": [
    {
     "output_type": "stream",
     "name": "stdout",
     "output_type": "stream",
     "text": [
      "+---------+----------+--------+-----------+---------+------+---+------+---------+-------------+--------------+---------------+------+---------+----------+--------+-----------+---------+------+---+------+---------+-------------+--------------+---------------+------+\n|RowNumber|CustomerId| Surname|CreditScore|Geography|Gender|Age|Tenure|  Balance|NumOfProducts|IsActiveMember|EstimatedSalary|Exited|RowNumber|CustomerId| Surname|CreditScore|Geography|Gender|Age|Tenure|  Balance|NumOfProducts|IsActiveMember|EstimatedSalary|Exited|\n+---------+----------+--------+-----------+---------+------+---+------+---------+-------------+--------------+---------------+------+---------+----------+--------+-----------+---------+------+---+------+---------+-------------+--------------+---------------+------+\n|        1|  15634602|Hargrave|        619|   France|Female| 42|     2|      0.0|            1|             1|      101348.88|     1|        1|  15634602|Hargrave|        619|   France|Female| 42|     2|      0.0|            1|             1|      101348.88|     1|\n|        2|  15647311|    Hill|        608|    Spain|Female| 41|     1| 83807.86|            1|             1|      112542.58|     0|        2|  15647311|    Hill|        608|    Spain|Female| 41|     1| 83807.86|            1|             1|      112542.58|     0|\n|        3|  15619304|    Onio|        502|   France|Female| 42|     8| 159660.8|            3|             0|      113931.57|     1|        3|  15619304|    Onio|        502|   France|Female| 42|     8| 159660.8|            3|             0|      113931.57|     1|\n|        4|  15701354|    Boni|        699|   France|Female| 39|     1|      0.0|            2|             0|       93826.63|     0|        4|  15701354|    Boni|        699|   France|Female| 39|     1|      0.0|            2|             0|       93826.63|     0|\n|        5|  15737888|Mitchell|        850|    Spain|Female| 43|     2|125510.82|            1|             1|        79084.1|     0|        5|  15737888|Mitchell|        850|    Spain|Female| 43|     2|125510.82|            1|             1|        79084.1|     0|\n+---------+----------+--------+-----------+---------+------+---+------+---------+-------------+--------------+---------------+------+---------+----------+--------+-----------+---------+------+---+------+---------+-------------+--------------+---------------+------+\n\n+---------+----------+----------+-----------+---------+------+---+------+---------+-------------+--------------+---------------+------+---------+----------+-------+-----------+---------+------+----+------+-------+-------------+--------------+---------------+------+\n|RowNumber|CustomerId|   Surname|CreditScore|Geography|Gender|Age|Tenure|  Balance|NumOfProducts|IsActiveMember|EstimatedSalary|Exited|RowNumber|CustomerId|Surname|CreditScore|Geography|Gender| Age|Tenure|Balance|NumOfProducts|IsActiveMember|EstimatedSalary|Exited|\n+---------+----------+----------+-----------+---------+------+---+------+---------+-------------+--------------+---------------+------+---------+----------+-------+-----------+---------+------+----+------+-------+-------------+--------------+---------------+------+\n|     1288|  15565701|     Ferri|        698|    Spain|Female| 39|     9|161993.89|            1|             0|       90212.38|     0|     null|      null|   null|       null|     null|  null|null|  null|   null|         null|          null|           null|  null|\n|     4199|  15565706|  Akobundu|        612|    Spain|  Male| 35|     1|      0.0|            1|             1|       83256.26|     1|     null|      null|   null|       null|     null|  null|null|  null|   null|         null|          null|           null|  null|\n|     7091|  15565714|  Cattaneo|        601|   France|  Male| 47|     1| 64430.06|            2|             1|       96517.97|     0|     null|      null|   null|       null|     null|  null|null|  null|   null|         null|          null|           null|  null|\n|     2021|  15565779|      Kent|        627|  Germany|Female| 30|     6| 57809.32|            1|             0|      188258.49|     0|     null|      null|   null|       null|     null|  null|null|  null|   null|         null|          null|           null|  null|\n|     3698|  15565796|  Docherty|        745|  Germany|  Male| 48|    10| 96048.55|            1|             0|       74510.65|     0|     null|      null|   null|       null|     null|  null|null|  null|   null|         null|          null|           null|  null|\n|     3417|  15565806|    Toosey|        532|   France|  Male| 38|     9|      0.0|            2|             0|       30583.95|     0|     null|      null|   null|       null|     null|  null|null|  null|   null|         null|          null|           null|  null|\n|     6882|  15565878|     Bates|        631|    Spain|  Male| 29|     3|      0.0|            2|             1|      197963.46|     0|     null|      null|   null|       null|     null|  null|null|  null|   null|         null|          null|           null|  null|\n|     9515|  15565879|     Riley|        845|   France|Female| 28|     9|      0.0|            2|             1|       56185.98|     0|     null|      null|   null|       null|     null|  null|null|  null|   null|         null|          null|           null|  null|\n|     5796|  15565891|  Dipietro|        709|   France|  Male| 39|     8|      0.0|            2|             0|       56214.09|     0|     null|      null|   null|       null|     null|  null|null|  null|   null|         null|          null|           null|  null|\n|     7187|  15565996|    Arnold|        653|   France|  Male| 44|     8|      0.0|            2|             1|      154639.72|     0|     null|      null|   null|       null|     null|  null|null|  null|   null|         null|          null|           null|  null|\n|     6476|  15566030|        Tu|        497|  Germany|  Male| 41|     5| 80542.81|            1|             0|       88729.22|     1|     null|      null|   null|       null|     null|  null|null|  null|   null|         null|          null|           null|  null|\n|      913|  15566091|   Thomsen|        545|    Spain|Female| 32|     4|      0.0|            1|             0|        94739.2|     0|     null|      null|   null|       null|     null|  null|null|  null|   null|         null|          null|           null|  null|\n|      425|  15566111|     Estes|        596|   France|  Male| 39|     9|      0.0|            1|             0|       48963.59|     0|     null|      null|   null|       null|     null|  null|null|  null|   null|         null|          null|           null|  null|\n|     9632|  15566139|     Ts'ui|        526|   France|Female| 37|     5| 53573.18|            1|             0|       62830.97|     0|     null|      null|   null|       null|     null|  null|null|  null|   null|         null|          null|           null|  null|\n|      982|  15566156|  Franklin|        749|  Germany|Female| 44|     0| 71497.79|            2|             0|       151083.8|     0|     null|      null|   null|       null|     null|  null|null|  null|   null|         null|          null|           null|  null|\n|     1463|  15566211|       Hsu|        616|  Germany|Female| 41|     1|103560.57|            1|             0|         236.45|     1|     null|      null|   null|       null|     null|  null|null|  null|   null|         null|          null|           null|  null|\n|     1141|  15566251|   Ferrari|        618|   France|Female| 37|     5| 96652.86|            1|             0|        98686.4|     1|     null|      null|   null|       null|     null|  null|null|  null|   null|         null|          null|           null|  null|\n|     5425|  15566253|   Manning|        580|  Germany|  Male| 44|     9|143391.07|            1|             0|      146891.07|     1|     null|      null|   null|       null|     null|  null|null|  null|   null|         null|          null|           null|  null|\n|     5345|  15566269|  Chialuka|        787|   France|  Male| 25|     5|      0.0|            2|             0|        47307.9|     0|     null|      null|   null|       null|     null|  null|null|  null|   null|         null|          null|           null|  null|\n|      704|  15566292|Okwuadigbo|        574|    Spain|  Male| 36|     1|      0.0|            2|             1|       71709.12|     0|     null|      null|   null|       null|     null|  null|null|  null|   null|         null|          null|           null|  null|\n+---------+----------+----------+-----------+---------+------+---+------+---------+-------------+--------------+---------------+------+---------+----------+-------+-----------+---------+------+----+------+-------+-------------+--------------+---------------+------+\nonly showing top 20 rows\n\n+---------+----------+---------+-----------+---------+------+---+------+---------+-------------+--------------+---------------+------+---------+----------+--------+-----------+---------+------+----+------+---------+-------------+--------------+---------------+------+\n|RowNumber|CustomerId|  Surname|CreditScore|Geography|Gender|Age|Tenure|  Balance|NumOfProducts|IsActiveMember|EstimatedSalary|Exited|RowNumber|CustomerId| Surname|CreditScore|Geography|Gender| Age|Tenure|  Balance|NumOfProducts|IsActiveMember|EstimatedSalary|Exited|\n+---------+----------+---------+-----------+---------+------+---+------+---------+-------------+--------------+---------------+------+---------+----------+--------+-----------+---------+------+----+------+---------+-------------+--------------+---------------+------+\n|        1|  15634602| Hargrave|        619|   France|Female| 42|     2|      0.0|            1|             1|      101348.88|     1|        1|  15634602|Hargrave|        619|   France|Female|  42|     2|      0.0|            1|             1|      101348.88|     1|\n|        2|  15647311|     Hill|        608|    Spain|Female| 41|     1| 83807.86|            1|             1|      112542.58|     0|        2|  15647311|    Hill|        608|    Spain|Female|  41|     1| 83807.86|            1|             1|      112542.58|     0|\n|        3|  15619304|     Onio|        502|   France|Female| 42|     8| 159660.8|            3|             0|      113931.57|     1|        3|  15619304|    Onio|        502|   France|Female|  42|     8| 159660.8|            3|             0|      113931.57|     1|\n|        4|  15701354|     Boni|        699|   France|Female| 39|     1|      0.0|            2|             0|       93826.63|     0|        4|  15701354|    Boni|        699|   France|Female|  39|     1|      0.0|            2|             0|       93826.63|     0|\n|        5|  15737888| Mitchell|        850|    Spain|Female| 43|     2|125510.82|            1|             1|        79084.1|     0|        5|  15737888|Mitchell|        850|    Spain|Female|  43|     2|125510.82|            1|             1|        79084.1|     0|\n|        6|  15574012|      Chu|        645|    Spain|  Male| 44|     8|113755.78|            2|             0|      149756.71|     1|     null|      null|    null|       null|     null|  null|null|  null|     null|         null|          null|           null|  null|\n|        7|  15592531| Bartlett|        822|   France|  Male| 50|     7|      0.0|            2|             1|        10062.8|     0|     null|      null|    null|       null|     null|  null|null|  null|     null|         null|          null|           null|  null|\n|        8|  15656148|   Obinna|        376|  Germany|Female| 29|     4|115046.74|            4|             0|      119346.88|     1|     null|      null|    null|       null|     null|  null|null|  null|     null|         null|          null|           null|  null|\n|        9|  15792365|       He|        501|   France|  Male| 44|     4|142051.07|            2|             1|        74940.5|     0|     null|      null|    null|       null|     null|  null|null|  null|     null|         null|          null|           null|  null|\n|       10|  15592389|       H?|        684|   France|  Male| 27|     2|134603.88|            1|             1|       71725.73|     0|     null|      null|    null|       null|     null|  null|null|  null|     null|         null|          null|           null|  null|\n|       11|  15767821|   Bearce|        528|   France|  Male| 31|     6|102016.72|            2|             0|       80181.12|     0|     null|      null|    null|       null|     null|  null|null|  null|     null|         null|          null|           null|  null|\n|       12|  15737173|  Andrews|        497|    Spain|  Male| 24|     3|      0.0|            2|             0|       76390.01|     0|     null|      null|    null|       null|     null|  null|null|  null|     null|         null|          null|           null|  null|\n|       13|  15632264|      Kay|        476|   France|Female| 34|    10|      0.0|            2|             0|       26260.98|     0|     null|      null|    null|       null|     null|  null|null|  null|     null|         null|          null|           null|  null|\n|       14|  15691483|     Chin|        549|   France|Female| 25|     5|      0.0|            2|             0|      190857.79|     0|     null|      null|    null|       null|     null|  null|null|  null|     null|         null|          null|           null|  null|\n|       15|  15600882|    Scott|        635|    Spain|Female| 35|     7|      0.0|            2|             1|       65951.65|     0|     null|      null|    null|       null|     null|  null|null|  null|     null|         null|          null|           null|  null|\n|       16|  15643966|  Goforth|        616|  Germany|  Male| 45|     3|143129.41|            2|             1|       64327.26|     0|     null|      null|    null|       null|     null|  null|null|  null|     null|         null|          null|           null|  null|\n|       17|  15737452|    Romeo|        653|  Germany|  Male| 58|     1|132602.88|            1|             0|        5097.67|     1|     null|      null|    null|       null|     null|  null|null|  null|     null|         null|          null|           null|  null|\n|       18|  15788218|Henderson|        549|    Spain|Female| 24|     9|      0.0|            2|             1|       14406.41|     0|     null|      null|    null|       null|     null|  null|null|  null|     null|         null|          null|           null|  null|\n|       19|  15661507|  Muldrow|        587|    Spain|  Male| 45|     6|      0.0|            1|             0|      158684.81|     0|     null|      null|    null|       null|     null|  null|null|  null|     null|         null|          null|           null|  null|\n|       20|  15568982|      Hao|        726|   France|Female| 24|     6|      0.0|            2|             1|       54724.03|     0|     null|      null|    null|       null|     null|  null|null|  null|     null|         null|          null|           null|  null|\n+---------+----------+---------+-----------+---------+------+---+------+---------+-------------+--------------+---------------+------+---------+----------+--------+-----------+---------+------+----+------+---------+-------------+--------------+---------------+------+\nonly showing top 20 rows\n\n+---------+----------+--------+-----------+---------+------+---+------+---------+-------------+--------------+---------------+------+---------+----------+--------+-----------+---------+------+---+------+---------+-------------+--------------+---------------+------+\n|RowNumber|CustomerId| Surname|CreditScore|Geography|Gender|Age|Tenure|  Balance|NumOfProducts|IsActiveMember|EstimatedSalary|Exited|RowNumber|CustomerId| Surname|CreditScore|Geography|Gender|Age|Tenure|  Balance|NumOfProducts|IsActiveMember|EstimatedSalary|Exited|\n+---------+----------+--------+-----------+---------+------+---+------+---------+-------------+--------------+---------------+------+---------+----------+--------+-----------+---------+------+---+------+---------+-------------+--------------+---------------+------+\n|        1|  15634602|Hargrave|        619|   France|Female| 42|     2|      0.0|            1|             1|      101348.88|     1|        1|  15634602|Hargrave|        619|   France|Female| 42|     2|      0.0|            1|             1|      101348.88|     1|\n|        2|  15647311|    Hill|        608|    Spain|Female| 41|     1| 83807.86|            1|             1|      112542.58|     0|        2|  15647311|    Hill|        608|    Spain|Female| 41|     1| 83807.86|            1|             1|      112542.58|     0|\n|        3|  15619304|    Onio|        502|   France|Female| 42|     8| 159660.8|            3|             0|      113931.57|     1|        3|  15619304|    Onio|        502|   France|Female| 42|     8| 159660.8|            3|             0|      113931.57|     1|\n|        4|  15701354|    Boni|        699|   France|Female| 39|     1|      0.0|            2|             0|       93826.63|     0|        4|  15701354|    Boni|        699|   France|Female| 39|     1|      0.0|            2|             0|       93826.63|     0|\n|        5|  15737888|Mitchell|        850|    Spain|Female| 43|     2|125510.82|            1|             1|        79084.1|     0|        5|  15737888|Mitchell|        850|    Spain|Female| 43|     2|125510.82|            1|             1|        79084.1|     0|\n+---------+----------+--------+-----------+---------+------+---+------+---------+-------------+--------------+---------------+------+---------+----------+--------+-----------+---------+------+---+------+---------+-------------+--------------+---------------+------+\n\n+---------+----------+---------+-----------+---------+------+---+------+---------+-------------+--------------+---------------+------+\n|RowNumber|CustomerId|  Surname|CreditScore|Geography|Gender|Age|Tenure|  Balance|NumOfProducts|IsActiveMember|EstimatedSalary|Exited|\n+---------+----------+---------+-----------+---------+------+---+------+---------+-------------+--------------+---------------+------+\n|        6|  15574012|      Chu|        645|    Spain|  Male| 44|     8|113755.78|            2|             0|      149756.71|     1|\n|        7|  15592531| Bartlett|        822|   France|  Male| 50|     7|      0.0|            2|             1|        10062.8|     0|\n|        8|  15656148|   Obinna|        376|  Germany|Female| 29|     4|115046.74|            4|             0|      119346.88|     1|\n|        9|  15792365|       He|        501|   France|  Male| 44|     4|142051.07|            2|             1|        74940.5|     0|\n|       10|  15592389|       H?|        684|   France|  Male| 27|     2|134603.88|            1|             1|       71725.73|     0|\n|       11|  15767821|   Bearce|        528|   France|  Male| 31|     6|102016.72|            2|             0|       80181.12|     0|\n|       12|  15737173|  Andrews|        497|    Spain|  Male| 24|     3|      0.0|            2|             0|       76390.01|     0|\n|       13|  15632264|      Kay|        476|   France|Female| 34|    10|      0.0|            2|             0|       26260.98|     0|\n|       14|  15691483|     Chin|        549|   France|Female| 25|     5|      0.0|            2|             0|      190857.79|     0|\n|       15|  15600882|    Scott|        635|    Spain|Female| 35|     7|      0.0|            2|             1|       65951.65|     0|\n|       16|  15643966|  Goforth|        616|  Germany|  Male| 45|     3|143129.41|            2|             1|       64327.26|     0|\n|       17|  15737452|    Romeo|        653|  Germany|  Male| 58|     1|132602.88|            1|             0|        5097.67|     1|\n|       18|  15788218|Henderson|        549|    Spain|Female| 24|     9|      0.0|            2|             1|       14406.41|     0|\n|       19|  15661507|  Muldrow|        587|    Spain|  Male| 45|     6|      0.0|            1|             0|      158684.81|     0|\n|       20|  15568982|      Hao|        726|   France|Female| 24|     6|      0.0|            2|             1|       54724.03|     0|\n|       21|  15577657| McDonald|        732|   France|  Male| 41|     8|      0.0|            2|             1|      170886.17|     0|\n|       22|  15597945| Dellucci|        636|    Spain|Female| 32|     8|      0.0|            2|             0|      138555.46|     0|\n|       23|  15699309|Gerasimov|        510|    Spain|Female| 38|     4|      0.0|            1|             0|      118913.53|     1|\n|       24|  15725737|   Mosman|        669|   France|  Male| 46|     3|      0.0|            2|             1|        8487.75|     0|\n|       25|  15625047|      Yen|        846|   France|Female| 38|     5|      0.0|            1|             1|      187616.16|     0|\n+---------+----------+---------+-----------+---------+------+---+------+---------+-------------+--------------+---------------+------+\nonly showing top 20 rows\n\n+---------+----------+--------+-----------+---------+------+---+------+---------+-------------+--------------+---------------+------+\n|RowNumber|CustomerId| Surname|CreditScore|Geography|Gender|Age|Tenure|  Balance|NumOfProducts|IsActiveMember|EstimatedSalary|Exited|\n+---------+----------+--------+-----------+---------+------+---+------+---------+-------------+--------------+---------------+------+\n|        1|  15634602|Hargrave|        619|   France|Female| 42|     2|      0.0|            1|             1|      101348.88|     1|\n|        2|  15647311|    Hill|        608|    Spain|Female| 41|     1| 83807.86|            1|             1|      112542.58|     0|\n|        3|  15619304|    Onio|        502|   France|Female| 42|     8| 159660.8|            3|             0|      113931.57|     1|\n|        4|  15701354|    Boni|        699|   France|Female| 39|     1|      0.0|            2|             0|       93826.63|     0|\n|        5|  15737888|Mitchell|        850|    Spain|Female| 43|     2|125510.82|            1|             1|        79084.1|     0|\n+---------+----------+--------+-----------+---------+------+---+------+---------+-------------+--------------+---------------+------+\n\n"
     ]
    }
   ],
   "source": [
    "#Joins\n",
    "joined_df = credit_df.join(new_df, credit_df[\"CustomerId\"] == new_df[\"CustomerId\"], \"inner\").show()\n",
    "joined_df = credit_df.join(new_df, credit_df[\"CustomerId\"] == new_df[\"CustomerId\"], \"outer\").show()\n",
    "joined_df = credit_df.join(new_df, credit_df[\"CustomerId\"] == new_df[\"CustomerId\"], \"left\").show()\n",
    "joined_df = credit_df.join(new_df, credit_df[\"CustomerId\"] == new_df[\"CustomerId\"], \"right\").show()\n",
    "joined_df = credit_df.join(new_df, credit_df[\"CustomerId\"] == new_df[\"CustomerId\"], \"leftanti\").show()\n",
    "joined_df = credit_df.join(new_df, credit_df[\"CustomerId\"] == new_df[\"CustomerId\"], \"leftsemi\").show()\n"
   ]
  },
  {
   "cell_type": "code",
   "execution_count": 0,
   "metadata": {
    "application/vnd.databricks.v1+cell": {
     "cellMetadata": {},
     "inputWidgets": {},
     "nuid": "f2f538da-f4f3-4520-b193-3733ed206b0f",
     "showTitle": false,
     "tableResultSettingsMap": {},
     "title": ""
    }
   },
   "outputs": [],
   "source": []
  }
 ],
 "metadata": {
  "application/vnd.databricks.v1+notebook": {
   "dashboards": [],
   "environmentMetadata": null,
   "language": "python",
   "notebookMetadata": {
    "pythonIndentUnit": 4
   },
   "notebookName": "Coding Challenge Pyspark",
   "widgets": {}
  }
 },
 "nbformat": 4,
 "nbformat_minor": 0
}
