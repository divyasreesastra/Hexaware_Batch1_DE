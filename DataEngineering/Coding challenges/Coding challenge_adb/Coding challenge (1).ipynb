{
 "cells": [
  {
   "cell_type": "markdown",
   "metadata": {
    "application/vnd.databricks.v1+cell": {
     "cellMetadata": {},
     "inputWidgets": {},
     "nuid": "2c084bef-8a7d-4d38-b07d-8416ea4a1ab6",
     "showTitle": false,
     "tableResultSettingsMap": {},
     "title": ""
    }
   },
   "source": [
    "Data Visualization"
   ]
  },
  {
   "cell_type": "code",
   "execution_count": 0,
   "metadata": {
    "application/vnd.databricks.v1+cell": {
     "cellMetadata": {
      "byteLimit": 2048000,
      "implicitDf": true,
      "rowLimit": 10000
     },
     "inputWidgets": {},
     "nuid": "803f7841-3e3c-469c-b446-5c3166322fbf",
     "showTitle": false,
     "tableResultSettingsMap": {},
     "title": ""
    }
   },
   "outputs": [
    {
     "output_type": "display_data",
     "data": {
      "text/html": [
       "<style scoped>\n",
       "  .table-result-container {\n",
       "    max-height: 300px;\n",
       "    overflow: auto;\n",
       "  }\n",
       "  table, th, td {\n",
       "    border: 1px solid black;\n",
       "    border-collapse: collapse;\n",
       "  }\n",
       "  th, td {\n",
       "    padding: 5px;\n",
       "  }\n",
       "  th {\n",
       "    text-align: left;\n",
       "  }\n",
       "</style><div class='table-result-container'><table class='table-result'><thead style='background-color: white'><tr><th>drop1</th><th>new</th></tr></thead><tbody><tr><td>12</td><td>100</td></tr><tr><td>22</td><td>130</td></tr><tr><td>1</td><td>108</td></tr><tr><td>13</td><td>106</td></tr><tr><td>16</td><td>117</td></tr><tr><td>6</td><td>36</td></tr><tr><td>3</td><td>53</td></tr><tr><td>20</td><td>169</td></tr><tr><td>5</td><td>24</td></tr><tr><td>19</td><td>164</td></tr><tr><td>15</td><td>122</td></tr><tr><td>9</td><td>85</td></tr><tr><td>17</td><td>110</td></tr><tr><td>4</td><td>36</td></tr><tr><td>8</td><td>87</td></tr><tr><td>23</td><td>123</td></tr><tr><td>7</td><td>60</td></tr><tr><td>10</td><td>91</td></tr><tr><td>21</td><td>151</td></tr><tr><td>11</td><td>88</td></tr><tr><td>14</td><td>103</td></tr><tr><td>2</td><td>71</td></tr><tr><td>0</td><td>124</td></tr><tr><td>18</td><td>150</td></tr></tbody></table></div>"
      ]
     },
     "metadata": {
      "application/vnd.databricks.v1+output": {
       "addedWidgets": {},
       "aggData": [],
       "aggError": "",
       "aggOverflow": false,
       "aggSchema": [],
       "aggSeriesLimitReached": false,
       "aggType": "",
       "arguments": {},
       "columnCustomDisplayInfos": {},
       "data": [
        [
         12,
         100
        ],
        [
         22,
         130
        ],
        [
         1,
         108
        ],
        [
         13,
         106
        ],
        [
         16,
         117
        ],
        [
         6,
         36
        ],
        [
         3,
         53
        ],
        [
         20,
         169
        ],
        [
         5,
         24
        ],
        [
         19,
         164
        ],
        [
         15,
         122
        ],
        [
         9,
         85
        ],
        [
         17,
         110
        ],
        [
         4,
         36
        ],
        [
         8,
         87
        ],
        [
         23,
         123
        ],
        [
         7,
         60
        ],
        [
         10,
         91
        ],
        [
         21,
         151
        ],
        [
         11,
         88
        ],
        [
         14,
         103
        ],
        [
         2,
         71
        ],
        [
         0,
         124
        ],
        [
         18,
         150
        ]
       ],
       "datasetInfos": [],
       "dbfsResultPath": null,
       "isJsonSchema": true,
       "metadata": {
        "createTempViewForImplicitDf": true,
        "dataframeName": "_sqldf",
        "executionCount": 32
       },
       "overflow": false,
       "plotOptions": {
        "customPlotOptions": {},
        "displayType": "table",
        "pivotAggregation": null,
        "pivotColumns": null,
        "xColumns": null,
        "yColumns": null
       },
       "removedWidgets": [],
       "schema": [
        {
         "metadata": "{}",
         "name": "drop1",
         "type": "\"integer\""
        },
        {
         "metadata": "{}",
         "name": "new",
         "type": "\"long\""
        }
       ],
       "type": "table"
      }
     },
     "output_type": "display_data"
    },
    {
     "output_type": "display_data",
     "data": {
      "text/plain": [
       "Databricks visualization. Run in Databricks to view."
      ]
     },
     "metadata": {
      "application/vnd.databricks.v1.subcommand+json": {
       "baseErrorDetails": null,
       "bindings": {},
       "collapsed": false,
       "command": "%sql WITH q AS (SELECT\n    hour(tpep_dropoff_datetime) as dropoff_hour,\n    COUNT(*) AS num\nFROM samples.nyctaxi.trips\nwhere pickup_zip in ('10001','10003','10004')\ngroup by 1) SELECT `dropoff_hour`,`num`,`dropoff_hour` FROM q",
       "commandTitle": "Visualization 1",
       "commandType": "auto",
       "commandVersion": 0,
       "commentThread": [],
       "commentsVisible": false,
       "contentSha256Hex": null,
       "customPlotOptions": {
        "redashChart": [
         {
          "key": "type",
          "value": "CHART"
         },
         {
          "key": "options",
          "value": {
           "alignYAxesAtZero": true,
           "coefficient": 1,
           "columnConfigurationMap": {
            "series": {
             "column": "dropoff_hour",
             "id": "column_73e1b0336"
            },
            "x": {
             "column": "dropoff_hour",
             "id": "column_73e1b0334"
            },
            "y": [
             {
              "column": "num",
              "id": "column_73e1b0335"
             }
            ]
           },
           "dateTimeFormat": "DD/MM/YYYY HH:mm",
           "direction": {
            "type": "counterclockwise"
           },
           "error_y": {
            "type": "data",
            "visible": true
           },
           "globalSeriesType": "scatter",
           "legend": {
            "traceorder": "normal"
           },
           "missingValuesAsZero": true,
           "numberFormat": "0,0.[00000]",
           "percentFormat": "0[.]00%",
           "series": {
            "error_y": {
             "type": "data",
             "visible": true
            },
            "stacking": null
           },
           "seriesOptions": {
            "column_73e1b0335": {
             "name": "num",
             "yAxis": 0
            }
           },
           "showDataLabels": false,
           "sizemode": "diameter",
           "sortX": true,
           "sortY": true,
           "swappedAxes": false,
           "textFormat": "",
           "useAggregationsUi": true,
           "valuesOptions": {},
           "version": 2,
           "xAxis": {
            "labels": {
             "enabled": true
            },
            "type": "-"
           },
           "yAxis": [
            {
             "type": "-"
            },
            {
             "opposite": true,
             "type": "-"
            }
           ]
          }
         }
        ]
       },
       "datasetPreviewNameToCmdIdMap": {},
       "diffDeletes": [],
       "diffInserts": [],
       "displayType": "redashChart",
       "error": null,
       "errorDetails": null,
       "errorSummary": null,
       "errorTraceType": null,
       "finishTime": 0,
       "globalVars": {},
       "guid": "",
       "height": "auto",
       "hideCommandCode": false,
       "hideCommandResult": false,
       "iPythonMetadata": null,
       "inputWidgets": {},
       "isLockedInExamMode": false,
       "latestUser": "a user",
       "latestUserId": null,
       "listResultMetadata": null,
       "metadata": {},
       "nuid": "86e1904b-c08f-4b61-be5e-93a574868a58",
       "origId": 0,
       "parentHierarchy": [],
       "pivotAggregation": null,
       "pivotColumns": null,
       "position": 2.0,
       "resultDbfsErrorMessage": null,
       "resultDbfsStatus": "INLINED_IN_TREE",
       "results": null,
       "showCommandTitle": false,
       "startTime": 0,
       "state": "input",
       "streamStates": {},
       "subcommandOptions": {
        "queryPlan": {
         "selects": [
          {
           "column": "dropoff_hour",
           "type": "column"
          },
          {
           "column": "num",
           "type": "column"
          },
          {
           "column": "dropoff_hour",
           "type": "column"
          }
         ]
        }
       },
       "submitTime": 0,
       "subtype": "tableResultSubCmd.visualization",
       "tableResultIndex": 0,
       "tableResultSettingsMap": {},
       "useConsistentColors": false,
       "version": "CommandV1",
       "width": "auto",
       "workflows": [],
       "xColumns": null,
       "yColumns": null
      }
     },
     "output_type": "display_data"
    },
    {
     "output_type": "display_data",
     "data": {
      "text/plain": [
       "Databricks visualization. Run in Databricks to view."
      ]
     },
     "metadata": {
      "application/vnd.databricks.v1.subcommand+json": {
       "baseErrorDetails": null,
       "bindings": {},
       "collapsed": false,
       "command": "%sql WITH q AS (SELECT\n    hour(tpep_dropoff_datetime) as dropoff_hour,\n    COUNT(*) AS num\nFROM samples.nyctaxi.trips\nwhere pickup_zip in ('10001','10003','10004')\ngroup by 1) ,min_max AS (SELECT `dropoff_hour`,(SELECT MAX(`dropoff_hour`) FROM q) `target_column_max`,(SELECT MIN(`dropoff_hour`) FROM q) `target_column_min` FROM q) ,histogram_meta AS (SELECT `dropoff_hour`,`target_column_min` `min_value`,IF(`target_column_max` = `target_column_min`,`target_column_max` + 1,`target_column_max`) `max_value`,(`target_column_max` - `target_column_min`) / 15 `step` FROM min_max) SELECT IF(ISNULL(`dropoff_hour`),NULL,LEAST(WIDTH_BUCKET(`dropoff_hour`,`min_value`,`max_value`,15),15)) `dropoff_hour_BIN`,FIRST(`min_value` + ((IF(ISNULL(`dropoff_hour`),NULL,LEAST(WIDTH_BUCKET(`dropoff_hour`,`min_value`,`max_value`,15),15)) - 1) * `step`)) `dropoff_hour_BIN_LOWER_BOUND`,FIRST(`step`) `dropoff_hour_BIN_STEP`,COUNT(`dropoff_hour`) `COUNT` FROM histogram_meta GROUP BY `dropoff_hour_BIN`",
       "commandTitle": "Visualization 2",
       "commandType": "auto",
       "commandVersion": 0,
       "commentThread": [],
       "commentsVisible": false,
       "contentSha256Hex": null,
       "customPlotOptions": {
        "redashChart": [
         {
          "key": "type",
          "value": "CHART"
         },
         {
          "key": "options",
          "value": {
           "alignYAxesAtZero": true,
           "coefficient": 1,
           "columnConfigurationMap": {
            "x": {
             "column": "dropoff_hour",
             "id": "column_73e1b0337"
            }
           },
           "dateTimeFormat": "DD/MM/YYYY HH:mm",
           "direction": {
            "type": "counterclockwise"
           },
           "error_y": {
            "type": "data",
            "visible": true
           },
           "globalSeriesType": "histogram",
           "isAggregationOn": true,
           "legend": {
            "traceorder": "normal"
           },
           "missingValuesAsZero": true,
           "numBins": 15,
           "numberFormat": "0,0.[00000]",
           "percentFormat": "0[.]00%",
           "series": {
            "error_y": {
             "type": "data",
             "visible": true
            },
            "stacking": null
           },
           "seriesOptions": {
            "column_73e1b0338": {
             "name": "num",
             "type": "histogram",
             "yAxis": 0
            }
           },
           "showDataLabels": false,
           "sizemode": "diameter",
           "sortX": true,
           "sortY": true,
           "swappedAxes": false,
           "textFormat": "",
           "useAggregationsUi": true,
           "valuesOptions": {},
           "version": 2,
           "xAxis": {
            "labels": {
             "enabled": true
            },
            "type": "-"
           },
           "yAxis": [
            {
             "type": "-"
            },
            {
             "opposite": true,
             "type": "-"
            }
           ]
          }
         }
        ]
       },
       "datasetPreviewNameToCmdIdMap": {},
       "diffDeletes": [],
       "diffInserts": [],
       "displayType": "redashChart",
       "error": null,
       "errorDetails": null,
       "errorSummary": null,
       "errorTraceType": null,
       "finishTime": 0,
       "globalVars": {},
       "guid": "",
       "height": "auto",
       "hideCommandCode": false,
       "hideCommandResult": false,
       "iPythonMetadata": null,
       "inputWidgets": {},
       "isLockedInExamMode": false,
       "latestUser": "a user",
       "latestUserId": null,
       "listResultMetadata": null,
       "metadata": {},
       "nuid": "a42a0acd-4f9b-4c46-bf1b-5e71962f5bf0",
       "origId": 0,
       "parentHierarchy": [],
       "pivotAggregation": null,
       "pivotColumns": null,
       "position": 3.0,
       "resultDbfsErrorMessage": null,
       "resultDbfsStatus": "INLINED_IN_TREE",
       "results": null,
       "showCommandTitle": false,
       "startTime": 0,
       "state": "input",
       "streamStates": {},
       "subcommandOptions": {
        "queryPlan": {
         "groups": [
          {
           "column": "dropoff_hour_BIN",
           "type": "column"
          }
         ],
         "selects": [
          {
           "alias": "dropoff_hour_BIN",
           "args": [
            {
             "column": "dropoff_hour",
             "type": "column"
            },
            {
             "number": 15,
             "type": "number"
            }
           ],
           "function": "BIN",
           "type": "function"
          },
          {
           "alias": "dropoff_hour_BIN_LOWER_BOUND",
           "args": [
            {
             "column": "dropoff_hour",
             "type": "column"
            },
            {
             "number": 15,
             "type": "number"
            }
           ],
           "function": "BIN_LOWER_BOUND",
           "type": "function"
          },
          {
           "alias": "dropoff_hour_BIN_STEP",
           "args": [
            {
             "column": "dropoff_hour",
             "type": "column"
            },
            {
             "number": 15,
             "type": "number"
            }
           ],
           "function": "BIN_STEP",
           "type": "function"
          },
          {
           "alias": "COUNT",
           "args": [
            {
             "column": "dropoff_hour",
             "type": "column"
            }
           ],
           "function": "COUNT",
           "type": "function"
          }
         ]
        }
       },
       "submitTime": 0,
       "subtype": "tableResultSubCmd.visualization",
       "tableResultIndex": 0,
       "tableResultSettingsMap": {},
       "useConsistentColors": false,
       "version": "CommandV1",
       "width": "auto",
       "workflows": [],
       "xColumns": null,
       "yColumns": null
      }
     },
     "output_type": "display_data"
    },
    {
     "output_type": "display_data",
     "data": {
      "text/plain": [
       "Databricks visualization. Run in Databricks to view."
      ]
     },
     "metadata": {
      "application/vnd.databricks.v1.subcommand+json": {
       "baseErrorDetails": null,
       "bindings": {},
       "collapsed": false,
       "command": "%sql WITH q AS (SELECT\n    hour(tpep_dropoff_datetime) as dropoff_hour,\n    COUNT(*) AS num\nFROM samples.nyctaxi.trips\nwhere pickup_zip in ('10001','10003','10004')\ngroup by 1) SELECT `dropoff_hour`,SUM(`num`) `column_73e1b03310` FROM q GROUP BY `dropoff_hour`",
       "commandTitle": "Visualization 3",
       "commandType": "auto",
       "commandVersion": 0,
       "commentThread": [],
       "commentsVisible": false,
       "contentSha256Hex": null,
       "customPlotOptions": {
        "redashChart": [
         {
          "key": "type",
          "value": "CHART"
         },
         {
          "key": "options",
          "value": {
           "alignYAxesAtZero": true,
           "coefficient": 1,
           "columnConfigurationMap": {
            "x": {
             "column": "dropoff_hour",
             "id": "column_73e1b0339"
            },
            "y": [
             {
              "column": "num",
              "id": "column_73e1b03310",
              "transform": "SUM"
             }
            ]
           },
           "dateTimeFormat": "DD/MM/YYYY HH:mm",
           "direction": {
            "type": "counterclockwise"
           },
           "error_y": {
            "type": "data",
            "visible": true
           },
           "globalSeriesType": "line",
           "isAggregationOn": true,
           "legend": {
            "traceorder": "normal"
           },
           "missingValuesAsZero": true,
           "numberFormat": "0,0.[00000]",
           "percentFormat": "0[.]00%",
           "series": {
            "error_y": {
             "type": "data",
             "visible": true
            },
            "stacking": null
           },
           "seriesOptions": {
            "column_73e1b03310": {
             "name": "num",
             "type": "line",
             "yAxis": 0
            }
           },
           "showDataLabels": false,
           "sizemode": "diameter",
           "sortX": true,
           "sortY": true,
           "swappedAxes": false,
           "textFormat": "",
           "useAggregationsUi": true,
           "valuesOptions": {},
           "version": 2,
           "xAxis": {
            "labels": {
             "enabled": true
            },
            "type": "-"
           },
           "yAxis": [
            {
             "type": "-"
            },
            {
             "opposite": true,
             "type": "-"
            }
           ]
          }
         }
        ]
       },
       "datasetPreviewNameToCmdIdMap": {},
       "diffDeletes": [],
       "diffInserts": [],
       "displayType": "redashChart",
       "error": null,
       "errorDetails": null,
       "errorSummary": null,
       "errorTraceType": null,
       "finishTime": 0,
       "globalVars": {},
       "guid": "",
       "height": "auto",
       "hideCommandCode": false,
       "hideCommandResult": false,
       "iPythonMetadata": null,
       "inputWidgets": {},
       "isLockedInExamMode": false,
       "latestUser": "a user",
       "latestUserId": null,
       "listResultMetadata": null,
       "metadata": {},
       "nuid": "1b1cae82-09dd-4a7f-a39d-da36cd68ec13",
       "origId": 0,
       "parentHierarchy": [],
       "pivotAggregation": null,
       "pivotColumns": null,
       "position": 4.0,
       "resultDbfsErrorMessage": null,
       "resultDbfsStatus": "INLINED_IN_TREE",
       "results": null,
       "showCommandTitle": false,
       "startTime": 0,
       "state": "input",
       "streamStates": {},
       "subcommandOptions": {
        "queryPlan": {
         "groups": [
          {
           "column": "dropoff_hour",
           "type": "column"
          }
         ],
         "selects": [
          {
           "column": "dropoff_hour",
           "type": "column"
          },
          {
           "alias": "column_73e1b03310",
           "args": [
            {
             "column": "num",
             "type": "column"
            }
           ],
           "function": "SUM",
           "type": "function"
          }
         ]
        }
       },
       "submitTime": 0,
       "subtype": "tableResultSubCmd.visualization",
       "tableResultIndex": 0,
       "tableResultSettingsMap": {},
       "useConsistentColors": false,
       "version": "CommandV1",
       "width": "auto",
       "workflows": [],
       "xColumns": null,
       "yColumns": null
      }
     },
     "output_type": "display_data"
    }
   ],
   "source": [
    "%sql\n",
    "USE CATALOG SAMPLES;\n",
    "SELECT\n",
    "    hour(tpep_dropoff_datetime) as drop1,\n",
    "    COUNT(*) AS new\n",
    "FROM samples.nyctaxi.trips\n",
    "where pickup_zip in ('10001','10003','10004')\n",
    "group by 1"
   ]
  },
  {
   "cell_type": "markdown",
   "metadata": {
    "application/vnd.databricks.v1+cell": {
     "cellMetadata": {},
     "inputWidgets": {},
     "nuid": "335c54e4-291e-4972-837b-a3c23f6c9d8b",
     "showTitle": false,
     "tableResultSettingsMap": {},
     "title": ""
    }
   },
   "source": [
    "Delta live table"
   ]
  },
  {
   "cell_type": "code",
   "execution_count": 0,
   "metadata": {
    "application/vnd.databricks.v1+cell": {
     "cellMetadata": {
      "byteLimit": 2048000,
      "implicitDf": true,
      "rowLimit": 10000
     },
     "inputWidgets": {},
     "nuid": "2d6db8d1-3be7-48e4-a08b-aae3d0459fd6",
     "showTitle": false,
     "tableResultSettingsMap": {},
     "title": ""
    }
   },
   "outputs": [
    {
     "output_type": "display_data",
     "data": {
      "text/html": [
       "\n",
       "<html>\n",
       "  <style>\n",
       "<style>\n",
       "      html {\n",
       "        font-family: -apple-system,BlinkMacSystemFont,Segoe UI,Roboto,Helvetica Neue,Arial,\n",
       "        Noto Sans,sans-serif,Apple Color Emoji,Segoe UI Emoji,Segoe UI Symbol,\n",
       "        Noto Color Emoji,FontAwesome;\n",
       "        font-size: 13;\n",
       "      }\n",
       "\n",
       "      .ansiout {\n",
       "        padding-bottom: 8px;\n",
       "      }\n",
       "\n",
       "      .createPipeline {\n",
       "        background-color: rgb(34, 114, 180);\n",
       "        color: white;\n",
       "        text-decoration: none;\n",
       "        padding: 4px 12px;\n",
       "        border-radius: 4px;\n",
       "        display: inline-block;\n",
       "      }\n",
       "\n",
       "      .createPipeline:hover {\n",
       "        background-color: #195487;\n",
       "      }\n",
       "\n",
       "      .tag {\n",
       "        border: none;\n",
       "        color: rgb(31, 39, 45);\n",
       "        padding: 2px 4px;\n",
       "        font-weight: 600;\n",
       "        background-color: rgba(93, 114, 131, 0.08);\n",
       "        border-radius: 4px;\n",
       "        margin-right: 0;\n",
       "        display: inline-block;\n",
       "        cursor: default;\n",
       "      }\n",
       "\n",
       "      table {\n",
       "        border-collapse: collapse;\n",
       "        font-size: 13px;\n",
       "      }\n",
       "\n",
       "      th {\n",
       "        text-align: left;\n",
       "        background-color: #F2F5F7;\n",
       "        padding-left: 8px;\n",
       "        padding-right: 8px;\n",
       "      }\n",
       "\n",
       "      tr {\n",
       "        border-bottom: solid;\n",
       "        border-bottom-color: #CDDAE5;\n",
       "        border-bottom-width: 1px;\n",
       "      }\n",
       "\n",
       "      td {\n",
       "        padding-left: 8px;\n",
       "        padding-right: 8px;\n",
       "      }\n",
       "\n",
       "      .dlt-label {\n",
       "        font-weight: bold;\n",
       "      }\n",
       "\n",
       "      ul {\n",
       "        list-style: circle;\n",
       "        padding-inline-start: 12px;\n",
       "      }\n",
       "\n",
       "      li {\n",
       "        padding-bottom: 4px;\n",
       "      }\n",
       "</style></style>\n",
       "  \n",
       "<div class=\"ansiout\">\n",
       "<span class='tag'>taxi_raw_records</span> is defined as a\n",
       "<span class=\"dlt-label\">Delta Live Tables</span> dataset\n",
       " with schema: \n",
       "</div>\n",
       "\n",
       "  \n",
       "<div class=\"ansiout\">\n",
       "   <table>\n",
       "     <tbody>\n",
       "       <tr>\n",
       "         <th>Name</th>\n",
       "         <th>Type</th>\n",
       "       </tr>\n",
       "       \n",
       "<tr>\n",
       "   <td>tpep_pickup_datetime</td>\n",
       "   <td>timestamp</td>\n",
       "</tr>\n",
       "\n",
       "<tr>\n",
       "   <td>tpep_dropoff_datetime</td>\n",
       "   <td>timestamp</td>\n",
       "</tr>\n",
       "\n",
       "<tr>\n",
       "   <td>trip_distance</td>\n",
       "   <td>double</td>\n",
       "</tr>\n",
       "\n",
       "<tr>\n",
       "   <td>fare_amount</td>\n",
       "   <td>double</td>\n",
       "</tr>\n",
       "\n",
       "<tr>\n",
       "   <td>pickup_zip</td>\n",
       "   <td>int</td>\n",
       "</tr>\n",
       "\n",
       "<tr>\n",
       "   <td>dropoff_zip</td>\n",
       "   <td>int</td>\n",
       "</tr>\n",
       "     </tbody>\n",
       "   </table>\n",
       "</div>\n",
       "\n",
       "  <div class =\"ansiout\">\n",
       "    To populate your table you must either:\n",
       "    <ul>\n",
       "      <li>\n",
       "        Run an existing pipeline using the\n",
       "        <span class=\"dlt-label\">Delta Live Tables</span> menu\n",
       "      </li>\n",
       "      <li>\n",
       "        Create a new pipeline: <a class='createPipeline' href=\"?o=1613349107998444#joblist/pipelines/create?initialSource=%2FUsers%2Fazuser2362_mml.local%40techademy.com%2FCoding%20challenge&redirectNotebookId=798494926508063\">Create Pipeline</a>\n",
       "      </li>\n",
       "    </ul>\n",
       "  <div>\n",
       "</html>\n"
      ]
     },
     "metadata": {
      "application/vnd.databricks.v1+output": {
       "addedWidgets": {},
       "arguments": {},
       "data": "\n<html>\n  <style>\n<style>\n      html {\n        font-family: -apple-system,BlinkMacSystemFont,Segoe UI,Roboto,Helvetica Neue,Arial,\n        Noto Sans,sans-serif,Apple Color Emoji,Segoe UI Emoji,Segoe UI Symbol,\n        Noto Color Emoji,FontAwesome;\n        font-size: 13;\n      }\n\n      .ansiout {\n        padding-bottom: 8px;\n      }\n\n      .createPipeline {\n        background-color: rgb(34, 114, 180);\n        color: white;\n        text-decoration: none;\n        padding: 4px 12px;\n        border-radius: 4px;\n        display: inline-block;\n      }\n\n      .createPipeline:hover {\n        background-color: #195487;\n      }\n\n      .tag {\n        border: none;\n        color: rgb(31, 39, 45);\n        padding: 2px 4px;\n        font-weight: 600;\n        background-color: rgba(93, 114, 131, 0.08);\n        border-radius: 4px;\n        margin-right: 0;\n        display: inline-block;\n        cursor: default;\n      }\n\n      table {\n        border-collapse: collapse;\n        font-size: 13px;\n      }\n\n      th {\n        text-align: left;\n        background-color: #F2F5F7;\n        padding-left: 8px;\n        padding-right: 8px;\n      }\n\n      tr {\n        border-bottom: solid;\n        border-bottom-color: #CDDAE5;\n        border-bottom-width: 1px;\n      }\n\n      td {\n        padding-left: 8px;\n        padding-right: 8px;\n      }\n\n      .dlt-label {\n        font-weight: bold;\n      }\n\n      ul {\n        list-style: circle;\n        padding-inline-start: 12px;\n      }\n\n      li {\n        padding-bottom: 4px;\n      }\n</style></style>\n  \n<div class=\"ansiout\">\n<span class='tag'>taxi_raw_records</span> is defined as a\n<span class=\"dlt-label\">Delta Live Tables</span> dataset\n with schema: \n</div>\n\n  \n<div class=\"ansiout\">\n   <table>\n     <tbody>\n       <tr>\n         <th>Name</th>\n         <th>Type</th>\n       </tr>\n       \n<tr>\n   <td>tpep_pickup_datetime</td>\n   <td>timestamp</td>\n</tr>\n\n<tr>\n   <td>tpep_dropoff_datetime</td>\n   <td>timestamp</td>\n</tr>\n\n<tr>\n   <td>trip_distance</td>\n   <td>double</td>\n</tr>\n\n<tr>\n   <td>fare_amount</td>\n   <td>double</td>\n</tr>\n\n<tr>\n   <td>pickup_zip</td>\n   <td>int</td>\n</tr>\n\n<tr>\n   <td>dropoff_zip</td>\n   <td>int</td>\n</tr>\n     </tbody>\n   </table>\n</div>\n\n  <div class =\"ansiout\">\n    To populate your table you must either:\n    <ul>\n      <li>\n        Run an existing pipeline using the\n        <span class=\"dlt-label\">Delta Live Tables</span> menu\n      </li>\n      <li>\n        Create a new pipeline: <a class='createPipeline' href=\"?o=1613349107998444#joblist/pipelines/create?initialSource=%2FUsers%2Fazuser2362_mml.local%40techademy.com%2FCoding%20challenge&redirectNotebookId=798494926508063\">Create Pipeline</a>\n      </li>\n    </ul>\n  <div>\n</html>\n",
       "datasetInfos": [],
       "metadata": {
        "dataframeName": null
       },
       "removedWidgets": [],
       "textData": null,
       "type": "htmlSandbox"
      }
     },
     "output_type": "display_data"
    }
   ],
   "source": [
    "%sql\n",
    "create or refresh streaming table taxi_raw_records\n",
    "(constraint valid expect(trip_distance>0.0)on violation drop row)\n",
    "as\n",
    "select * \n",
    "from \n",
    "STREAM(samples.nyctaxi.trips)"
   ]
  },
  {
   "cell_type": "markdown",
   "metadata": {
    "application/vnd.databricks.v1+cell": {
     "cellMetadata": {},
     "inputWidgets": {},
     "nuid": "32f5bc27-aca5-4c9b-81fe-8c4e8c539622",
     "showTitle": false,
     "tableResultSettingsMap": {},
     "title": ""
    }
   },
   "source": [
    "Writing data into delta tables\n",
    "Creating dataframes from datasets and reading them in different formats\n"
   ]
  },
  {
   "cell_type": "code",
   "execution_count": 0,
   "metadata": {
    "application/vnd.databricks.v1+cell": {
     "cellMetadata": {
      "byteLimit": 2048000,
      "rowLimit": 10000
     },
     "inputWidgets": {},
     "nuid": "6dbc09d7-c4da-4273-904e-c9844f41d4cb",
     "showTitle": false,
     "tableResultSettingsMap": {},
     "title": ""
    }
   },
   "outputs": [],
   "source": [
    "from pyspark.sql import SparkSession\n",
    "spark=SparkSession.builder.appName(\"Delta\").getOrCreate()"
   ]
  },
  {
   "cell_type": "code",
   "execution_count": 0,
   "metadata": {
    "application/vnd.databricks.v1+cell": {
     "cellMetadata": {
      "byteLimit": 2048000,
      "rowLimit": 10000
     },
     "inputWidgets": {},
     "nuid": "fd5e9aef-2c51-416a-8a4d-12b83327be33",
     "showTitle": false,
     "tableResultSettingsMap": {},
     "title": ""
    }
   },
   "outputs": [],
   "source": [
    "s1=spark.read.option(\"inferschema\",True).option(\"header\",True).csv(\"/FileStore/tables/new1.txt\")\n",
    "s1.write.format(\"delta\").mode(\"overwrite\").save(\"/FileStore/tables/delta_train/\")  \n"
   ]
  },
  {
   "cell_type": "code",
   "execution_count": 0,
   "metadata": {
    "application/vnd.databricks.v1+cell": {
     "cellMetadata": {
      "byteLimit": 2048000,
      "rowLimit": 10000
     },
     "inputWidgets": {},
     "nuid": "2f84f78c-a5b4-419a-8448-b8fed2d4d726",
     "showTitle": false,
     "tableResultSettingsMap": {},
     "title": ""
    }
   },
   "outputs": [
    {
     "output_type": "display_data",
     "data": {
      "text/html": [
       "<style scoped>\n",
       "  .table-result-container {\n",
       "    max-height: 300px;\n",
       "    overflow: auto;\n",
       "  }\n",
       "  table, th, td {\n",
       "    border: 1px solid black;\n",
       "    border-collapse: collapse;\n",
       "  }\n",
       "  th, td {\n",
       "    padding: 5px;\n",
       "  }\n",
       "  th {\n",
       "    text-align: left;\n",
       "  }\n",
       "</style><div class='table-result-container'><table class='table-result'><thead style='background-color: white'><tr><th>path</th><th>name</th><th>size</th><th>modificationTime</th></tr></thead><tbody><tr><td>dbfs:/FileStore/tables/delta_train/_delta_log/</td><td>_delta_log/</td><td>0</td><td>1733830331000</td></tr><tr><td>dbfs:/FileStore/tables/delta_train/part-00000-9612b4b2-1b8d-41a2-826e-10dbcd6ab9cd-c000.snappy.parquet</td><td>part-00000-9612b4b2-1b8d-41a2-826e-10dbcd6ab9cd-c000.snappy.parquet</td><td>3872</td><td>1733830332000</td></tr></tbody></table></div>"
      ]
     },
     "metadata": {
      "application/vnd.databricks.v1+output": {
       "addedWidgets": {},
       "aggData": [],
       "aggError": "",
       "aggOverflow": false,
       "aggSchema": [],
       "aggSeriesLimitReached": false,
       "aggType": "",
       "arguments": {},
       "columnCustomDisplayInfos": {},
       "data": [
        [
         "dbfs:/FileStore/tables/delta_train/_delta_log/",
         "_delta_log/",
         0,
         1733830331000
        ],
        [
         "dbfs:/FileStore/tables/delta_train/part-00000-9612b4b2-1b8d-41a2-826e-10dbcd6ab9cd-c000.snappy.parquet",
         "part-00000-9612b4b2-1b8d-41a2-826e-10dbcd6ab9cd-c000.snappy.parquet",
         3872,
         1733830332000
        ]
       ],
       "datasetInfos": [],
       "dbfsResultPath": null,
       "isJsonSchema": true,
       "metadata": {},
       "overflow": false,
       "plotOptions": {
        "customPlotOptions": {},
        "displayType": "table",
        "pivotAggregation": null,
        "pivotColumns": null,
        "xColumns": null,
        "yColumns": null
       },
       "removedWidgets": [],
       "schema": [
        {
         "metadata": "{}",
         "name": "path",
         "type": "\"string\""
        },
        {
         "metadata": "{}",
         "name": "name",
         "type": "\"string\""
        },
        {
         "metadata": "{}",
         "name": "size",
         "type": "\"long\""
        },
        {
         "metadata": "{}",
         "name": "modificationTime",
         "type": "\"long\""
        }
       ],
       "type": "table"
      }
     },
     "output_type": "display_data"
    }
   ],
   "source": [
    "display(dbutils.fs.ls(\"/FileStore/tables/delta_train/\"))"
   ]
  },
  {
   "cell_type": "code",
   "execution_count": 0,
   "metadata": {
    "application/vnd.databricks.v1+cell": {
     "cellMetadata": {
      "byteLimit": 2048000,
      "rowLimit": 10000
     },
     "inputWidgets": {},
     "nuid": "f798f0ab-a917-42fb-9c1b-127bdd2ecf57",
     "showTitle": false,
     "tableResultSettingsMap": {},
     "title": ""
    }
   },
   "outputs": [
    {
     "output_type": "stream",
     "name": "stdout",
     "output_type": "stream",
     "text": [
      "+---+---------+----------+---------+------+-------------------+-----------+------+\n| id|firstName|middleName| lastName|gender|          birthDate|        ssn|salary|\n+---+---------+----------+---------+------+-------------------+-----------+------+\n|  2|       An|     Amira|   Cowper|     F|1992-02-08 05:00:00|978-97-8086| 40203|\n| 19|   Adelle|   Kathyrn|Grigoriev|     F|1978-11-14 05:00:00|923-23-5984| 60600|\n| 40|  Alethea|     Dolly|Brickdale|     F|1960-06-26 04:00:00|908-46-4236| 89151|\n| 61|   Adelia|      Gita|   Vassel|     F|1990-10-24 04:00:00|947-17-3832| 63563|\n| 63|Anjanette|    Clelia|    Hicks|     F|1973-10-26 04:00:00|981-32-5795| 61310|\n| 75|    Alica|  Elfrieda| Mousdall|     F|1953-12-21 05:00:00|954-16-6401| 96490|\n| 90|    Alice|   Marisol|   Novill|     F|1992-05-21 04:00:00|924-10-7563| 34053|\n|100| Annalisa|      Nova|  Patesel|     F|1974-01-25 04:00:00|922-68-2542| 66481|\n|105|    Annie|    Jeanne|  Beecker|     F|1961-12-09 05:00:00|903-15-7880| 63493|\n|110|   Alayna|  Donnetta|   Passby|     F|1985-11-09 05:00:00|937-24-5796| 76967|\n+---+---------+----------+---------+------+-------------------+-----------+------+\nonly showing top 10 rows\n\n"
     ]
    }
   ],
   "source": [
    "data=spark.read.format(\"delta\").load(\"dbfs:/user/hive/warehouse/export\") #Reading table in delta format\n",
    "data.show(10)"
   ]
  },
  {
   "cell_type": "code",
   "execution_count": 0,
   "metadata": {
    "application/vnd.databricks.v1+cell": {
     "cellMetadata": {
      "byteLimit": 2048000,
      "rowLimit": 10000
     },
     "inputWidgets": {},
     "nuid": "17af4892-36a7-451e-a3f3-830a7232af18",
     "showTitle": false,
     "tableResultSettingsMap": {},
     "title": ""
    }
   },
   "outputs": [
    {
     "output_type": "display_data",
     "data": {
      "text/html": [
       "<style scoped>\n",
       "  .table-result-container {\n",
       "    max-height: 300px;\n",
       "    overflow: auto;\n",
       "  }\n",
       "  table, th, td {\n",
       "    border: 1px solid black;\n",
       "    border-collapse: collapse;\n",
       "  }\n",
       "  th, td {\n",
       "    padding: 5px;\n",
       "  }\n",
       "  th {\n",
       "    text-align: left;\n",
       "  }\n",
       "</style><div class='table-result-container'><table class='table-result'><thead style='background-color: white'><tr><th>id</th><th>firstName</th><th>middleName</th><th>lastName</th><th>gender</th><th>birthDate</th><th>ssn</th><th>salary</th></tr></thead><tbody><tr><td>2</td><td>An</td><td>Amira</td><td>Cowper</td><td>F</td><td>1992-02-08T05:00:00Z</td><td>978-97-8086</td><td>40203</td></tr><tr><td>105</td><td>Annie</td><td>Jeanne</td><td>Beecker</td><td>F</td><td>1961-12-09T05:00:00Z</td><td>903-15-7880</td><td>63493</td></tr><tr><td>293</td><td>Alida</td><td>Peggy</td><td>Bracher</td><td>F</td><td>1972-09-18T04:00:00Z</td><td>953-82-2303</td><td>107303</td></tr><tr><td>296</td><td>Ann</td><td>Vinita</td><td>Roscher</td><td>F</td><td>1986-05-31T04:00:00Z</td><td>936-40-3049</td><td>36909</td></tr><tr><td>348</td><td>Andra</td><td>Ami</td><td>Player</td><td>F</td><td>1984-09-10T04:00:00Z</td><td>986-41-7846</td><td>97363</td></tr><tr><td>640</td><td>Angelic</td><td>Rossana</td><td>Raiker</td><td>F</td><td>1969-06-07T04:00:00Z</td><td>985-74-9894</td><td>30965</td></tr><tr><td>646</td><td>Alecia</td><td>Latrice</td><td>Dener</td><td>F</td><td>1973-04-02T05:00:00Z</td><td>926-24-5548</td><td>64624</td></tr><tr><td>835</td><td>Antoinette</td><td>Era</td><td>Warriner</td><td>F</td><td>1982-07-08T04:00:00Z</td><td>954-43-1908</td><td>69049</td></tr><tr><td>2</td><td>An</td><td>Amira</td><td>Cowper</td><td>F</td><td>1992-02-08T05:00:00Z</td><td>978-97-8086</td><td>40203</td></tr><tr><td>105</td><td>Annie</td><td>Jeanne</td><td>Beecker</td><td>F</td><td>1961-12-09T05:00:00Z</td><td>903-15-7880</td><td>63493</td></tr><tr><td>293</td><td>Alida</td><td>Peggy</td><td>Bracher</td><td>F</td><td>1972-09-18T04:00:00Z</td><td>953-82-2303</td><td>107303</td></tr><tr><td>296</td><td>Ann</td><td>Vinita</td><td>Roscher</td><td>F</td><td>1986-05-31T04:00:00Z</td><td>936-40-3049</td><td>36909</td></tr><tr><td>348</td><td>Andra</td><td>Ami</td><td>Player</td><td>F</td><td>1984-09-10T04:00:00Z</td><td>986-41-7846</td><td>97363</td></tr><tr><td>640</td><td>Angelic</td><td>Rossana</td><td>Raiker</td><td>F</td><td>1969-06-07T04:00:00Z</td><td>985-74-9894</td><td>30965</td></tr><tr><td>646</td><td>Alecia</td><td>Latrice</td><td>Dener</td><td>F</td><td>1973-04-02T05:00:00Z</td><td>926-24-5548</td><td>64624</td></tr><tr><td>835</td><td>Antoinette</td><td>Era</td><td>Warriner</td><td>F</td><td>1982-07-08T04:00:00Z</td><td>954-43-1908</td><td>69049</td></tr></tbody></table></div>"
      ]
     },
     "metadata": {
      "application/vnd.databricks.v1+output": {
       "addedWidgets": {},
       "aggData": [],
       "aggError": "",
       "aggOverflow": false,
       "aggSchema": [],
       "aggSeriesLimitReached": false,
       "aggType": "",
       "arguments": {},
       "columnCustomDisplayInfos": {},
       "data": [
        [
         2,
         "An",
         "Amira",
         "Cowper",
         "F",
         "1992-02-08T05:00:00Z",
         "978-97-8086",
         40203
        ],
        [
         105,
         "Annie",
         "Jeanne",
         "Beecker",
         "F",
         "1961-12-09T05:00:00Z",
         "903-15-7880",
         63493
        ],
        [
         293,
         "Alida",
         "Peggy",
         "Bracher",
         "F",
         "1972-09-18T04:00:00Z",
         "953-82-2303",
         107303
        ],
        [
         296,
         "Ann",
         "Vinita",
         "Roscher",
         "F",
         "1986-05-31T04:00:00Z",
         "936-40-3049",
         36909
        ],
        [
         348,
         "Andra",
         "Ami",
         "Player",
         "F",
         "1984-09-10T04:00:00Z",
         "986-41-7846",
         97363
        ],
        [
         640,
         "Angelic",
         "Rossana",
         "Raiker",
         "F",
         "1969-06-07T04:00:00Z",
         "985-74-9894",
         30965
        ],
        [
         646,
         "Alecia",
         "Latrice",
         "Dener",
         "F",
         "1973-04-02T05:00:00Z",
         "926-24-5548",
         64624
        ],
        [
         835,
         "Antoinette",
         "Era",
         "Warriner",
         "F",
         "1982-07-08T04:00:00Z",
         "954-43-1908",
         69049
        ],
        [
         2,
         "An",
         "Amira",
         "Cowper",
         "F",
         "1992-02-08T05:00:00Z",
         "978-97-8086",
         40203
        ],
        [
         105,
         "Annie",
         "Jeanne",
         "Beecker",
         "F",
         "1961-12-09T05:00:00Z",
         "903-15-7880",
         63493
        ],
        [
         293,
         "Alida",
         "Peggy",
         "Bracher",
         "F",
         "1972-09-18T04:00:00Z",
         "953-82-2303",
         107303
        ],
        [
         296,
         "Ann",
         "Vinita",
         "Roscher",
         "F",
         "1986-05-31T04:00:00Z",
         "936-40-3049",
         36909
        ],
        [
         348,
         "Andra",
         "Ami",
         "Player",
         "F",
         "1984-09-10T04:00:00Z",
         "986-41-7846",
         97363
        ],
        [
         640,
         "Angelic",
         "Rossana",
         "Raiker",
         "F",
         "1969-06-07T04:00:00Z",
         "985-74-9894",
         30965
        ],
        [
         646,
         "Alecia",
         "Latrice",
         "Dener",
         "F",
         "1973-04-02T05:00:00Z",
         "926-24-5548",
         64624
        ],
        [
         835,
         "Antoinette",
         "Era",
         "Warriner",
         "F",
         "1982-07-08T04:00:00Z",
         "954-43-1908",
         69049
        ]
       ],
       "datasetInfos": [],
       "dbfsResultPath": null,
       "isJsonSchema": true,
       "metadata": {},
       "overflow": false,
       "plotOptions": {
        "customPlotOptions": {},
        "displayType": "table",
        "pivotAggregation": null,
        "pivotColumns": null,
        "xColumns": null,
        "yColumns": null
       },
       "removedWidgets": [],
       "schema": [
        {
         "metadata": "{}",
         "name": "id",
         "type": "\"long\""
        },
        {
         "metadata": "{}",
         "name": "firstName",
         "type": "\"string\""
        },
        {
         "metadata": "{}",
         "name": "middleName",
         "type": "\"string\""
        },
        {
         "metadata": "{}",
         "name": "lastName",
         "type": "\"string\""
        },
        {
         "metadata": "{}",
         "name": "gender",
         "type": "\"string\""
        },
        {
         "metadata": "{}",
         "name": "birthDate",
         "type": "\"timestamp\""
        },
        {
         "metadata": "{}",
         "name": "ssn",
         "type": "\"string\""
        },
        {
         "metadata": "{}",
         "name": "salary",
         "type": "\"long\""
        }
       ],
       "type": "table"
      }
     },
     "output_type": "display_data"
    }
   ],
   "source": [
    "from pyspark.sql.functions import *\n",
    "dfresult=data.select(\"*\").filter(col(\"lastName\").endswith(\"r\"))\n",
    "display(dfresult)"
   ]
  },
  {
   "cell_type": "markdown",
   "metadata": {
    "application/vnd.databricks.v1+cell": {
     "cellMetadata": {},
     "inputWidgets": {},
     "nuid": "64a6ac73-ba11-4959-acaf-1a52d98b955e",
     "showTitle": false,
     "tableResultSettingsMap": {},
     "title": ""
    }
   },
   "source": [
    "Dbutils"
   ]
  },
  {
   "cell_type": "code",
   "execution_count": 0,
   "metadata": {
    "application/vnd.databricks.v1+cell": {
     "cellMetadata": {
      "byteLimit": 2048000,
      "rowLimit": 10000
     },
     "inputWidgets": {},
     "nuid": "bee7a7bf-a704-4cb3-99d3-a14da8f446d9",
     "showTitle": false,
     "tableResultSettingsMap": {},
     "title": ""
    }
   },
   "outputs": [
    {
     "output_type": "display_data",
     "data": {
      "text/html": [
       "<style scoped>\n",
       "  .table-result-container {\n",
       "    max-height: 300px;\n",
       "    overflow: auto;\n",
       "  }\n",
       "  table, th, td {\n",
       "    border: 1px solid black;\n",
       "    border-collapse: collapse;\n",
       "  }\n",
       "  th, td {\n",
       "    padding: 5px;\n",
       "  }\n",
       "  th {\n",
       "    text-align: left;\n",
       "  }\n",
       "</style><div class='table-result-container'><table class='table-result'><thead style='background-color: white'><tr><th>path</th><th>name</th><th>size</th><th>modificationTime</th></tr></thead><tbody><tr><td>dbfs:/databricks-datasets/COVID/</td><td>COVID/</td><td>0</td><td>1733830997723</td></tr><tr><td>dbfs:/databricks-datasets/README.md</td><td>README.md</td><td>976</td><td>1532502320000</td></tr><tr><td>dbfs:/databricks-datasets/Rdatasets/</td><td>Rdatasets/</td><td>0</td><td>1733830997723</td></tr><tr><td>dbfs:/databricks-datasets/SPARK_README.md</td><td>SPARK_README.md</td><td>3359</td><td>1516124912000</td></tr><tr><td>dbfs:/databricks-datasets/adult/</td><td>adult/</td><td>0</td><td>1733830997723</td></tr><tr><td>dbfs:/databricks-datasets/airlines/</td><td>airlines/</td><td>0</td><td>1733830997723</td></tr><tr><td>dbfs:/databricks-datasets/amazon/</td><td>amazon/</td><td>0</td><td>1733830997723</td></tr><tr><td>dbfs:/databricks-datasets/asa/</td><td>asa/</td><td>0</td><td>1733830997723</td></tr><tr><td>dbfs:/databricks-datasets/atlas_higgs/</td><td>atlas_higgs/</td><td>0</td><td>1733830997723</td></tr><tr><td>dbfs:/databricks-datasets/bikeSharing/</td><td>bikeSharing/</td><td>0</td><td>1733830997723</td></tr><tr><td>dbfs:/databricks-datasets/cctvVideos/</td><td>cctvVideos/</td><td>0</td><td>1733830997723</td></tr><tr><td>dbfs:/databricks-datasets/credit-card-fraud/</td><td>credit-card-fraud/</td><td>0</td><td>1733830997723</td></tr><tr><td>dbfs:/databricks-datasets/cs100/</td><td>cs100/</td><td>0</td><td>1733830997723</td></tr><tr><td>dbfs:/databricks-datasets/cs110x/</td><td>cs110x/</td><td>0</td><td>1733830997723</td></tr><tr><td>dbfs:/databricks-datasets/cs190/</td><td>cs190/</td><td>0</td><td>1733830997723</td></tr><tr><td>dbfs:/databricks-datasets/data.gov/</td><td>data.gov/</td><td>0</td><td>1733830997723</td></tr><tr><td>dbfs:/databricks-datasets/definitive-guide/</td><td>definitive-guide/</td><td>0</td><td>1733830997723</td></tr><tr><td>dbfs:/databricks-datasets/delta-sharing/</td><td>delta-sharing/</td><td>0</td><td>1733830997723</td></tr><tr><td>dbfs:/databricks-datasets/flights/</td><td>flights/</td><td>0</td><td>1733830997723</td></tr><tr><td>dbfs:/databricks-datasets/flower_photos/</td><td>flower_photos/</td><td>0</td><td>1733830997723</td></tr><tr><td>dbfs:/databricks-datasets/flowers/</td><td>flowers/</td><td>0</td><td>1733830997723</td></tr><tr><td>dbfs:/databricks-datasets/genomics/</td><td>genomics/</td><td>0</td><td>1733830997723</td></tr><tr><td>dbfs:/databricks-datasets/hail/</td><td>hail/</td><td>0</td><td>1733830997723</td></tr><tr><td>dbfs:/databricks-datasets/identifying-campaign-effectiveness/</td><td>identifying-campaign-effectiveness/</td><td>0</td><td>1733830997723</td></tr><tr><td>dbfs:/databricks-datasets/iot/</td><td>iot/</td><td>0</td><td>1733830997723</td></tr><tr><td>dbfs:/databricks-datasets/iot-stream/</td><td>iot-stream/</td><td>0</td><td>1733830997723</td></tr><tr><td>dbfs:/databricks-datasets/learning-spark/</td><td>learning-spark/</td><td>0</td><td>1733830997723</td></tr><tr><td>dbfs:/databricks-datasets/learning-spark-v2/</td><td>learning-spark-v2/</td><td>0</td><td>1733830997723</td></tr><tr><td>dbfs:/databricks-datasets/lending-club-loan-stats/</td><td>lending-club-loan-stats/</td><td>0</td><td>1733830997723</td></tr><tr><td>dbfs:/databricks-datasets/med-images/</td><td>med-images/</td><td>0</td><td>1733830997723</td></tr><tr><td>dbfs:/databricks-datasets/media/</td><td>media/</td><td>0</td><td>1733830997723</td></tr><tr><td>dbfs:/databricks-datasets/mnist-digits/</td><td>mnist-digits/</td><td>0</td><td>1733830997723</td></tr><tr><td>dbfs:/databricks-datasets/news20.binary/</td><td>news20.binary/</td><td>0</td><td>1733830997723</td></tr><tr><td>dbfs:/databricks-datasets/nyctaxi/</td><td>nyctaxi/</td><td>0</td><td>1733830997723</td></tr><tr><td>dbfs:/databricks-datasets/nyctaxi-with-zipcodes/</td><td>nyctaxi-with-zipcodes/</td><td>0</td><td>1733830997723</td></tr><tr><td>dbfs:/databricks-datasets/online_retail/</td><td>online_retail/</td><td>0</td><td>1733830997723</td></tr><tr><td>dbfs:/databricks-datasets/overlap-join/</td><td>overlap-join/</td><td>0</td><td>1733830997723</td></tr><tr><td>dbfs:/databricks-datasets/power-plant/</td><td>power-plant/</td><td>0</td><td>1733830997723</td></tr><tr><td>dbfs:/databricks-datasets/retail-org/</td><td>retail-org/</td><td>0</td><td>1733830997723</td></tr><tr><td>dbfs:/databricks-datasets/rwe/</td><td>rwe/</td><td>0</td><td>1733830997723</td></tr><tr><td>dbfs:/databricks-datasets/sai-summit-2019-sf/</td><td>sai-summit-2019-sf/</td><td>0</td><td>1733830997723</td></tr><tr><td>dbfs:/databricks-datasets/sample_logs/</td><td>sample_logs/</td><td>0</td><td>1733830997723</td></tr><tr><td>dbfs:/databricks-datasets/samples/</td><td>samples/</td><td>0</td><td>1733830997723</td></tr><tr><td>dbfs:/databricks-datasets/sfo_customer_survey/</td><td>sfo_customer_survey/</td><td>0</td><td>1733830997723</td></tr><tr><td>dbfs:/databricks-datasets/sms_spam_collection/</td><td>sms_spam_collection/</td><td>0</td><td>1733830997723</td></tr><tr><td>dbfs:/databricks-datasets/songs/</td><td>songs/</td><td>0</td><td>1733830997723</td></tr><tr><td>dbfs:/databricks-datasets/structured-streaming/</td><td>structured-streaming/</td><td>0</td><td>1733830997723</td></tr><tr><td>dbfs:/databricks-datasets/timeseries/</td><td>timeseries/</td><td>0</td><td>1733830997723</td></tr><tr><td>dbfs:/databricks-datasets/tpch/</td><td>tpch/</td><td>0</td><td>1733830997723</td></tr><tr><td>dbfs:/databricks-datasets/travel_recommendations_realtime/</td><td>travel_recommendations_realtime/</td><td>0</td><td>1733830997723</td></tr><tr><td>dbfs:/databricks-datasets/warmup/</td><td>warmup/</td><td>0</td><td>1733830997723</td></tr><tr><td>dbfs:/databricks-datasets/weather/</td><td>weather/</td><td>0</td><td>1733830997723</td></tr><tr><td>dbfs:/databricks-datasets/wiki/</td><td>wiki/</td><td>0</td><td>1733830997723</td></tr><tr><td>dbfs:/databricks-datasets/wikipedia-datasets/</td><td>wikipedia-datasets/</td><td>0</td><td>1733830997723</td></tr><tr><td>dbfs:/databricks-datasets/wine-quality/</td><td>wine-quality/</td><td>0</td><td>1733830997723</td></tr></tbody></table></div>"
      ]
     },
     "metadata": {
      "application/vnd.databricks.v1+output": {
       "addedWidgets": {},
       "aggData": [],
       "aggError": "",
       "aggOverflow": false,
       "aggSchema": [],
       "aggSeriesLimitReached": false,
       "aggType": "",
       "arguments": {},
       "columnCustomDisplayInfos": {},
       "data": [
        [
         "dbfs:/databricks-datasets/COVID/",
         "COVID/",
         0,
         1733830997723
        ],
        [
         "dbfs:/databricks-datasets/README.md",
         "README.md",
         976,
         1532502320000
        ],
        [
         "dbfs:/databricks-datasets/Rdatasets/",
         "Rdatasets/",
         0,
         1733830997723
        ],
        [
         "dbfs:/databricks-datasets/SPARK_README.md",
         "SPARK_README.md",
         3359,
         1516124912000
        ],
        [
         "dbfs:/databricks-datasets/adult/",
         "adult/",
         0,
         1733830997723
        ],
        [
         "dbfs:/databricks-datasets/airlines/",
         "airlines/",
         0,
         1733830997723
        ],
        [
         "dbfs:/databricks-datasets/amazon/",
         "amazon/",
         0,
         1733830997723
        ],
        [
         "dbfs:/databricks-datasets/asa/",
         "asa/",
         0,
         1733830997723
        ],
        [
         "dbfs:/databricks-datasets/atlas_higgs/",
         "atlas_higgs/",
         0,
         1733830997723
        ],
        [
         "dbfs:/databricks-datasets/bikeSharing/",
         "bikeSharing/",
         0,
         1733830997723
        ],
        [
         "dbfs:/databricks-datasets/cctvVideos/",
         "cctvVideos/",
         0,
         1733830997723
        ],
        [
         "dbfs:/databricks-datasets/credit-card-fraud/",
         "credit-card-fraud/",
         0,
         1733830997723
        ],
        [
         "dbfs:/databricks-datasets/cs100/",
         "cs100/",
         0,
         1733830997723
        ],
        [
         "dbfs:/databricks-datasets/cs110x/",
         "cs110x/",
         0,
         1733830997723
        ],
        [
         "dbfs:/databricks-datasets/cs190/",
         "cs190/",
         0,
         1733830997723
        ],
        [
         "dbfs:/databricks-datasets/data.gov/",
         "data.gov/",
         0,
         1733830997723
        ],
        [
         "dbfs:/databricks-datasets/definitive-guide/",
         "definitive-guide/",
         0,
         1733830997723
        ],
        [
         "dbfs:/databricks-datasets/delta-sharing/",
         "delta-sharing/",
         0,
         1733830997723
        ],
        [
         "dbfs:/databricks-datasets/flights/",
         "flights/",
         0,
         1733830997723
        ],
        [
         "dbfs:/databricks-datasets/flower_photos/",
         "flower_photos/",
         0,
         1733830997723
        ],
        [
         "dbfs:/databricks-datasets/flowers/",
         "flowers/",
         0,
         1733830997723
        ],
        [
         "dbfs:/databricks-datasets/genomics/",
         "genomics/",
         0,
         1733830997723
        ],
        [
         "dbfs:/databricks-datasets/hail/",
         "hail/",
         0,
         1733830997723
        ],
        [
         "dbfs:/databricks-datasets/identifying-campaign-effectiveness/",
         "identifying-campaign-effectiveness/",
         0,
         1733830997723
        ],
        [
         "dbfs:/databricks-datasets/iot/",
         "iot/",
         0,
         1733830997723
        ],
        [
         "dbfs:/databricks-datasets/iot-stream/",
         "iot-stream/",
         0,
         1733830997723
        ],
        [
         "dbfs:/databricks-datasets/learning-spark/",
         "learning-spark/",
         0,
         1733830997723
        ],
        [
         "dbfs:/databricks-datasets/learning-spark-v2/",
         "learning-spark-v2/",
         0,
         1733830997723
        ],
        [
         "dbfs:/databricks-datasets/lending-club-loan-stats/",
         "lending-club-loan-stats/",
         0,
         1733830997723
        ],
        [
         "dbfs:/databricks-datasets/med-images/",
         "med-images/",
         0,
         1733830997723
        ],
        [
         "dbfs:/databricks-datasets/media/",
         "media/",
         0,
         1733830997723
        ],
        [
         "dbfs:/databricks-datasets/mnist-digits/",
         "mnist-digits/",
         0,
         1733830997723
        ],
        [
         "dbfs:/databricks-datasets/news20.binary/",
         "news20.binary/",
         0,
         1733830997723
        ],
        [
         "dbfs:/databricks-datasets/nyctaxi/",
         "nyctaxi/",
         0,
         1733830997723
        ],
        [
         "dbfs:/databricks-datasets/nyctaxi-with-zipcodes/",
         "nyctaxi-with-zipcodes/",
         0,
         1733830997723
        ],
        [
         "dbfs:/databricks-datasets/online_retail/",
         "online_retail/",
         0,
         1733830997723
        ],
        [
         "dbfs:/databricks-datasets/overlap-join/",
         "overlap-join/",
         0,
         1733830997723
        ],
        [
         "dbfs:/databricks-datasets/power-plant/",
         "power-plant/",
         0,
         1733830997723
        ],
        [
         "dbfs:/databricks-datasets/retail-org/",
         "retail-org/",
         0,
         1733830997723
        ],
        [
         "dbfs:/databricks-datasets/rwe/",
         "rwe/",
         0,
         1733830997723
        ],
        [
         "dbfs:/databricks-datasets/sai-summit-2019-sf/",
         "sai-summit-2019-sf/",
         0,
         1733830997723
        ],
        [
         "dbfs:/databricks-datasets/sample_logs/",
         "sample_logs/",
         0,
         1733830997723
        ],
        [
         "dbfs:/databricks-datasets/samples/",
         "samples/",
         0,
         1733830997723
        ],
        [
         "dbfs:/databricks-datasets/sfo_customer_survey/",
         "sfo_customer_survey/",
         0,
         1733830997723
        ],
        [
         "dbfs:/databricks-datasets/sms_spam_collection/",
         "sms_spam_collection/",
         0,
         1733830997723
        ],
        [
         "dbfs:/databricks-datasets/songs/",
         "songs/",
         0,
         1733830997723
        ],
        [
         "dbfs:/databricks-datasets/structured-streaming/",
         "structured-streaming/",
         0,
         1733830997723
        ],
        [
         "dbfs:/databricks-datasets/timeseries/",
         "timeseries/",
         0,
         1733830997723
        ],
        [
         "dbfs:/databricks-datasets/tpch/",
         "tpch/",
         0,
         1733830997723
        ],
        [
         "dbfs:/databricks-datasets/travel_recommendations_realtime/",
         "travel_recommendations_realtime/",
         0,
         1733830997723
        ],
        [
         "dbfs:/databricks-datasets/warmup/",
         "warmup/",
         0,
         1733830997723
        ],
        [
         "dbfs:/databricks-datasets/weather/",
         "weather/",
         0,
         1733830997723
        ],
        [
         "dbfs:/databricks-datasets/wiki/",
         "wiki/",
         0,
         1733830997723
        ],
        [
         "dbfs:/databricks-datasets/wikipedia-datasets/",
         "wikipedia-datasets/",
         0,
         1733830997723
        ],
        [
         "dbfs:/databricks-datasets/wine-quality/",
         "wine-quality/",
         0,
         1733830997723
        ]
       ],
       "datasetInfos": [],
       "dbfsResultPath": null,
       "isJsonSchema": true,
       "metadata": {
        "isDbfsCommandResult": false
       },
       "overflow": false,
       "plotOptions": {
        "customPlotOptions": {},
        "displayType": "table",
        "pivotAggregation": null,
        "pivotColumns": null,
        "xColumns": null,
        "yColumns": null
       },
       "removedWidgets": [],
       "schema": [
        {
         "metadata": "{}",
         "name": "path",
         "type": "\"string\""
        },
        {
         "metadata": "{}",
         "name": "name",
         "type": "\"string\""
        },
        {
         "metadata": "{}",
         "name": "size",
         "type": "\"long\""
        },
        {
         "metadata": "{}",
         "name": "modificationTime",
         "type": "\"long\""
        }
       ],
       "type": "table"
      }
     },
     "output_type": "display_data"
    }
   ],
   "source": [
    "%fs\n",
    "ls /databricks-datasets     #listing all the datasets in filestore\n"
   ]
  },
  {
   "cell_type": "code",
   "execution_count": 0,
   "metadata": {
    "application/vnd.databricks.v1+cell": {
     "cellMetadata": {
      "byteLimit": 2048000,
      "rowLimit": 10000
     },
     "inputWidgets": {},
     "nuid": "7cc10d8d-3643-4c25-a3b9-0bcf2c3a47c3",
     "showTitle": false,
     "tableResultSettingsMap": {},
     "title": ""
    }
   },
   "outputs": [
    {
     "output_type": "execute_result",
     "data": {
      "text/plain": [
       "[]"
      ]
     },
     "execution_count": 14,
     "metadata": {},
     "output_type": "execute_result"
    }
   ],
   "source": [
    "dbutils.secrets.listScopes()\n",
    "#Listing the secret scope and Used to securely store and retrieve secrets, like credentials and API keys."
   ]
  },
  {
   "cell_type": "code",
   "execution_count": 0,
   "metadata": {
    "application/vnd.databricks.v1+cell": {
     "cellMetadata": {
      "byteLimit": 2048000,
      "rowLimit": 10000
     },
     "inputWidgets": {},
     "nuid": "e7de8951-88f3-4208-99a7-ee4ac94a2b41",
     "showTitle": false,
     "tableResultSettingsMap": {},
     "title": ""
    }
   },
   "outputs": [
    {
     "output_type": "execute_result",
     "data": {
      "text/plain": [
       "'default_value'"
      ]
     },
     "execution_count": 20,
     "metadata": {},
     "output_type": "execute_result"
    }
   ],
   "source": [
    "dbutils.widgets.text(\"input\", \"default_value\", \"Enter a value\")#Creating a text widget\n",
    "dbutils.widgets.get(\"input\")"
   ]
  },
  {
   "cell_type": "code",
   "execution_count": 0,
   "metadata": {
    "application/vnd.databricks.v1+cell": {
     "cellMetadata": {
      "byteLimit": 2048000,
      "rowLimit": 10000
     },
     "inputWidgets": {},
     "nuid": "670fa096-2b3d-4111-b219-3f8abaf233a8",
     "showTitle": false,
     "tableResultSettingsMap": {},
     "title": ""
    }
   },
   "outputs": [
    {
     "output_type": "display_data",
     "data": {
      "text/html": [
       "<style scoped>\n",
       "  .table-result-container {\n",
       "    max-height: 300px;\n",
       "    overflow: auto;\n",
       "  }\n",
       "  table, th, td {\n",
       "    border: 1px solid black;\n",
       "    border-collapse: collapse;\n",
       "  }\n",
       "  th, td {\n",
       "    padding: 5px;\n",
       "  }\n",
       "  th {\n",
       "    text-align: left;\n",
       "  }\n",
       "</style><div class='table-result-container'><table class='table-result'><thead style='background-color: white'><tr><th>path</th><th>name</th><th>size</th><th>modificationTime</th></tr></thead><tbody><tr><td>dbfs:/databricks-datasets/flights/README.md</td><td>README.md</td><td>412</td><td>1516326253000</td></tr><tr><td>dbfs:/databricks-datasets/flights/airport-codes-na.txt</td><td>airport-codes-na.txt</td><td>11411</td><td>1516326394000</td></tr><tr><td>dbfs:/databricks-datasets/flights/departuredelays.csv</td><td>departuredelays.csv</td><td>33396236</td><td>1516326403000</td></tr></tbody></table></div>"
      ]
     },
     "metadata": {
      "application/vnd.databricks.v1+output": {
       "addedWidgets": {},
       "aggData": [],
       "aggError": "",
       "aggOverflow": false,
       "aggSchema": [],
       "aggSeriesLimitReached": false,
       "aggType": "",
       "arguments": {},
       "columnCustomDisplayInfos": {},
       "data": [
        [
         "dbfs:/databricks-datasets/flights/README.md",
         "README.md",
         412,
         1516326253000
        ],
        [
         "dbfs:/databricks-datasets/flights/airport-codes-na.txt",
         "airport-codes-na.txt",
         11411,
         1516326394000
        ],
        [
         "dbfs:/databricks-datasets/flights/departuredelays.csv",
         "departuredelays.csv",
         33396236,
         1516326403000
        ]
       ],
       "datasetInfos": [],
       "dbfsResultPath": null,
       "isJsonSchema": true,
       "metadata": {},
       "overflow": false,
       "plotOptions": {
        "customPlotOptions": {},
        "displayType": "table",
        "pivotAggregation": null,
        "pivotColumns": null,
        "xColumns": null,
        "yColumns": null
       },
       "removedWidgets": [],
       "schema": [
        {
         "metadata": "{}",
         "name": "path",
         "type": "\"string\""
        },
        {
         "metadata": "{}",
         "name": "name",
         "type": "\"string\""
        },
        {
         "metadata": "{}",
         "name": "size",
         "type": "\"long\""
        },
        {
         "metadata": "{}",
         "name": "modificationTime",
         "type": "\"long\""
        }
       ],
       "type": "table"
      }
     },
     "output_type": "display_data"
    }
   ],
   "source": [
    "display(dbutils.fs.ls(\"dbfs:/databricks-datasets/flights/\"))"
   ]
  },
  {
   "cell_type": "code",
   "execution_count": 0,
   "metadata": {
    "application/vnd.databricks.v1+cell": {
     "cellMetadata": {
      "byteLimit": 2048000,
      "rowLimit": 10000
     },
     "inputWidgets": {},
     "nuid": "8a4a48fa-1df1-42ad-89c4-f5f358c80363",
     "showTitle": false,
     "tableResultSettingsMap": {},
     "title": ""
    }
   },
   "outputs": [
    {
     "output_type": "stream",
     "name": "stdout",
     "output_type": "stream",
     "text": [
      "COVID/\nREADME.md\nRdatasets/\nSPARK_README.md\nadult/\nairlines/\namazon/\nasa/\natlas_higgs/\nbikeSharing/\ncctvVideos/\ncredit-card-fraud/\ncs100/\ncs110x/\ncs190/\ndata.gov/\ndefinitive-guide/\ndelta-sharing/\nflights/\nflower_photos/\nflowers/\ngenomics/\nhail/\nidentifying-campaign-effectiveness/\niot/\niot-stream/\nlearning-spark/\nlearning-spark-v2/\nlending-club-loan-stats/\nmed-images/\nmedia/\nmnist-digits/\nnews20.binary/\nnyctaxi/\nnyctaxi-with-zipcodes/\nonline_retail/\noverlap-join/\npower-plant/\nretail-org/\nrwe/\nsai-summit-2019-sf/\nsample_logs/\nsamples/\nsfo_customer_survey/\nsms_spam_collection/\nsongs/\nstructured-streaming/\ntimeseries/\ntpch/\ntravel_recommendations_realtime/\nwarmup/\nweather/\nwiki/\nwikipedia-datasets/\nwine-quality/\n"
     ]
    }
   ],
   "source": [
    "for foldername in dbutils.fs.ls(\"databricks-datasets/\"):\n",
    "    print(foldername.name)"
   ]
  },
  {
   "cell_type": "code",
   "execution_count": 0,
   "metadata": {
    "application/vnd.databricks.v1+cell": {
     "cellMetadata": {
      "byteLimit": 2048000,
      "rowLimit": 10000
     },
     "inputWidgets": {},
     "nuid": "7aeaa743-2fc8-4ead-93ea-d06475bc6f48",
     "showTitle": false,
     "tableResultSettingsMap": {},
     "title": ""
    }
   },
   "outputs": [],
   "source": [
    "dbutils.notebook.run(\"/Workspace/Users/azuser2362_mml.local@techademy.com/new\",10)"
   ]
  },
  {
   "cell_type": "code",
   "execution_count": 0,
   "metadata": {
    "application/vnd.databricks.v1+cell": {
     "cellMetadata": {},
     "inputWidgets": {},
     "nuid": "4221690b-8ecf-4829-b221-0f05c5b4152e",
     "showTitle": false,
     "tableResultSettingsMap": {},
     "title": ""
    }
   },
   "outputs": [],
   "source": []
  }
 ],
 "metadata": {
  "application/vnd.databricks.v1+notebook": {
   "computePreferences": null,
   "dashboards": [],
   "environmentMetadata": {
    "base_environment": "",
    "client": "1"
   },
   "language": "python",
   "notebookMetadata": {
    "mostRecentlyExecutedCommandWithImplicitDF": {
     "commandId": 798494926508064,
     "dataframes": [
      "_sqldf"
     ]
    },
    "pythonIndentUnit": 4
   },
   "notebookName": "Coding challenge",
   "widgets": {
    "input": {
     "currentValue": "default_value",
     "nuid": "4bfa81ca-2655-49c7-9b0a-224de6a4b7d9",
     "typedWidgetInfo": {
      "autoCreated": false,
      "defaultValue": "default_value",
      "label": "Enter a value",
      "name": "input",
      "options": {
       "widgetDisplayType": "Text",
       "validationRegex": null
      },
      "parameterDataType": "String"
     },
     "widgetInfo": {
      "widgetType": "text",
      "defaultValue": "default_value",
      "label": "Enter a value",
      "name": "input",
      "options": {
       "widgetType": "text",
       "autoCreated": null,
       "validationRegex": null
      }
     }
    }
   }
  },
  "language_info": {
   "name": "python"
  }
 },
 "nbformat": 4,
 "nbformat_minor": 0
}