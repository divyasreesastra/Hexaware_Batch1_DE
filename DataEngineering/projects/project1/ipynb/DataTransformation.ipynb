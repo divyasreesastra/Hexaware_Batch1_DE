{
 "cells": [
  {
   "cell_type": "markdown",
   "metadata": {
    "application/vnd.databricks.v1+cell": {
     "cellMetadata": {},
     "inputWidgets": {},
     "nuid": "ab30afee-ceda-4cbd-b1ee-39323ecc0af2",
     "showTitle": false,
     "tableResultSettingsMap": {},
     "title": ""
    }
   },
   "source": [
    "# Transform"
   ]
  },
  {
   "cell_type": "code",
   "execution_count": 0,
   "metadata": {
    "application/vnd.databricks.v1+cell": {
     "cellMetadata": {
      "byteLimit": 2048000,
      "rowLimit": 10000
     },
     "inputWidgets": {},
     "nuid": "5b751bbf-3ca8-423b-b248-8ebd36f9f079",
     "showTitle": false,
     "tableResultSettingsMap": {},
     "title": ""
    }
   },
   "outputs": [],
   "source": [
    "# Import Delta Lake dependencies\n",
    "from delta.tables import *\n",
    "\n",
    "# Read Delta table into a DataFrame\n",
    "df = spark.read.format(\"delta\").load(\"dbfs:/user/hive/warehouse/delta-table\")\n",
    "\n",
    "# # Verify the data\n",
    "# df.limit(5).display()"
   ]
  },
  {
   "cell_type": "markdown",
   "metadata": {
    "application/vnd.databricks.v1+cell": {
     "cellMetadata": {},
     "inputWidgets": {},
     "nuid": "0ed2963e-d203-4e72-b915-96091b2252e7",
     "showTitle": false,
     "tableResultSettingsMap": {},
     "title": ""
    }
   },
   "source": [
    "## drop unwanted column"
   ]
  },
  {
   "cell_type": "code",
   "execution_count": 0,
   "metadata": {
    "application/vnd.databricks.v1+cell": {
     "cellMetadata": {
      "byteLimit": 2048000,
      "rowLimit": 10000
     },
     "inputWidgets": {},
     "nuid": "6606afd9-90cb-43ae-bf93-b1916533faf3",
     "showTitle": false,
     "tableResultSettingsMap": {},
     "title": ""
    }
   },
   "outputs": [],
   "source": [
    "columns_to_drop = [\"Assessor Remarks\", \"OPM remarks\"]\n",
    "df_drop = df.drop(*columns_to_drop)"
   ]
  },
  {
   "cell_type": "markdown",
   "metadata": {
    "application/vnd.databricks.v1+cell": {
     "cellMetadata": {},
     "inputWidgets": {},
     "nuid": "b9d49d87-77ab-497a-ac2f-b8647b59d2ee",
     "showTitle": false,
     "tableResultSettingsMap": {},
     "title": ""
    }
   },
   "source": [
    "## Handle missing values"
   ]
  },
  {
   "cell_type": "code",
   "execution_count": 0,
   "metadata": {
    "application/vnd.databricks.v1+cell": {
     "cellMetadata": {
      "byteLimit": 2048000,
      "rowLimit": 10000
     },
     "inputWidgets": {},
     "nuid": "9b6e8ada-0513-48be-b7a0-5f847f3e3d50",
     "showTitle": false,
     "tableResultSettingsMap": {},
     "title": ""
    }
   },
   "outputs": [],
   "source": [
    "df_fill_null = df_drop.fillna({'Property_Type': 'Unknown', 'Residential_Type': 'Unknown','Non_Use_Code': 'Unknown', 'Location': 'Unknown'})"
   ]
  },
  {
   "cell_type": "markdown",
   "metadata": {
    "application/vnd.databricks.v1+cell": {
     "cellMetadata": {},
     "inputWidgets": {},
     "nuid": "14b7f3f5-5b62-4ac6-9019-47ff777c6cb5",
     "showTitle": false,
     "tableResultSettingsMap": {},
     "title": ""
    }
   },
   "source": [
    "## Drop duplicates"
   ]
  },
  {
   "cell_type": "code",
   "execution_count": 0,
   "metadata": {
    "application/vnd.databricks.v1+cell": {
     "cellMetadata": {
      "byteLimit": 2048000,
      "rowLimit": 10000
     },
     "inputWidgets": {},
     "nuid": "565de2f0-1503-4175-be22-7a139c40df53",
     "showTitle": false,
     "tableResultSettingsMap": {},
     "title": ""
    }
   },
   "outputs": [],
   "source": [
    "# Drop duplicate rows based on Address and Date Recorded\n",
    "df_rm_duplicate = df_fill_null.dropDuplicates([\"Address\",\"Location\", \"Date_Recorded\"])"
   ]
  },
  {
   "cell_type": "markdown",
   "metadata": {
    "application/vnd.databricks.v1+cell": {
     "cellMetadata": {},
     "inputWidgets": {},
     "nuid": "bb5cc828-3ebe-4ae4-bbf5-bf3e9625e396",
     "showTitle": false,
     "tableResultSettingsMap": {},
     "title": ""
    }
   },
   "source": [
    "## Standardize the format"
   ]
  },
  {
   "cell_type": "code",
   "execution_count": 0,
   "metadata": {
    "application/vnd.databricks.v1+cell": {
     "cellMetadata": {
      "byteLimit": 2048000,
      "rowLimit": 10000
     },
     "inputWidgets": {},
     "nuid": "52acb43f-489b-45c0-a1f2-b1fe4c555b60",
     "showTitle": false,
     "tableResultSettingsMap": {},
     "title": ""
    }
   },
   "outputs": [],
   "source": [
    "from pyspark.sql.functions import col, to_date\n",
    "\n",
    "# Convert Date Recorded to YYYY-MM-DD format\n",
    "df_date = df_rm_duplicate.withColumn(\"Date_Recorded\", to_date(col(\"Date_Recorded\"), \"MM/dd/yyyy\"))"
   ]
  },
  {
   "cell_type": "markdown",
   "metadata": {
    "application/vnd.databricks.v1+cell": {
     "cellMetadata": {},
     "inputWidgets": {},
     "nuid": "4cbfd6c1-5085-4ac8-8362-3bd83d834154",
     "showTitle": false,
     "tableResultSettingsMap": {},
     "title": ""
    }
   },
   "source": [
    "## Custom binning"
   ]
  },
  {
   "cell_type": "code",
   "execution_count": 0,
   "metadata": {
    "application/vnd.databricks.v1+cell": {
     "cellMetadata": {
      "byteLimit": 2048000,
      "rowLimit": 10000
     },
     "inputWidgets": {},
     "nuid": "aa63e925-70d7-4ea5-a993-d9f6e3307589",
     "showTitle": false,
     "tableResultSettingsMap": {},
     "title": ""
    }
   },
   "outputs": [],
   "source": [
    "from pyspark.sql.functions import when\n",
    "\n",
    "# Add price band column\n",
    "df_price_group = df_date.withColumn(\"Price_Band\", \n",
    "                   when(col(\"Sale_Amount\") < 200000, \"Low\")\n",
    "                   .when((col(\"Sale_Amount\") >= 200000) & (col(\"Sale_Amount\") < 500000), \"Medium\")\n",
    "                   .otherwise(\"High\"))"
   ]
  },
  {
   "cell_type": "code",
   "execution_count": 0,
   "metadata": {
    "application/vnd.databricks.v1+cell": {
     "cellMetadata": {
      "byteLimit": 2048000,
      "rowLimit": 10000
     },
     "inputWidgets": {},
     "nuid": "f279a6e8-eaba-416e-80ac-2672752d71f9",
     "showTitle": false,
     "tableResultSettingsMap": {},
     "title": ""
    }
   },
   "outputs": [],
   "source": [
    "df_sales_perf = df_price_group.withColumn(\"Sale_Performance\", \n",
    "                   when(col(\"Sales_Ratio\") > 1, \"Above Market Value\")\n",
    "                   .when(col(\"Sales_Ratio\") == 1, \"At Market Value\")\n",
    "                   .otherwise(\"Below Market Value\"))"
   ]
  },
  {
   "cell_type": "markdown",
   "metadata": {
    "application/vnd.databricks.v1+cell": {
     "cellMetadata": {},
     "inputWidgets": {},
     "nuid": "1dbe5d14-7ccd-42d7-b8c2-91277c58e62c",
     "showTitle": false,
     "tableResultSettingsMap": {},
     "title": ""
    }
   },
   "source": [
    "## Check constraints"
   ]
  },
  {
   "cell_type": "code",
   "execution_count": 0,
   "metadata": {
    "application/vnd.databricks.v1+cell": {
     "cellMetadata": {
      "byteLimit": 2048000,
      "rowLimit": 10000
     },
     "inputWidgets": {},
     "nuid": "a92e462f-e6d4-4e0b-b9b0-eb0d98a0f5a1",
     "showTitle": false,
     "tableResultSettingsMap": {},
     "title": ""
    }
   },
   "outputs": [],
   "source": [
    "# Filter out rows with negative Assessed Value or Sale Amount\n",
    "df_no_neg = df_sales_perf.filter((col(\"Assessed_Value\") >= 0) & (col(\"Sale_Amount\") >= 0))"
   ]
  },
  {
   "cell_type": "markdown",
   "metadata": {
    "application/vnd.databricks.v1+cell": {
     "cellMetadata": {},
     "inputWidgets": {},
     "nuid": "e7fcf45d-f372-4387-a642-7f3881b3e6e9",
     "showTitle": false,
     "tableResultSettingsMap": {},
     "title": ""
    }
   },
   "source": [
    "## Outlier Removal"
   ]
  },
  {
   "cell_type": "code",
   "execution_count": 0,
   "metadata": {
    "application/vnd.databricks.v1+cell": {
     "cellMetadata": {
      "byteLimit": 2048000,
      "rowLimit": 10000
     },
     "inputWidgets": {},
     "nuid": "98ba112b-8979-4281-b511-61682a98aab2",
     "showTitle": false,
     "tableResultSettingsMap": {},
     "title": ""
    }
   },
   "outputs": [],
   "source": [
    "from pyspark.sql.functions import mean, stddev\n",
    "\n",
    "# Calculate mean and standard deviation\n",
    "stats = df_no_neg.select(mean(col(\"Sale_Amount\")).alias(\"mean\"), stddev(col(\"Sale_Amount\")).alias(\"stddev\")).collect()\n",
    "mean_value = stats[0][\"mean\"]\n",
    "stddev_value = stats[0][\"stddev\"]\n",
    "\n",
    "# Filter out outliers (3 standard deviations)\n",
    "df_no_outlier = df_no_neg.filter((col(\"Sale_Amount\") <= mean_value + 3 * stddev_value) & \n",
    "               (col(\"Sale_Amount\") >= mean_value - 3 * stddev_value))"
   ]
  },
  {
   "cell_type": "markdown",
   "metadata": {
    "application/vnd.databricks.v1+cell": {
     "cellMetadata": {},
     "inputWidgets": {},
     "nuid": "afbd56f1-3872-43e0-997c-b7740d9acb9f",
     "showTitle": false,
     "tableResultSettingsMap": {},
     "title": ""
    }
   },
   "source": [
    "## Refine the data"
   ]
  },
  {
   "cell_type": "code",
   "execution_count": 0,
   "metadata": {
    "application/vnd.databricks.v1+cell": {
     "cellMetadata": {
      "byteLimit": 2048000,
      "rowLimit": 10000
     },
     "inputWidgets": {},
     "nuid": "dcc9336e-c609-4575-abc9-bba9faf89215",
     "showTitle": false,
     "tableResultSettingsMap": {},
     "title": ""
    }
   },
   "outputs": [],
   "source": [
    "df_cleaned = df_no_outlier.dropna()"
   ]
  },
  {
   "cell_type": "code",
   "execution_count": 0,
   "metadata": {
    "application/vnd.databricks.v1+cell": {
     "cellMetadata": {
      "byteLimit": 2048000,
      "rowLimit": 10000
     },
     "inputWidgets": {},
     "nuid": "1b7be083-4f1d-411d-b8fb-bc754b1fb6da",
     "showTitle": false,
     "tableResultSettingsMap": {},
     "title": ""
    }
   },
   "outputs": [],
   "source": [
    "df_cleaned = df_cleaned.filter( ~(col(\"Property_Type\").like(\"Unknown\")))"
   ]
  },
  {
   "cell_type": "code",
   "execution_count": 0,
   "metadata": {
    "application/vnd.databricks.v1+cell": {
     "cellMetadata": {
      "byteLimit": 2048000,
      "rowLimit": 10000
     },
     "inputWidgets": {},
     "nuid": "0c791bc4-cd20-4742-af51-1f03e30e36f6",
     "showTitle": false,
     "tableResultSettingsMap": {},
     "title": ""
    }
   },
   "outputs": [],
   "source": [
    "from pyspark.sql.functions import col\n",
    "clean_df = df_cleaned.select([col(c).alias(c.replace(\" \", \"_\")) for c in df.columns])\n",
    "\n",
    "# Write to Delta Table\n",
    "clean_df.write.format(\"delta\").option(\"path\", \"dbfs:/user/hive/warehouse/delta-table\").mode(\"overwrite\").save()"
   ]
  },
  {
   "cell_type": "markdown",
   "metadata": {
    "application/vnd.databricks.v1+cell": {
     "cellMetadata": {},
     "inputWidgets": {},
     "nuid": "7fcb28de-5a17-4d70-b901-838b02e55ee1",
     "showTitle": false,
     "tableResultSettingsMap": {},
     "title": ""
    }
   },
   "source": [
    "## Store data for Later usage"
   ]
  },
  {
   "cell_type": "code",
   "execution_count": 0,
   "metadata": {
    "application/vnd.databricks.v1+cell": {
     "cellMetadata": {
      "byteLimit": 2048000,
      "rowLimit": 10000
     },
     "inputWidgets": {},
     "nuid": "8c12e951-4cf8-47ae-8bd8-b66bd181eddd",
     "showTitle": false,
     "tableResultSettingsMap": {},
     "title": ""
    }
   },
   "outputs": [
    {
     "output_type": "execute_result",
     "data": {
      "text/plain": [
       "True"
      ]
     },
     "execution_count": 14,
     "metadata": {},
     "output_type": "execute_result"
    }
   ],
   "source": [
    "# dbutils.fs.mount(\n",
    "#   source = \"wasbs://outputdata@realestatehexa.blob.core.windows.net\",\n",
    "#   mount_point = \"/mnt/sample/output\",\n",
    "#   extra_configs = {\"fs.azure.account.key.realestatehexa.blob.core.windows.net\":\"JfWT0BED8GvLWJtX46CL0ixm8kzMYMVcPSJ8Oc7oypZspQp81OQVy+DIjHU5lV7J33+Y85aQwiej+ASt0EIU0w==\"})\n"
   ]
  },
  {
   "cell_type": "code",
   "execution_count": 0,
   "metadata": {
    "application/vnd.databricks.v1+cell": {
     "cellMetadata": {
      "byteLimit": 2048000,
      "rowLimit": 10000
     },
     "inputWidgets": {},
     "nuid": "b472b71e-0e18-4562-addb-19429d4be7f4",
     "showTitle": false,
     "tableResultSettingsMap": {},
     "title": ""
    }
   },
   "outputs": [],
   "source": [
    "# Specify the target path in Azure Data Lake\n",
    "output_path = \"/mnt/sample/output/trialoutput.csv\"\n",
    "\n",
    "# Write the DataFrame as a CSV file\n",
    "clean_df.write.mode(\"overwrite\").option(\"header\", \"true\").csv(output_path)"
   ]
  }
 ],
 "metadata": {
  "application/vnd.databricks.v1+notebook": {
   "computePreferences": null,
   "dashboards": [],
   "environmentMetadata": {
    "base_environment": "",
    "client": "1"
   },
   "language": "python",
   "notebookMetadata": {
    "pythonIndentUnit": 4
   },
   "notebookName": "DataTransformation",
   "widgets": {}
  },
  "language_info": {
   "name": "python"
  }
 },
 "nbformat": 4,
 "nbformat_minor": 0
}