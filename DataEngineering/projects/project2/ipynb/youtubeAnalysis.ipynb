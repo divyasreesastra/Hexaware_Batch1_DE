{
 "cells": [
  {
   "cell_type": "markdown",
   "metadata": {
    "application/vnd.databricks.v1+cell": {
     "cellMetadata": {
      "byteLimit": 2048000,
      "rowLimit": 10000
     },
     "inputWidgets": {},
     "nuid": "9d1599e6-be2a-4a46-ae4d-7ad56ecf2fc2",
     "showTitle": false,
     "tableResultSettingsMap": {},
     "title": ""
    }
   },
   "source": [
    "# Analysis on Youtube Trending data"
   ]
  },
  {
   "cell_type": "markdown",
   "metadata": {
    "application/vnd.databricks.v1+cell": {
     "cellMetadata": {
      "byteLimit": 2048000,
      "rowLimit": 10000
     },
     "inputWidgets": {},
     "nuid": "4021d662-db7c-42f8-ae89-def67c2aa78b",
     "showTitle": false,
     "tableResultSettingsMap": {},
     "title": ""
    }
   },
   "source": [
    "## Mount Point to load data from aarchived storage"
   ]
  },
  {
   "cell_type": "code",
   "execution_count": 0,
   "metadata": {
    "application/vnd.databricks.v1+cell": {
     "cellMetadata": {
      "byteLimit": 2048000,
      "rowLimit": 10000
     },
     "inputWidgets": {},
     "nuid": "add9046e-06fd-4750-af99-17c0a576b0c5",
     "showTitle": false,
     "tableResultSettingsMap": {},
     "title": ""
    }
   },
   "outputs": [],
   "source": [
    "# dbutils.fs.mount(\n",
    "#   source = \"wasbs://cleandatanew@youtubehexa.blob.core.windows.net\",\n",
    "#   mount_point = \"/mnt/sample/youtube\",\n",
    "#   extra_configs = {\"fs.azure.account.key.youtubehexa.blob.core.windows.net\":\"gYKhi59A2E1omTfz3sMtD7l70LFpl972l2TjPyZw4KACgEyW1/wvpnZQP6O6jEpafTST42yyL0cm+AStlxwBDQ==\"})\n"
   ]
  },
  {
   "cell_type": "markdown",
   "metadata": {
    "application/vnd.databricks.v1+cell": {
     "cellMetadata": {
      "byteLimit": 2048000,
      "rowLimit": 10000
     },
     "inputWidgets": {},
     "nuid": "a0e5491a-ae66-4228-a7bf-07655a00395f",
     "showTitle": false,
     "tableResultSettingsMap": {},
     "title": ""
    }
   },
   "source": [
    "## Session initiation"
   ]
  },
  {
   "cell_type": "code",
   "execution_count": 0,
   "metadata": {
    "application/vnd.databricks.v1+cell": {
     "cellMetadata": {
      "byteLimit": 2048000,
      "rowLimit": 10000
     },
     "inputWidgets": {},
     "nuid": "0d332aa9-fd79-4176-8bc5-5fb1ea679df2",
     "showTitle": false,
     "tableResultSettingsMap": {},
     "title": ""
    }
   },
   "outputs": [],
   "source": [
    "from pyspark.sql import SparkSession\n",
    "\n",
    "# Initialize Spark Session\n",
    "spark = SparkSession.builder.appName(\"Analysis pipeline\").getOrCreate()\n"
   ]
  },
  {
   "cell_type": "markdown",
   "metadata": {
    "application/vnd.databricks.v1+cell": {
     "cellMetadata": {
      "byteLimit": 2048000,
      "rowLimit": 10000
     },
     "inputWidgets": {},
     "nuid": "57c4245e-1f8f-4ac8-916b-8715bc80c428",
     "showTitle": false,
     "tableResultSettingsMap": {},
     "title": ""
    }
   },
   "source": [
    "## Fetching data"
   ]
  },
  {
   "cell_type": "markdown",
   "metadata": {
    "application/vnd.databricks.v1+cell": {
     "cellMetadata": {
      "byteLimit": 2048000,
      "rowLimit": 10000
     },
     "inputWidgets": {},
     "nuid": "d1f3b630-eb3c-4556-a468-3c6388aa25ea",
     "showTitle": false,
     "tableResultSettingsMap": {},
     "title": ""
    }
   },
   "source": [
    "### From CSV - Video Details"
   ]
  },
  {
   "cell_type": "code",
   "execution_count": 0,
   "metadata": {
    "application/vnd.databricks.v1+cell": {
     "cellMetadata": {
      "byteLimit": 2048000,
      "rowLimit": 10000
     },
     "inputWidgets": {},
     "nuid": "6b00b5a0-b9cf-4c3f-9c80-d347e59f1064",
     "showTitle": false,
     "tableResultSettingsMap": {},
     "title": ""
    }
   },
   "outputs": [],
   "source": [
    "# Define the file path\n",
    "file_path = \"/mnt/sample/youtube/part-merged.csv\"\n",
    "\n",
    "# Read the CSV file\n",
    "df = spark.read.csv(file_path, header=True, inferSchema=True)"
   ]
  },
  {
   "cell_type": "code",
   "execution_count": 0,
   "metadata": {
    "application/vnd.databricks.v1+cell": {
     "cellMetadata": {
      "byteLimit": 2048000,
      "rowLimit": 10000
     },
     "inputWidgets": {},
     "nuid": "b309093e-9888-44fc-8730-c052fcf0d4ba",
     "showTitle": false,
     "tableResultSettingsMap": {},
     "title": ""
    }
   },
   "outputs": [
    {
     "output_type": "display_data",
     "data": {
      "text/html": [
       "<style scoped>\n",
       "  .table-result-container {\n",
       "    max-height: 300px;\n",
       "    overflow: auto;\n",
       "  }\n",
       "  table, th, td {\n",
       "    border: 1px solid black;\n",
       "    border-collapse: collapse;\n",
       "  }\n",
       "  th, td {\n",
       "    padding: 5px;\n",
       "  }\n",
       "  th {\n",
       "    text-align: left;\n",
       "  }\n",
       "</style><div class='table-result-container'><table class='table-result'><thead style='background-color: white'><tr><th>video_id</th><th>title</th><th>publishedAt</th><th>channelId</th><th>channelTitle</th><th>categoryId</th><th>trending_date</th><th>tags</th><th>view_count</th><th>likes</th><th>dislikes</th><th>comment_count</th><th>thumbnail_link</th><th>comments_disabled</th><th>ratings_disabled</th></tr></thead><tbody><tr><td>x-KbnJ9fvJc</td><td>Kya Baat Aa : Karan Aujla (Official Video) Tania | Sukh Sanghera Desi Crew | Latest Punjabi Songs</td><td>2020-08-11T09:00:11Z</td><td>UCm9SZAl03Rev9sFwloCdz1g</td><td>Rehaan Records</td><td>10</td><td>2020-08-12T00:00:00Z</td><td>[None]</td><td>11308046</td><td>655450</td><td>33242</td><td>405146</td><td>https://i.ytimg.com/vi/x-KbnJ9fvJc/default.jpg</td><td>false</td><td>false</td></tr><tr><td>Xma15IYe5tQ</td><td>SISTER DOES MY HAIRCUT</td><td>2020-08-12T06:56:05Z</td><td>UCx6F-rETGiz7xf_vkMmX2yQ</td><td>Mythpat</td><td>20</td><td>2020-08-12T00:00:00Z</td><td>haircut mythpat|haircut vlog funny|mythpat funny|mythpat sister|prachi pisat</td><td>1699326</td><td>332553</td><td>4627</td><td>75819</td><td>https://i.ytimg.com/vi/Xma15IYe5tQ/default.jpg</td><td>false</td><td>false</td></tr><tr><td>XM4Kd1gQ7Ek</td><td>Jatti Jaandi (Official Video) | Kambi Ft. Mahi Sharma | Latest Punjabi Songs 2020 |New Punjabi Songs</td><td>2020-08-12T02:24:34Z</td><td>UCoU6AzYucV7Xlg-J5GSTAPg</td><td>Gringo Entertainments</td><td>10</td><td>2020-08-12T00:00:00Z</td><td>kambi|jatti jaandi|mahi sharma|kambi new song|kambi latest song|latest punjabi song|latest punjabi songs 2020|kambi new song released|mahi sharma new song|jatti jaandi chlaundi goli|ve je tu mera dil todeya|changey din|teri meri ladai|kambi hit songs|new punjabi songs 2020|clash|latest songs|latest songs 2020|new song|new song 2020|new hindi song|new hindi songs 2020|latest hindi songs|latest hindi songs 2020</td><td>1466612</td><td>97192</td><td>2276</td><td>3311</td><td>https://i.ytimg.com/vi/XM4Kd1gQ7Ek/default.jpg</td><td>false</td><td>false</td></tr><tr><td>ltIe2dFloFY</td><td>Medical Shop Alaparaigal | Lockdown | Nakkalites</td><td>2020-08-10T15:35:11Z</td><td>UCiPmhfdCL06cSVTXKabF0Zg</td><td>Nakkalites</td><td>23</td><td>2020-08-12T00:00:00Z</td><td>Nakkalites|Nakkalites latest|Nakkalites All Episodes|nakkalites in tamil|nakkalites new video|#nakkalites|nakkalites video|nakkalites alaparaigal|nakkalites channel|tamil web series|nakalities|nakkallites|tamil comedy|alaparaigal|lockdown comedy|nakkalites medical shop|lockdown alaparaigal tamil|medical shop|nakkalites comedy|alaparaigal videos|nakalites|alaparaigal video|nakkalites srija|lock down|lockdown medical|medicalShop alaparaigal</td><td>1096906</td><td>62388</td><td>4337</td><td>4443</td><td>https://i.ytimg.com/vi/ltIe2dFloFY/default.jpg</td><td>false</td><td>false</td></tr><tr><td>KrXRnIESDxM</td><td>first Crazy RIDE on Kawasaki NINJA H2</td><td>2020-08-11T08:00:15Z</td><td>UC0VN6My1ueOFXDTgzMZSSNQ</td><td>JS Films</td><td>22</td><td>2020-08-12T00:00:00Z</td><td>JS Films|Vlogger|youtuber|jaysn|jasminder singh|delhi youtubers|youtubers india|indian youtubers|content creators|vlog|vlogs|daily vlogs|superbikes|hayabusa|ktm duke 390|kawasaki|zx10r|suzuki|lifestyle vloggers|motovloggers|desi vlogs|hinglish|delhi|india</td><td>1212997</td><td>110209</td><td>2391</td><td>4131</td><td>https://i.ytimg.com/vi/KrXRnIESDxM/default.jpg</td><td>false</td><td>false</td></tr><tr><td>8B8fTZ-ghhk</td><td>THIS SUNDAY WAS ALL ABOUT FOOD | BINGE DAY | | SHOAIB IBRAHIM OFFICIAL | DIPIKA KAKAR IBRAHIM</td><td>2020-08-11T12:15:00Z</td><td>UC8ZRiu_mBJwuMHcdIpKjTfA</td><td>Shoaib Ibrahim Official</td><td>22</td><td>2020-08-12T00:00:00Z</td><td>[None]</td><td>1105741</td><td>84592</td><td>2590</td><td>5021</td><td>https://i.ytimg.com/vi/8B8fTZ-ghhk/default.jpg</td><td>false</td><td>false</td></tr><tr><td>1Y2u-05Yhxw</td><td>WALL OF DARES WITH BROTHER & SISTER PART 2 | Rimorav Vlogs</td><td>2020-08-11T08:33:04Z</td><td>UCaqULAbiq-6ZRlKmx0Uv_Cw</td><td>Rimorav Vlogs</td><td>24</td><td>2020-08-12T00:00:00Z</td><td>rimorav|rimorav vlogs|WALL OF DARES WITH BROTHER & SISTER PART 2 Rimorav Vlogs|WALL OF DARES WITH BROTHER & SISTER Rimorav Vlogs|WALL OF DARES Rimorav Vlogs|BINOD|BINOD MEME|rishi dev|diksha sharma|sanjay dutt|ri vlogs</td><td>1549015</td><td>210151</td><td>2682</td><td>140543</td><td>https://i.ytimg.com/vi/1Y2u-05Yhxw/default.jpg</td><td>false</td><td>false</td></tr><tr><td>y80uOMCIVFE</td><td>Sarkaru Vaari Paata Motion Poster | Mahesh Babu | Parasuram Petla | Thaman S</td><td>2020-08-09T03:39:02Z</td><td>UCKZSn5C-RzrLjuWJF8wWiDw</td><td>Mythri Movie Makers</td><td>24</td><td>2020-08-12T00:00:00Z</td><td>Sarkaruvaari Paata Motion Poster|Sarkaruvaari Paata Song|Sarkaruvaari Paata|Sarkaruvaari Pata Movie|Happy Birthday Mahesh Babu|#HBDMaheshBabu|Mahesh Babu Sarkaaruvaari Pata|Mahesh Babu Latest Movie|Srakaruvaari Paata Songs|Mahesh Babu New Movie|Sarkaruvaari Pata Teaser|Sarkaruvaari Paat Trailer|Sarkaruvaari Paata Songs|Thaman S|Parasuram|Mythri Movie Makers|Mahesh Babu new Movie Trailer|Mahesh Babu Latest Movie Songs|Sarkaruvaari paata first look</td><td>3385984</td><td>183646</td><td>13288</td><td>9337</td><td>https://i.ytimg.com/vi/y80uOMCIVFE/default.jpg</td><td>false</td><td>false</td></tr><tr><td>lw4ZqLZSBow</td><td>RAJA'S FACE REVEAL | Choudhary Family | Vivek Choudhary | Khushi Punjaban</td><td>2020-08-11T09:15:45Z</td><td>UCQypnkDmsoAQaIPaycP28Xw</td><td>Mr & Mrs Choudhary</td><td>22</td><td>2020-08-12T00:00:00Z</td><td>tiktok|couple|cutecouple|vivekchoudhary|khushipunjaban|corona|covid|jaat|choudhary|trendingcouple|romance</td><td>4356422</td><td>438816</td><td>6332</td><td>47039</td><td>https://i.ytimg.com/vi/lw4ZqLZSBow/default.jpg</td><td>false</td><td>false</td></tr><tr><td>8QiOt2oxyTQ</td><td>When 10R meets NINJA H2 !!</td><td>2020-08-10T08:30:01Z</td><td>UCayDJ8tjhgm7TaUY9eechmA</td><td>Jaysn Nation</td><td>22</td><td>2020-08-12T00:00:00Z</td><td>js films|jaysn nation|jasminder singh|js films second channel|js films delhi|ninja h2|kawasaki ninja h2</td><td>848286</td><td>58734</td><td>1284</td><td>1546</td><td>https://i.ytimg.com/vi/8QiOt2oxyTQ/default.jpg</td><td>false</td><td>false</td></tr></tbody></table></div>"
      ]
     },
     "metadata": {
      "application/vnd.databricks.v1+output": {
       "addedWidgets": {},
       "aggData": [],
       "aggError": "",
       "aggOverflow": false,
       "aggSchema": [],
       "aggSeriesLimitReached": false,
       "aggType": "",
       "arguments": {},
       "columnCustomDisplayInfos": {},
       "data": [
        [
         "x-KbnJ9fvJc",
         "Kya Baat Aa : Karan Aujla (Official Video) Tania | Sukh Sanghera Desi Crew | Latest Punjabi Songs",
         "2020-08-11T09:00:11Z",
         "UCm9SZAl03Rev9sFwloCdz1g",
         "Rehaan Records",
         10,
         "2020-08-12T00:00:00Z",
         "[None]",
         11308046,
         655450,
         33242,
         405146,
         "https://i.ytimg.com/vi/x-KbnJ9fvJc/default.jpg",
         false,
         false
        ],
        [
         "Xma15IYe5tQ",
         "SISTER DOES MY HAIRCUT",
         "2020-08-12T06:56:05Z",
         "UCx6F-rETGiz7xf_vkMmX2yQ",
         "Mythpat",
         20,
         "2020-08-12T00:00:00Z",
         "haircut mythpat|haircut vlog funny|mythpat funny|mythpat sister|prachi pisat",
         1699326,
         332553,
         4627,
         75819,
         "https://i.ytimg.com/vi/Xma15IYe5tQ/default.jpg",
         false,
         false
        ],
        [
         "XM4Kd1gQ7Ek",
         "Jatti Jaandi (Official Video) | Kambi Ft. Mahi Sharma | Latest Punjabi Songs 2020 |New Punjabi Songs",
         "2020-08-12T02:24:34Z",
         "UCoU6AzYucV7Xlg-J5GSTAPg",
         "Gringo Entertainments",
         10,
         "2020-08-12T00:00:00Z",
         "kambi|jatti jaandi|mahi sharma|kambi new song|kambi latest song|latest punjabi song|latest punjabi songs 2020|kambi new song released|mahi sharma new song|jatti jaandi chlaundi goli|ve je tu mera dil todeya|changey din|teri meri ladai|kambi hit songs|new punjabi songs 2020|clash|latest songs|latest songs 2020|new song|new song 2020|new hindi song|new hindi songs 2020|latest hindi songs|latest hindi songs 2020",
         1466612,
         97192,
         2276,
         3311,
         "https://i.ytimg.com/vi/XM4Kd1gQ7Ek/default.jpg",
         false,
         false
        ],
        [
         "ltIe2dFloFY",
         "Medical Shop Alaparaigal | Lockdown | Nakkalites",
         "2020-08-10T15:35:11Z",
         "UCiPmhfdCL06cSVTXKabF0Zg",
         "Nakkalites",
         23,
         "2020-08-12T00:00:00Z",
         "Nakkalites|Nakkalites latest|Nakkalites All Episodes|nakkalites in tamil|nakkalites new video|#nakkalites|nakkalites video|nakkalites alaparaigal|nakkalites channel|tamil web series|nakalities|nakkallites|tamil comedy|alaparaigal|lockdown comedy|nakkalites medical shop|lockdown alaparaigal tamil|medical shop|nakkalites comedy|alaparaigal videos|nakalites|alaparaigal video|nakkalites srija|lock down|lockdown medical|medicalShop alaparaigal",
         1096906,
         62388,
         4337,
         4443,
         "https://i.ytimg.com/vi/ltIe2dFloFY/default.jpg",
         false,
         false
        ],
        [
         "KrXRnIESDxM",
         "first Crazy RIDE on Kawasaki NINJA H2",
         "2020-08-11T08:00:15Z",
         "UC0VN6My1ueOFXDTgzMZSSNQ",
         "JS Films",
         22,
         "2020-08-12T00:00:00Z",
         "JS Films|Vlogger|youtuber|jaysn|jasminder singh|delhi youtubers|youtubers india|indian youtubers|content creators|vlog|vlogs|daily vlogs|superbikes|hayabusa|ktm duke 390|kawasaki|zx10r|suzuki|lifestyle vloggers|motovloggers|desi vlogs|hinglish|delhi|india",
         1212997,
         110209,
         2391,
         4131,
         "https://i.ytimg.com/vi/KrXRnIESDxM/default.jpg",
         false,
         false
        ],
        [
         "8B8fTZ-ghhk",
         "THIS SUNDAY WAS ALL ABOUT FOOD | BINGE DAY | | SHOAIB IBRAHIM OFFICIAL | DIPIKA KAKAR IBRAHIM",
         "2020-08-11T12:15:00Z",
         "UC8ZRiu_mBJwuMHcdIpKjTfA",
         "Shoaib Ibrahim Official",
         22,
         "2020-08-12T00:00:00Z",
         "[None]",
         1105741,
         84592,
         2590,
         5021,
         "https://i.ytimg.com/vi/8B8fTZ-ghhk/default.jpg",
         false,
         false
        ],
        [
         "1Y2u-05Yhxw",
         "WALL OF DARES WITH BROTHER & SISTER PART 2 | Rimorav Vlogs",
         "2020-08-11T08:33:04Z",
         "UCaqULAbiq-6ZRlKmx0Uv_Cw",
         "Rimorav Vlogs",
         24,
         "2020-08-12T00:00:00Z",
         "rimorav|rimorav vlogs|WALL OF DARES WITH BROTHER & SISTER PART 2 Rimorav Vlogs|WALL OF DARES WITH BROTHER & SISTER Rimorav Vlogs|WALL OF DARES Rimorav Vlogs|BINOD|BINOD MEME|rishi dev|diksha sharma|sanjay dutt|ri vlogs",
         1549015,
         210151,
         2682,
         140543,
         "https://i.ytimg.com/vi/1Y2u-05Yhxw/default.jpg",
         false,
         false
        ],
        [
         "y80uOMCIVFE",
         "Sarkaru Vaari Paata Motion Poster | Mahesh Babu | Parasuram Petla | Thaman S",
         "2020-08-09T03:39:02Z",
         "UCKZSn5C-RzrLjuWJF8wWiDw",
         "Mythri Movie Makers",
         24,
         "2020-08-12T00:00:00Z",
         "Sarkaruvaari Paata Motion Poster|Sarkaruvaari Paata Song|Sarkaruvaari Paata|Sarkaruvaari Pata Movie|Happy Birthday Mahesh Babu|#HBDMaheshBabu|Mahesh Babu Sarkaaruvaari Pata|Mahesh Babu Latest Movie|Srakaruvaari Paata Songs|Mahesh Babu New Movie|Sarkaruvaari Pata Teaser|Sarkaruvaari Paat Trailer|Sarkaruvaari Paata Songs|Thaman S|Parasuram|Mythri Movie Makers|Mahesh Babu new Movie Trailer|Mahesh Babu Latest Movie Songs|Sarkaruvaari paata first look",
         3385984,
         183646,
         13288,
         9337,
         "https://i.ytimg.com/vi/y80uOMCIVFE/default.jpg",
         false,
         false
        ],
        [
         "lw4ZqLZSBow",
         "RAJA'S FACE REVEAL | Choudhary Family | Vivek Choudhary | Khushi Punjaban",
         "2020-08-11T09:15:45Z",
         "UCQypnkDmsoAQaIPaycP28Xw",
         "Mr & Mrs Choudhary",
         22,
         "2020-08-12T00:00:00Z",
         "tiktok|couple|cutecouple|vivekchoudhary|khushipunjaban|corona|covid|jaat|choudhary|trendingcouple|romance",
         4356422,
         438816,
         6332,
         47039,
         "https://i.ytimg.com/vi/lw4ZqLZSBow/default.jpg",
         false,
         false
        ],
        [
         "8QiOt2oxyTQ",
         "When 10R meets NINJA H2 !!",
         "2020-08-10T08:30:01Z",
         "UCayDJ8tjhgm7TaUY9eechmA",
         "Jaysn Nation",
         22,
         "2020-08-12T00:00:00Z",
         "js films|jaysn nation|jasminder singh|js films second channel|js films delhi|ninja h2|kawasaki ninja h2",
         848286,
         58734,
         1284,
         1546,
         "https://i.ytimg.com/vi/8QiOt2oxyTQ/default.jpg",
         false,
         false
        ]
       ],
       "datasetInfos": [],
       "dbfsResultPath": null,
       "isJsonSchema": true,
       "metadata": {},
       "overflow": false,
       "plotOptions": {
        "customPlotOptions": {},
        "displayType": "table",
        "pivotAggregation": null,
        "pivotColumns": null,
        "xColumns": null,
        "yColumns": null
       },
       "removedWidgets": [],
       "schema": [
        {
         "metadata": "{}",
         "name": "video_id",
         "type": "\"string\""
        },
        {
         "metadata": "{}",
         "name": "title",
         "type": "\"string\""
        },
        {
         "metadata": "{}",
         "name": "publishedAt",
         "type": "\"timestamp\""
        },
        {
         "metadata": "{}",
         "name": "channelId",
         "type": "\"string\""
        },
        {
         "metadata": "{}",
         "name": "channelTitle",
         "type": "\"string\""
        },
        {
         "metadata": "{}",
         "name": "categoryId",
         "type": "\"integer\""
        },
        {
         "metadata": "{}",
         "name": "trending_date",
         "type": "\"timestamp\""
        },
        {
         "metadata": "{}",
         "name": "tags",
         "type": "\"string\""
        },
        {
         "metadata": "{}",
         "name": "view_count",
         "type": "\"integer\""
        },
        {
         "metadata": "{}",
         "name": "likes",
         "type": "\"integer\""
        },
        {
         "metadata": "{}",
         "name": "dislikes",
         "type": "\"integer\""
        },
        {
         "metadata": "{}",
         "name": "comment_count",
         "type": "\"integer\""
        },
        {
         "metadata": "{}",
         "name": "thumbnail_link",
         "type": "\"string\""
        },
        {
         "metadata": "{}",
         "name": "comments_disabled",
         "type": "\"boolean\""
        },
        {
         "metadata": "{}",
         "name": "ratings_disabled",
         "type": "\"boolean\""
        }
       ],
       "type": "table"
      }
     },
     "output_type": "display_data"
    }
   ],
   "source": [
    "# Sample records from cleaned data\n",
    "df.limit(10).display()"
   ]
  },
  {
   "cell_type": "markdown",
   "metadata": {
    "application/vnd.databricks.v1+cell": {
     "cellMetadata": {
      "byteLimit": 2048000,
      "rowLimit": 10000
     },
     "inputWidgets": {},
     "nuid": "f565e3c1-89f1-4afc-b135-28bf0fd4bbeb",
     "showTitle": false,
     "tableResultSettingsMap": {},
     "title": ""
    }
   },
   "source": [
    "### From JSON - Video Category Details"
   ]
  },
  {
   "cell_type": "code",
   "execution_count": 0,
   "metadata": {
    "application/vnd.databricks.v1+cell": {
     "cellMetadata": {
      "byteLimit": 2048000,
      "rowLimit": 10000
     },
     "inputWidgets": {},
     "nuid": "ead4ea9d-c250-42ce-93c9-e54749c13eac",
     "showTitle": false,
     "tableResultSettingsMap": {},
     "title": ""
    }
   },
   "outputs": [
    {
     "output_type": "stream",
     "name": "stdout",
     "output_type": "stream",
     "text": [
      "root\n |-- etag: string (nullable = true)\n |-- items: array (nullable = true)\n |    |-- element: struct (containsNull = true)\n |    |    |-- etag: string (nullable = true)\n |    |    |-- id: string (nullable = true)\n |    |    |-- kind: string (nullable = true)\n |    |    |-- snippet: struct (nullable = true)\n |    |    |    |-- assignable: boolean (nullable = true)\n |    |    |    |-- channelId: string (nullable = true)\n |    |    |    |-- title: string (nullable = true)\n |-- kind: string (nullable = true)\n\n+--------------------+--------------------+--------------------+\n|                etag|               items|                kind|\n+--------------------+--------------------+--------------------+\n|\"XI7nbFXulYBIpL0a...|[{\"XI7nbFXulYBIpL...|youtube#videoCate...|\n+--------------------+--------------------+--------------------+\n\n"
     ]
    }
   ],
   "source": [
    "# File path to the JSON file (Azure Blob Storage, DBFS, etc.)\n",
    "json_file_path = \"/FileStore/tables/IN_category_id.json\"\n",
    "\n",
    "# Read the JSON file into a DataFrame\n",
    "df_json = spark.read.option(\"multiLine\", \"true\").json(json_file_path)\n",
    "\n",
    "# Display the schema to understand the structure\n",
    "df_json.printSchema()\n",
    "df_json.show()\n"
   ]
  },
  {
   "cell_type": "code",
   "execution_count": 0,
   "metadata": {
    "application/vnd.databricks.v1+cell": {
     "cellMetadata": {
      "byteLimit": 2048000,
      "rowLimit": 10000
     },
     "inputWidgets": {},
     "nuid": "bb645df2-31e9-45d6-911a-f3be9cf7c350",
     "showTitle": false,
     "tableResultSettingsMap": {},
     "title": ""
    }
   },
   "outputs": [
    {
     "output_type": "display_data",
     "data": {
      "text/html": [
       "<style scoped>\n",
       "  .table-result-container {\n",
       "    max-height: 300px;\n",
       "    overflow: auto;\n",
       "  }\n",
       "  table, th, td {\n",
       "    border: 1px solid black;\n",
       "    border-collapse: collapse;\n",
       "  }\n",
       "  th, td {\n",
       "    padding: 5px;\n",
       "  }\n",
       "  th {\n",
       "    text-align: left;\n",
       "  }\n",
       "</style><div class='table-result-container'><table class='table-result'><thead style='background-color: white'><tr><th>root_etag</th><th>root_kind</th><th>item_etag</th><th>categoryId</th><th>item_kind</th><th>channelId</th><th>categoryName</th><th>assignable</th></tr></thead><tbody><tr><td>\"XI7nbFXulYBIpL0ayR_gDh3eu1k/1v2mrzYSYG6onNLt2qTj13hkQZk\"</td><td>youtube#videoCategoryListResponse</td><td>\"XI7nbFXulYBIpL0ayR_gDh3eu1k/Xy1mB4_yLrHy_BmKmPBggty2mZQ\"</td><td>1</td><td>youtube#videoCategory</td><td>UCBR8-60-B28hp2BmDPdntcQ</td><td>Film & Animation</td><td>true</td></tr><tr><td>\"XI7nbFXulYBIpL0ayR_gDh3eu1k/1v2mrzYSYG6onNLt2qTj13hkQZk\"</td><td>youtube#videoCategoryListResponse</td><td>\"XI7nbFXulYBIpL0ayR_gDh3eu1k/UZ1oLIIz2dxIhO45ZTFR3a3NyTA\"</td><td>2</td><td>youtube#videoCategory</td><td>UCBR8-60-B28hp2BmDPdntcQ</td><td>Autos & Vehicles</td><td>true</td></tr><tr><td>\"XI7nbFXulYBIpL0ayR_gDh3eu1k/1v2mrzYSYG6onNLt2qTj13hkQZk\"</td><td>youtube#videoCategoryListResponse</td><td>\"XI7nbFXulYBIpL0ayR_gDh3eu1k/nqRIq97-xe5XRZTxbknKFVe5Lmg\"</td><td>10</td><td>youtube#videoCategory</td><td>UCBR8-60-B28hp2BmDPdntcQ</td><td>Music</td><td>true</td></tr><tr><td>\"XI7nbFXulYBIpL0ayR_gDh3eu1k/1v2mrzYSYG6onNLt2qTj13hkQZk\"</td><td>youtube#videoCategoryListResponse</td><td>\"XI7nbFXulYBIpL0ayR_gDh3eu1k/HwXKamM1Q20q9BN-oBJavSGkfDI\"</td><td>15</td><td>youtube#videoCategory</td><td>UCBR8-60-B28hp2BmDPdntcQ</td><td>Pets & Animals</td><td>true</td></tr><tr><td>\"XI7nbFXulYBIpL0ayR_gDh3eu1k/1v2mrzYSYG6onNLt2qTj13hkQZk\"</td><td>youtube#videoCategoryListResponse</td><td>\"XI7nbFXulYBIpL0ayR_gDh3eu1k/9GQMSRjrZdHeb1OEM1XVQ9zbGec\"</td><td>17</td><td>youtube#videoCategory</td><td>UCBR8-60-B28hp2BmDPdntcQ</td><td>Sports</td><td>true</td></tr><tr><td>\"XI7nbFXulYBIpL0ayR_gDh3eu1k/1v2mrzYSYG6onNLt2qTj13hkQZk\"</td><td>youtube#videoCategoryListResponse</td><td>\"XI7nbFXulYBIpL0ayR_gDh3eu1k/FJwVpGCVZ1yiJrqZbpqe68Sy_OE\"</td><td>18</td><td>youtube#videoCategory</td><td>UCBR8-60-B28hp2BmDPdntcQ</td><td>Short Movies</td><td>false</td></tr><tr><td>\"XI7nbFXulYBIpL0ayR_gDh3eu1k/1v2mrzYSYG6onNLt2qTj13hkQZk\"</td><td>youtube#videoCategoryListResponse</td><td>\"XI7nbFXulYBIpL0ayR_gDh3eu1k/M-3iD9dwK7YJCafRf_DkLN8CouA\"</td><td>19</td><td>youtube#videoCategory</td><td>UCBR8-60-B28hp2BmDPdntcQ</td><td>Travel & Events</td><td>true</td></tr><tr><td>\"XI7nbFXulYBIpL0ayR_gDh3eu1k/1v2mrzYSYG6onNLt2qTj13hkQZk\"</td><td>youtube#videoCategoryListResponse</td><td>\"XI7nbFXulYBIpL0ayR_gDh3eu1k/WmA0qYEfjWsAoyJFSw2zinhn2wM\"</td><td>20</td><td>youtube#videoCategory</td><td>UCBR8-60-B28hp2BmDPdntcQ</td><td>Gaming</td><td>true</td></tr><tr><td>\"XI7nbFXulYBIpL0ayR_gDh3eu1k/1v2mrzYSYG6onNLt2qTj13hkQZk\"</td><td>youtube#videoCategoryListResponse</td><td>\"XI7nbFXulYBIpL0ayR_gDh3eu1k/EapFaGYG7K0StIXVf8aba249tdM\"</td><td>21</td><td>youtube#videoCategory</td><td>UCBR8-60-B28hp2BmDPdntcQ</td><td>Videoblogging</td><td>false</td></tr><tr><td>\"XI7nbFXulYBIpL0ayR_gDh3eu1k/1v2mrzYSYG6onNLt2qTj13hkQZk\"</td><td>youtube#videoCategoryListResponse</td><td>\"XI7nbFXulYBIpL0ayR_gDh3eu1k/xId8RX7vRN8rqkbYZbNIytUQDRo\"</td><td>22</td><td>youtube#videoCategory</td><td>UCBR8-60-B28hp2BmDPdntcQ</td><td>People & Blogs</td><td>true</td></tr></tbody></table></div>"
      ]
     },
     "metadata": {
      "application/vnd.databricks.v1+output": {
       "addedWidgets": {},
       "aggData": [],
       "aggError": "",
       "aggOverflow": false,
       "aggSchema": [],
       "aggSeriesLimitReached": false,
       "aggType": "",
       "arguments": {},
       "columnCustomDisplayInfos": {},
       "data": [
        [
         "\"XI7nbFXulYBIpL0ayR_gDh3eu1k/1v2mrzYSYG6onNLt2qTj13hkQZk\"",
         "youtube#videoCategoryListResponse",
         "\"XI7nbFXulYBIpL0ayR_gDh3eu1k/Xy1mB4_yLrHy_BmKmPBggty2mZQ\"",
         "1",
         "youtube#videoCategory",
         "UCBR8-60-B28hp2BmDPdntcQ",
         "Film & Animation",
         true
        ],
        [
         "\"XI7nbFXulYBIpL0ayR_gDh3eu1k/1v2mrzYSYG6onNLt2qTj13hkQZk\"",
         "youtube#videoCategoryListResponse",
         "\"XI7nbFXulYBIpL0ayR_gDh3eu1k/UZ1oLIIz2dxIhO45ZTFR3a3NyTA\"",
         "2",
         "youtube#videoCategory",
         "UCBR8-60-B28hp2BmDPdntcQ",
         "Autos & Vehicles",
         true
        ],
        [
         "\"XI7nbFXulYBIpL0ayR_gDh3eu1k/1v2mrzYSYG6onNLt2qTj13hkQZk\"",
         "youtube#videoCategoryListResponse",
         "\"XI7nbFXulYBIpL0ayR_gDh3eu1k/nqRIq97-xe5XRZTxbknKFVe5Lmg\"",
         "10",
         "youtube#videoCategory",
         "UCBR8-60-B28hp2BmDPdntcQ",
         "Music",
         true
        ],
        [
         "\"XI7nbFXulYBIpL0ayR_gDh3eu1k/1v2mrzYSYG6onNLt2qTj13hkQZk\"",
         "youtube#videoCategoryListResponse",
         "\"XI7nbFXulYBIpL0ayR_gDh3eu1k/HwXKamM1Q20q9BN-oBJavSGkfDI\"",
         "15",
         "youtube#videoCategory",
         "UCBR8-60-B28hp2BmDPdntcQ",
         "Pets & Animals",
         true
        ],
        [
         "\"XI7nbFXulYBIpL0ayR_gDh3eu1k/1v2mrzYSYG6onNLt2qTj13hkQZk\"",
         "youtube#videoCategoryListResponse",
         "\"XI7nbFXulYBIpL0ayR_gDh3eu1k/9GQMSRjrZdHeb1OEM1XVQ9zbGec\"",
         "17",
         "youtube#videoCategory",
         "UCBR8-60-B28hp2BmDPdntcQ",
         "Sports",
         true
        ],
        [
         "\"XI7nbFXulYBIpL0ayR_gDh3eu1k/1v2mrzYSYG6onNLt2qTj13hkQZk\"",
         "youtube#videoCategoryListResponse",
         "\"XI7nbFXulYBIpL0ayR_gDh3eu1k/FJwVpGCVZ1yiJrqZbpqe68Sy_OE\"",
         "18",
         "youtube#videoCategory",
         "UCBR8-60-B28hp2BmDPdntcQ",
         "Short Movies",
         false
        ],
        [
         "\"XI7nbFXulYBIpL0ayR_gDh3eu1k/1v2mrzYSYG6onNLt2qTj13hkQZk\"",
         "youtube#videoCategoryListResponse",
         "\"XI7nbFXulYBIpL0ayR_gDh3eu1k/M-3iD9dwK7YJCafRf_DkLN8CouA\"",
         "19",
         "youtube#videoCategory",
         "UCBR8-60-B28hp2BmDPdntcQ",
         "Travel & Events",
         true
        ],
        [
         "\"XI7nbFXulYBIpL0ayR_gDh3eu1k/1v2mrzYSYG6onNLt2qTj13hkQZk\"",
         "youtube#videoCategoryListResponse",
         "\"XI7nbFXulYBIpL0ayR_gDh3eu1k/WmA0qYEfjWsAoyJFSw2zinhn2wM\"",
         "20",
         "youtube#videoCategory",
         "UCBR8-60-B28hp2BmDPdntcQ",
         "Gaming",
         true
        ],
        [
         "\"XI7nbFXulYBIpL0ayR_gDh3eu1k/1v2mrzYSYG6onNLt2qTj13hkQZk\"",
         "youtube#videoCategoryListResponse",
         "\"XI7nbFXulYBIpL0ayR_gDh3eu1k/EapFaGYG7K0StIXVf8aba249tdM\"",
         "21",
         "youtube#videoCategory",
         "UCBR8-60-B28hp2BmDPdntcQ",
         "Videoblogging",
         false
        ],
        [
         "\"XI7nbFXulYBIpL0ayR_gDh3eu1k/1v2mrzYSYG6onNLt2qTj13hkQZk\"",
         "youtube#videoCategoryListResponse",
         "\"XI7nbFXulYBIpL0ayR_gDh3eu1k/xId8RX7vRN8rqkbYZbNIytUQDRo\"",
         "22",
         "youtube#videoCategory",
         "UCBR8-60-B28hp2BmDPdntcQ",
         "People & Blogs",
         true
        ]
       ],
       "datasetInfos": [],
       "dbfsResultPath": null,
       "isJsonSchema": true,
       "metadata": {},
       "overflow": false,
       "plotOptions": {
        "customPlotOptions": {},
        "displayType": "table",
        "pivotAggregation": null,
        "pivotColumns": null,
        "xColumns": null,
        "yColumns": null
       },
       "removedWidgets": [],
       "schema": [
        {
         "metadata": "{}",
         "name": "root_etag",
         "type": "\"string\""
        },
        {
         "metadata": "{}",
         "name": "root_kind",
         "type": "\"string\""
        },
        {
         "metadata": "{}",
         "name": "item_etag",
         "type": "\"string\""
        },
        {
         "metadata": "{}",
         "name": "categoryId",
         "type": "\"string\""
        },
        {
         "metadata": "{}",
         "name": "item_kind",
         "type": "\"string\""
        },
        {
         "metadata": "{}",
         "name": "channelId",
         "type": "\"string\""
        },
        {
         "metadata": "{}",
         "name": "categoryName",
         "type": "\"string\""
        },
        {
         "metadata": "{}",
         "name": "assignable",
         "type": "\"boolean\""
        }
       ],
       "type": "table"
      }
     },
     "output_type": "display_data"
    }
   ],
   "source": [
    "from pyspark.sql.functions import col, explode\n",
    "\n",
    "#  Explode the 'items' array and flatten all nested columns\n",
    "df_flat = df_json.withColumn(\"item\", explode(col(\"items\"))).select(\n",
    "    col(\"etag\").alias(\"root_etag\"),\n",
    "    col(\"kind\").alias(\"root_kind\"),\n",
    "    col(\"item.etag\").alias(\"item_etag\"),\n",
    "    col(\"item.id\").alias(\"categoryId\"),\n",
    "    col(\"item.kind\").alias(\"item_kind\"),\n",
    "    col(\"item.snippet.channelId\").alias(\"channelId\"),\n",
    "    col(\"item.snippet.title\").alias(\"categoryName\"),\n",
    "    col(\"item.snippet.assignable\").alias(\"assignable\")\n",
    ")\n",
    "\n",
    "#  Show the flattened DataFrame\n",
    "df_flat.limit(10).display(truncate=False)"
   ]
  },
  {
   "cell_type": "markdown",
   "metadata": {
    "application/vnd.databricks.v1+cell": {
     "cellMetadata": {
      "byteLimit": 2048000,
      "rowLimit": 10000
     },
     "inputWidgets": {},
     "nuid": "d9736e86-a278-4d8f-96df-a831681f16f4",
     "showTitle": false,
     "tableResultSettingsMap": {},
     "title": ""
    }
   },
   "source": [
    "## Filter necessary columns / features from Video category data"
   ]
  },
  {
   "cell_type": "code",
   "execution_count": 0,
   "metadata": {
    "application/vnd.databricks.v1+cell": {
     "cellMetadata": {
      "byteLimit": 2048000,
      "rowLimit": 10000
     },
     "inputWidgets": {},
     "nuid": "cacd1b4a-5b26-46b4-a1c0-fc426ee1c699",
     "showTitle": false,
     "tableResultSettingsMap": {},
     "title": ""
    }
   },
   "outputs": [],
   "source": [
    "json_required=df_flat.select(\"categoryId\",\"categoryName\")"
   ]
  },
  {
   "cell_type": "markdown",
   "metadata": {
    "application/vnd.databricks.v1+cell": {
     "cellMetadata": {
      "byteLimit": 2048000,
      "rowLimit": 10000
     },
     "inputWidgets": {},
     "nuid": "c7d49e4c-d820-4555-9ab0-bac718d7df20",
     "showTitle": false,
     "tableResultSettingsMap": {},
     "title": ""
    }
   },
   "source": [
    "## Perform inner join on both dataframes"
   ]
  },
  {
   "cell_type": "code",
   "execution_count": 0,
   "metadata": {
    "application/vnd.databricks.v1+cell": {
     "cellMetadata": {
      "byteLimit": 2048000,
      "rowLimit": 10000
     },
     "inputWidgets": {},
     "nuid": "b3d194b9-ab75-44db-9c42-39c6275217b5",
     "showTitle": false,
     "tableResultSettingsMap": {},
     "title": ""
    }
   },
   "outputs": [],
   "source": [
    "joined_df = df.join(json_required, on=\"categoryId\", how=\"inner\")"
   ]
  },
  {
   "cell_type": "markdown",
   "metadata": {
    "application/vnd.databricks.v1+cell": {
     "cellMetadata": {
      "byteLimit": 2048000,
      "rowLimit": 10000
     },
     "inputWidgets": {},
     "nuid": "d93bd884-8abc-498e-b6f3-b56ca892f509",
     "showTitle": false,
     "tableResultSettingsMap": {},
     "title": ""
    }
   },
   "source": [
    "## visualizations on the youtube data"
   ]
  },
  {
   "cell_type": "markdown",
   "metadata": {
    "application/vnd.databricks.v1+cell": {
     "cellMetadata": {
      "byteLimit": 2048000,
      "rowLimit": 10000
     },
     "inputWidgets": {},
     "nuid": "b8370664-f9d5-4865-bcfd-31c6ecc59f08",
     "showTitle": false,
     "tableResultSettingsMap": {},
     "title": ""
    }
   },
   "source": [
    "### Total Views per Category\n",
    "Total views grouped by categoryName."
   ]
  },
  {
   "cell_type": "code",
   "execution_count": 0,
   "metadata": {
    "application/vnd.databricks.v1+cell": {
     "cellMetadata": {
      "byteLimit": 2048000,
      "rowLimit": 10000
     },
     "inputWidgets": {},
     "nuid": "5f56be78-abaa-4fad-b7f1-fd41858a9b4b",
     "showTitle": false,
     "tableResultSettingsMap": {},
     "title": ""
    }
   },
   "outputs": [
    {
     "output_type": "display_data",
     "data": {
      "text/html": [
       "<style scoped>\n",
       "  .table-result-container {\n",
       "    max-height: 300px;\n",
       "    overflow: auto;\n",
       "  }\n",
       "  table, th, td {\n",
       "    border: 1px solid black;\n",
       "    border-collapse: collapse;\n",
       "  }\n",
       "  th, td {\n",
       "    padding: 5px;\n",
       "  }\n",
       "  th {\n",
       "    text-align: left;\n",
       "  }\n",
       "</style><div class='table-result-container'><table class='table-result'><thead style='background-color: white'><tr><th>categoryName</th><th>TotalViews</th></tr></thead><tbody><tr><td>Education</td><td>2693829320</td></tr><tr><td>Gaming</td><td>13261120319</td></tr><tr><td>Entertainment</td><td>43096384207</td></tr><tr><td>Travel & Events</td><td>1079335152</td></tr><tr><td>Science & Technology</td><td>9950729703</td></tr><tr><td>Sports</td><td>2166794614</td></tr><tr><td>Howto & Style</td><td>2666180357</td></tr><tr><td>Film & Animation</td><td>2627776729</td></tr><tr><td>People & Blogs</td><td>34732366388</td></tr><tr><td>News & Politics</td><td>406702851</td></tr><tr><td>Autos & Vehicles</td><td>179844562</td></tr><tr><td>Music</td><td>35948838493</td></tr><tr><td>Comedy</td><td>13289559943</td></tr><tr><td>Pets & Animals</td><td>282037884</td></tr></tbody></table></div>"
      ]
     },
     "metadata": {
      "application/vnd.databricks.v1+output": {
       "addedWidgets": {},
       "aggData": [],
       "aggError": "",
       "aggOverflow": false,
       "aggSchema": [],
       "aggSeriesLimitReached": false,
       "aggType": "",
       "arguments": {},
       "columnCustomDisplayInfos": {},
       "data": [
        [
         "Education",
         2693829320
        ],
        [
         "Gaming",
         13261120319
        ],
        [
         "Entertainment",
         43096384207
        ],
        [
         "Travel & Events",
         1079335152
        ],
        [
         "Science & Technology",
         9950729703
        ],
        [
         "Sports",
         2166794614
        ],
        [
         "Howto & Style",
         2666180357
        ],
        [
         "Film & Animation",
         2627776729
        ],
        [
         "People & Blogs",
         34732366388
        ],
        [
         "News & Politics",
         406702851
        ],
        [
         "Autos & Vehicles",
         179844562
        ],
        [
         "Music",
         35948838493
        ],
        [
         "Comedy",
         13289559943
        ],
        [
         "Pets & Animals",
         282037884
        ]
       ],
       "datasetInfos": [],
       "dbfsResultPath": null,
       "isJsonSchema": true,
       "metadata": {},
       "overflow": false,
       "plotOptions": {
        "customPlotOptions": {},
        "displayType": "table",
        "pivotAggregation": null,
        "pivotColumns": null,
        "xColumns": null,
        "yColumns": null
       },
       "removedWidgets": [],
       "schema": [
        {
         "metadata": "{}",
         "name": "categoryName",
         "type": "\"string\""
        },
        {
         "metadata": "{}",
         "name": "TotalViews",
         "type": "\"long\""
        }
       ],
       "type": "table"
      }
     },
     "output_type": "display_data"
    },
    {
     "output_type": "display_data",
     "data": {
      "text/plain": [
       "Databricks visualization. Run in Databricks to view."
      ]
     },
     "metadata": {
      "application/vnd.databricks.v1.subcommand+json": {
       "baseErrorDetails": null,
       "bindings": {},
       "collapsed": false,
       "command": "%python\n__backend_agg_display_orig = display\n__backend_agg_dfs = []\ndef __backend_agg_display_new(df):\n    __backend_agg_df_modules = [\"pandas.core.frame\", \"databricks.koalas.frame\", \"pyspark.sql.dataframe\", \"pyspark.pandas.frame\", \"pyspark.sql.connect.dataframe\"]\n    if (type(df).__module__ in __backend_agg_df_modules and type(df).__name__ == 'DataFrame') or isinstance(df, list):\n        __backend_agg_dfs.append(df)\n\ndisplay = __backend_agg_display_new\n\ndef __backend_agg_user_code_fn():\n    import base64\n    exec(base64.standard_b64decode(\"ZnJvbSBweXNwYXJrLnNxbC5mdW5jdGlvbnMgaW1wb3J0IGNvbCwgc3VtCgojIEFnZ3JlZ2F0ZSB0b3RhbCB2aWV3cyBwZXIgY2F0ZWdvcnkKdmlld3NfcGVyX2NhdGVnb3J5ID0gam9pbmVkX2RmLmdyb3VwQnkoImNhdGVnb3J5TmFtZSIpLmFnZyhzdW0oInZpZXdfY291bnQiKS5hbGlhcygiVG90YWxWaWV3cyIpKQp2aWV3c19wZXJfY2F0ZWdvcnkuZGlzcGxheSgp\").decode())\n\ntry:\n    # run user code\n    __backend_agg_user_code_fn()\n\n    #reset display function\n    display = __backend_agg_display_orig\n\n    if len(__backend_agg_dfs) > 0:\n        # create a temp view\n        if type(__backend_agg_dfs[0]).__module__ == \"databricks.koalas.frame\":\n            # koalas dataframe\n            __backend_agg_dfs[0].to_spark().createOrReplaceTempView(\"DatabricksView4686d0a\")\n        elif type(__backend_agg_dfs[0]).__module__ == \"pandas.core.frame\" or isinstance(__backend_agg_dfs[0], list):\n            # pandas dataframe\n            spark.createDataFrame(__backend_agg_dfs[0]).createOrReplaceTempView(\"DatabricksView4686d0a\")\n        else:\n            __backend_agg_dfs[0].createOrReplaceTempView(\"DatabricksView4686d0a\")\n        #run backend agg\n        display(spark.sql(\"\"\"WITH q AS (select * from DatabricksView4686d0a) SELECT `categoryName`,SUM(`TotalViews`) `column_f225be3678` FROM q GROUP BY `categoryName`\"\"\"))\n    else:\n        displayHTML(\"dataframe no longer exists. If you're using dataframe.display(), use display(dataframe) instead.\")\n\n\nfinally:\n    spark.sql(\"drop view if exists DatabricksView4686d0a\")\n    display = __backend_agg_display_orig\n    del __backend_agg_display_new\n    del __backend_agg_display_orig\n    del __backend_agg_dfs\n    del __backend_agg_user_code_fn\n\n",
       "commandTitle": "Visualization 1",
       "commandType": "auto",
       "commandVersion": 0,
       "commentThread": [],
       "commentsVisible": false,
       "contentSha256Hex": null,
       "customPlotOptions": {
        "redashChart": [
         {
          "key": "type",
          "value": "CHART"
         },
         {
          "key": "options",
          "value": {
           "alignYAxesAtZero": true,
           "coefficient": 1,
           "columnConfigurationMap": {
            "x": {
             "column": "categoryName",
             "id": "column_f225be3677"
            },
            "y": [
             {
              "column": "TotalViews",
              "id": "column_f225be3678",
              "transform": "SUM"
             }
            ]
           },
           "dateTimeFormat": "DD/MM/YYYY HH:mm",
           "direction": {
            "type": "counterclockwise"
           },
           "error_y": {
            "type": "data",
            "visible": true
           },
           "globalSeriesType": "column",
           "isAggregationOn": true,
           "legend": {
            "traceorder": "normal"
           },
           "missingValuesAsZero": true,
           "numberFormat": "0,0.[00000]",
           "percentFormat": "0[.]00%",
           "series": {
            "error_y": {
             "type": "data",
             "visible": true
            },
            "stacking": null
           },
           "seriesOptions": {
            "column_f225be3678": {
             "color": "#00A972",
             "name": "TotalViews",
             "yAxis": 0
            }
           },
           "showDataLabels": false,
           "sizemode": "diameter",
           "sortX": true,
           "sortY": true,
           "swappedAxes": true,
           "textFormat": "",
           "useAggregationsUi": true,
           "valuesOptions": {},
           "version": 2,
           "xAxis": {
            "labels": {
             "enabled": true
            },
            "type": "-"
           },
           "yAxis": [
            {
             "type": "-"
            },
            {
             "opposite": true,
             "type": "-"
            }
           ]
          }
         }
        ]
       },
       "datasetPreviewNameToCmdIdMap": {},
       "diffDeletes": [],
       "diffInserts": [],
       "displayType": "redashChart",
       "error": null,
       "errorDetails": null,
       "errorSummary": null,
       "errorTraceType": null,
       "finishTime": 0,
       "globalVars": {},
       "guid": "",
       "height": "auto",
       "hideCommandCode": false,
       "hideCommandResult": false,
       "iPythonMetadata": null,
       "inputWidgets": {},
       "isLockedInExamMode": false,
       "latestUser": "a user",
       "latestUserId": null,
       "listResultMetadata": null,
       "metadata": {
        "byteLimit": 2048000,
        "rowLimit": 10000
       },
       "nuid": "952eb739-f344-45fb-8af9-ac3cd97a7479",
       "origId": 0,
       "parentHierarchy": [],
       "pivotAggregation": null,
       "pivotColumns": null,
       "position": 11.0,
       "resultDbfsErrorMessage": null,
       "resultDbfsStatus": "INLINED_IN_TREE",
       "results": null,
       "showCommandTitle": false,
       "startTime": 0,
       "state": "finished",
       "streamStates": {},
       "subcommandOptions": {
        "queryPlan": {
         "groups": [
          {
           "column": "categoryName",
           "type": "column"
          }
         ],
         "selects": [
          {
           "column": "categoryName",
           "type": "column"
          },
          {
           "alias": "column_f225be3678",
           "args": [
            {
             "column": "TotalViews",
             "type": "column"
            }
           ],
           "function": "SUM",
           "type": "function"
          }
         ]
        }
       },
       "submitTime": 0,
       "subtype": "tableResultSubCmd.visualization",
       "tableResultIndex": 0,
       "tableResultSettingsMap": {},
       "useConsistentColors": false,
       "version": "CommandV1",
       "width": "auto",
       "workflows": [],
       "xColumns": null,
       "yColumns": null
      }
     },
     "output_type": "display_data"
    },
    {
     "output_type": "display_data",
     "data": {
      "text/plain": [
       "Databricks visualization. Run in Databricks to view."
      ]
     },
     "metadata": {
      "application/vnd.databricks.v1.subcommand+json": {
       "baseErrorDetails": null,
       "bindings": {},
       "collapsed": false,
       "command": "%python\n__backend_agg_display_orig = display\n__backend_agg_dfs = []\ndef __backend_agg_display_new(df):\n    __backend_agg_df_modules = [\"pandas.core.frame\", \"databricks.koalas.frame\", \"pyspark.sql.dataframe\", \"pyspark.pandas.frame\", \"pyspark.sql.connect.dataframe\"]\n    if (type(df).__module__ in __backend_agg_df_modules and type(df).__name__ == 'DataFrame') or isinstance(df, list):\n        __backend_agg_dfs.append(df)\n\ndisplay = __backend_agg_display_new\n\ndef __backend_agg_user_code_fn():\n    import base64\n    exec(base64.standard_b64decode(\"ZnJvbSBweXNwYXJrLnNxbC5mdW5jdGlvbnMgaW1wb3J0IGNvbCwgc3VtCgojIEFnZ3JlZ2F0ZSB0b3RhbCB2aWV3cyBwZXIgY2F0ZWdvcnkKdmlld3NfcGVyX2NhdGVnb3J5ID0gam9pbmVkX2RmLmdyb3VwQnkoImNhdGVnb3J5TmFtZSIpLmFnZyhzdW0oInZpZXdfY291bnQiKS5hbGlhcygiVG90YWxWaWV3cyIpKQp2aWV3c19wZXJfY2F0ZWdvcnkuZGlzcGxheSgp\").decode())\n\ntry:\n    # run user code\n    __backend_agg_user_code_fn()\n\n    #reset display function\n    display = __backend_agg_display_orig\n\n    if len(__backend_agg_dfs) > 0:\n        # create a temp view\n        if type(__backend_agg_dfs[0]).__module__ == \"databricks.koalas.frame\":\n            # koalas dataframe\n            __backend_agg_dfs[0].to_spark().createOrReplaceTempView(\"DatabricksView2b2767e\")\n        elif type(__backend_agg_dfs[0]).__module__ == \"pandas.core.frame\" or isinstance(__backend_agg_dfs[0], list):\n            # pandas dataframe\n            spark.createDataFrame(__backend_agg_dfs[0]).createOrReplaceTempView(\"DatabricksView2b2767e\")\n        else:\n            __backend_agg_dfs[0].createOrReplaceTempView(\"DatabricksView2b2767e\")\n        #run backend agg\n        display(spark.sql(\"\"\"WITH q AS (select * from DatabricksView2b2767e) SELECT `categoryName`,SUM(`TotalViews`) `column_f225be3680` FROM q GROUP BY `categoryName`\"\"\"))\n    else:\n        displayHTML(\"dataframe no longer exists. If you're using dataframe.display(), use display(dataframe) instead.\")\n\n\nfinally:\n    spark.sql(\"drop view if exists DatabricksView2b2767e\")\n    display = __backend_agg_display_orig\n    del __backend_agg_display_new\n    del __backend_agg_display_orig\n    del __backend_agg_dfs\n    del __backend_agg_user_code_fn\n\n",
       "commandTitle": "Visualization 2",
       "commandType": "auto",
       "commandVersion": 0,
       "commentThread": [],
       "commentsVisible": false,
       "contentSha256Hex": null,
       "customPlotOptions": {
        "redashChart": [
         {
          "key": "type",
          "value": "CHART"
         },
         {
          "key": "options",
          "value": {
           "alignYAxesAtZero": true,
           "coefficient": 1,
           "columnConfigurationMap": {
            "x": {
             "column": "categoryName",
             "id": "column_f225be3679"
            },
            "y": [
             {
              "column": "TotalViews",
              "id": "column_f225be3680",
              "transform": "SUM"
             }
            ]
           },
           "dateTimeFormat": "DD/MM/YYYY HH:mm",
           "direction": {
            "type": "counterclockwise"
           },
           "error_y": {
            "type": "data",
            "visible": true
           },
           "globalSeriesType": "pie",
           "legend": {
            "traceorder": "normal"
           },
           "missingValuesAsZero": true,
           "numberFormat": "0,0.[00000]",
           "percentFormat": "0[.]00%",
           "series": {
            "error_y": {
             "type": "data",
             "visible": true
            },
            "stacking": null
           },
           "seriesOptions": {
            "column_f225be3680": {
             "name": "TotalViews",
             "type": "pie",
             "yAxis": 0
            }
           },
           "showDataLabels": true,
           "sizemode": "diameter",
           "sortX": true,
           "sortY": true,
           "swappedAxes": false,
           "textFormat": "",
           "useAggregationsUi": true,
           "valuesOptions": {},
           "version": 2,
           "xAxis": {
            "labels": {
             "enabled": true
            },
            "type": "-"
           },
           "yAxis": [
            {
             "type": "-"
            },
            {
             "opposite": true,
             "type": "-"
            }
           ]
          }
         }
        ]
       },
       "datasetPreviewNameToCmdIdMap": {},
       "diffDeletes": [],
       "diffInserts": [],
       "displayType": "redashChart",
       "error": null,
       "errorDetails": null,
       "errorSummary": null,
       "errorTraceType": null,
       "finishTime": 0,
       "globalVars": {},
       "guid": "",
       "height": "auto",
       "hideCommandCode": false,
       "hideCommandResult": false,
       "iPythonMetadata": null,
       "inputWidgets": {},
       "isLockedInExamMode": false,
       "latestUser": "a user",
       "latestUserId": null,
       "listResultMetadata": null,
       "metadata": {
        "byteLimit": 2048000,
        "rowLimit": 10000
       },
       "nuid": "13327352-d0e3-47b7-8b02-4baf998d41d4",
       "origId": 0,
       "parentHierarchy": [],
       "pivotAggregation": null,
       "pivotColumns": null,
       "position": 12.0,
       "resultDbfsErrorMessage": null,
       "resultDbfsStatus": "INLINED_IN_TREE",
       "results": null,
       "showCommandTitle": false,
       "startTime": 0,
       "state": "finished",
       "streamStates": {},
       "subcommandOptions": {
        "queryPlan": {
         "groups": [
          {
           "column": "categoryName",
           "type": "column"
          }
         ],
         "selects": [
          {
           "column": "categoryName",
           "type": "column"
          },
          {
           "alias": "column_f225be3680",
           "args": [
            {
             "column": "TotalViews",
             "type": "column"
            }
           ],
           "function": "SUM",
           "type": "function"
          }
         ]
        }
       },
       "submitTime": 0,
       "subtype": "tableResultSubCmd.visualization",
       "tableResultIndex": 0,
       "tableResultSettingsMap": {},
       "useConsistentColors": false,
       "version": "CommandV1",
       "width": "auto",
       "workflows": [],
       "xColumns": null,
       "yColumns": null
      }
     },
     "output_type": "display_data"
    }
   ],
   "source": [
    "from pyspark.sql.functions import col, sum\n",
    "\n",
    "# Aggregate total views per category\n",
    "views_per_category = joined_df.groupBy(\"categoryName\").agg(sum(\"view_count\").alias(\"TotalViews\"))\n",
    "views_per_category.display()"
   ]
  },
  {
   "cell_type": "markdown",
   "metadata": {
    "application/vnd.databricks.v1+cell": {
     "cellMetadata": {
      "byteLimit": 2048000,
      "rowLimit": 10000
     },
     "inputWidgets": {},
     "nuid": "7127bec8-852a-43df-9da5-8190aa49eea5",
     "showTitle": false,
     "tableResultSettingsMap": {},
     "title": ""
    }
   },
   "source": [
    "### Most Commented Videos\n",
    "Top 10 videos with the highest number of comments (title vs. comment count)."
   ]
  },
  {
   "cell_type": "code",
   "execution_count": 0,
   "metadata": {
    "application/vnd.databricks.v1+cell": {
     "cellMetadata": {
      "byteLimit": 2048000,
      "rowLimit": 10000
     },
     "inputWidgets": {},
     "nuid": "a044ebc1-fe47-4dd1-8243-6ea16b7523ac",
     "showTitle": false,
     "tableResultSettingsMap": {},
     "title": ""
    }
   },
   "outputs": [
    {
     "output_type": "display_data",
     "data": {
      "text/html": [
       "<style scoped>\n",
       "  .table-result-container {\n",
       "    max-height: 300px;\n",
       "    overflow: auto;\n",
       "  }\n",
       "  table, th, td {\n",
       "    border: 1px solid black;\n",
       "    border-collapse: collapse;\n",
       "  }\n",
       "  th, td {\n",
       "    padding: 5px;\n",
       "  }\n",
       "  th {\n",
       "    text-align: left;\n",
       "  }\n",
       "</style><div class='table-result-container'><table class='table-result'><thead style='background-color: white'><tr><th>title</th><th>comment_count</th></tr></thead><tbody><tr><td>BTS (방탄소년단) 'Butter' Official MV</td><td>5987748</td></tr><tr><td>BTS (방탄소년단) 'Dynamite' Official MV</td><td>5748648</td></tr><tr><td>BTS (방탄소년단) 'Butter' Official MV</td><td>5594561</td></tr><tr><td>BTS (방탄소년단) 'Dynamite' Official MV</td><td>5452105</td></tr><tr><td>BTS (방탄소년단) 'Dynamite' Official MV</td><td>4907583</td></tr><tr><td>BTS (방탄소년단) 'Life Goes On' Official MV</td><td>3913022</td></tr><tr><td>BTS (방탄소년단) 'Life Goes On' Official MV</td><td>3411213</td></tr><tr><td>BTS (방탄소년단) 'Butter' Official MV</td><td>3400420</td></tr><tr><td>BLACKPINK - ‘Pink Venom’ M/V</td><td>2962302</td></tr><tr><td>GAME  (Full Video)  Shooter Kahlon | Sidhu Moose Wala | Hunny PK Films | Gold Media | 5911 Records</td><td>2887151</td></tr></tbody></table></div>"
      ]
     },
     "metadata": {
      "application/vnd.databricks.v1+output": {
       "addedWidgets": {},
       "aggData": [],
       "aggError": "",
       "aggOverflow": false,
       "aggSchema": [],
       "aggSeriesLimitReached": false,
       "aggType": "",
       "arguments": {},
       "columnCustomDisplayInfos": {},
       "data": [
        [
         "BTS (방탄소년단) 'Butter' Official MV",
         5987748
        ],
        [
         "BTS (방탄소년단) 'Dynamite' Official MV",
         5748648
        ],
        [
         "BTS (방탄소년단) 'Butter' Official MV",
         5594561
        ],
        [
         "BTS (방탄소년단) 'Dynamite' Official MV",
         5452105
        ],
        [
         "BTS (방탄소년단) 'Dynamite' Official MV",
         4907583
        ],
        [
         "BTS (방탄소년단) 'Life Goes On' Official MV",
         3913022
        ],
        [
         "BTS (방탄소년단) 'Life Goes On' Official MV",
         3411213
        ],
        [
         "BTS (방탄소년단) 'Butter' Official MV",
         3400420
        ],
        [
         "BLACKPINK - ‘Pink Venom’ M/V",
         2962302
        ],
        [
         "GAME  (Full Video)  Shooter Kahlon | Sidhu Moose Wala | Hunny PK Films | Gold Media | 5911 Records",
         2887151
        ]
       ],
       "datasetInfos": [],
       "dbfsResultPath": null,
       "isJsonSchema": true,
       "metadata": {},
       "overflow": false,
       "plotOptions": {
        "customPlotOptions": {},
        "displayType": "table",
        "pivotAggregation": null,
        "pivotColumns": null,
        "xColumns": null,
        "yColumns": null
       },
       "removedWidgets": [],
       "schema": [
        {
         "metadata": "{}",
         "name": "title",
         "type": "\"string\""
        },
        {
         "metadata": "{}",
         "name": "comment_count",
         "type": "\"integer\""
        }
       ],
       "type": "table"
      }
     },
     "output_type": "display_data"
    },
    {
     "output_type": "display_data",
     "data": {
      "text/plain": [
       "Databricks visualization. Run in Databricks to view."
      ]
     },
     "metadata": {
      "application/vnd.databricks.v1.subcommand+json": {
       "baseErrorDetails": null,
       "bindings": {},
       "collapsed": false,
       "command": "%python\n__backend_agg_display_orig = display\n__backend_agg_dfs = []\ndef __backend_agg_display_new(df):\n    __backend_agg_df_modules = [\"pandas.core.frame\", \"databricks.koalas.frame\", \"pyspark.sql.dataframe\", \"pyspark.pandas.frame\", \"pyspark.sql.connect.dataframe\"]\n    if (type(df).__module__ in __backend_agg_df_modules and type(df).__name__ == 'DataFrame') or isinstance(df, list):\n        __backend_agg_dfs.append(df)\n\ndisplay = __backend_agg_display_new\n\ndef __backend_agg_user_code_fn():\n    import base64\n    exec(base64.standard_b64decode(\"bW9zdF9jb21tZW50ZWQgPSBqb2luZWRfZGYub3JkZXJCeShjb2woImNvbW1lbnRfY291bnQiKS5kZXNjKCkpLnNlbGVjdCgidGl0bGUiLCAiY29tbWVudF9jb3VudCIpLmxpbWl0KDEwKQptb3N0X2NvbW1lbnRlZC5kaXNwbGF5KCk=\").decode())\n\ntry:\n    # run user code\n    __backend_agg_user_code_fn()\n\n    #reset display function\n    display = __backend_agg_display_orig\n\n    if len(__backend_agg_dfs) > 0:\n        # create a temp view\n        if type(__backend_agg_dfs[0]).__module__ == \"databricks.koalas.frame\":\n            # koalas dataframe\n            __backend_agg_dfs[0].to_spark().createOrReplaceTempView(\"DatabricksView03947c5\")\n        elif type(__backend_agg_dfs[0]).__module__ == \"pandas.core.frame\" or isinstance(__backend_agg_dfs[0], list):\n            # pandas dataframe\n            spark.createDataFrame(__backend_agg_dfs[0]).createOrReplaceTempView(\"DatabricksView03947c5\")\n        else:\n            __backend_agg_dfs[0].createOrReplaceTempView(\"DatabricksView03947c5\")\n        #run backend agg\n        display(spark.sql(\"\"\"WITH q AS (select * from DatabricksView03947c5) SELECT `title`,SUM(`comment_count`) `column_f225be3687` FROM q GROUP BY `title`\"\"\"))\n    else:\n        displayHTML(\"dataframe no longer exists. If you're using dataframe.display(), use display(dataframe) instead.\")\n\n\nfinally:\n    spark.sql(\"drop view if exists DatabricksView03947c5\")\n    display = __backend_agg_display_orig\n    del __backend_agg_display_new\n    del __backend_agg_display_orig\n    del __backend_agg_dfs\n    del __backend_agg_user_code_fn\n\n",
       "commandTitle": "Visualization 2",
       "commandType": "auto",
       "commandVersion": 0,
       "commentThread": [],
       "commentsVisible": false,
       "contentSha256Hex": null,
       "customPlotOptions": {
        "redashChart": [
         {
          "key": "type",
          "value": "CHART"
         },
         {
          "key": "options",
          "value": {
           "alignYAxesAtZero": true,
           "coefficient": 1,
           "columnConfigurationMap": {
            "x": {
             "column": "title",
             "id": "column_f225be3686"
            },
            "y": [
             {
              "column": "comment_count",
              "id": "column_f225be3687",
              "transform": "SUM"
             }
            ]
           },
           "dateTimeFormat": "DD/MM/YYYY HH:mm",
           "direction": {
            "type": "counterclockwise"
           },
           "error_y": {
            "type": "data",
            "visible": true
           },
           "globalSeriesType": "column",
           "legend": {
            "traceorder": "normal"
           },
           "missingValuesAsZero": true,
           "numberFormat": "0,0.[00000]",
           "percentFormat": "0[.]00%",
           "series": {
            "error_y": {
             "type": "data",
             "visible": true
            },
            "stacking": null
           },
           "seriesOptions": {
            "column_f225be3687": {
             "name": "comment_count",
             "yAxis": 0
            }
           },
           "showDataLabels": false,
           "sizemode": "diameter",
           "sortX": true,
           "sortY": true,
           "swappedAxes": true,
           "textFormat": "",
           "useAggregationsUi": true,
           "valuesOptions": {},
           "version": 2,
           "xAxis": {
            "labels": {
             "enabled": true
            },
            "type": "-"
           },
           "yAxis": [
            {
             "type": "-"
            },
            {
             "opposite": true,
             "type": "-"
            }
           ]
          }
         }
        ]
       },
       "datasetPreviewNameToCmdIdMap": {},
       "diffDeletes": [],
       "diffInserts": [],
       "displayType": "redashChart",
       "error": null,
       "errorDetails": null,
       "errorSummary": null,
       "errorTraceType": null,
       "finishTime": 0,
       "globalVars": {},
       "guid": "",
       "height": "auto",
       "hideCommandCode": false,
       "hideCommandResult": false,
       "iPythonMetadata": null,
       "inputWidgets": {},
       "isLockedInExamMode": false,
       "latestUser": "a user",
       "latestUserId": null,
       "listResultMetadata": null,
       "metadata": {
        "byteLimit": 2048000,
        "rowLimit": 10000
       },
       "nuid": "3dca77d0-a860-4983-bc91-e14aea740849",
       "origId": 0,
       "parentHierarchy": [],
       "pivotAggregation": null,
       "pivotColumns": null,
       "position": 13.0,
       "resultDbfsErrorMessage": null,
       "resultDbfsStatus": "INLINED_IN_TREE",
       "results": null,
       "showCommandTitle": false,
       "startTime": 0,
       "state": "finished",
       "streamStates": {},
       "subcommandOptions": {
        "queryPlan": {
         "groups": [
          {
           "column": "title",
           "type": "column"
          }
         ],
         "selects": [
          {
           "column": "title",
           "type": "column"
          },
          {
           "alias": "column_f225be3687",
           "args": [
            {
             "column": "comment_count",
             "type": "column"
            }
           ],
           "function": "SUM",
           "type": "function"
          }
         ]
        }
       },
       "submitTime": 0,
       "subtype": "tableResultSubCmd.visualization",
       "tableResultIndex": 0,
       "tableResultSettingsMap": {},
       "useConsistentColors": false,
       "version": "CommandV1",
       "width": "auto",
       "workflows": [],
       "xColumns": null,
       "yColumns": null
      }
     },
     "output_type": "display_data"
    }
   ],
   "source": [
    "most_commented = joined_df.orderBy(col(\"comment_count\").desc()).select(\"title\", \"comment_count\").limit(10)\n",
    "most_commented.display()"
   ]
  },
  {
   "cell_type": "markdown",
   "metadata": {
    "application/vnd.databricks.v1+cell": {
     "cellMetadata": {
      "byteLimit": 2048000,
      "rowLimit": 10000
     },
     "inputWidgets": {},
     "nuid": "2cc3de3f-dc22-48e8-8c89-79b4a5cfb136",
     "showTitle": false,
     "tableResultSettingsMap": {},
     "title": ""
    }
   },
   "source": [
    "### Publishing Trend Over Time\n",
    "Number of videos published per month."
   ]
  },
  {
   "cell_type": "code",
   "execution_count": 0,
   "metadata": {
    "application/vnd.databricks.v1+cell": {
     "cellMetadata": {
      "byteLimit": 2048000,
      "rowLimit": 10000
     },
     "inputWidgets": {},
     "nuid": "4540e409-6d49-43ca-9c76-af872a54bf81",
     "showTitle": false,
     "tableResultSettingsMap": {},
     "title": ""
    }
   },
   "outputs": [
    {
     "output_type": "display_data",
     "data": {
      "text/html": [
       "<style scoped>\n",
       "  .table-result-container {\n",
       "    max-height: 300px;\n",
       "    overflow: auto;\n",
       "  }\n",
       "  table, th, td {\n",
       "    border: 1px solid black;\n",
       "    border-collapse: collapse;\n",
       "  }\n",
       "  th, td {\n",
       "    padding: 5px;\n",
       "  }\n",
       "  th {\n",
       "    text-align: left;\n",
       "  }\n",
       "</style><div class='table-result-container'><table class='table-result'><thead style='background-color: white'><tr><th>YearMonth</th><th>VideoCount</th></tr></thead><tbody><tr><td>2020-08-09</td><td>4</td></tr><tr><td>2020-08-10</td><td>28</td></tr><tr><td>2020-08-11</td><td>37</td></tr><tr><td>2020-08-12</td><td>44</td></tr><tr><td>2020-08-13</td><td>42</td></tr><tr><td>2020-08-14</td><td>46</td></tr><tr><td>2020-08-15</td><td>38</td></tr><tr><td>2020-08-16</td><td>66</td></tr><tr><td>2020-08-17</td><td>35</td></tr><tr><td>2020-08-18</td><td>40</td></tr><tr><td>2020-08-19</td><td>49</td></tr><tr><td>2020-08-20</td><td>46</td></tr><tr><td>2020-08-21</td><td>63</td></tr><tr><td>2020-08-22</td><td>62</td></tr><tr><td>2020-08-23</td><td>45</td></tr><tr><td>2020-08-24</td><td>44</td></tr><tr><td>2020-08-25</td><td>38</td></tr><tr><td>2020-08-26</td><td>51</td></tr><tr><td>2020-08-27</td><td>44</td></tr><tr><td>2020-08-28</td><td>46</td></tr><tr><td>2020-08-29</td><td>58</td></tr><tr><td>2020-08-30</td><td>43</td></tr><tr><td>2020-08-31</td><td>73</td></tr><tr><td>2020-09-01</td><td>54</td></tr><tr><td>2020-09-02</td><td>59</td></tr><tr><td>2020-09-03</td><td>48</td></tr><tr><td>2020-09-04</td><td>51</td></tr><tr><td>2020-09-05</td><td>65</td></tr><tr><td>2020-09-06</td><td>19</td></tr><tr><td>2020-09-07</td><td>42</td></tr><tr><td>2020-09-08</td><td>37</td></tr><tr><td>2020-09-09</td><td>38</td></tr><tr><td>2020-09-10</td><td>42</td></tr><tr><td>2020-09-11</td><td>52</td></tr><tr><td>2020-09-12</td><td>51</td></tr><tr><td>2020-09-13</td><td>32</td></tr><tr><td>2020-09-14</td><td>31</td></tr><tr><td>2020-09-15</td><td>44</td></tr><tr><td>2020-09-16</td><td>50</td></tr><tr><td>2020-09-17</td><td>44</td></tr><tr><td>2020-09-18</td><td>49</td></tr><tr><td>2020-09-19</td><td>37</td></tr><tr><td>2020-09-20</td><td>48</td></tr><tr><td>2020-09-21</td><td>66</td></tr><tr><td>2020-09-22</td><td>41</td></tr><tr><td>2020-09-23</td><td>59</td></tr><tr><td>2020-09-24</td><td>26</td></tr><tr><td>2020-09-25</td><td>72</td></tr><tr><td>2020-09-26</td><td>40</td></tr><tr><td>2020-09-27</td><td>44</td></tr><tr><td>2020-09-28</td><td>44</td></tr><tr><td>2020-09-29</td><td>47</td></tr><tr><td>2020-09-30</td><td>65</td></tr><tr><td>2020-10-01</td><td>38</td></tr><tr><td>2020-10-02</td><td>37</td></tr><tr><td>2020-10-03</td><td>23</td></tr><tr><td>2020-10-04</td><td>25</td></tr><tr><td>2020-10-05</td><td>41</td></tr><tr><td>2020-10-06</td><td>64</td></tr><tr><td>2020-10-07</td><td>55</td></tr><tr><td>2020-10-08</td><td>45</td></tr><tr><td>2020-10-09</td><td>43</td></tr><tr><td>2020-10-10</td><td>50</td></tr><tr><td>2020-10-11</td><td>51</td></tr><tr><td>2020-10-12</td><td>39</td></tr><tr><td>2020-10-13</td><td>50</td></tr><tr><td>2020-10-14</td><td>55</td></tr><tr><td>2020-10-15</td><td>41</td></tr><tr><td>2020-10-16</td><td>63</td></tr><tr><td>2020-10-17</td><td>27</td></tr><tr><td>2020-10-18</td><td>53</td></tr><tr><td>2020-10-19</td><td>27</td></tr><tr><td>2020-10-20</td><td>46</td></tr><tr><td>2020-10-21</td><td>23</td></tr><tr><td>2020-10-22</td><td>55</td></tr><tr><td>2020-10-23</td><td>48</td></tr><tr><td>2020-10-24</td><td>51</td></tr><tr><td>2020-10-25</td><td>32</td></tr><tr><td>2020-10-26</td><td>42</td></tr><tr><td>2020-10-27</td><td>25</td></tr><tr><td>2020-10-28</td><td>54</td></tr><tr><td>2020-10-29</td><td>66</td></tr><tr><td>2020-10-30</td><td>55</td></tr><tr><td>2020-10-31</td><td>50</td></tr><tr><td>2020-11-01</td><td>34</td></tr><tr><td>2020-11-02</td><td>37</td></tr><tr><td>2020-11-03</td><td>40</td></tr><tr><td>2020-11-04</td><td>54</td></tr><tr><td>2020-11-05</td><td>51</td></tr><tr><td>2020-11-06</td><td>56</td></tr><tr><td>2020-11-07</td><td>52</td></tr><tr><td>2020-11-08</td><td>26</td></tr><tr><td>2020-11-09</td><td>40</td></tr><tr><td>2020-11-10</td><td>38</td></tr><tr><td>2020-11-11</td><td>60</td></tr><tr><td>2020-11-12</td><td>46</td></tr><tr><td>2020-11-13</td><td>46</td></tr><tr><td>2020-11-14</td><td>41</td></tr><tr><td>2020-11-15</td><td>25</td></tr><tr><td>2020-11-16</td><td>32</td></tr><tr><td>2020-11-17</td><td>46</td></tr><tr><td>2020-11-18</td><td>38</td></tr><tr><td>2020-11-19</td><td>26</td></tr><tr><td>2020-11-20</td><td>59</td></tr><tr><td>2020-11-21</td><td>20</td></tr><tr><td>2020-11-22</td><td>35</td></tr><tr><td>2020-11-23</td><td>29</td></tr><tr><td>2020-11-24</td><td>50</td></tr><tr><td>2020-11-25</td><td>36</td></tr><tr><td>2020-11-26</td><td>42</td></tr><tr><td>2020-11-27</td><td>53</td></tr><tr><td>2020-11-28</td><td>63</td></tr><tr><td>2020-11-29</td><td>22</td></tr><tr><td>2020-11-30</td><td>45</td></tr><tr><td>2020-12-01</td><td>47</td></tr><tr><td>2020-12-02</td><td>53</td></tr><tr><td>2020-12-03</td><td>34</td></tr><tr><td>2020-12-04</td><td>32</td></tr><tr><td>2020-12-05</td><td>22</td></tr><tr><td>2020-12-06</td><td>51</td></tr><tr><td>2020-12-07</td><td>41</td></tr><tr><td>2020-12-08</td><td>66</td></tr><tr><td>2020-12-09</td><td>37</td></tr><tr><td>2020-12-10</td><td>44</td></tr><tr><td>2020-12-11</td><td>68</td></tr><tr><td>2020-12-12</td><td>34</td></tr><tr><td>2020-12-13</td><td>42</td></tr><tr><td>2020-12-14</td><td>45</td></tr><tr><td>2020-12-15</td><td>58</td></tr><tr><td>2020-12-16</td><td>47</td></tr><tr><td>2020-12-17</td><td>47</td></tr><tr><td>2020-12-18</td><td>45</td></tr><tr><td>2020-12-19</td><td>48</td></tr><tr><td>2020-12-20</td><td>34</td></tr><tr><td>2020-12-21</td><td>48</td></tr><tr><td>2020-12-22</td><td>41</td></tr><tr><td>2020-12-23</td><td>60</td></tr><tr><td>2020-12-24</td><td>53</td></tr><tr><td>2020-12-25</td><td>71</td></tr><tr><td>2020-12-26</td><td>27</td></tr><tr><td>2020-12-27</td><td>35</td></tr><tr><td>2020-12-28</td><td>16</td></tr><tr><td>2020-12-29</td><td>43</td></tr><tr><td>2020-12-30</td><td>28</td></tr><tr><td>2020-12-31</td><td>40</td></tr><tr><td>2021-01-01</td><td>46</td></tr><tr><td>2021-01-02</td><td>44</td></tr><tr><td>2021-01-03</td><td>30</td></tr><tr><td>2021-01-04</td><td>39</td></tr><tr><td>2021-01-05</td><td>65</td></tr><tr><td>2021-01-06</td><td>48</td></tr><tr><td>2021-01-07</td><td>66</td></tr><tr><td>2021-01-08</td><td>78</td></tr><tr><td>2021-01-09</td><td>44</td></tr><tr><td>2021-01-10</td><td>42</td></tr><tr><td>2021-01-11</td><td>51</td></tr><tr><td>2021-01-12</td><td>57</td></tr><tr><td>2021-01-13</td><td>68</td></tr><tr><td>2021-01-14</td><td>54</td></tr><tr><td>2021-01-15</td><td>79</td></tr><tr><td>2021-01-16</td><td>46</td></tr><tr><td>2021-01-17</td><td>23</td></tr><tr><td>2021-01-18</td><td>41</td></tr><tr><td>2021-01-19</td><td>55</td></tr><tr><td>2021-01-20</td><td>64</td></tr><tr><td>2021-01-21</td><td>57</td></tr><tr><td>2021-01-22</td><td>59</td></tr><tr><td>2021-01-23</td><td>50</td></tr><tr><td>2021-01-24</td><td>25</td></tr><tr><td>2021-01-25</td><td>64</td></tr><tr><td>2021-01-26</td><td>56</td></tr><tr><td>2021-01-27</td><td>63</td></tr><tr><td>2021-01-28</td><td>47</td></tr><tr><td>2021-01-29</td><td>66</td></tr><tr><td>2021-01-30</td><td>41</td></tr><tr><td>2021-01-31</td><td>36</td></tr><tr><td>2021-02-01</td><td>50</td></tr><tr><td>2021-02-02</td><td>33</td></tr><tr><td>2021-02-03</td><td>50</td></tr><tr><td>2021-02-04</td><td>51</td></tr><tr><td>2021-02-05</td><td>42</td></tr><tr><td>2021-02-06</td><td>61</td></tr><tr><td>2021-02-07</td><td>25</td></tr><tr><td>2021-02-08</td><td>52</td></tr><tr><td>2021-02-09</td><td>37</td></tr><tr><td>2021-02-10</td><td>77</td></tr><tr><td>2021-02-11</td><td>42</td></tr><tr><td>2021-02-12</td><td>51</td></tr><tr><td>2021-02-13</td><td>48</td></tr><tr><td>2021-02-14</td><td>67</td></tr><tr><td>2021-02-15</td><td>46</td></tr><tr><td>2021-02-16</td><td>55</td></tr><tr><td>2021-02-17</td><td>35</td></tr><tr><td>2021-02-18</td><td>43</td></tr><tr><td>2021-02-19</td><td>59</td></tr><tr><td>2021-02-20</td><td>42</td></tr><tr><td>2021-02-21</td><td>47</td></tr><tr><td>2021-02-22</td><td>55</td></tr><tr><td>2021-02-23</td><td>25</td></tr><tr><td>2021-02-24</td><td>57</td></tr><tr><td>2021-02-25</td><td>39</td></tr><tr><td>2021-02-26</td><td>37</td></tr><tr><td>2021-02-27</td><td>31</td></tr><tr><td>2021-02-28</td><td>73</td></tr><tr><td>2021-03-01</td><td>38</td></tr><tr><td>2021-03-02</td><td>46</td></tr><tr><td>2021-03-03</td><td>39</td></tr><tr><td>2021-03-04</td><td>75</td></tr><tr><td>2021-03-05</td><td>62</td></tr><tr><td>2021-03-06</td><td>47</td></tr><tr><td>2021-03-07</td><td>41</td></tr><tr><td>2021-03-08</td><td>55</td></tr><tr><td>2021-03-09</td><td>53</td></tr><tr><td>2021-03-10</td><td>56</td></tr><tr><td>2021-03-11</td><td>40</td></tr><tr><td>2021-03-12</td><td>58</td></tr><tr><td>2021-03-13</td><td>38</td></tr><tr><td>2021-03-14</td><td>49</td></tr><tr><td>2021-03-15</td><td>67</td></tr><tr><td>2021-03-16</td><td>44</td></tr><tr><td>2021-03-17</td><td>51</td></tr><tr><td>2021-03-18</td><td>70</td></tr><tr><td>2021-03-19</td><td>58</td></tr><tr><td>2021-03-20</td><td>30</td></tr><tr><td>2021-03-21</td><td>45</td></tr><tr><td>2021-03-22</td><td>31</td></tr><tr><td>2021-03-23</td><td>66</td></tr><tr><td>2021-03-24</td><td>55</td></tr><tr><td>2021-03-25</td><td>39</td></tr><tr><td>2021-03-26</td><td>49</td></tr><tr><td>2021-03-27</td><td>59</td></tr><tr><td>2021-03-28</td><td>35</td></tr><tr><td>2021-03-29</td><td>45</td></tr><tr><td>2021-03-30</td><td>56</td></tr><tr><td>2021-03-31</td><td>63</td></tr><tr><td>2021-04-01</td><td>65</td></tr><tr><td>2021-04-02</td><td>55</td></tr><tr><td>2021-04-03</td><td>59</td></tr><tr><td>2021-04-04</td><td>37</td></tr><tr><td>2021-04-05</td><td>32</td></tr><tr><td>2021-04-06</td><td>56</td></tr><tr><td>2021-04-07</td><td>35</td></tr><tr><td>2021-04-08</td><td>39</td></tr><tr><td>2021-04-09</td><td>63</td></tr><tr><td>2021-04-10</td><td>36</td></tr><tr><td>2021-04-11</td><td>22</td></tr><tr><td>2021-04-12</td><td>39</td></tr><tr><td>2021-04-13</td><td>71</td></tr><tr><td>2021-04-14</td><td>56</td></tr><tr><td>2021-04-15</td><td>65</td></tr><tr><td>2021-04-16</td><td>53</td></tr><tr><td>2021-04-17</td><td>49</td></tr><tr><td>2021-04-18</td><td>49</td></tr><tr><td>2021-04-19</td><td>54</td></tr><tr><td>2021-04-20</td><td>28</td></tr><tr><td>2021-04-21</td><td>64</td></tr><tr><td>2021-04-22</td><td>52</td></tr><tr><td>2021-04-23</td><td>67</td></tr><tr><td>2021-04-24</td><td>36</td></tr><tr><td>2021-04-25</td><td>43</td></tr><tr><td>2021-04-26</td><td>34</td></tr><tr><td>2021-04-27</td><td>58</td></tr><tr><td>2021-04-28</td><td>39</td></tr><tr><td>2021-04-29</td><td>58</td></tr><tr><td>2021-04-30</td><td>44</td></tr><tr><td>2021-05-01</td><td>45</td></tr><tr><td>2021-05-02</td><td>41</td></tr><tr><td>2021-05-03</td><td>40</td></tr><tr><td>2021-05-04</td><td>37</td></tr><tr><td>2021-05-05</td><td>41</td></tr><tr><td>2021-05-06</td><td>56</td></tr><tr><td>2021-05-07</td><td>51</td></tr><tr><td>2021-05-08</td><td>43</td></tr><tr><td>2021-05-09</td><td>30</td></tr><tr><td>2021-05-10</td><td>43</td></tr><tr><td>2021-05-11</td><td>56</td></tr><tr><td>2021-05-12</td><td>43</td></tr><tr><td>2021-05-13</td><td>48</td></tr><tr><td>2021-05-14</td><td>65</td></tr><tr><td>2021-05-15</td><td>51</td></tr><tr><td>2021-05-16</td><td>42</td></tr><tr><td>2021-05-17</td><td>35</td></tr><tr><td>2021-05-18</td><td>78</td></tr><tr><td>2021-05-19</td><td>60</td></tr><tr><td>2021-05-20</td><td>55</td></tr><tr><td>2021-05-21</td><td>27</td></tr><tr><td>2021-05-22</td><td>17</td></tr><tr><td>2021-05-23</td><td>5</td></tr><tr><td>2021-05-27</td><td>10</td></tr><tr><td>2021-05-28</td><td>68</td></tr><tr><td>2021-05-29</td><td>84</td></tr><tr><td>2021-05-30</td><td>81</td></tr><tr><td>2021-05-31</td><td>77</td></tr><tr><td>2021-06-01</td><td>110</td></tr><tr><td>2021-06-02</td><td>51</td></tr><tr><td>2021-06-03</td><td>48</td></tr><tr><td>2021-06-04</td><td>70</td></tr><tr><td>2021-06-05</td><td>101</td></tr><tr><td>2021-06-06</td><td>122</td></tr><tr><td>2021-06-07</td><td>103</td></tr><tr><td>2021-06-08</td><td>68</td></tr><tr><td>2021-06-09</td><td>84</td></tr><tr><td>2021-06-10</td><td>84</td></tr><tr><td>2021-06-11</td><td>81</td></tr><tr><td>2021-06-12</td><td>59</td></tr><tr><td>2021-06-13</td><td>62</td></tr><tr><td>2021-06-14</td><td>107</td></tr><tr><td>2021-06-15</td><td>72</td></tr><tr><td>2021-06-16</td><td>40</td></tr><tr><td>2021-06-17</td><td>52</td></tr><tr><td>2021-06-18</td><td>63</td></tr><tr><td>2021-06-19</td><td>51</td></tr><tr><td>2021-06-20</td><td>44</td></tr><tr><td>2021-06-21</td><td>61</td></tr><tr><td>2021-06-22</td><td>42</td></tr><tr><td>2021-06-23</td><td>53</td></tr><tr><td>2021-06-24</td><td>23</td></tr><tr><td>2021-06-25</td><td>40</td></tr><tr><td>2021-06-26</td><td>44</td></tr><tr><td>2021-06-27</td><td>39</td></tr><tr><td>2021-06-28</td><td>53</td></tr><tr><td>2021-06-29</td><td>40</td></tr><tr><td>2021-06-30</td><td>35</td></tr><tr><td>2021-07-01</td><td>62</td></tr><tr><td>2021-07-02</td><td>66</td></tr><tr><td>2021-07-03</td><td>58</td></tr><tr><td>2021-07-04</td><td>48</td></tr><tr><td>2021-07-05</td><td>40</td></tr><tr><td>2021-07-06</td><td>55</td></tr><tr><td>2021-07-07</td><td>69</td></tr><tr><td>2021-07-08</td><td>68</td></tr><tr><td>2021-07-09</td><td>80</td></tr><tr><td>2021-07-10</td><td>50</td></tr><tr><td>2021-07-11</td><td>35</td></tr><tr><td>2021-07-12</td><td>52</td></tr><tr><td>2021-07-13</td><td>62</td></tr><tr><td>2021-07-14</td><td>58</td></tr><tr><td>2021-07-15</td><td>39</td></tr><tr><td>2021-07-16</td><td>63</td></tr><tr><td>2021-07-17</td><td>43</td></tr><tr><td>2021-07-18</td><td>34</td></tr><tr><td>2021-07-19</td><td>63</td></tr><tr><td>2021-07-20</td><td>45</td></tr><tr><td>2021-07-21</td><td>47</td></tr><tr><td>2021-07-22</td><td>48</td></tr><tr><td>2021-07-23</td><td>51</td></tr><tr><td>2021-07-24</td><td>55</td></tr><tr><td>2021-07-25</td><td>45</td></tr><tr><td>2021-07-26</td><td>70</td></tr><tr><td>2021-07-27</td><td>44</td></tr><tr><td>2021-07-28</td><td>51</td></tr><tr><td>2021-07-29</td><td>56</td></tr><tr><td>2021-07-30</td><td>49</td></tr><tr><td>2021-07-31</td><td>39</td></tr><tr><td>2021-08-01</td><td>35</td></tr><tr><td>2021-08-02</td><td>43</td></tr><tr><td>2021-08-03</td><td>31</td></tr><tr><td>2021-08-04</td><td>56</td></tr><tr><td>2021-08-05</td><td>35</td></tr><tr><td>2021-08-06</td><td>56</td></tr><tr><td>2021-08-07</td><td>57</td></tr><tr><td>2021-08-08</td><td>43</td></tr><tr><td>2021-08-09</td><td>40</td></tr><tr><td>2021-08-10</td><td>40</td></tr><tr><td>2021-08-11</td><td>56</td></tr><tr><td>2021-08-12</td><td>29</td></tr><tr><td>2021-08-13</td><td>55</td></tr><tr><td>2021-08-14</td><td>43</td></tr><tr><td>2021-08-15</td><td>40</td></tr><tr><td>2021-08-16</td><td>29</td></tr><tr><td>2021-08-17</td><td>12</td></tr><tr><td>2021-08-18</td><td>42</td></tr><tr><td>2021-08-19</td><td>48</td></tr><tr><td>2021-08-20</td><td>60</td></tr><tr><td>2021-08-21</td><td>58</td></tr><tr><td>2021-08-22</td><td>69</td></tr><tr><td>2021-08-23</td><td>34</td></tr><tr><td>2021-08-24</td><td>45</td></tr><tr><td>2021-08-25</td><td>22</td></tr><tr><td>2021-08-26</td><td>37</td></tr><tr><td>2021-08-27</td><td>57</td></tr><tr><td>2021-08-28</td><td>60</td></tr><tr><td>2021-08-29</td><td>56</td></tr><tr><td>2021-08-30</td><td>52</td></tr><tr><td>2021-08-31</td><td>35</td></tr><tr><td>2021-09-01</td><td>39</td></tr><tr><td>2021-09-02</td><td>36</td></tr><tr><td>2021-09-03</td><td>31</td></tr><tr><td>2021-09-04</td><td>64</td></tr><tr><td>2021-09-05</td><td>78</td></tr><tr><td>2021-09-06</td><td>46</td></tr><tr><td>2021-09-07</td><td>76</td></tr><tr><td>2021-09-08</td><td>52</td></tr><tr><td>2021-09-09</td><td>70</td></tr><tr><td>2021-09-10</td><td>62</td></tr><tr><td>2021-09-11</td><td>79</td></tr><tr><td>2021-09-12</td><td>55</td></tr><tr><td>2021-09-13</td><td>61</td></tr><tr><td>2021-09-14</td><td>58</td></tr><tr><td>2021-09-15</td><td>57</td></tr><tr><td>2021-09-16</td><td>45</td></tr><tr><td>2021-09-17</td><td>77</td></tr><tr><td>2021-09-18</td><td>86</td></tr><tr><td>2021-09-19</td><td>65</td></tr><tr><td>2021-09-20</td><td>64</td></tr><tr><td>2021-09-21</td><td>57</td></tr><tr><td>2021-09-22</td><td>93</td></tr><tr><td>2021-09-23</td><td>83</td></tr><tr><td>2021-09-24</td><td>76</td></tr><tr><td>2021-09-25</td><td>73</td></tr><tr><td>2021-09-26</td><td>71</td></tr><tr><td>2021-09-27</td><td>69</td></tr><tr><td>2021-09-28</td><td>81</td></tr><tr><td>2021-09-29</td><td>48</td></tr><tr><td>2021-09-30</td><td>102</td></tr><tr><td>2021-10-01</td><td>64</td></tr><tr><td>2021-10-02</td><td>69</td></tr><tr><td>2021-10-03</td><td>72</td></tr><tr><td>2021-10-04</td><td>73</td></tr><tr><td>2021-10-05</td><td>69</td></tr><tr><td>2021-10-06</td><td>71</td></tr><tr><td>2021-10-07</td><td>50</td></tr><tr><td>2021-10-08</td><td>61</td></tr><tr><td>2021-10-09</td><td>65</td></tr><tr><td>2021-10-10</td><td>67</td></tr><tr><td>2021-10-11</td><td>57</td></tr><tr><td>2021-10-12</td><td>77</td></tr><tr><td>2021-10-13</td><td>49</td></tr><tr><td>2021-10-14</td><td>69</td></tr><tr><td>2021-10-15</td><td>81</td></tr><tr><td>2021-10-16</td><td>74</td></tr><tr><td>2021-10-17</td><td>74</td></tr><tr><td>2021-10-18</td><td>80</td></tr><tr><td>2021-10-19</td><td>38</td></tr><tr><td>2021-10-20</td><td>70</td></tr><tr><td>2021-10-21</td><td>58</td></tr><tr><td>2021-10-22</td><td>84</td></tr><tr><td>2021-10-23</td><td>71</td></tr><tr><td>2021-10-24</td><td>79</td></tr><tr><td>2021-10-25</td><td>93</td></tr><tr><td>2021-10-26</td><td>56</td></tr><tr><td>2021-10-27</td><td>71</td></tr><tr><td>2021-10-28</td><td>80</td></tr><tr><td>2021-10-29</td><td>71</td></tr><tr><td>2021-10-30</td><td>91</td></tr><tr><td>2021-10-31</td><td>63</td></tr><tr><td>2021-11-01</td><td>68</td></tr><tr><td>2021-11-02</td><td>67</td></tr><tr><td>2021-11-03</td><td>69</td></tr><tr><td>2021-11-04</td><td>77</td></tr><tr><td>2021-11-05</td><td>38</td></tr><tr><td>2021-11-06</td><td>61</td></tr><tr><td>2021-11-07</td><td>81</td></tr><tr><td>2021-11-08</td><td>63</td></tr><tr><td>2021-11-09</td><td>61</td></tr><tr><td>2021-11-10</td><td>48</td></tr><tr><td>2021-11-11</td><td>79</td></tr><tr><td>2021-11-12</td><td>77</td></tr><tr><td>2021-11-13</td><td>71</td></tr><tr><td>2021-11-14</td><td>41</td></tr><tr><td>2021-11-15</td><td>75</td></tr><tr><td>2021-11-16</td><td>75</td></tr><tr><td>2021-11-17</td><td>54</td></tr><tr><td>2021-11-18</td><td>61</td></tr><tr><td>2021-11-19</td><td>78</td></tr><tr><td>2021-11-20</td><td>61</td></tr><tr><td>2021-11-21</td><td>71</td></tr><tr><td>2021-11-22</td><td>56</td></tr><tr><td>2021-11-23</td><td>53</td></tr><tr><td>2021-11-24</td><td>67</td></tr><tr><td>2021-11-25</td><td>52</td></tr><tr><td>2021-11-26</td><td>51</td></tr><tr><td>2021-11-27</td><td>59</td></tr><tr><td>2021-11-28</td><td>70</td></tr><tr><td>2021-11-29</td><td>73</td></tr><tr><td>2021-11-30</td><td>80</td></tr><tr><td>2021-12-01</td><td>58</td></tr><tr><td>2021-12-02</td><td>52</td></tr><tr><td>2021-12-03</td><td>52</td></tr><tr><td>2021-12-04</td><td>72</td></tr><tr><td>2021-12-05</td><td>85</td></tr><tr><td>2021-12-06</td><td>69</td></tr><tr><td>2021-12-07</td><td>72</td></tr><tr><td>2021-12-08</td><td>71</td></tr><tr><td>2021-12-09</td><td>93</td></tr><tr><td>2021-12-10</td><td>82</td></tr><tr><td>2021-12-11</td><td>50</td></tr><tr><td>2021-12-12</td><td>54</td></tr><tr><td>2021-12-13</td><td>57</td></tr><tr><td>2021-12-14</td><td>63</td></tr><tr><td>2021-12-15</td><td>63</td></tr><tr><td>2021-12-16</td><td>67</td></tr><tr><td>2021-12-17</td><td>88</td></tr><tr><td>2021-12-18</td><td>67</td></tr><tr><td>2021-12-19</td><td>93</td></tr><tr><td>2021-12-20</td><td>103</td></tr><tr><td>2021-12-21</td><td>57</td></tr><tr><td>2021-12-22</td><td>71</td></tr><tr><td>2021-12-23</td><td>83</td></tr><tr><td>2021-12-24</td><td>61</td></tr><tr><td>2021-12-25</td><td>72</td></tr><tr><td>2021-12-26</td><td>79</td></tr><tr><td>2021-12-27</td><td>58</td></tr><tr><td>2021-12-28</td><td>70</td></tr><tr><td>2021-12-29</td><td>60</td></tr><tr><td>2021-12-30</td><td>82</td></tr><tr><td>2021-12-31</td><td>52</td></tr><tr><td>2022-01-01</td><td>52</td></tr><tr><td>2022-01-02</td><td>58</td></tr><tr><td>2022-01-03</td><td>69</td></tr><tr><td>2022-01-04</td><td>87</td></tr><tr><td>2022-01-05</td><td>71</td></tr><tr><td>2022-01-06</td><td>68</td></tr><tr><td>2022-01-07</td><td>70</td></tr><tr><td>2022-01-08</td><td>52</td></tr><tr><td>2022-01-09</td><td>81</td></tr><tr><td>2022-01-10</td><td>60</td></tr><tr><td>2022-01-11</td><td>72</td></tr><tr><td>2022-01-12</td><td>62</td></tr><tr><td>2022-01-13</td><td>64</td></tr><tr><td>2022-01-14</td><td>49</td></tr><tr><td>2022-01-15</td><td>56</td></tr><tr><td>2022-01-16</td><td>65</td></tr><tr><td>2022-01-17</td><td>74</td></tr><tr><td>2022-01-18</td><td>102</td></tr><tr><td>2022-01-19</td><td>55</td></tr><tr><td>2022-01-20</td><td>80</td></tr><tr><td>2022-01-21</td><td>74</td></tr><tr><td>2022-01-22</td><td>55</td></tr><tr><td>2022-01-23</td><td>80</td></tr><tr><td>2022-01-24</td><td>79</td></tr><tr><td>2022-01-25</td><td>61</td></tr><tr><td>2022-01-26</td><td>81</td></tr><tr><td>2022-01-27</td><td>88</td></tr><tr><td>2022-01-28</td><td>102</td></tr><tr><td>2022-01-29</td><td>68</td></tr><tr><td>2022-01-30</td><td>81</td></tr><tr><td>2022-01-31</td><td>72</td></tr><tr><td>2022-02-01</td><td>93</td></tr><tr><td>2022-02-02</td><td>100</td></tr><tr><td>2022-02-03</td><td>73</td></tr><tr><td>2022-02-04</td><td>101</td></tr><tr><td>2022-02-05</td><td>57</td></tr><tr><td>2022-02-06</td><td>96</td></tr><tr><td>2022-02-07</td><td>97</td></tr><tr><td>2022-02-08</td><td>83</td></tr><tr><td>2022-02-09</td><td>73</td></tr><tr><td>2022-02-10</td><td>80</td></tr><tr><td>2022-02-11</td><td>90</td></tr><tr><td>2022-02-12</td><td>82</td></tr><tr><td>2022-02-13</td><td>90</td></tr><tr><td>2022-02-14</td><td>102</td></tr><tr><td>2022-02-15</td><td>60</td></tr><tr><td>2022-02-16</td><td>91</td></tr><tr><td>2022-02-17</td><td>87</td></tr><tr><td>2022-02-18</td><td>73</td></tr><tr><td>2022-02-19</td><td>61</td></tr><tr><td>2022-02-20</td><td>101</td></tr><tr><td>2022-02-21</td><td>87</td></tr><tr><td>2022-02-22</td><td>80</td></tr><tr><td>2022-02-23</td><td>57</td></tr><tr><td>2022-02-24</td><td>77</td></tr><tr><td>2022-02-25</td><td>90</td></tr><tr><td>2022-02-26</td><td>116</td></tr><tr><td>2022-02-27</td><td>92</td></tr><tr><td>2022-02-28</td><td>82</td></tr><tr><td>2022-03-01</td><td>94</td></tr><tr><td>2022-03-02</td><td>90</td></tr><tr><td>2022-03-03</td><td>45</td></tr><tr><td>2022-03-04</td><td>61</td></tr><tr><td>2022-03-05</td><td>60</td></tr><tr><td>2022-03-06</td><td>56</td></tr><tr><td>2022-03-07</td><td>76</td></tr><tr><td>2022-03-08</td><td>92</td></tr><tr><td>2022-03-09</td><td>72</td></tr><tr><td>2022-03-10</td><td>74</td></tr><tr><td>2022-03-11</td><td>86</td></tr><tr><td>2022-03-12</td><td>83</td></tr><tr><td>2022-03-13</td><td>110</td></tr><tr><td>2022-03-14</td><td>63</td></tr><tr><td>2022-03-15</td><td>101</td></tr><tr><td>2022-03-16</td><td>98</td></tr><tr><td>2022-03-17</td><td>63</td></tr><tr><td>2022-03-18</td><td>67</td></tr><tr><td>2022-03-19</td><td>69</td></tr><tr><td>2022-03-20</td><td>89</td></tr><tr><td>2022-03-21</td><td>66</td></tr><tr><td>2022-03-22</td><td>55</td></tr><tr><td>2022-03-23</td><td>63</td></tr><tr><td>2022-03-24</td><td>56</td></tr><tr><td>2022-03-25</td><td>93</td></tr><tr><td>2022-03-26</td><td>68</td></tr><tr><td>2022-03-27</td><td>60</td></tr><tr><td>2022-03-28</td><td>46</td></tr><tr><td>2022-03-29</td><td>59</td></tr><tr><td>2022-03-30</td><td>108</td></tr><tr><td>2022-03-31</td><td>71</td></tr><tr><td>2022-04-01</td><td>76</td></tr><tr><td>2022-04-02</td><td>73</td></tr><tr><td>2022-04-03</td><td>62</td></tr><tr><td>2022-04-04</td><td>70</td></tr><tr><td>2022-04-05</td><td>45</td></tr><tr><td>2022-04-06</td><td>52</td></tr><tr><td>2022-04-07</td><td>55</td></tr><tr><td>2022-04-08</td><td>94</td></tr><tr><td>2022-04-09</td><td>97</td></tr><tr><td>2022-04-10</td><td>84</td></tr><tr><td>2022-04-11</td><td>80</td></tr><tr><td>2022-04-12</td><td>77</td></tr><tr><td>2022-04-13</td><td>71</td></tr><tr><td>2022-04-14</td><td>108</td></tr><tr><td>2022-04-15</td><td>54</td></tr><tr><td>2022-04-16</td><td>69</td></tr><tr><td>2022-04-17</td><td>77</td></tr><tr><td>2022-04-18</td><td>95</td></tr><tr><td>2022-04-19</td><td>80</td></tr><tr><td>2022-04-20</td><td>88</td></tr><tr><td>2022-04-21</td><td>68</td></tr><tr><td>2022-04-22</td><td>80</td></tr><tr><td>2022-04-23</td><td>63</td></tr><tr><td>2022-04-24</td><td>94</td></tr><tr><td>2022-04-25</td><td>69</td></tr><tr><td>2022-04-26</td><td>63</td></tr><tr><td>2022-04-27</td><td>86</td></tr><tr><td>2022-04-28</td><td>83</td></tr><tr><td>2022-04-29</td><td>94</td></tr><tr><td>2022-04-30</td><td>86</td></tr><tr><td>2022-05-01</td><td>82</td></tr><tr><td>2022-05-02</td><td>45</td></tr><tr><td>2022-05-03</td><td>56</td></tr><tr><td>2022-05-04</td><td>86</td></tr><tr><td>2022-05-05</td><td>82</td></tr><tr><td>2022-05-06</td><td>93</td></tr><tr><td>2022-05-07</td><td>69</td></tr><tr><td>2022-05-08</td><td>59</td></tr><tr><td>2022-05-09</td><td>69</td></tr><tr><td>2022-05-10</td><td>69</td></tr><tr><td>2022-05-11</td><td>104</td></tr><tr><td>2022-05-12</td><td>72</td></tr><tr><td>2022-05-13</td><td>63</td></tr><tr><td>2022-05-14</td><td>73</td></tr><tr><td>2022-05-15</td><td>68</td></tr><tr><td>2022-05-16</td><td>70</td></tr><tr><td>2022-05-17</td><td>84</td></tr><tr><td>2022-05-18</td><td>88</td></tr><tr><td>2022-05-19</td><td>49</td></tr><tr><td>2022-05-20</td><td>29</td></tr><tr><td>2022-05-21</td><td>43</td></tr><tr><td>2022-05-22</td><td>58</td></tr><tr><td>2022-05-23</td><td>85</td></tr><tr><td>2022-05-24</td><td>111</td></tr><tr><td>2022-05-25</td><td>86</td></tr><tr><td>2022-05-26</td><td>90</td></tr><tr><td>2022-05-27</td><td>84</td></tr><tr><td>2022-05-28</td><td>61</td></tr><tr><td>2022-05-29</td><td>43</td></tr><tr><td>2022-05-30</td><td>67</td></tr><tr><td>2022-05-31</td><td>70</td></tr><tr><td>2022-06-01</td><td>70</td></tr><tr><td>2022-06-02</td><td>59</td></tr><tr><td>2022-06-03</td><td>56</td></tr><tr><td>2022-06-04</td><td>72</td></tr><tr><td>2022-06-05</td><td>67</td></tr><tr><td>2022-06-06</td><td>73</td></tr><tr><td>2022-06-07</td><td>75</td></tr><tr><td>2022-06-08</td><td>64</td></tr><tr><td>2022-06-09</td><td>53</td></tr><tr><td>2022-06-10</td><td>86</td></tr><tr><td>2022-06-11</td><td>59</td></tr><tr><td>2022-06-12</td><td>93</td></tr><tr><td>2022-06-13</td><td>91</td></tr><tr><td>2022-06-14</td><td>73</td></tr><tr><td>2022-06-15</td><td>90</td></tr><tr><td>2022-06-16</td><td>80</td></tr><tr><td>2022-06-17</td><td>79</td></tr><tr><td>2022-06-18</td><td>60</td></tr><tr><td>2022-06-19</td><td>75</td></tr><tr><td>2022-06-20</td><td>88</td></tr><tr><td>2022-06-21</td><td>79</td></tr><tr><td>2022-06-22</td><td>80</td></tr><tr><td>2022-06-23</td><td>70</td></tr><tr><td>2022-06-24</td><td>100</td></tr><tr><td>2022-06-25</td><td>108</td></tr><tr><td>2022-06-26</td><td>87</td></tr><tr><td>2022-06-27</td><td>56</td></tr><tr><td>2022-06-28</td><td>74</td></tr><tr><td>2022-06-29</td><td>62</td></tr><tr><td>2022-06-30</td><td>55</td></tr><tr><td>2022-07-01</td><td>72</td></tr><tr><td>2022-07-02</td><td>88</td></tr><tr><td>2022-07-03</td><td>69</td></tr><tr><td>2022-07-04</td><td>76</td></tr><tr><td>2022-07-05</td><td>71</td></tr><tr><td>2022-07-06</td><td>94</td></tr><tr><td>2022-07-07</td><td>72</td></tr><tr><td>2022-07-08</td><td>92</td></tr><tr><td>2022-07-09</td><td>69</td></tr><tr><td>2022-07-10</td><td>80</td></tr><tr><td>2022-07-11</td><td>93</td></tr><tr><td>2022-07-12</td><td>102</td></tr><tr><td>2022-07-13</td><td>96</td></tr><tr><td>2022-07-14</td><td>68</td></tr><tr><td>2022-07-15</td><td>80</td></tr><tr><td>2022-07-16</td><td>89</td></tr><tr><td>2022-07-17</td><td>68</td></tr><tr><td>2022-07-18</td><td>87</td></tr><tr><td>2022-07-19</td><td>63</td></tr><tr><td>2022-07-20</td><td>69</td></tr><tr><td>2022-07-21</td><td>66</td></tr><tr><td>2022-07-22</td><td>91</td></tr><tr><td>2022-07-23</td><td>59</td></tr><tr><td>2022-07-24</td><td>96</td></tr><tr><td>2022-07-25</td><td>84</td></tr><tr><td>2022-07-26</td><td>62</td></tr><tr><td>2022-07-27</td><td>51</td></tr><tr><td>2022-07-28</td><td>92</td></tr><tr><td>2022-07-29</td><td>84</td></tr><tr><td>2022-07-30</td><td>88</td></tr><tr><td>2022-07-31</td><td>88</td></tr><tr><td>2022-08-01</td><td>67</td></tr><tr><td>2022-08-02</td><td>98</td></tr><tr><td>2022-08-03</td><td>76</td></tr><tr><td>2022-08-04</td><td>55</td></tr><tr><td>2022-08-05</td><td>88</td></tr><tr><td>2022-08-06</td><td>103</td></tr><tr><td>2022-08-07</td><td>80</td></tr><tr><td>2022-08-08</td><td>75</td></tr><tr><td>2022-08-09</td><td>82</td></tr><tr><td>2022-08-10</td><td>100</td></tr><tr><td>2022-08-11</td><td>89</td></tr><tr><td>2022-08-12</td><td>85</td></tr><tr><td>2022-08-13</td><td>58</td></tr><tr><td>2022-08-14</td><td>76</td></tr><tr><td>2022-08-15</td><td>63</td></tr><tr><td>2022-08-16</td><td>74</td></tr><tr><td>2022-08-17</td><td>62</td></tr><tr><td>2022-08-18</td><td>83</td></tr><tr><td>2022-08-19</td><td>120</td></tr><tr><td>2022-08-20</td><td>115</td></tr><tr><td>2022-08-21</td><td>85</td></tr><tr><td>2022-08-22</td><td>63</td></tr><tr><td>2022-08-23</td><td>99</td></tr><tr><td>2022-08-24</td><td>69</td></tr><tr><td>2022-08-25</td><td>67</td></tr><tr><td>2022-08-26</td><td>100</td></tr><tr><td>2022-08-27</td><td>53</td></tr><tr><td>2022-08-28</td><td>70</td></tr><tr><td>2022-08-29</td><td>81</td></tr><tr><td>2022-08-30</td><td>80</td></tr><tr><td>2022-08-31</td><td>69</td></tr><tr><td>2022-09-01</td><td>73</td></tr><tr><td>2022-09-02</td><td>70</td></tr><tr><td>2022-09-03</td><td>83</td></tr><tr><td>2022-09-04</td><td>58</td></tr><tr><td>2022-09-05</td><td>73</td></tr><tr><td>2022-09-06</td><td>65</td></tr><tr><td>2022-09-07</td><td>81</td></tr><tr><td>2022-09-08</td><td>106</td></tr><tr><td>2022-09-09</td><td>80</td></tr><tr><td>2022-09-10</td><td>57</td></tr><tr><td>2022-09-11</td><td>69</td></tr><tr><td>2022-09-12</td><td>65</td></tr><tr><td>2022-09-13</td><td>84</td></tr><tr><td>2022-09-14</td><td>67</td></tr><tr><td>2022-09-15</td><td>78</td></tr><tr><td>2022-09-16</td><td>64</td></tr><tr><td>2022-09-17</td><td>86</td></tr><tr><td>2022-09-18</td><td>76</td></tr><tr><td>2022-09-19</td><td>83</td></tr><tr><td>2022-09-20</td><td>70</td></tr><tr><td>2022-09-21</td><td>86</td></tr><tr><td>2022-09-22</td><td>85</td></tr><tr><td>2022-09-23</td><td>69</td></tr><tr><td>2022-09-24</td><td>57</td></tr><tr><td>2022-09-25</td><td>74</td></tr><tr><td>2022-09-26</td><td>75</td></tr><tr><td>2022-09-27</td><td>79</td></tr><tr><td>2022-09-28</td><td>61</td></tr><tr><td>2022-09-29</td><td>68</td></tr><tr><td>2022-09-30</td><td>53</td></tr><tr><td>2022-10-01</td><td>70</td></tr><tr><td>2022-10-02</td><td>63</td></tr><tr><td>2022-10-03</td><td>57</td></tr><tr><td>2022-10-04</td><td>64</td></tr><tr><td>2022-10-05</td><td>43</td></tr><tr><td>2022-10-06</td><td>42</td></tr><tr><td>2022-10-07</td><td>71</td></tr><tr><td>2022-10-08</td><td>45</td></tr><tr><td>2022-10-09</td><td>69</td></tr><tr><td>2022-10-10</td><td>43</td></tr><tr><td>2022-10-11</td><td>38</td></tr><tr><td>2022-10-12</td><td>37</td></tr><tr><td>2022-10-13</td><td>42</td></tr><tr><td>2022-10-14</td><td>41</td></tr><tr><td>2022-10-15</td><td>27</td></tr><tr><td>2022-10-16</td><td>58</td></tr><tr><td>2022-10-17</td><td>31</td></tr><tr><td>2022-10-18</td><td>64</td></tr><tr><td>2022-10-19</td><td>49</td></tr><tr><td>2022-10-20</td><td>37</td></tr><tr><td>2022-10-21</td><td>27</td></tr><tr><td>2022-10-22</td><td>48</td></tr><tr><td>2022-10-23</td><td>54</td></tr><tr><td>2022-10-24</td><td>38</td></tr><tr><td>2022-10-25</td><td>48</td></tr><tr><td>2022-10-26</td><td>43</td></tr><tr><td>2022-10-27</td><td>41</td></tr><tr><td>2022-10-28</td><td>59</td></tr><tr><td>2022-10-29</td><td>29</td></tr><tr><td>2022-10-30</td><td>56</td></tr><tr><td>2022-10-31</td><td>28</td></tr><tr><td>2022-11-01</td><td>50</td></tr><tr><td>2022-11-02</td><td>55</td></tr><tr><td>2022-11-03</td><td>53</td></tr><tr><td>2022-11-04</td><td>43</td></tr><tr><td>2022-11-05</td><td>44</td></tr><tr><td>2022-11-06</td><td>48</td></tr><tr><td>2022-11-07</td><td>49</td></tr><tr><td>2022-11-08</td><td>37</td></tr><tr><td>2022-11-09</td><td>53</td></tr><tr><td>2022-11-10</td><td>40</td></tr><tr><td>2022-11-11</td><td>33</td></tr><tr><td>2022-11-12</td><td>34</td></tr><tr><td>2022-11-13</td><td>48</td></tr><tr><td>2022-11-14</td><td>24</td></tr><tr><td>2022-11-15</td><td>63</td></tr><tr><td>2022-11-16</td><td>53</td></tr><tr><td>2022-11-17</td><td>17</td></tr><tr><td>2022-11-18</td><td>53</td></tr><tr><td>2022-11-19</td><td>18</td></tr><tr><td>2022-11-20</td><td>27</td></tr><tr><td>2022-11-21</td><td>29</td></tr><tr><td>2022-11-22</td><td>15</td></tr><tr><td>2022-11-23</td><td>38</td></tr><tr><td>2022-11-24</td><td>37</td></tr><tr><td>2022-11-25</td><td>41</td></tr><tr><td>2022-11-26</td><td>30</td></tr><tr><td>2022-11-27</td><td>29</td></tr><tr><td>2022-11-28</td><td>25</td></tr><tr><td>2022-11-29</td><td>42</td></tr><tr><td>2022-11-30</td><td>53</td></tr><tr><td>2022-12-01</td><td>46</td></tr><tr><td>2022-12-02</td><td>39</td></tr><tr><td>2022-12-03</td><td>28</td></tr><tr><td>2022-12-04</td><td>47</td></tr><tr><td>2022-12-05</td><td>26</td></tr><tr><td>2022-12-06</td><td>30</td></tr><tr><td>2022-12-07</td><td>34</td></tr><tr><td>2022-12-08</td><td>42</td></tr><tr><td>2022-12-09</td><td>45</td></tr><tr><td>2022-12-10</td><td>29</td></tr><tr><td>2022-12-11</td><td>38</td></tr><tr><td>2022-12-12</td><td>34</td></tr><tr><td>2022-12-13</td><td>61</td></tr><tr><td>2022-12-14</td><td>21</td></tr><tr><td>2022-12-15</td><td>47</td></tr><tr><td>2022-12-16</td><td>49</td></tr><tr><td>2022-12-17</td><td>31</td></tr><tr><td>2022-12-18</td><td>36</td></tr><tr><td>2022-12-19</td><td>34</td></tr><tr><td>2022-12-20</td><td>48</td></tr><tr><td>2022-12-21</td><td>44</td></tr><tr><td>2022-12-22</td><td>39</td></tr><tr><td>2022-12-23</td><td>49</td></tr><tr><td>2022-12-24</td><td>37</td></tr><tr><td>2022-12-25</td><td>44</td></tr><tr><td>2022-12-26</td><td>26</td></tr><tr><td>2022-12-27</td><td>38</td></tr><tr><td>2022-12-28</td><td>36</td></tr><tr><td>2022-12-29</td><td>27</td></tr><tr><td>2022-12-30</td><td>29</td></tr><tr><td>2022-12-31</td><td>44</td></tr><tr><td>2023-01-01</td><td>32</td></tr><tr><td>2023-01-02</td><td>32</td></tr><tr><td>2023-01-03</td><td>28</td></tr><tr><td>2023-01-04</td><td>35</td></tr><tr><td>2023-01-05</td><td>45</td></tr><tr><td>2023-01-06</td><td>41</td></tr><tr><td>2023-01-07</td><td>37</td></tr><tr><td>2023-01-08</td><td>28</td></tr><tr><td>2023-01-09</td><td>27</td></tr><tr><td>2023-01-10</td><td>25</td></tr><tr><td>2023-01-11</td><td>34</td></tr><tr><td>2023-01-12</td><td>23</td></tr><tr><td>2023-01-13</td><td>33</td></tr><tr><td>2023-01-14</td><td>36</td></tr><tr><td>2023-01-15</td><td>49</td></tr><tr><td>2023-01-16</td><td>30</td></tr><tr><td>2023-01-17</td><td>47</td></tr><tr><td>2023-01-18</td><td>29</td></tr><tr><td>2023-01-19</td><td>30</td></tr><tr><td>2023-01-20</td><td>43</td></tr><tr><td>2023-01-21</td><td>30</td></tr><tr><td>2023-01-22</td><td>48</td></tr><tr><td>2023-01-23</td><td>35</td></tr><tr><td>2023-01-24</td><td>26</td></tr><tr><td>2023-01-25</td><td>53</td></tr><tr><td>2023-01-26</td><td>48</td></tr><tr><td>2023-01-27</td><td>54</td></tr><tr><td>2023-01-28</td><td>25</td></tr><tr><td>2023-01-29</td><td>27</td></tr><tr><td>2023-01-30</td><td>31</td></tr><tr><td>2023-01-31</td><td>53</td></tr><tr><td>2023-02-01</td><td>39</td></tr><tr><td>2023-02-02</td><td>33</td></tr><tr><td>2023-02-03</td><td>51</td></tr><tr><td>2023-02-04</td><td>30</td></tr><tr><td>2023-02-05</td><td>46</td></tr><tr><td>2023-02-06</td><td>32</td></tr><tr><td>2023-02-07</td><td>38</td></tr><tr><td>2023-02-08</td><td>41</td></tr><tr><td>2023-02-09</td><td>34</td></tr><tr><td>2023-02-10</td><td>51</td></tr><tr><td>2023-02-11</td><td>15</td></tr><tr><td>2023-02-12</td><td>7</td></tr><tr><td>2023-02-13</td><td>17</td></tr><tr><td>2023-02-14</td><td>28</td></tr><tr><td>2023-02-15</td><td>46</td></tr><tr><td>2023-02-16</td><td>32</td></tr><tr><td>2023-02-17</td><td>38</td></tr><tr><td>2023-02-18</td><td>33</td></tr><tr><td>2023-02-19</td><td>27</td></tr><tr><td>2023-02-20</td><td>22</td></tr><tr><td>2023-02-21</td><td>40</td></tr><tr><td>2023-02-22</td><td>31</td></tr><tr><td>2023-02-23</td><td>20</td></tr><tr><td>2023-02-24</td><td>50</td></tr><tr><td>2023-02-25</td><td>33</td></tr><tr><td>2023-02-26</td><td>25</td></tr><tr><td>2023-02-27</td><td>35</td></tr><tr><td>2023-02-28</td><td>47</td></tr><tr><td>2023-03-01</td><td>38</td></tr><tr><td>2023-03-02</td><td>24</td></tr><tr><td>2023-03-03</td><td>21</td></tr><tr><td>2023-03-04</td><td>33</td></tr><tr><td>2023-03-05</td><td>47</td></tr><tr><td>2023-03-06</td><td>51</td></tr><tr><td>2023-03-07</td><td>38</td></tr><tr><td>2023-03-08</td><td>34</td></tr><tr><td>2023-03-09</td><td>41</td></tr><tr><td>2023-03-10</td><td>37</td></tr><tr><td>2023-03-11</td><td>39</td></tr><tr><td>2023-03-12</td><td>46</td></tr><tr><td>2023-03-13</td><td>43</td></tr><tr><td>2023-03-14</td><td>32</td></tr><tr><td>2023-03-15</td><td>47</td></tr><tr><td>2023-03-16</td><td>48</td></tr><tr><td>2023-03-17</td><td>28</td></tr><tr><td>2023-03-18</td><td>51</td></tr><tr><td>2023-03-19</td><td>30</td></tr><tr><td>2023-03-20</td><td>41</td></tr><tr><td>2023-03-21</td><td>33</td></tr><tr><td>2023-03-22</td><td>28</td></tr><tr><td>2023-03-23</td><td>46</td></tr><tr><td>2023-03-24</td><td>54</td></tr><tr><td>2023-03-25</td><td>49</td></tr><tr><td>2023-03-26</td><td>32</td></tr><tr><td>2023-03-27</td><td>43</td></tr><tr><td>2023-03-28</td><td>27</td></tr><tr><td>2023-03-29</td><td>23</td></tr><tr><td>2023-03-30</td><td>32</td></tr><tr><td>2023-03-31</td><td>44</td></tr><tr><td>2023-04-01</td><td>48</td></tr><tr><td>2023-04-02</td><td>31</td></tr><tr><td>2023-04-03</td><td>44</td></tr><tr><td>2023-04-04</td><td>36</td></tr><tr><td>2023-04-05</td><td>30</td></tr><tr><td>2023-04-06</td><td>42</td></tr><tr><td>2023-04-07</td><td>47</td></tr><tr><td>2023-04-08</td><td>28</td></tr><tr><td>2023-04-09</td><td>32</td></tr><tr><td>2023-04-10</td><td>24</td></tr><tr><td>2023-04-11</td><td>30</td></tr><tr><td>2023-04-12</td><td>20</td></tr><tr><td>2023-04-13</td><td>22</td></tr><tr><td>2023-04-14</td><td>58</td></tr><tr><td>2023-04-15</td><td>39</td></tr><tr><td>2023-04-16</td><td>32</td></tr><tr><td>2023-04-17</td><td>26</td></tr><tr><td>2023-04-18</td><td>21</td></tr><tr><td>2023-04-19</td><td>28</td></tr><tr><td>2023-04-20</td><td>26</td></tr><tr><td>2023-04-21</td><td>50</td></tr><tr><td>2023-04-22</td><td>34</td></tr><tr><td>2023-04-23</td><td>37</td></tr><tr><td>2023-04-24</td><td>18</td></tr><tr><td>2023-04-25</td><td>31</td></tr><tr><td>2023-04-26</td><td>28</td></tr><tr><td>2023-04-27</td><td>27</td></tr><tr><td>2023-04-28</td><td>45</td></tr><tr><td>2023-04-29</td><td>43</td></tr><tr><td>2023-04-30</td><td>45</td></tr><tr><td>2023-05-01</td><td>23</td></tr><tr><td>2023-05-02</td><td>48</td></tr><tr><td>2023-05-03</td><td>31</td></tr><tr><td>2023-05-04</td><td>27</td></tr><tr><td>2023-05-05</td><td>34</td></tr><tr><td>2023-05-06</td><td>30</td></tr><tr><td>2023-05-07</td><td>32</td></tr><tr><td>2023-05-08</td><td>25</td></tr><tr><td>2023-05-09</td><td>50</td></tr><tr><td>2023-05-10</td><td>37</td></tr><tr><td>2023-05-11</td><td>17</td></tr><tr><td>2023-05-12</td><td>46</td></tr><tr><td>2023-05-13</td><td>39</td></tr><tr><td>2023-05-14</td><td>52</td></tr><tr><td>2023-05-15</td><td>32</td></tr><tr><td>2023-05-16</td><td>22</td></tr><tr><td>2023-05-17</td><td>31</td></tr><tr><td>2023-05-18</td><td>30</td></tr><tr><td>2023-05-19</td><td>55</td></tr><tr><td>2023-05-20</td><td>44</td></tr><tr><td>2023-05-21</td><td>34</td></tr><tr><td>2023-05-22</td><td>32</td></tr><tr><td>2023-05-23</td><td>29</td></tr><tr><td>2023-05-24</td><td>59</td></tr><tr><td>2023-05-25</td><td>35</td></tr><tr><td>2023-05-26</td><td>42</td></tr><tr><td>2023-05-27</td><td>44</td></tr><tr><td>2023-05-28</td><td>36</td></tr><tr><td>2023-05-29</td><td>32</td></tr><tr><td>2023-05-30</td><td>45</td></tr><tr><td>2023-05-31</td><td>38</td></tr><tr><td>2023-06-01</td><td>32</td></tr><tr><td>2023-06-02</td><td>53</td></tr><tr><td>2023-06-03</td><td>44</td></tr><tr><td>2023-06-04</td><td>34</td></tr><tr><td>2023-06-05</td><td>31</td></tr><tr><td>2023-06-06</td><td>37</td></tr><tr><td>2023-06-07</td><td>22</td></tr><tr><td>2023-06-08</td><td>50</td></tr><tr><td>2023-06-09</td><td>30</td></tr><tr><td>2023-06-10</td><td>50</td></tr><tr><td>2023-06-11</td><td>41</td></tr><tr><td>2023-06-12</td><td>44</td></tr><tr><td>2023-06-13</td><td>43</td></tr><tr><td>2023-06-14</td><td>25</td></tr><tr><td>2023-06-15</td><td>31</td></tr><tr><td>2023-06-16</td><td>37</td></tr><tr><td>2023-06-17</td><td>34</td></tr><tr><td>2023-06-18</td><td>31</td></tr><tr><td>2023-06-19</td><td>31</td></tr><tr><td>2023-06-20</td><td>25</td></tr><tr><td>2023-06-21</td><td>48</td></tr><tr><td>2023-06-22</td><td>31</td></tr><tr><td>2023-06-23</td><td>30</td></tr><tr><td>2023-06-24</td><td>30</td></tr><tr><td>2023-06-25</td><td>41</td></tr><tr><td>2023-06-26</td><td>39</td></tr><tr><td>2023-06-27</td><td>27</td></tr><tr><td>2023-06-28</td><td>26</td></tr><tr><td>2023-06-29</td><td>16</td></tr><tr><td>2023-06-30</td><td>18</td></tr><tr><td>2023-07-01</td><td>20</td></tr><tr><td>2023-07-02</td><td>24</td></tr><tr><td>2023-07-03</td><td>52</td></tr><tr><td>2023-07-04</td><td>38</td></tr><tr><td>2023-07-05</td><td>32</td></tr><tr><td>2023-07-06</td><td>38</td></tr><tr><td>2023-07-07</td><td>61</td></tr><tr><td>2023-07-08</td><td>36</td></tr><tr><td>2023-07-09</td><td>40</td></tr><tr><td>2023-07-10</td><td>42</td></tr><tr><td>2023-07-11</td><td>43</td></tr><tr><td>2023-07-12</td><td>31</td></tr><tr><td>2023-07-13</td><td>50</td></tr><tr><td>2023-07-14</td><td>45</td></tr><tr><td>2023-07-15</td><td>45</td></tr><tr><td>2023-07-16</td><td>39</td></tr><tr><td>2023-07-17</td><td>30</td></tr><tr><td>2023-07-18</td><td>35</td></tr><tr><td>2023-07-19</td><td>32</td></tr><tr><td>2023-07-20</td><td>44</td></tr><tr><td>2023-07-21</td><td>47</td></tr><tr><td>2023-07-22</td><td>29</td></tr><tr><td>2023-07-23</td><td>31</td></tr><tr><td>2023-07-24</td><td>29</td></tr><tr><td>2023-07-25</td><td>24</td></tr><tr><td>2023-07-26</td><td>26</td></tr><tr><td>2023-07-27</td><td>28</td></tr><tr><td>2023-07-28</td><td>25</td></tr><tr><td>2023-07-29</td><td>36</td></tr><tr><td>2023-07-30</td><td>50</td></tr><tr><td>2023-07-31</td><td>30</td></tr><tr><td>2023-08-01</td><td>28</td></tr><tr><td>2023-08-02</td><td>22</td></tr><tr><td>2023-08-03</td><td>31</td></tr><tr><td>2023-08-04</td><td>25</td></tr><tr><td>2023-08-05</td><td>29</td></tr><tr><td>2023-08-06</td><td>27</td></tr><tr><td>2023-08-07</td><td>15</td></tr><tr><td>2023-08-08</td><td>44</td></tr><tr><td>2023-08-09</td><td>26</td></tr><tr><td>2023-08-10</td><td>49</td></tr><tr><td>2023-08-11</td><td>34</td></tr><tr><td>2023-08-12</td><td>43</td></tr><tr><td>2023-08-13</td><td>23</td></tr><tr><td>2023-08-14</td><td>21</td></tr><tr><td>2023-08-15</td><td>47</td></tr><tr><td>2023-08-16</td><td>38</td></tr><tr><td>2023-08-17</td><td>24</td></tr><tr><td>2023-08-18</td><td>28</td></tr><tr><td>2023-08-19</td><td>31</td></tr><tr><td>2023-08-20</td><td>47</td></tr><tr><td>2023-08-21</td><td>32</td></tr><tr><td>2023-08-22</td><td>39</td></tr><tr><td>2023-08-23</td><td>44</td></tr><tr><td>2023-08-24</td><td>40</td></tr><tr><td>2023-08-25</td><td>47</td></tr><tr><td>2023-08-26</td><td>38</td></tr><tr><td>2023-08-27</td><td>30</td></tr><tr><td>2023-08-28</td><td>26</td></tr><tr><td>2023-08-29</td><td>37</td></tr><tr><td>2023-08-30</td><td>44</td></tr><tr><td>2023-08-31</td><td>57</td></tr><tr><td>2023-09-01</td><td>52</td></tr><tr><td>2023-09-02</td><td>60</td></tr><tr><td>2023-09-03</td><td>36</td></tr><tr><td>2023-09-04</td><td>26</td></tr><tr><td>2023-09-05</td><td>30</td></tr><tr><td>2023-09-06</td><td>25</td></tr><tr><td>2023-09-07</td><td>31</td></tr><tr><td>2023-09-08</td><td>28</td></tr><tr><td>2023-09-09</td><td>27</td></tr><tr><td>2023-09-10</td><td>29</td></tr><tr><td>2023-09-11</td><td>30</td></tr><tr><td>2023-09-12</td><td>30</td></tr><tr><td>2023-09-13</td><td>25</td></tr><tr><td>2023-09-14</td><td>43</td></tr><tr><td>2023-09-15</td><td>37</td></tr><tr><td>2023-09-16</td><td>46</td></tr><tr><td>2023-09-17</td><td>39</td></tr><tr><td>2023-09-18</td><td>16</td></tr><tr><td>2023-09-19</td><td>23</td></tr><tr><td>2023-09-20</td><td>25</td></tr><tr><td>2023-09-21</td><td>40</td></tr><tr><td>2023-09-22</td><td>32</td></tr><tr><td>2023-09-23</td><td>31</td></tr><tr><td>2023-09-24</td><td>57</td></tr><tr><td>2023-09-25</td><td>28</td></tr><tr><td>2023-09-26</td><td>28</td></tr><tr><td>2023-09-27</td><td>32</td></tr><tr><td>2023-09-28</td><td>42</td></tr><tr><td>2023-09-29</td><td>34</td></tr><tr><td>2023-09-30</td><td>39</td></tr><tr><td>2023-10-01</td><td>25</td></tr><tr><td>2023-10-02</td><td>19</td></tr><tr><td>2023-10-03</td><td>17</td></tr><tr><td>2023-10-04</td><td>28</td></tr><tr><td>2023-10-05</td><td>42</td></tr><tr><td>2023-10-06</td><td>33</td></tr><tr><td>2023-10-07</td><td>38</td></tr><tr><td>2023-10-08</td><td>34</td></tr><tr><td>2023-10-09</td><td>19</td></tr><tr><td>2023-10-10</td><td>18</td></tr><tr><td>2023-10-11</td><td>33</td></tr><tr><td>2023-10-12</td><td>25</td></tr><tr><td>2023-10-13</td><td>46</td></tr><tr><td>2023-10-14</td><td>31</td></tr><tr><td>2023-10-15</td><td>42</td></tr><tr><td>2023-10-16</td><td>49</td></tr><tr><td>2023-10-17</td><td>26</td></tr><tr><td>2023-10-18</td><td>42</td></tr><tr><td>2023-10-19</td><td>56</td></tr><tr><td>2023-10-20</td><td>28</td></tr><tr><td>2023-10-21</td><td>27</td></tr><tr><td>2023-10-22</td><td>36</td></tr><tr><td>2023-10-23</td><td>47</td></tr><tr><td>2023-10-24</td><td>27</td></tr><tr><td>2023-10-25</td><td>26</td></tr><tr><td>2023-10-26</td><td>26</td></tr><tr><td>2023-10-27</td><td>25</td></tr><tr><td>2023-10-28</td><td>41</td></tr><tr><td>2023-10-29</td><td>21</td></tr><tr><td>2023-10-30</td><td>43</td></tr><tr><td>2023-10-31</td><td>25</td></tr><tr><td>2023-11-01</td><td>35</td></tr><tr><td>2023-11-02</td><td>26</td></tr><tr><td>2023-11-03</td><td>34</td></tr><tr><td>2023-11-04</td><td>43</td></tr><tr><td>2023-11-05</td><td>29</td></tr><tr><td>2023-11-06</td><td>37</td></tr><tr><td>2023-11-07</td><td>28</td></tr><tr><td>2023-11-08</td><td>31</td></tr><tr><td>2023-11-09</td><td>20</td></tr><tr><td>2023-11-10</td><td>38</td></tr><tr><td>2023-11-11</td><td>32</td></tr><tr><td>2023-11-12</td><td>39</td></tr><tr><td>2023-11-13</td><td>26</td></tr><tr><td>2023-11-14</td><td>33</td></tr><tr><td>2023-11-15</td><td>23</td></tr><tr><td>2023-11-16</td><td>39</td></tr><tr><td>2023-11-17</td><td>45</td></tr><tr><td>2023-11-18</td><td>30</td></tr><tr><td>2023-11-19</td><td>17</td></tr><tr><td>2023-11-20</td><td>35</td></tr><tr><td>2023-11-21</td><td>36</td></tr><tr><td>2023-11-22</td><td>15</td></tr><tr><td>2023-11-23</td><td>40</td></tr><tr><td>2023-11-24</td><td>25</td></tr><tr><td>2023-11-25</td><td>44</td></tr><tr><td>2023-11-26</td><td>27</td></tr><tr><td>2023-11-27</td><td>25</td></tr><tr><td>2023-11-28</td><td>16</td></tr><tr><td>2023-11-29</td><td>20</td></tr><tr><td>2023-11-30</td><td>29</td></tr><tr><td>2023-12-01</td><td>27</td></tr><tr><td>2023-12-02</td><td>35</td></tr><tr><td>2023-12-03</td><td>13</td></tr><tr><td>2023-12-04</td><td>19</td></tr><tr><td>2023-12-05</td><td>26</td></tr><tr><td>2023-12-06</td><td>17</td></tr><tr><td>2023-12-07</td><td>8</td></tr><tr><td>2023-12-08</td><td>31</td></tr><tr><td>2023-12-09</td><td>32</td></tr><tr><td>2023-12-10</td><td>32</td></tr><tr><td>2023-12-11</td><td>32</td></tr><tr><td>2023-12-12</td><td>24</td></tr><tr><td>2023-12-13</td><td>27</td></tr><tr><td>2023-12-14</td><td>26</td></tr><tr><td>2023-12-15</td><td>29</td></tr><tr><td>2023-12-16</td><td>38</td></tr><tr><td>2023-12-17</td><td>43</td></tr><tr><td>2023-12-18</td><td>28</td></tr><tr><td>2023-12-19</td><td>31</td></tr><tr><td>2023-12-20</td><td>33</td></tr><tr><td>2023-12-21</td><td>48</td></tr><tr><td>2023-12-22</td><td>54</td></tr><tr><td>2023-12-23</td><td>18</td></tr><tr><td>2023-12-24</td><td>46</td></tr><tr><td>2023-12-25</td><td>27</td></tr><tr><td>2023-12-26</td><td>31</td></tr><tr><td>2023-12-27</td><td>22</td></tr><tr><td>2023-12-28</td><td>18</td></tr><tr><td>2023-12-29</td><td>37</td></tr><tr><td>2023-12-30</td><td>33</td></tr><tr><td>2023-12-31</td><td>29</td></tr><tr><td>2024-01-01</td><td>21</td></tr><tr><td>2024-01-02</td><td>18</td></tr><tr><td>2024-01-03</td><td>28</td></tr><tr><td>2024-01-04</td><td>34</td></tr><tr><td>2024-01-05</td><td>40</td></tr><tr><td>2024-01-06</td><td>24</td></tr><tr><td>2024-01-07</td><td>24</td></tr><tr><td>2024-01-08</td><td>27</td></tr><tr><td>2024-01-09</td><td>19</td></tr><tr><td>2024-01-10</td><td>32</td></tr><tr><td>2024-01-11</td><td>27</td></tr><tr><td>2024-01-12</td><td>40</td></tr><tr><td>2024-01-13</td><td>36</td></tr><tr><td>2024-01-14</td><td>40</td></tr><tr><td>2024-01-15</td><td>32</td></tr><tr><td>2024-01-16</td><td>35</td></tr><tr><td>2024-01-17</td><td>45</td></tr><tr><td>2024-01-18</td><td>41</td></tr><tr><td>2024-01-19</td><td>48</td></tr><tr><td>2024-01-20</td><td>41</td></tr><tr><td>2024-01-21</td><td>37</td></tr><tr><td>2024-01-22</td><td>39</td></tr><tr><td>2024-01-23</td><td>37</td></tr><tr><td>2024-01-24</td><td>28</td></tr><tr><td>2024-01-25</td><td>38</td></tr><tr><td>2024-01-26</td><td>30</td></tr><tr><td>2024-01-27</td><td>20</td></tr><tr><td>2024-01-28</td><td>23</td></tr><tr><td>2024-01-29</td><td>28</td></tr><tr><td>2024-01-30</td><td>39</td></tr><tr><td>2024-01-31</td><td>24</td></tr><tr><td>2024-02-01</td><td>20</td></tr><tr><td>2024-02-02</td><td>40</td></tr><tr><td>2024-02-03</td><td>35</td></tr><tr><td>2024-02-04</td><td>34</td></tr><tr><td>2024-02-05</td><td>31</td></tr><tr><td>2024-02-06</td><td>41</td></tr><tr><td>2024-02-07</td><td>37</td></tr><tr><td>2024-02-08</td><td>29</td></tr><tr><td>2024-02-09</td><td>48</td></tr><tr><td>2024-02-10</td><td>40</td></tr><tr><td>2024-02-11</td><td>13</td></tr><tr><td>2024-02-12</td><td>43</td></tr><tr><td>2024-02-13</td><td>29</td></tr><tr><td>2024-02-14</td><td>56</td></tr><tr><td>2024-02-15</td><td>33</td></tr><tr><td>2024-02-16</td><td>29</td></tr><tr><td>2024-02-17</td><td>26</td></tr><tr><td>2024-02-18</td><td>37</td></tr><tr><td>2024-02-19</td><td>16</td></tr><tr><td>2024-02-20</td><td>25</td></tr><tr><td>2024-02-21</td><td>33</td></tr><tr><td>2024-02-22</td><td>38</td></tr><tr><td>2024-02-23</td><td>26</td></tr><tr><td>2024-02-24</td><td>30</td></tr><tr><td>2024-02-25</td><td>43</td></tr><tr><td>2024-02-26</td><td>40</td></tr><tr><td>2024-02-27</td><td>28</td></tr><tr><td>2024-02-28</td><td>46</td></tr><tr><td>2024-02-29</td><td>46</td></tr><tr><td>2024-03-01</td><td>34</td></tr><tr><td>2024-03-02</td><td>37</td></tr><tr><td>2024-03-03</td><td>39</td></tr><tr><td>2024-03-04</td><td>31</td></tr><tr><td>2024-03-05</td><td>27</td></tr><tr><td>2024-03-06</td><td>27</td></tr><tr><td>2024-03-07</td><td>26</td></tr><tr><td>2024-03-08</td><td>50</td></tr><tr><td>2024-03-09</td><td>41</td></tr><tr><td>2024-03-10</td><td>28</td></tr><tr><td>2024-03-11</td><td>29</td></tr><tr><td>2024-03-12</td><td>33</td></tr><tr><td>2024-03-13</td><td>32</td></tr><tr><td>2024-03-14</td><td>28</td></tr><tr><td>2024-03-15</td><td>49</td></tr><tr><td>2024-03-16</td><td>26</td></tr><tr><td>2024-03-17</td><td>24</td></tr><tr><td>2024-03-18</td><td>40</td></tr><tr><td>2024-03-19</td><td>18</td></tr><tr><td>2024-03-20</td><td>31</td></tr><tr><td>2024-03-21</td><td>21</td></tr><tr><td>2024-03-22</td><td>49</td></tr><tr><td>2024-03-23</td><td>21</td></tr><tr><td>2024-03-24</td><td>34</td></tr><tr><td>2024-03-25</td><td>39</td></tr><tr><td>2024-03-26</td><td>10</td></tr><tr><td>2024-03-27</td><td>35</td></tr><tr><td>2024-03-28</td><td>42</td></tr><tr><td>2024-03-29</td><td>38</td></tr><tr><td>2024-03-30</td><td>39</td></tr><tr><td>2024-03-31</td><td>36</td></tr><tr><td>2024-04-01</td><td>39</td></tr><tr><td>2024-04-02</td><td>24</td></tr><tr><td>2024-04-03</td><td>29</td></tr><tr><td>2024-04-04</td><td>26</td></tr><tr><td>2024-04-05</td><td>30</td></tr><tr><td>2024-04-06</td><td>33</td></tr><tr><td>2024-04-07</td><td>33</td></tr><tr><td>2024-04-08</td><td>42</td></tr><tr><td>2024-04-09</td><td>29</td></tr><tr><td>2024-04-10</td><td>28</td></tr><tr><td>2024-04-11</td><td>37</td></tr><tr><td>2024-04-12</td><td>48</td></tr><tr><td>2024-04-13</td><td>27</td></tr><tr><td>2024-04-14</td><td>14</td></tr><tr><td>2024-04-15</td><td>3</td></tr></tbody></table></div>"
      ]
     },
     "metadata": {
      "application/vnd.databricks.v1+output": {
       "addedWidgets": {},
       "aggData": [],
       "aggError": "",
       "aggOverflow": false,
       "aggSchema": [],
       "aggSeriesLimitReached": false,
       "aggType": "",
       "arguments": {},
       "columnCustomDisplayInfos": {},
       "data": [
        [
         "2020-08-09",
         4
        ],
        [
         "2020-08-10",
         28
        ],
        [
         "2020-08-11",
         37
        ],
        [
         "2020-08-12",
         44
        ],
        [
         "2020-08-13",
         42
        ],
        [
         "2020-08-14",
         46
        ],
        [
         "2020-08-15",
         38
        ],
        [
         "2020-08-16",
         66
        ],
        [
         "2020-08-17",
         35
        ],
        [
         "2020-08-18",
         40
        ],
        [
         "2020-08-19",
         49
        ],
        [
         "2020-08-20",
         46
        ],
        [
         "2020-08-21",
         63
        ],
        [
         "2020-08-22",
         62
        ],
        [
         "2020-08-23",
         45
        ],
        [
         "2020-08-24",
         44
        ],
        [
         "2020-08-25",
         38
        ],
        [
         "2020-08-26",
         51
        ],
        [
         "2020-08-27",
         44
        ],
        [
         "2020-08-28",
         46
        ],
        [
         "2020-08-29",
         58
        ],
        [
         "2020-08-30",
         43
        ],
        [
         "2020-08-31",
         73
        ],
        [
         "2020-09-01",
         54
        ],
        [
         "2020-09-02",
         59
        ],
        [
         "2020-09-03",
         48
        ],
        [
         "2020-09-04",
         51
        ],
        [
         "2020-09-05",
         65
        ],
        [
         "2020-09-06",
         19
        ],
        [
         "2020-09-07",
         42
        ],
        [
         "2020-09-08",
         37
        ],
        [
         "2020-09-09",
         38
        ],
        [
         "2020-09-10",
         42
        ],
        [
         "2020-09-11",
         52
        ],
        [
         "2020-09-12",
         51
        ],
        [
         "2020-09-13",
         32
        ],
        [
         "2020-09-14",
         31
        ],
        [
         "2020-09-15",
         44
        ],
        [
         "2020-09-16",
         50
        ],
        [
         "2020-09-17",
         44
        ],
        [
         "2020-09-18",
         49
        ],
        [
         "2020-09-19",
         37
        ],
        [
         "2020-09-20",
         48
        ],
        [
         "2020-09-21",
         66
        ],
        [
         "2020-09-22",
         41
        ],
        [
         "2020-09-23",
         59
        ],
        [
         "2020-09-24",
         26
        ],
        [
         "2020-09-25",
         72
        ],
        [
         "2020-09-26",
         40
        ],
        [
         "2020-09-27",
         44
        ],
        [
         "2020-09-28",
         44
        ],
        [
         "2020-09-29",
         47
        ],
        [
         "2020-09-30",
         65
        ],
        [
         "2020-10-01",
         38
        ],
        [
         "2020-10-02",
         37
        ],
        [
         "2020-10-03",
         23
        ],
        [
         "2020-10-04",
         25
        ],
        [
         "2020-10-05",
         41
        ],
        [
         "2020-10-06",
         64
        ],
        [
         "2020-10-07",
         55
        ],
        [
         "2020-10-08",
         45
        ],
        [
         "2020-10-09",
         43
        ],
        [
         "2020-10-10",
         50
        ],
        [
         "2020-10-11",
         51
        ],
        [
         "2020-10-12",
         39
        ],
        [
         "2020-10-13",
         50
        ],
        [
         "2020-10-14",
         55
        ],
        [
         "2020-10-15",
         41
        ],
        [
         "2020-10-16",
         63
        ],
        [
         "2020-10-17",
         27
        ],
        [
         "2020-10-18",
         53
        ],
        [
         "2020-10-19",
         27
        ],
        [
         "2020-10-20",
         46
        ],
        [
         "2020-10-21",
         23
        ],
        [
         "2020-10-22",
         55
        ],
        [
         "2020-10-23",
         48
        ],
        [
         "2020-10-24",
         51
        ],
        [
         "2020-10-25",
         32
        ],
        [
         "2020-10-26",
         42
        ],
        [
         "2020-10-27",
         25
        ],
        [
         "2020-10-28",
         54
        ],
        [
         "2020-10-29",
         66
        ],
        [
         "2020-10-30",
         55
        ],
        [
         "2020-10-31",
         50
        ],
        [
         "2020-11-01",
         34
        ],
        [
         "2020-11-02",
         37
        ],
        [
         "2020-11-03",
         40
        ],
        [
         "2020-11-04",
         54
        ],
        [
         "2020-11-05",
         51
        ],
        [
         "2020-11-06",
         56
        ],
        [
         "2020-11-07",
         52
        ],
        [
         "2020-11-08",
         26
        ],
        [
         "2020-11-09",
         40
        ],
        [
         "2020-11-10",
         38
        ],
        [
         "2020-11-11",
         60
        ],
        [
         "2020-11-12",
         46
        ],
        [
         "2020-11-13",
         46
        ],
        [
         "2020-11-14",
         41
        ],
        [
         "2020-11-15",
         25
        ],
        [
         "2020-11-16",
         32
        ],
        [
         "2020-11-17",
         46
        ],
        [
         "2020-11-18",
         38
        ],
        [
         "2020-11-19",
         26
        ],
        [
         "2020-11-20",
         59
        ],
        [
         "2020-11-21",
         20
        ],
        [
         "2020-11-22",
         35
        ],
        [
         "2020-11-23",
         29
        ],
        [
         "2020-11-24",
         50
        ],
        [
         "2020-11-25",
         36
        ],
        [
         "2020-11-26",
         42
        ],
        [
         "2020-11-27",
         53
        ],
        [
         "2020-11-28",
         63
        ],
        [
         "2020-11-29",
         22
        ],
        [
         "2020-11-30",
         45
        ],
        [
         "2020-12-01",
         47
        ],
        [
         "2020-12-02",
         53
        ],
        [
         "2020-12-03",
         34
        ],
        [
         "2020-12-04",
         32
        ],
        [
         "2020-12-05",
         22
        ],
        [
         "2020-12-06",
         51
        ],
        [
         "2020-12-07",
         41
        ],
        [
         "2020-12-08",
         66
        ],
        [
         "2020-12-09",
         37
        ],
        [
         "2020-12-10",
         44
        ],
        [
         "2020-12-11",
         68
        ],
        [
         "2020-12-12",
         34
        ],
        [
         "2020-12-13",
         42
        ],
        [
         "2020-12-14",
         45
        ],
        [
         "2020-12-15",
         58
        ],
        [
         "2020-12-16",
         47
        ],
        [
         "2020-12-17",
         47
        ],
        [
         "2020-12-18",
         45
        ],
        [
         "2020-12-19",
         48
        ],
        [
         "2020-12-20",
         34
        ],
        [
         "2020-12-21",
         48
        ],
        [
         "2020-12-22",
         41
        ],
        [
         "2020-12-23",
         60
        ],
        [
         "2020-12-24",
         53
        ],
        [
         "2020-12-25",
         71
        ],
        [
         "2020-12-26",
         27
        ],
        [
         "2020-12-27",
         35
        ],
        [
         "2020-12-28",
         16
        ],
        [
         "2020-12-29",
         43
        ],
        [
         "2020-12-30",
         28
        ],
        [
         "2020-12-31",
         40
        ],
        [
         "2021-01-01",
         46
        ],
        [
         "2021-01-02",
         44
        ],
        [
         "2021-01-03",
         30
        ],
        [
         "2021-01-04",
         39
        ],
        [
         "2021-01-05",
         65
        ],
        [
         "2021-01-06",
         48
        ],
        [
         "2021-01-07",
         66
        ],
        [
         "2021-01-08",
         78
        ],
        [
         "2021-01-09",
         44
        ],
        [
         "2021-01-10",
         42
        ],
        [
         "2021-01-11",
         51
        ],
        [
         "2021-01-12",
         57
        ],
        [
         "2021-01-13",
         68
        ],
        [
         "2021-01-14",
         54
        ],
        [
         "2021-01-15",
         79
        ],
        [
         "2021-01-16",
         46
        ],
        [
         "2021-01-17",
         23
        ],
        [
         "2021-01-18",
         41
        ],
        [
         "2021-01-19",
         55
        ],
        [
         "2021-01-20",
         64
        ],
        [
         "2021-01-21",
         57
        ],
        [
         "2021-01-22",
         59
        ],
        [
         "2021-01-23",
         50
        ],
        [
         "2021-01-24",
         25
        ],
        [
         "2021-01-25",
         64
        ],
        [
         "2021-01-26",
         56
        ],
        [
         "2021-01-27",
         63
        ],
        [
         "2021-01-28",
         47
        ],
        [
         "2021-01-29",
         66
        ],
        [
         "2021-01-30",
         41
        ],
        [
         "2021-01-31",
         36
        ],
        [
         "2021-02-01",
         50
        ],
        [
         "2021-02-02",
         33
        ],
        [
         "2021-02-03",
         50
        ],
        [
         "2021-02-04",
         51
        ],
        [
         "2021-02-05",
         42
        ],
        [
         "2021-02-06",
         61
        ],
        [
         "2021-02-07",
         25
        ],
        [
         "2021-02-08",
         52
        ],
        [
         "2021-02-09",
         37
        ],
        [
         "2021-02-10",
         77
        ],
        [
         "2021-02-11",
         42
        ],
        [
         "2021-02-12",
         51
        ],
        [
         "2021-02-13",
         48
        ],
        [
         "2021-02-14",
         67
        ],
        [
         "2021-02-15",
         46
        ],
        [
         "2021-02-16",
         55
        ],
        [
         "2021-02-17",
         35
        ],
        [
         "2021-02-18",
         43
        ],
        [
         "2021-02-19",
         59
        ],
        [
         "2021-02-20",
         42
        ],
        [
         "2021-02-21",
         47
        ],
        [
         "2021-02-22",
         55
        ],
        [
         "2021-02-23",
         25
        ],
        [
         "2021-02-24",
         57
        ],
        [
         "2021-02-25",
         39
        ],
        [
         "2021-02-26",
         37
        ],
        [
         "2021-02-27",
         31
        ],
        [
         "2021-02-28",
         73
        ],
        [
         "2021-03-01",
         38
        ],
        [
         "2021-03-02",
         46
        ],
        [
         "2021-03-03",
         39
        ],
        [
         "2021-03-04",
         75
        ],
        [
         "2021-03-05",
         62
        ],
        [
         "2021-03-06",
         47
        ],
        [
         "2021-03-07",
         41
        ],
        [
         "2021-03-08",
         55
        ],
        [
         "2021-03-09",
         53
        ],
        [
         "2021-03-10",
         56
        ],
        [
         "2021-03-11",
         40
        ],
        [
         "2021-03-12",
         58
        ],
        [
         "2021-03-13",
         38
        ],
        [
         "2021-03-14",
         49
        ],
        [
         "2021-03-15",
         67
        ],
        [
         "2021-03-16",
         44
        ],
        [
         "2021-03-17",
         51
        ],
        [
         "2021-03-18",
         70
        ],
        [
         "2021-03-19",
         58
        ],
        [
         "2021-03-20",
         30
        ],
        [
         "2021-03-21",
         45
        ],
        [
         "2021-03-22",
         31
        ],
        [
         "2021-03-23",
         66
        ],
        [
         "2021-03-24",
         55
        ],
        [
         "2021-03-25",
         39
        ],
        [
         "2021-03-26",
         49
        ],
        [
         "2021-03-27",
         59
        ],
        [
         "2021-03-28",
         35
        ],
        [
         "2021-03-29",
         45
        ],
        [
         "2021-03-30",
         56
        ],
        [
         "2021-03-31",
         63
        ],
        [
         "2021-04-01",
         65
        ],
        [
         "2021-04-02",
         55
        ],
        [
         "2021-04-03",
         59
        ],
        [
         "2021-04-04",
         37
        ],
        [
         "2021-04-05",
         32
        ],
        [
         "2021-04-06",
         56
        ],
        [
         "2021-04-07",
         35
        ],
        [
         "2021-04-08",
         39
        ],
        [
         "2021-04-09",
         63
        ],
        [
         "2021-04-10",
         36
        ],
        [
         "2021-04-11",
         22
        ],
        [
         "2021-04-12",
         39
        ],
        [
         "2021-04-13",
         71
        ],
        [
         "2021-04-14",
         56
        ],
        [
         "2021-04-15",
         65
        ],
        [
         "2021-04-16",
         53
        ],
        [
         "2021-04-17",
         49
        ],
        [
         "2021-04-18",
         49
        ],
        [
         "2021-04-19",
         54
        ],
        [
         "2021-04-20",
         28
        ],
        [
         "2021-04-21",
         64
        ],
        [
         "2021-04-22",
         52
        ],
        [
         "2021-04-23",
         67
        ],
        [
         "2021-04-24",
         36
        ],
        [
         "2021-04-25",
         43
        ],
        [
         "2021-04-26",
         34
        ],
        [
         "2021-04-27",
         58
        ],
        [
         "2021-04-28",
         39
        ],
        [
         "2021-04-29",
         58
        ],
        [
         "2021-04-30",
         44
        ],
        [
         "2021-05-01",
         45
        ],
        [
         "2021-05-02",
         41
        ],
        [
         "2021-05-03",
         40
        ],
        [
         "2021-05-04",
         37
        ],
        [
         "2021-05-05",
         41
        ],
        [
         "2021-05-06",
         56
        ],
        [
         "2021-05-07",
         51
        ],
        [
         "2021-05-08",
         43
        ],
        [
         "2021-05-09",
         30
        ],
        [
         "2021-05-10",
         43
        ],
        [
         "2021-05-11",
         56
        ],
        [
         "2021-05-12",
         43
        ],
        [
         "2021-05-13",
         48
        ],
        [
         "2021-05-14",
         65
        ],
        [
         "2021-05-15",
         51
        ],
        [
         "2021-05-16",
         42
        ],
        [
         "2021-05-17",
         35
        ],
        [
         "2021-05-18",
         78
        ],
        [
         "2021-05-19",
         60
        ],
        [
         "2021-05-20",
         55
        ],
        [
         "2021-05-21",
         27
        ],
        [
         "2021-05-22",
         17
        ],
        [
         "2021-05-23",
         5
        ],
        [
         "2021-05-27",
         10
        ],
        [
         "2021-05-28",
         68
        ],
        [
         "2021-05-29",
         84
        ],
        [
         "2021-05-30",
         81
        ],
        [
         "2021-05-31",
         77
        ],
        [
         "2021-06-01",
         110
        ],
        [
         "2021-06-02",
         51
        ],
        [
         "2021-06-03",
         48
        ],
        [
         "2021-06-04",
         70
        ],
        [
         "2021-06-05",
         101
        ],
        [
         "2021-06-06",
         122
        ],
        [
         "2021-06-07",
         103
        ],
        [
         "2021-06-08",
         68
        ],
        [
         "2021-06-09",
         84
        ],
        [
         "2021-06-10",
         84
        ],
        [
         "2021-06-11",
         81
        ],
        [
         "2021-06-12",
         59
        ],
        [
         "2021-06-13",
         62
        ],
        [
         "2021-06-14",
         107
        ],
        [
         "2021-06-15",
         72
        ],
        [
         "2021-06-16",
         40
        ],
        [
         "2021-06-17",
         52
        ],
        [
         "2021-06-18",
         63
        ],
        [
         "2021-06-19",
         51
        ],
        [
         "2021-06-20",
         44
        ],
        [
         "2021-06-21",
         61
        ],
        [
         "2021-06-22",
         42
        ],
        [
         "2021-06-23",
         53
        ],
        [
         "2021-06-24",
         23
        ],
        [
         "2021-06-25",
         40
        ],
        [
         "2021-06-26",
         44
        ],
        [
         "2021-06-27",
         39
        ],
        [
         "2021-06-28",
         53
        ],
        [
         "2021-06-29",
         40
        ],
        [
         "2021-06-30",
         35
        ],
        [
         "2021-07-01",
         62
        ],
        [
         "2021-07-02",
         66
        ],
        [
         "2021-07-03",
         58
        ],
        [
         "2021-07-04",
         48
        ],
        [
         "2021-07-05",
         40
        ],
        [
         "2021-07-06",
         55
        ],
        [
         "2021-07-07",
         69
        ],
        [
         "2021-07-08",
         68
        ],
        [
         "2021-07-09",
         80
        ],
        [
         "2021-07-10",
         50
        ],
        [
         "2021-07-11",
         35
        ],
        [
         "2021-07-12",
         52
        ],
        [
         "2021-07-13",
         62
        ],
        [
         "2021-07-14",
         58
        ],
        [
         "2021-07-15",
         39
        ],
        [
         "2021-07-16",
         63
        ],
        [
         "2021-07-17",
         43
        ],
        [
         "2021-07-18",
         34
        ],
        [
         "2021-07-19",
         63
        ],
        [
         "2021-07-20",
         45
        ],
        [
         "2021-07-21",
         47
        ],
        [
         "2021-07-22",
         48
        ],
        [
         "2021-07-23",
         51
        ],
        [
         "2021-07-24",
         55
        ],
        [
         "2021-07-25",
         45
        ],
        [
         "2021-07-26",
         70
        ],
        [
         "2021-07-27",
         44
        ],
        [
         "2021-07-28",
         51
        ],
        [
         "2021-07-29",
         56
        ],
        [
         "2021-07-30",
         49
        ],
        [
         "2021-07-31",
         39
        ],
        [
         "2021-08-01",
         35
        ],
        [
         "2021-08-02",
         43
        ],
        [
         "2021-08-03",
         31
        ],
        [
         "2021-08-04",
         56
        ],
        [
         "2021-08-05",
         35
        ],
        [
         "2021-08-06",
         56
        ],
        [
         "2021-08-07",
         57
        ],
        [
         "2021-08-08",
         43
        ],
        [
         "2021-08-09",
         40
        ],
        [
         "2021-08-10",
         40
        ],
        [
         "2021-08-11",
         56
        ],
        [
         "2021-08-12",
         29
        ],
        [
         "2021-08-13",
         55
        ],
        [
         "2021-08-14",
         43
        ],
        [
         "2021-08-15",
         40
        ],
        [
         "2021-08-16",
         29
        ],
        [
         "2021-08-17",
         12
        ],
        [
         "2021-08-18",
         42
        ],
        [
         "2021-08-19",
         48
        ],
        [
         "2021-08-20",
         60
        ],
        [
         "2021-08-21",
         58
        ],
        [
         "2021-08-22",
         69
        ],
        [
         "2021-08-23",
         34
        ],
        [
         "2021-08-24",
         45
        ],
        [
         "2021-08-25",
         22
        ],
        [
         "2021-08-26",
         37
        ],
        [
         "2021-08-27",
         57
        ],
        [
         "2021-08-28",
         60
        ],
        [
         "2021-08-29",
         56
        ],
        [
         "2021-08-30",
         52
        ],
        [
         "2021-08-31",
         35
        ],
        [
         "2021-09-01",
         39
        ],
        [
         "2021-09-02",
         36
        ],
        [
         "2021-09-03",
         31
        ],
        [
         "2021-09-04",
         64
        ],
        [
         "2021-09-05",
         78
        ],
        [
         "2021-09-06",
         46
        ],
        [
         "2021-09-07",
         76
        ],
        [
         "2021-09-08",
         52
        ],
        [
         "2021-09-09",
         70
        ],
        [
         "2021-09-10",
         62
        ],
        [
         "2021-09-11",
         79
        ],
        [
         "2021-09-12",
         55
        ],
        [
         "2021-09-13",
         61
        ],
        [
         "2021-09-14",
         58
        ],
        [
         "2021-09-15",
         57
        ],
        [
         "2021-09-16",
         45
        ],
        [
         "2021-09-17",
         77
        ],
        [
         "2021-09-18",
         86
        ],
        [
         "2021-09-19",
         65
        ],
        [
         "2021-09-20",
         64
        ],
        [
         "2021-09-21",
         57
        ],
        [
         "2021-09-22",
         93
        ],
        [
         "2021-09-23",
         83
        ],
        [
         "2021-09-24",
         76
        ],
        [
         "2021-09-25",
         73
        ],
        [
         "2021-09-26",
         71
        ],
        [
         "2021-09-27",
         69
        ],
        [
         "2021-09-28",
         81
        ],
        [
         "2021-09-29",
         48
        ],
        [
         "2021-09-30",
         102
        ],
        [
         "2021-10-01",
         64
        ],
        [
         "2021-10-02",
         69
        ],
        [
         "2021-10-03",
         72
        ],
        [
         "2021-10-04",
         73
        ],
        [
         "2021-10-05",
         69
        ],
        [
         "2021-10-06",
         71
        ],
        [
         "2021-10-07",
         50
        ],
        [
         "2021-10-08",
         61
        ],
        [
         "2021-10-09",
         65
        ],
        [
         "2021-10-10",
         67
        ],
        [
         "2021-10-11",
         57
        ],
        [
         "2021-10-12",
         77
        ],
        [
         "2021-10-13",
         49
        ],
        [
         "2021-10-14",
         69
        ],
        [
         "2021-10-15",
         81
        ],
        [
         "2021-10-16",
         74
        ],
        [
         "2021-10-17",
         74
        ],
        [
         "2021-10-18",
         80
        ],
        [
         "2021-10-19",
         38
        ],
        [
         "2021-10-20",
         70
        ],
        [
         "2021-10-21",
         58
        ],
        [
         "2021-10-22",
         84
        ],
        [
         "2021-10-23",
         71
        ],
        [
         "2021-10-24",
         79
        ],
        [
         "2021-10-25",
         93
        ],
        [
         "2021-10-26",
         56
        ],
        [
         "2021-10-27",
         71
        ],
        [
         "2021-10-28",
         80
        ],
        [
         "2021-10-29",
         71
        ],
        [
         "2021-10-30",
         91
        ],
        [
         "2021-10-31",
         63
        ],
        [
         "2021-11-01",
         68
        ],
        [
         "2021-11-02",
         67
        ],
        [
         "2021-11-03",
         69
        ],
        [
         "2021-11-04",
         77
        ],
        [
         "2021-11-05",
         38
        ],
        [
         "2021-11-06",
         61
        ],
        [
         "2021-11-07",
         81
        ],
        [
         "2021-11-08",
         63
        ],
        [
         "2021-11-09",
         61
        ],
        [
         "2021-11-10",
         48
        ],
        [
         "2021-11-11",
         79
        ],
        [
         "2021-11-12",
         77
        ],
        [
         "2021-11-13",
         71
        ],
        [
         "2021-11-14",
         41
        ],
        [
         "2021-11-15",
         75
        ],
        [
         "2021-11-16",
         75
        ],
        [
         "2021-11-17",
         54
        ],
        [
         "2021-11-18",
         61
        ],
        [
         "2021-11-19",
         78
        ],
        [
         "2021-11-20",
         61
        ],
        [
         "2021-11-21",
         71
        ],
        [
         "2021-11-22",
         56
        ],
        [
         "2021-11-23",
         53
        ],
        [
         "2021-11-24",
         67
        ],
        [
         "2021-11-25",
         52
        ],
        [
         "2021-11-26",
         51
        ],
        [
         "2021-11-27",
         59
        ],
        [
         "2021-11-28",
         70
        ],
        [
         "2021-11-29",
         73
        ],
        [
         "2021-11-30",
         80
        ],
        [
         "2021-12-01",
         58
        ],
        [
         "2021-12-02",
         52
        ],
        [
         "2021-12-03",
         52
        ],
        [
         "2021-12-04",
         72
        ],
        [
         "2021-12-05",
         85
        ],
        [
         "2021-12-06",
         69
        ],
        [
         "2021-12-07",
         72
        ],
        [
         "2021-12-08",
         71
        ],
        [
         "2021-12-09",
         93
        ],
        [
         "2021-12-10",
         82
        ],
        [
         "2021-12-11",
         50
        ],
        [
         "2021-12-12",
         54
        ],
        [
         "2021-12-13",
         57
        ],
        [
         "2021-12-14",
         63
        ],
        [
         "2021-12-15",
         63
        ],
        [
         "2021-12-16",
         67
        ],
        [
         "2021-12-17",
         88
        ],
        [
         "2021-12-18",
         67
        ],
        [
         "2021-12-19",
         93
        ],
        [
         "2021-12-20",
         103
        ],
        [
         "2021-12-21",
         57
        ],
        [
         "2021-12-22",
         71
        ],
        [
         "2021-12-23",
         83
        ],
        [
         "2021-12-24",
         61
        ],
        [
         "2021-12-25",
         72
        ],
        [
         "2021-12-26",
         79
        ],
        [
         "2021-12-27",
         58
        ],
        [
         "2021-12-28",
         70
        ],
        [
         "2021-12-29",
         60
        ],
        [
         "2021-12-30",
         82
        ],
        [
         "2021-12-31",
         52
        ],
        [
         "2022-01-01",
         52
        ],
        [
         "2022-01-02",
         58
        ],
        [
         "2022-01-03",
         69
        ],
        [
         "2022-01-04",
         87
        ],
        [
         "2022-01-05",
         71
        ],
        [
         "2022-01-06",
         68
        ],
        [
         "2022-01-07",
         70
        ],
        [
         "2022-01-08",
         52
        ],
        [
         "2022-01-09",
         81
        ],
        [
         "2022-01-10",
         60
        ],
        [
         "2022-01-11",
         72
        ],
        [
         "2022-01-12",
         62
        ],
        [
         "2022-01-13",
         64
        ],
        [
         "2022-01-14",
         49
        ],
        [
         "2022-01-15",
         56
        ],
        [
         "2022-01-16",
         65
        ],
        [
         "2022-01-17",
         74
        ],
        [
         "2022-01-18",
         102
        ],
        [
         "2022-01-19",
         55
        ],
        [
         "2022-01-20",
         80
        ],
        [
         "2022-01-21",
         74
        ],
        [
         "2022-01-22",
         55
        ],
        [
         "2022-01-23",
         80
        ],
        [
         "2022-01-24",
         79
        ],
        [
         "2022-01-25",
         61
        ],
        [
         "2022-01-26",
         81
        ],
        [
         "2022-01-27",
         88
        ],
        [
         "2022-01-28",
         102
        ],
        [
         "2022-01-29",
         68
        ],
        [
         "2022-01-30",
         81
        ],
        [
         "2022-01-31",
         72
        ],
        [
         "2022-02-01",
         93
        ],
        [
         "2022-02-02",
         100
        ],
        [
         "2022-02-03",
         73
        ],
        [
         "2022-02-04",
         101
        ],
        [
         "2022-02-05",
         57
        ],
        [
         "2022-02-06",
         96
        ],
        [
         "2022-02-07",
         97
        ],
        [
         "2022-02-08",
         83
        ],
        [
         "2022-02-09",
         73
        ],
        [
         "2022-02-10",
         80
        ],
        [
         "2022-02-11",
         90
        ],
        [
         "2022-02-12",
         82
        ],
        [
         "2022-02-13",
         90
        ],
        [
         "2022-02-14",
         102
        ],
        [
         "2022-02-15",
         60
        ],
        [
         "2022-02-16",
         91
        ],
        [
         "2022-02-17",
         87
        ],
        [
         "2022-02-18",
         73
        ],
        [
         "2022-02-19",
         61
        ],
        [
         "2022-02-20",
         101
        ],
        [
         "2022-02-21",
         87
        ],
        [
         "2022-02-22",
         80
        ],
        [
         "2022-02-23",
         57
        ],
        [
         "2022-02-24",
         77
        ],
        [
         "2022-02-25",
         90
        ],
        [
         "2022-02-26",
         116
        ],
        [
         "2022-02-27",
         92
        ],
        [
         "2022-02-28",
         82
        ],
        [
         "2022-03-01",
         94
        ],
        [
         "2022-03-02",
         90
        ],
        [
         "2022-03-03",
         45
        ],
        [
         "2022-03-04",
         61
        ],
        [
         "2022-03-05",
         60
        ],
        [
         "2022-03-06",
         56
        ],
        [
         "2022-03-07",
         76
        ],
        [
         "2022-03-08",
         92
        ],
        [
         "2022-03-09",
         72
        ],
        [
         "2022-03-10",
         74
        ],
        [
         "2022-03-11",
         86
        ],
        [
         "2022-03-12",
         83
        ],
        [
         "2022-03-13",
         110
        ],
        [
         "2022-03-14",
         63
        ],
        [
         "2022-03-15",
         101
        ],
        [
         "2022-03-16",
         98
        ],
        [
         "2022-03-17",
         63
        ],
        [
         "2022-03-18",
         67
        ],
        [
         "2022-03-19",
         69
        ],
        [
         "2022-03-20",
         89
        ],
        [
         "2022-03-21",
         66
        ],
        [
         "2022-03-22",
         55
        ],
        [
         "2022-03-23",
         63
        ],
        [
         "2022-03-24",
         56
        ],
        [
         "2022-03-25",
         93
        ],
        [
         "2022-03-26",
         68
        ],
        [
         "2022-03-27",
         60
        ],
        [
         "2022-03-28",
         46
        ],
        [
         "2022-03-29",
         59
        ],
        [
         "2022-03-30",
         108
        ],
        [
         "2022-03-31",
         71
        ],
        [
         "2022-04-01",
         76
        ],
        [
         "2022-04-02",
         73
        ],
        [
         "2022-04-03",
         62
        ],
        [
         "2022-04-04",
         70
        ],
        [
         "2022-04-05",
         45
        ],
        [
         "2022-04-06",
         52
        ],
        [
         "2022-04-07",
         55
        ],
        [
         "2022-04-08",
         94
        ],
        [
         "2022-04-09",
         97
        ],
        [
         "2022-04-10",
         84
        ],
        [
         "2022-04-11",
         80
        ],
        [
         "2022-04-12",
         77
        ],
        [
         "2022-04-13",
         71
        ],
        [
         "2022-04-14",
         108
        ],
        [
         "2022-04-15",
         54
        ],
        [
         "2022-04-16",
         69
        ],
        [
         "2022-04-17",
         77
        ],
        [
         "2022-04-18",
         95
        ],
        [
         "2022-04-19",
         80
        ],
        [
         "2022-04-20",
         88
        ],
        [
         "2022-04-21",
         68
        ],
        [
         "2022-04-22",
         80
        ],
        [
         "2022-04-23",
         63
        ],
        [
         "2022-04-24",
         94
        ],
        [
         "2022-04-25",
         69
        ],
        [
         "2022-04-26",
         63
        ],
        [
         "2022-04-27",
         86
        ],
        [
         "2022-04-28",
         83
        ],
        [
         "2022-04-29",
         94
        ],
        [
         "2022-04-30",
         86
        ],
        [
         "2022-05-01",
         82
        ],
        [
         "2022-05-02",
         45
        ],
        [
         "2022-05-03",
         56
        ],
        [
         "2022-05-04",
         86
        ],
        [
         "2022-05-05",
         82
        ],
        [
         "2022-05-06",
         93
        ],
        [
         "2022-05-07",
         69
        ],
        [
         "2022-05-08",
         59
        ],
        [
         "2022-05-09",
         69
        ],
        [
         "2022-05-10",
         69
        ],
        [
         "2022-05-11",
         104
        ],
        [
         "2022-05-12",
         72
        ],
        [
         "2022-05-13",
         63
        ],
        [
         "2022-05-14",
         73
        ],
        [
         "2022-05-15",
         68
        ],
        [
         "2022-05-16",
         70
        ],
        [
         "2022-05-17",
         84
        ],
        [
         "2022-05-18",
         88
        ],
        [
         "2022-05-19",
         49
        ],
        [
         "2022-05-20",
         29
        ],
        [
         "2022-05-21",
         43
        ],
        [
         "2022-05-22",
         58
        ],
        [
         "2022-05-23",
         85
        ],
        [
         "2022-05-24",
         111
        ],
        [
         "2022-05-25",
         86
        ],
        [
         "2022-05-26",
         90
        ],
        [
         "2022-05-27",
         84
        ],
        [
         "2022-05-28",
         61
        ],
        [
         "2022-05-29",
         43
        ],
        [
         "2022-05-30",
         67
        ],
        [
         "2022-05-31",
         70
        ],
        [
         "2022-06-01",
         70
        ],
        [
         "2022-06-02",
         59
        ],
        [
         "2022-06-03",
         56
        ],
        [
         "2022-06-04",
         72
        ],
        [
         "2022-06-05",
         67
        ],
        [
         "2022-06-06",
         73
        ],
        [
         "2022-06-07",
         75
        ],
        [
         "2022-06-08",
         64
        ],
        [
         "2022-06-09",
         53
        ],
        [
         "2022-06-10",
         86
        ],
        [
         "2022-06-11",
         59
        ],
        [
         "2022-06-12",
         93
        ],
        [
         "2022-06-13",
         91
        ],
        [
         "2022-06-14",
         73
        ],
        [
         "2022-06-15",
         90
        ],
        [
         "2022-06-16",
         80
        ],
        [
         "2022-06-17",
         79
        ],
        [
         "2022-06-18",
         60
        ],
        [
         "2022-06-19",
         75
        ],
        [
         "2022-06-20",
         88
        ],
        [
         "2022-06-21",
         79
        ],
        [
         "2022-06-22",
         80
        ],
        [
         "2022-06-23",
         70
        ],
        [
         "2022-06-24",
         100
        ],
        [
         "2022-06-25",
         108
        ],
        [
         "2022-06-26",
         87
        ],
        [
         "2022-06-27",
         56
        ],
        [
         "2022-06-28",
         74
        ],
        [
         "2022-06-29",
         62
        ],
        [
         "2022-06-30",
         55
        ],
        [
         "2022-07-01",
         72
        ],
        [
         "2022-07-02",
         88
        ],
        [
         "2022-07-03",
         69
        ],
        [
         "2022-07-04",
         76
        ],
        [
         "2022-07-05",
         71
        ],
        [
         "2022-07-06",
         94
        ],
        [
         "2022-07-07",
         72
        ],
        [
         "2022-07-08",
         92
        ],
        [
         "2022-07-09",
         69
        ],
        [
         "2022-07-10",
         80
        ],
        [
         "2022-07-11",
         93
        ],
        [
         "2022-07-12",
         102
        ],
        [
         "2022-07-13",
         96
        ],
        [
         "2022-07-14",
         68
        ],
        [
         "2022-07-15",
         80
        ],
        [
         "2022-07-16",
         89
        ],
        [
         "2022-07-17",
         68
        ],
        [
         "2022-07-18",
         87
        ],
        [
         "2022-07-19",
         63
        ],
        [
         "2022-07-20",
         69
        ],
        [
         "2022-07-21",
         66
        ],
        [
         "2022-07-22",
         91
        ],
        [
         "2022-07-23",
         59
        ],
        [
         "2022-07-24",
         96
        ],
        [
         "2022-07-25",
         84
        ],
        [
         "2022-07-26",
         62
        ],
        [
         "2022-07-27",
         51
        ],
        [
         "2022-07-28",
         92
        ],
        [
         "2022-07-29",
         84
        ],
        [
         "2022-07-30",
         88
        ],
        [
         "2022-07-31",
         88
        ],
        [
         "2022-08-01",
         67
        ],
        [
         "2022-08-02",
         98
        ],
        [
         "2022-08-03",
         76
        ],
        [
         "2022-08-04",
         55
        ],
        [
         "2022-08-05",
         88
        ],
        [
         "2022-08-06",
         103
        ],
        [
         "2022-08-07",
         80
        ],
        [
         "2022-08-08",
         75
        ],
        [
         "2022-08-09",
         82
        ],
        [
         "2022-08-10",
         100
        ],
        [
         "2022-08-11",
         89
        ],
        [
         "2022-08-12",
         85
        ],
        [
         "2022-08-13",
         58
        ],
        [
         "2022-08-14",
         76
        ],
        [
         "2022-08-15",
         63
        ],
        [
         "2022-08-16",
         74
        ],
        [
         "2022-08-17",
         62
        ],
        [
         "2022-08-18",
         83
        ],
        [
         "2022-08-19",
         120
        ],
        [
         "2022-08-20",
         115
        ],
        [
         "2022-08-21",
         85
        ],
        [
         "2022-08-22",
         63
        ],
        [
         "2022-08-23",
         99
        ],
        [
         "2022-08-24",
         69
        ],
        [
         "2022-08-25",
         67
        ],
        [
         "2022-08-26",
         100
        ],
        [
         "2022-08-27",
         53
        ],
        [
         "2022-08-28",
         70
        ],
        [
         "2022-08-29",
         81
        ],
        [
         "2022-08-30",
         80
        ],
        [
         "2022-08-31",
         69
        ],
        [
         "2022-09-01",
         73
        ],
        [
         "2022-09-02",
         70
        ],
        [
         "2022-09-03",
         83
        ],
        [
         "2022-09-04",
         58
        ],
        [
         "2022-09-05",
         73
        ],
        [
         "2022-09-06",
         65
        ],
        [
         "2022-09-07",
         81
        ],
        [
         "2022-09-08",
         106
        ],
        [
         "2022-09-09",
         80
        ],
        [
         "2022-09-10",
         57
        ],
        [
         "2022-09-11",
         69
        ],
        [
         "2022-09-12",
         65
        ],
        [
         "2022-09-13",
         84
        ],
        [
         "2022-09-14",
         67
        ],
        [
         "2022-09-15",
         78
        ],
        [
         "2022-09-16",
         64
        ],
        [
         "2022-09-17",
         86
        ],
        [
         "2022-09-18",
         76
        ],
        [
         "2022-09-19",
         83
        ],
        [
         "2022-09-20",
         70
        ],
        [
         "2022-09-21",
         86
        ],
        [
         "2022-09-22",
         85
        ],
        [
         "2022-09-23",
         69
        ],
        [
         "2022-09-24",
         57
        ],
        [
         "2022-09-25",
         74
        ],
        [
         "2022-09-26",
         75
        ],
        [
         "2022-09-27",
         79
        ],
        [
         "2022-09-28",
         61
        ],
        [
         "2022-09-29",
         68
        ],
        [
         "2022-09-30",
         53
        ],
        [
         "2022-10-01",
         70
        ],
        [
         "2022-10-02",
         63
        ],
        [
         "2022-10-03",
         57
        ],
        [
         "2022-10-04",
         64
        ],
        [
         "2022-10-05",
         43
        ],
        [
         "2022-10-06",
         42
        ],
        [
         "2022-10-07",
         71
        ],
        [
         "2022-10-08",
         45
        ],
        [
         "2022-10-09",
         69
        ],
        [
         "2022-10-10",
         43
        ],
        [
         "2022-10-11",
         38
        ],
        [
         "2022-10-12",
         37
        ],
        [
         "2022-10-13",
         42
        ],
        [
         "2022-10-14",
         41
        ],
        [
         "2022-10-15",
         27
        ],
        [
         "2022-10-16",
         58
        ],
        [
         "2022-10-17",
         31
        ],
        [
         "2022-10-18",
         64
        ],
        [
         "2022-10-19",
         49
        ],
        [
         "2022-10-20",
         37
        ],
        [
         "2022-10-21",
         27
        ],
        [
         "2022-10-22",
         48
        ],
        [
         "2022-10-23",
         54
        ],
        [
         "2022-10-24",
         38
        ],
        [
         "2022-10-25",
         48
        ],
        [
         "2022-10-26",
         43
        ],
        [
         "2022-10-27",
         41
        ],
        [
         "2022-10-28",
         59
        ],
        [
         "2022-10-29",
         29
        ],
        [
         "2022-10-30",
         56
        ],
        [
         "2022-10-31",
         28
        ],
        [
         "2022-11-01",
         50
        ],
        [
         "2022-11-02",
         55
        ],
        [
         "2022-11-03",
         53
        ],
        [
         "2022-11-04",
         43
        ],
        [
         "2022-11-05",
         44
        ],
        [
         "2022-11-06",
         48
        ],
        [
         "2022-11-07",
         49
        ],
        [
         "2022-11-08",
         37
        ],
        [
         "2022-11-09",
         53
        ],
        [
         "2022-11-10",
         40
        ],
        [
         "2022-11-11",
         33
        ],
        [
         "2022-11-12",
         34
        ],
        [
         "2022-11-13",
         48
        ],
        [
         "2022-11-14",
         24
        ],
        [
         "2022-11-15",
         63
        ],
        [
         "2022-11-16",
         53
        ],
        [
         "2022-11-17",
         17
        ],
        [
         "2022-11-18",
         53
        ],
        [
         "2022-11-19",
         18
        ],
        [
         "2022-11-20",
         27
        ],
        [
         "2022-11-21",
         29
        ],
        [
         "2022-11-22",
         15
        ],
        [
         "2022-11-23",
         38
        ],
        [
         "2022-11-24",
         37
        ],
        [
         "2022-11-25",
         41
        ],
        [
         "2022-11-26",
         30
        ],
        [
         "2022-11-27",
         29
        ],
        [
         "2022-11-28",
         25
        ],
        [
         "2022-11-29",
         42
        ],
        [
         "2022-11-30",
         53
        ],
        [
         "2022-12-01",
         46
        ],
        [
         "2022-12-02",
         39
        ],
        [
         "2022-12-03",
         28
        ],
        [
         "2022-12-04",
         47
        ],
        [
         "2022-12-05",
         26
        ],
        [
         "2022-12-06",
         30
        ],
        [
         "2022-12-07",
         34
        ],
        [
         "2022-12-08",
         42
        ],
        [
         "2022-12-09",
         45
        ],
        [
         "2022-12-10",
         29
        ],
        [
         "2022-12-11",
         38
        ],
        [
         "2022-12-12",
         34
        ],
        [
         "2022-12-13",
         61
        ],
        [
         "2022-12-14",
         21
        ],
        [
         "2022-12-15",
         47
        ],
        [
         "2022-12-16",
         49
        ],
        [
         "2022-12-17",
         31
        ],
        [
         "2022-12-18",
         36
        ],
        [
         "2022-12-19",
         34
        ],
        [
         "2022-12-20",
         48
        ],
        [
         "2022-12-21",
         44
        ],
        [
         "2022-12-22",
         39
        ],
        [
         "2022-12-23",
         49
        ],
        [
         "2022-12-24",
         37
        ],
        [
         "2022-12-25",
         44
        ],
        [
         "2022-12-26",
         26
        ],
        [
         "2022-12-27",
         38
        ],
        [
         "2022-12-28",
         36
        ],
        [
         "2022-12-29",
         27
        ],
        [
         "2022-12-30",
         29
        ],
        [
         "2022-12-31",
         44
        ],
        [
         "2023-01-01",
         32
        ],
        [
         "2023-01-02",
         32
        ],
        [
         "2023-01-03",
         28
        ],
        [
         "2023-01-04",
         35
        ],
        [
         "2023-01-05",
         45
        ],
        [
         "2023-01-06",
         41
        ],
        [
         "2023-01-07",
         37
        ],
        [
         "2023-01-08",
         28
        ],
        [
         "2023-01-09",
         27
        ],
        [
         "2023-01-10",
         25
        ],
        [
         "2023-01-11",
         34
        ],
        [
         "2023-01-12",
         23
        ],
        [
         "2023-01-13",
         33
        ],
        [
         "2023-01-14",
         36
        ],
        [
         "2023-01-15",
         49
        ],
        [
         "2023-01-16",
         30
        ],
        [
         "2023-01-17",
         47
        ],
        [
         "2023-01-18",
         29
        ],
        [
         "2023-01-19",
         30
        ],
        [
         "2023-01-20",
         43
        ],
        [
         "2023-01-21",
         30
        ],
        [
         "2023-01-22",
         48
        ],
        [
         "2023-01-23",
         35
        ],
        [
         "2023-01-24",
         26
        ],
        [
         "2023-01-25",
         53
        ],
        [
         "2023-01-26",
         48
        ],
        [
         "2023-01-27",
         54
        ],
        [
         "2023-01-28",
         25
        ],
        [
         "2023-01-29",
         27
        ],
        [
         "2023-01-30",
         31
        ],
        [
         "2023-01-31",
         53
        ],
        [
         "2023-02-01",
         39
        ],
        [
         "2023-02-02",
         33
        ],
        [
         "2023-02-03",
         51
        ],
        [
         "2023-02-04",
         30
        ],
        [
         "2023-02-05",
         46
        ],
        [
         "2023-02-06",
         32
        ],
        [
         "2023-02-07",
         38
        ],
        [
         "2023-02-08",
         41
        ],
        [
         "2023-02-09",
         34
        ],
        [
         "2023-02-10",
         51
        ],
        [
         "2023-02-11",
         15
        ],
        [
         "2023-02-12",
         7
        ],
        [
         "2023-02-13",
         17
        ],
        [
         "2023-02-14",
         28
        ],
        [
         "2023-02-15",
         46
        ],
        [
         "2023-02-16",
         32
        ],
        [
         "2023-02-17",
         38
        ],
        [
         "2023-02-18",
         33
        ],
        [
         "2023-02-19",
         27
        ],
        [
         "2023-02-20",
         22
        ],
        [
         "2023-02-21",
         40
        ],
        [
         "2023-02-22",
         31
        ],
        [
         "2023-02-23",
         20
        ],
        [
         "2023-02-24",
         50
        ],
        [
         "2023-02-25",
         33
        ],
        [
         "2023-02-26",
         25
        ],
        [
         "2023-02-27",
         35
        ],
        [
         "2023-02-28",
         47
        ],
        [
         "2023-03-01",
         38
        ],
        [
         "2023-03-02",
         24
        ],
        [
         "2023-03-03",
         21
        ],
        [
         "2023-03-04",
         33
        ],
        [
         "2023-03-05",
         47
        ],
        [
         "2023-03-06",
         51
        ],
        [
         "2023-03-07",
         38
        ],
        [
         "2023-03-08",
         34
        ],
        [
         "2023-03-09",
         41
        ],
        [
         "2023-03-10",
         37
        ],
        [
         "2023-03-11",
         39
        ],
        [
         "2023-03-12",
         46
        ],
        [
         "2023-03-13",
         43
        ],
        [
         "2023-03-14",
         32
        ],
        [
         "2023-03-15",
         47
        ],
        [
         "2023-03-16",
         48
        ],
        [
         "2023-03-17",
         28
        ],
        [
         "2023-03-18",
         51
        ],
        [
         "2023-03-19",
         30
        ],
        [
         "2023-03-20",
         41
        ],
        [
         "2023-03-21",
         33
        ],
        [
         "2023-03-22",
         28
        ],
        [
         "2023-03-23",
         46
        ],
        [
         "2023-03-24",
         54
        ],
        [
         "2023-03-25",
         49
        ],
        [
         "2023-03-26",
         32
        ],
        [
         "2023-03-27",
         43
        ],
        [
         "2023-03-28",
         27
        ],
        [
         "2023-03-29",
         23
        ],
        [
         "2023-03-30",
         32
        ],
        [
         "2023-03-31",
         44
        ],
        [
         "2023-04-01",
         48
        ],
        [
         "2023-04-02",
         31
        ],
        [
         "2023-04-03",
         44
        ],
        [
         "2023-04-04",
         36
        ],
        [
         "2023-04-05",
         30
        ],
        [
         "2023-04-06",
         42
        ],
        [
         "2023-04-07",
         47
        ],
        [
         "2023-04-08",
         28
        ],
        [
         "2023-04-09",
         32
        ],
        [
         "2023-04-10",
         24
        ],
        [
         "2023-04-11",
         30
        ],
        [
         "2023-04-12",
         20
        ],
        [
         "2023-04-13",
         22
        ],
        [
         "2023-04-14",
         58
        ],
        [
         "2023-04-15",
         39
        ],
        [
         "2023-04-16",
         32
        ],
        [
         "2023-04-17",
         26
        ],
        [
         "2023-04-18",
         21
        ],
        [
         "2023-04-19",
         28
        ],
        [
         "2023-04-20",
         26
        ],
        [
         "2023-04-21",
         50
        ],
        [
         "2023-04-22",
         34
        ],
        [
         "2023-04-23",
         37
        ],
        [
         "2023-04-24",
         18
        ],
        [
         "2023-04-25",
         31
        ],
        [
         "2023-04-26",
         28
        ],
        [
         "2023-04-27",
         27
        ],
        [
         "2023-04-28",
         45
        ],
        [
         "2023-04-29",
         43
        ],
        [
         "2023-04-30",
         45
        ],
        [
         "2023-05-01",
         23
        ],
        [
         "2023-05-02",
         48
        ],
        [
         "2023-05-03",
         31
        ],
        [
         "2023-05-04",
         27
        ],
        [
         "2023-05-05",
         34
        ],
        [
         "2023-05-06",
         30
        ],
        [
         "2023-05-07",
         32
        ],
        [
         "2023-05-08",
         25
        ],
        [
         "2023-05-09",
         50
        ],
        [
         "2023-05-10",
         37
        ],
        [
         "2023-05-11",
         17
        ],
        [
         "2023-05-12",
         46
        ],
        [
         "2023-05-13",
         39
        ],
        [
         "2023-05-14",
         52
        ],
        [
         "2023-05-15",
         32
        ],
        [
         "2023-05-16",
         22
        ],
        [
         "2023-05-17",
         31
        ],
        [
         "2023-05-18",
         30
        ],
        [
         "2023-05-19",
         55
        ],
        [
         "2023-05-20",
         44
        ],
        [
         "2023-05-21",
         34
        ],
        [
         "2023-05-22",
         32
        ],
        [
         "2023-05-23",
         29
        ],
        [
         "2023-05-24",
         59
        ],
        [
         "2023-05-25",
         35
        ],
        [
         "2023-05-26",
         42
        ],
        [
         "2023-05-27",
         44
        ],
        [
         "2023-05-28",
         36
        ],
        [
         "2023-05-29",
         32
        ],
        [
         "2023-05-30",
         45
        ],
        [
         "2023-05-31",
         38
        ],
        [
         "2023-06-01",
         32
        ],
        [
         "2023-06-02",
         53
        ],
        [
         "2023-06-03",
         44
        ],
        [
         "2023-06-04",
         34
        ],
        [
         "2023-06-05",
         31
        ],
        [
         "2023-06-06",
         37
        ],
        [
         "2023-06-07",
         22
        ],
        [
         "2023-06-08",
         50
        ],
        [
         "2023-06-09",
         30
        ],
        [
         "2023-06-10",
         50
        ],
        [
         "2023-06-11",
         41
        ],
        [
         "2023-06-12",
         44
        ],
        [
         "2023-06-13",
         43
        ],
        [
         "2023-06-14",
         25
        ],
        [
         "2023-06-15",
         31
        ],
        [
         "2023-06-16",
         37
        ],
        [
         "2023-06-17",
         34
        ],
        [
         "2023-06-18",
         31
        ],
        [
         "2023-06-19",
         31
        ],
        [
         "2023-06-20",
         25
        ],
        [
         "2023-06-21",
         48
        ],
        [
         "2023-06-22",
         31
        ],
        [
         "2023-06-23",
         30
        ],
        [
         "2023-06-24",
         30
        ],
        [
         "2023-06-25",
         41
        ],
        [
         "2023-06-26",
         39
        ],
        [
         "2023-06-27",
         27
        ],
        [
         "2023-06-28",
         26
        ],
        [
         "2023-06-29",
         16
        ],
        [
         "2023-06-30",
         18
        ],
        [
         "2023-07-01",
         20
        ],
        [
         "2023-07-02",
         24
        ],
        [
         "2023-07-03",
         52
        ],
        [
         "2023-07-04",
         38
        ],
        [
         "2023-07-05",
         32
        ],
        [
         "2023-07-06",
         38
        ],
        [
         "2023-07-07",
         61
        ],
        [
         "2023-07-08",
         36
        ],
        [
         "2023-07-09",
         40
        ],
        [
         "2023-07-10",
         42
        ],
        [
         "2023-07-11",
         43
        ],
        [
         "2023-07-12",
         31
        ],
        [
         "2023-07-13",
         50
        ],
        [
         "2023-07-14",
         45
        ],
        [
         "2023-07-15",
         45
        ],
        [
         "2023-07-16",
         39
        ],
        [
         "2023-07-17",
         30
        ],
        [
         "2023-07-18",
         35
        ],
        [
         "2023-07-19",
         32
        ],
        [
         "2023-07-20",
         44
        ],
        [
         "2023-07-21",
         47
        ],
        [
         "2023-07-22",
         29
        ],
        [
         "2023-07-23",
         31
        ],
        [
         "2023-07-24",
         29
        ],
        [
         "2023-07-25",
         24
        ],
        [
         "2023-07-26",
         26
        ],
        [
         "2023-07-27",
         28
        ],
        [
         "2023-07-28",
         25
        ],
        [
         "2023-07-29",
         36
        ],
        [
         "2023-07-30",
         50
        ],
        [
         "2023-07-31",
         30
        ],
        [
         "2023-08-01",
         28
        ],
        [
         "2023-08-02",
         22
        ],
        [
         "2023-08-03",
         31
        ],
        [
         "2023-08-04",
         25
        ],
        [
         "2023-08-05",
         29
        ],
        [
         "2023-08-06",
         27
        ],
        [
         "2023-08-07",
         15
        ],
        [
         "2023-08-08",
         44
        ],
        [
         "2023-08-09",
         26
        ],
        [
         "2023-08-10",
         49
        ],
        [
         "2023-08-11",
         34
        ],
        [
         "2023-08-12",
         43
        ],
        [
         "2023-08-13",
         23
        ],
        [
         "2023-08-14",
         21
        ],
        [
         "2023-08-15",
         47
        ],
        [
         "2023-08-16",
         38
        ],
        [
         "2023-08-17",
         24
        ],
        [
         "2023-08-18",
         28
        ],
        [
         "2023-08-19",
         31
        ],
        [
         "2023-08-20",
         47
        ],
        [
         "2023-08-21",
         32
        ],
        [
         "2023-08-22",
         39
        ],
        [
         "2023-08-23",
         44
        ],
        [
         "2023-08-24",
         40
        ],
        [
         "2023-08-25",
         47
        ],
        [
         "2023-08-26",
         38
        ],
        [
         "2023-08-27",
         30
        ],
        [
         "2023-08-28",
         26
        ],
        [
         "2023-08-29",
         37
        ],
        [
         "2023-08-30",
         44
        ],
        [
         "2023-08-31",
         57
        ],
        [
         "2023-09-01",
         52
        ],
        [
         "2023-09-02",
         60
        ],
        [
         "2023-09-03",
         36
        ],
        [
         "2023-09-04",
         26
        ],
        [
         "2023-09-05",
         30
        ],
        [
         "2023-09-06",
         25
        ],
        [
         "2023-09-07",
         31
        ],
        [
         "2023-09-08",
         28
        ],
        [
         "2023-09-09",
         27
        ],
        [
         "2023-09-10",
         29
        ],
        [
         "2023-09-11",
         30
        ],
        [
         "2023-09-12",
         30
        ],
        [
         "2023-09-13",
         25
        ],
        [
         "2023-09-14",
         43
        ],
        [
         "2023-09-15",
         37
        ],
        [
         "2023-09-16",
         46
        ],
        [
         "2023-09-17",
         39
        ],
        [
         "2023-09-18",
         16
        ],
        [
         "2023-09-19",
         23
        ],
        [
         "2023-09-20",
         25
        ],
        [
         "2023-09-21",
         40
        ],
        [
         "2023-09-22",
         32
        ],
        [
         "2023-09-23",
         31
        ],
        [
         "2023-09-24",
         57
        ],
        [
         "2023-09-25",
         28
        ],
        [
         "2023-09-26",
         28
        ],
        [
         "2023-09-27",
         32
        ],
        [
         "2023-09-28",
         42
        ],
        [
         "2023-09-29",
         34
        ],
        [
         "2023-09-30",
         39
        ],
        [
         "2023-10-01",
         25
        ],
        [
         "2023-10-02",
         19
        ],
        [
         "2023-10-03",
         17
        ],
        [
         "2023-10-04",
         28
        ],
        [
         "2023-10-05",
         42
        ],
        [
         "2023-10-06",
         33
        ],
        [
         "2023-10-07",
         38
        ],
        [
         "2023-10-08",
         34
        ],
        [
         "2023-10-09",
         19
        ],
        [
         "2023-10-10",
         18
        ],
        [
         "2023-10-11",
         33
        ],
        [
         "2023-10-12",
         25
        ],
        [
         "2023-10-13",
         46
        ],
        [
         "2023-10-14",
         31
        ],
        [
         "2023-10-15",
         42
        ],
        [
         "2023-10-16",
         49
        ],
        [
         "2023-10-17",
         26
        ],
        [
         "2023-10-18",
         42
        ],
        [
         "2023-10-19",
         56
        ],
        [
         "2023-10-20",
         28
        ],
        [
         "2023-10-21",
         27
        ],
        [
         "2023-10-22",
         36
        ],
        [
         "2023-10-23",
         47
        ],
        [
         "2023-10-24",
         27
        ],
        [
         "2023-10-25",
         26
        ],
        [
         "2023-10-26",
         26
        ],
        [
         "2023-10-27",
         25
        ],
        [
         "2023-10-28",
         41
        ],
        [
         "2023-10-29",
         21
        ],
        [
         "2023-10-30",
         43
        ],
        [
         "2023-10-31",
         25
        ],
        [
         "2023-11-01",
         35
        ],
        [
         "2023-11-02",
         26
        ],
        [
         "2023-11-03",
         34
        ],
        [
         "2023-11-04",
         43
        ],
        [
         "2023-11-05",
         29
        ],
        [
         "2023-11-06",
         37
        ],
        [
         "2023-11-07",
         28
        ],
        [
         "2023-11-08",
         31
        ],
        [
         "2023-11-09",
         20
        ],
        [
         "2023-11-10",
         38
        ],
        [
         "2023-11-11",
         32
        ],
        [
         "2023-11-12",
         39
        ],
        [
         "2023-11-13",
         26
        ],
        [
         "2023-11-14",
         33
        ],
        [
         "2023-11-15",
         23
        ],
        [
         "2023-11-16",
         39
        ],
        [
         "2023-11-17",
         45
        ],
        [
         "2023-11-18",
         30
        ],
        [
         "2023-11-19",
         17
        ],
        [
         "2023-11-20",
         35
        ],
        [
         "2023-11-21",
         36
        ],
        [
         "2023-11-22",
         15
        ],
        [
         "2023-11-23",
         40
        ],
        [
         "2023-11-24",
         25
        ],
        [
         "2023-11-25",
         44
        ],
        [
         "2023-11-26",
         27
        ],
        [
         "2023-11-27",
         25
        ],
        [
         "2023-11-28",
         16
        ],
        [
         "2023-11-29",
         20
        ],
        [
         "2023-11-30",
         29
        ],
        [
         "2023-12-01",
         27
        ],
        [
         "2023-12-02",
         35
        ],
        [
         "2023-12-03",
         13
        ],
        [
         "2023-12-04",
         19
        ],
        [
         "2023-12-05",
         26
        ],
        [
         "2023-12-06",
         17
        ],
        [
         "2023-12-07",
         8
        ],
        [
         "2023-12-08",
         31
        ],
        [
         "2023-12-09",
         32
        ],
        [
         "2023-12-10",
         32
        ],
        [
         "2023-12-11",
         32
        ],
        [
         "2023-12-12",
         24
        ],
        [
         "2023-12-13",
         27
        ],
        [
         "2023-12-14",
         26
        ],
        [
         "2023-12-15",
         29
        ],
        [
         "2023-12-16",
         38
        ],
        [
         "2023-12-17",
         43
        ],
        [
         "2023-12-18",
         28
        ],
        [
         "2023-12-19",
         31
        ],
        [
         "2023-12-20",
         33
        ],
        [
         "2023-12-21",
         48
        ],
        [
         "2023-12-22",
         54
        ],
        [
         "2023-12-23",
         18
        ],
        [
         "2023-12-24",
         46
        ],
        [
         "2023-12-25",
         27
        ],
        [
         "2023-12-26",
         31
        ],
        [
         "2023-12-27",
         22
        ],
        [
         "2023-12-28",
         18
        ],
        [
         "2023-12-29",
         37
        ],
        [
         "2023-12-30",
         33
        ],
        [
         "2023-12-31",
         29
        ],
        [
         "2024-01-01",
         21
        ],
        [
         "2024-01-02",
         18
        ],
        [
         "2024-01-03",
         28
        ],
        [
         "2024-01-04",
         34
        ],
        [
         "2024-01-05",
         40
        ],
        [
         "2024-01-06",
         24
        ],
        [
         "2024-01-07",
         24
        ],
        [
         "2024-01-08",
         27
        ],
        [
         "2024-01-09",
         19
        ],
        [
         "2024-01-10",
         32
        ],
        [
         "2024-01-11",
         27
        ],
        [
         "2024-01-12",
         40
        ],
        [
         "2024-01-13",
         36
        ],
        [
         "2024-01-14",
         40
        ],
        [
         "2024-01-15",
         32
        ],
        [
         "2024-01-16",
         35
        ],
        [
         "2024-01-17",
         45
        ],
        [
         "2024-01-18",
         41
        ],
        [
         "2024-01-19",
         48
        ],
        [
         "2024-01-20",
         41
        ],
        [
         "2024-01-21",
         37
        ],
        [
         "2024-01-22",
         39
        ],
        [
         "2024-01-23",
         37
        ],
        [
         "2024-01-24",
         28
        ],
        [
         "2024-01-25",
         38
        ],
        [
         "2024-01-26",
         30
        ],
        [
         "2024-01-27",
         20
        ],
        [
         "2024-01-28",
         23
        ],
        [
         "2024-01-29",
         28
        ],
        [
         "2024-01-30",
         39
        ],
        [
         "2024-01-31",
         24
        ],
        [
         "2024-02-01",
         20
        ],
        [
         "2024-02-02",
         40
        ],
        [
         "2024-02-03",
         35
        ],
        [
         "2024-02-04",
         34
        ],
        [
         "2024-02-05",
         31
        ],
        [
         "2024-02-06",
         41
        ],
        [
         "2024-02-07",
         37
        ],
        [
         "2024-02-08",
         29
        ],
        [
         "2024-02-09",
         48
        ],
        [
         "2024-02-10",
         40
        ],
        [
         "2024-02-11",
         13
        ],
        [
         "2024-02-12",
         43
        ],
        [
         "2024-02-13",
         29
        ],
        [
         "2024-02-14",
         56
        ],
        [
         "2024-02-15",
         33
        ],
        [
         "2024-02-16",
         29
        ],
        [
         "2024-02-17",
         26
        ],
        [
         "2024-02-18",
         37
        ],
        [
         "2024-02-19",
         16
        ],
        [
         "2024-02-20",
         25
        ],
        [
         "2024-02-21",
         33
        ],
        [
         "2024-02-22",
         38
        ],
        [
         "2024-02-23",
         26
        ],
        [
         "2024-02-24",
         30
        ],
        [
         "2024-02-25",
         43
        ],
        [
         "2024-02-26",
         40
        ],
        [
         "2024-02-27",
         28
        ],
        [
         "2024-02-28",
         46
        ],
        [
         "2024-02-29",
         46
        ],
        [
         "2024-03-01",
         34
        ],
        [
         "2024-03-02",
         37
        ],
        [
         "2024-03-03",
         39
        ],
        [
         "2024-03-04",
         31
        ],
        [
         "2024-03-05",
         27
        ],
        [
         "2024-03-06",
         27
        ],
        [
         "2024-03-07",
         26
        ],
        [
         "2024-03-08",
         50
        ],
        [
         "2024-03-09",
         41
        ],
        [
         "2024-03-10",
         28
        ],
        [
         "2024-03-11",
         29
        ],
        [
         "2024-03-12",
         33
        ],
        [
         "2024-03-13",
         32
        ],
        [
         "2024-03-14",
         28
        ],
        [
         "2024-03-15",
         49
        ],
        [
         "2024-03-16",
         26
        ],
        [
         "2024-03-17",
         24
        ],
        [
         "2024-03-18",
         40
        ],
        [
         "2024-03-19",
         18
        ],
        [
         "2024-03-20",
         31
        ],
        [
         "2024-03-21",
         21
        ],
        [
         "2024-03-22",
         49
        ],
        [
         "2024-03-23",
         21
        ],
        [
         "2024-03-24",
         34
        ],
        [
         "2024-03-25",
         39
        ],
        [
         "2024-03-26",
         10
        ],
        [
         "2024-03-27",
         35
        ],
        [
         "2024-03-28",
         42
        ],
        [
         "2024-03-29",
         38
        ],
        [
         "2024-03-30",
         39
        ],
        [
         "2024-03-31",
         36
        ],
        [
         "2024-04-01",
         39
        ],
        [
         "2024-04-02",
         24
        ],
        [
         "2024-04-03",
         29
        ],
        [
         "2024-04-04",
         26
        ],
        [
         "2024-04-05",
         30
        ],
        [
         "2024-04-06",
         33
        ],
        [
         "2024-04-07",
         33
        ],
        [
         "2024-04-08",
         42
        ],
        [
         "2024-04-09",
         29
        ],
        [
         "2024-04-10",
         28
        ],
        [
         "2024-04-11",
         37
        ],
        [
         "2024-04-12",
         48
        ],
        [
         "2024-04-13",
         27
        ],
        [
         "2024-04-14",
         14
        ],
        [
         "2024-04-15",
         3
        ]
       ],
       "datasetInfos": [],
       "dbfsResultPath": null,
       "isJsonSchema": true,
       "metadata": {},
       "overflow": false,
       "plotOptions": {
        "customPlotOptions": {},
        "displayType": "table",
        "pivotAggregation": null,
        "pivotColumns": null,
        "xColumns": null,
        "yColumns": null
       },
       "removedWidgets": [],
       "schema": [
        {
         "metadata": "{}",
         "name": "YearMonth",
         "type": "\"date\""
        },
        {
         "metadata": "{}",
         "name": "VideoCount",
         "type": "\"long\""
        }
       ],
       "type": "table"
      }
     },
     "output_type": "display_data"
    },
    {
     "output_type": "display_data",
     "data": {
      "text/plain": [
       "Databricks visualization. Run in Databricks to view."
      ]
     },
     "metadata": {
      "application/vnd.databricks.v1.subcommand+json": {
       "baseErrorDetails": null,
       "bindings": {},
       "collapsed": false,
       "command": "%python\n__backend_agg_display_orig = display\n__backend_agg_dfs = []\ndef __backend_agg_display_new(df):\n    __backend_agg_df_modules = [\"pandas.core.frame\", \"databricks.koalas.frame\", \"pyspark.sql.dataframe\", \"pyspark.pandas.frame\", \"pyspark.sql.connect.dataframe\"]\n    if (type(df).__module__ in __backend_agg_df_modules and type(df).__name__ == 'DataFrame') or isinstance(df, list):\n        __backend_agg_dfs.append(df)\n\ndisplay = __backend_agg_display_new\n\ndef __backend_agg_user_code_fn():\n    import base64\n    exec(base64.standard_b64decode(\"ZnJvbSBweXNwYXJrLnNxbC5mdW5jdGlvbnMgaW1wb3J0IHRvX2RhdGUsIG1vbnRoLCB5ZWFyLCBjb3VudApwdWJsaXNoaW5nX3RyZW5kID0gam9pbmVkX2RmLndpdGhDb2x1bW4oIlllYXJNb250aCIsIHRvX2RhdGUoY29sKCJwdWJsaXNoZWRBdCIpLCAieXl5eS1NTSIpKSBcCiAgICAuZ3JvdXBCeSgiWWVhck1vbnRoIikuYWdnKGNvdW50KCJ2aWRlb19pZCIpLmFsaWFzKCJWaWRlb0NvdW50IikpIFwKICAgIC5vcmRlckJ5KCJZZWFyTW9udGgiKQpwdWJsaXNoaW5nX3RyZW5kLmRpc3BsYXkoKQ==\").decode())\n\ntry:\n    # run user code\n    __backend_agg_user_code_fn()\n\n    #reset display function\n    display = __backend_agg_display_orig\n\n    if len(__backend_agg_dfs) > 0:\n        # create a temp view\n        if type(__backend_agg_dfs[0]).__module__ == \"databricks.koalas.frame\":\n            # koalas dataframe\n            __backend_agg_dfs[0].to_spark().createOrReplaceTempView(\"DatabricksView2828655\")\n        elif type(__backend_agg_dfs[0]).__module__ == \"pandas.core.frame\" or isinstance(__backend_agg_dfs[0], list):\n            # pandas dataframe\n            spark.createDataFrame(__backend_agg_dfs[0]).createOrReplaceTempView(\"DatabricksView2828655\")\n        else:\n            __backend_agg_dfs[0].createOrReplaceTempView(\"DatabricksView2828655\")\n        #run backend agg\n        display(spark.sql(\"\"\"WITH q AS (select * from DatabricksView2828655) SELECT `YearMonth`,`VideoCount` FROM q\"\"\"))\n    else:\n        displayHTML(\"dataframe no longer exists. If you're using dataframe.display(), use display(dataframe) instead.\")\n\n\nfinally:\n    spark.sql(\"drop view if exists DatabricksView2828655\")\n    display = __backend_agg_display_orig\n    del __backend_agg_display_new\n    del __backend_agg_display_orig\n    del __backend_agg_dfs\n    del __backend_agg_user_code_fn\n\n",
       "commandTitle": "Visualization 1",
       "commandType": "auto",
       "commandVersion": 0,
       "commentThread": [],
       "commentsVisible": false,
       "contentSha256Hex": null,
       "customPlotOptions": {
        "redashChart": [
         {
          "key": "type",
          "value": "CHART"
         },
         {
          "key": "options",
          "value": {
           "alignYAxesAtZero": true,
           "coefficient": 1,
           "columnConfigurationMap": {
            "x": {
             "column": "YearMonth",
             "id": "column_f225be3689"
            },
            "y": [
             {
              "column": "VideoCount",
              "id": "column_f225be3690"
             }
            ]
           },
           "dateTimeFormat": "DD/MM/YYYY HH:mm",
           "direction": {
            "type": "counterclockwise"
           },
           "error_y": {
            "type": "data",
            "visible": true
           },
           "globalSeriesType": "scatter",
           "legend": {
            "traceorder": "normal"
           },
           "missingValuesAsZero": true,
           "numberFormat": "0,0.[00000]",
           "percentFormat": "0[.]00%",
           "series": {
            "error_y": {
             "type": "data",
             "visible": true
            },
            "stacking": null
           },
           "seriesOptions": {
            "VideoCount": {
             "color": "#00A972",
             "name": "VideoCount",
             "type": "scatter",
             "yAxis": 0
            },
            "column_f225be3690": {
             "name": "VideoCount",
             "type": "scatter",
             "yAxis": 0
            }
           },
           "showDataLabels": false,
           "sizemode": "diameter",
           "sortX": true,
           "sortY": true,
           "swappedAxes": false,
           "textFormat": "",
           "useAggregationsUi": true,
           "valuesOptions": {},
           "version": 2,
           "xAxis": {
            "labels": {
             "enabled": true
            },
            "type": "-"
           },
           "yAxis": [
            {
             "type": "-"
            },
            {
             "opposite": true,
             "type": "-"
            }
           ]
          }
         }
        ]
       },
       "datasetPreviewNameToCmdIdMap": {},
       "diffDeletes": [],
       "diffInserts": [],
       "displayType": "redashChart",
       "error": null,
       "errorDetails": null,
       "errorSummary": null,
       "errorTraceType": null,
       "finishTime": 0,
       "globalVars": {},
       "guid": "",
       "height": "auto",
       "hideCommandCode": false,
       "hideCommandResult": false,
       "iPythonMetadata": null,
       "inputWidgets": {},
       "isLockedInExamMode": false,
       "latestUser": "a user",
       "latestUserId": null,
       "listResultMetadata": null,
       "metadata": {
        "byteLimit": 2048000,
        "rowLimit": 10000
       },
       "nuid": "a812a465-5855-49e1-ad71-e6839d47f94e",
       "origId": 0,
       "parentHierarchy": [],
       "pivotAggregation": null,
       "pivotColumns": null,
       "position": 13.0,
       "resultDbfsErrorMessage": null,
       "resultDbfsStatus": "INLINED_IN_TREE",
       "results": null,
       "showCommandTitle": false,
       "startTime": 0,
       "state": "finished",
       "streamStates": {},
       "subcommandOptions": {
        "queryPlan": {
         "selects": [
          {
           "column": "YearMonth",
           "type": "column"
          },
          {
           "column": "VideoCount",
           "type": "column"
          }
         ]
        }
       },
       "submitTime": 0,
       "subtype": "tableResultSubCmd.visualization",
       "tableResultIndex": 0,
       "tableResultSettingsMap": {},
       "useConsistentColors": false,
       "version": "CommandV1",
       "width": "auto",
       "workflows": [],
       "xColumns": null,
       "yColumns": null
      }
     },
     "output_type": "display_data"
    },
    {
     "output_type": "display_data",
     "data": {
      "text/plain": [
       "Databricks visualization. Run in Databricks to view."
      ]
     },
     "metadata": {
      "application/vnd.databricks.v1.subcommand+json": {
       "baseErrorDetails": null,
       "bindings": {},
       "collapsed": false,
       "command": "%python\n__backend_agg_display_orig = display\n__backend_agg_dfs = []\ndef __backend_agg_display_new(df):\n    __backend_agg_df_modules = [\"pandas.core.frame\", \"databricks.koalas.frame\", \"pyspark.sql.dataframe\", \"pyspark.pandas.frame\", \"pyspark.sql.connect.dataframe\"]\n    if (type(df).__module__ in __backend_agg_df_modules and type(df).__name__ == 'DataFrame') or isinstance(df, list):\n        __backend_agg_dfs.append(df)\n\ndisplay = __backend_agg_display_new\n\ndef __backend_agg_user_code_fn():\n    import base64\n    exec(base64.standard_b64decode(\"ZnJvbSBweXNwYXJrLnNxbC5mdW5jdGlvbnMgaW1wb3J0IHRvX2RhdGUsIG1vbnRoLCB5ZWFyLCBjb3VudApwdWJsaXNoaW5nX3RyZW5kID0gam9pbmVkX2RmLndpdGhDb2x1bW4oIlllYXJNb250aCIsIHRvX2RhdGUoY29sKCJwdWJsaXNoZWRBdCIpLCAieXl5eS1NTSIpKSBcCiAgICAuZ3JvdXBCeSgiWWVhck1vbnRoIikuYWdnKGNvdW50KCJ2aWRlb19pZCIpLmFsaWFzKCJWaWRlb0NvdW50IikpIFwKICAgIC5vcmRlckJ5KCJZZWFyTW9udGgiKQpwdWJsaXNoaW5nX3RyZW5kLmRpc3BsYXkoKQ==\").decode())\n\ntry:\n    # run user code\n    __backend_agg_user_code_fn()\n\n    #reset display function\n    display = __backend_agg_display_orig\n\n    if len(__backend_agg_dfs) > 0:\n        # create a temp view\n        if type(__backend_agg_dfs[0]).__module__ == \"databricks.koalas.frame\":\n            # koalas dataframe\n            __backend_agg_dfs[0].to_spark().createOrReplaceTempView(\"DatabricksView55f1959\")\n        elif type(__backend_agg_dfs[0]).__module__ == \"pandas.core.frame\" or isinstance(__backend_agg_dfs[0], list):\n            # pandas dataframe\n            spark.createDataFrame(__backend_agg_dfs[0]).createOrReplaceTempView(\"DatabricksView55f1959\")\n        else:\n            __backend_agg_dfs[0].createOrReplaceTempView(\"DatabricksView55f1959\")\n        #run backend agg\n        display(spark.sql(\"\"\"WITH q AS (select * from DatabricksView55f1959) SELECT `YearMonth`,SUM(`VideoCount`) `column_f225be3692` FROM q GROUP BY `YearMonth`\"\"\"))\n    else:\n        displayHTML(\"dataframe no longer exists. If you're using dataframe.display(), use display(dataframe) instead.\")\n\n\nfinally:\n    spark.sql(\"drop view if exists DatabricksView55f1959\")\n    display = __backend_agg_display_orig\n    del __backend_agg_display_new\n    del __backend_agg_display_orig\n    del __backend_agg_dfs\n    del __backend_agg_user_code_fn\n\n",
       "commandTitle": "Visualization 2",
       "commandType": "auto",
       "commandVersion": 0,
       "commentThread": [],
       "commentsVisible": false,
       "contentSha256Hex": null,
       "customPlotOptions": {
        "redashChart": [
         {
          "key": "type",
          "value": "CHART"
         },
         {
          "key": "options",
          "value": {
           "alignYAxesAtZero": true,
           "coefficient": 1,
           "columnConfigurationMap": {
            "x": {
             "column": "YearMonth",
             "id": "column_f225be3691"
            },
            "y": [
             {
              "column": "VideoCount",
              "id": "column_f225be3692",
              "transform": "SUM"
             }
            ]
           },
           "dateTimeFormat": "DD/MM/YYYY HH:mm",
           "direction": {
            "type": "counterclockwise"
           },
           "error_y": {
            "type": "data",
            "visible": true
           },
           "globalSeriesType": "line",
           "isAggregationOn": true,
           "legend": {
            "traceorder": "normal"
           },
           "missingValuesAsZero": true,
           "numberFormat": "0,0.[00000]",
           "percentFormat": "0[.]00%",
           "series": {
            "error_y": {
             "type": "data",
             "visible": true
            },
            "stacking": null
           },
           "seriesOptions": {
            "column_f225be3692": {
             "color": "#99DDB4",
             "name": "VideoCount",
             "yAxis": 0
            }
           },
           "showDataLabels": false,
           "sizemode": "diameter",
           "sortX": true,
           "sortY": true,
           "swappedAxes": false,
           "textFormat": "",
           "useAggregationsUi": true,
           "valuesOptions": {},
           "version": 2,
           "xAxis": {
            "labels": {
             "enabled": true
            },
            "type": "-"
           },
           "yAxis": [
            {
             "type": "-"
            },
            {
             "opposite": true,
             "type": "-"
            }
           ]
          }
         }
        ]
       },
       "datasetPreviewNameToCmdIdMap": {},
       "diffDeletes": [],
       "diffInserts": [],
       "displayType": "redashChart",
       "error": null,
       "errorDetails": null,
       "errorSummary": null,
       "errorTraceType": null,
       "finishTime": 0,
       "globalVars": {},
       "guid": "",
       "height": "auto",
       "hideCommandCode": false,
       "hideCommandResult": false,
       "iPythonMetadata": null,
       "inputWidgets": {},
       "isLockedInExamMode": false,
       "latestUser": "a user",
       "latestUserId": null,
       "listResultMetadata": null,
       "metadata": {
        "byteLimit": 2048000,
        "rowLimit": 10000
       },
       "nuid": "93c28f72-4969-443f-aaca-07b3d9b0adf5",
       "origId": 0,
       "parentHierarchy": [],
       "pivotAggregation": null,
       "pivotColumns": null,
       "position": 14.0,
       "resultDbfsErrorMessage": null,
       "resultDbfsStatus": "INLINED_IN_TREE",
       "results": null,
       "showCommandTitle": false,
       "startTime": 0,
       "state": "finished",
       "streamStates": {},
       "subcommandOptions": {
        "queryPlan": {
         "groups": [
          {
           "column": "YearMonth",
           "type": "column"
          }
         ],
         "selects": [
          {
           "column": "YearMonth",
           "type": "column"
          },
          {
           "alias": "column_f225be3692",
           "args": [
            {
             "column": "VideoCount",
             "type": "column"
            }
           ],
           "function": "SUM",
           "type": "function"
          }
         ]
        }
       },
       "submitTime": 0,
       "subtype": "tableResultSubCmd.visualization",
       "tableResultIndex": 0,
       "tableResultSettingsMap": {},
       "useConsistentColors": false,
       "version": "CommandV1",
       "width": "auto",
       "workflows": [],
       "xColumns": null,
       "yColumns": null
      }
     },
     "output_type": "display_data"
    }
   ],
   "source": [
    "from pyspark.sql.functions import to_date, month, year, count\n",
    "publishing_trend = joined_df.withColumn(\"YearMonth\", to_date(col(\"publishedAt\"), \"yyyy-MM\")) \\\n",
    "    .groupBy(\"YearMonth\").agg(count(\"video_id\").alias(\"VideoCount\")) \\\n",
    "    .orderBy(\"YearMonth\")\n",
    "publishing_trend.display()"
   ]
  },
  {
   "cell_type": "markdown",
   "metadata": {
    "application/vnd.databricks.v1+cell": {
     "cellMetadata": {
      "byteLimit": 2048000,
      "rowLimit": 10000
     },
     "inputWidgets": {},
     "nuid": "72f8c109-db74-4289-b045-435bf5b535ca",
     "showTitle": false,
     "tableResultSettingsMap": {},
     "title": ""
    }
   },
   "source": [
    "### Top Channels by Total Views\n",
    "Contribution of top 10 channels by total views."
   ]
  },
  {
   "cell_type": "code",
   "execution_count": 0,
   "metadata": {
    "application/vnd.databricks.v1+cell": {
     "cellMetadata": {
      "byteLimit": 2048000,
      "rowLimit": 10000
     },
     "inputWidgets": {},
     "nuid": "45ea92c8-98fd-4ed7-b826-bb2356a0bb09",
     "showTitle": false,
     "tableResultSettingsMap": {},
     "title": ""
    }
   },
   "outputs": [
    {
     "output_type": "display_data",
     "data": {
      "text/html": [
       "<style scoped>\n",
       "  .table-result-container {\n",
       "    max-height: 300px;\n",
       "    overflow: auto;\n",
       "  }\n",
       "  table, th, td {\n",
       "    border: 1px solid black;\n",
       "    border-collapse: collapse;\n",
       "  }\n",
       "  th, td {\n",
       "    padding: 5px;\n",
       "  }\n",
       "  th {\n",
       "    text-align: left;\n",
       "  }\n",
       "</style><div class='table-result-container'><table class='table-result'><thead style='background-color: white'><tr><th>channelTitle</th><th>TotalViews</th></tr></thead><tbody><tr><td>Sourav Joshi Vlogs</td><td>11612820466</td></tr><tr><td>MrBeast</td><td>6945954473</td></tr><tr><td>Techno Gamerz</td><td>4036737467</td></tr><tr><td>BLACKPINK</td><td>3745421521</td></tr><tr><td>Crazy XYZ</td><td>3617357304</td></tr><tr><td>HYBE LABELS</td><td>3204194216</td></tr><tr><td>MR. INDIAN HACKER</td><td>2900138871</td></tr><tr><td>T-Series</td><td>2470578523</td></tr><tr><td>BANGTANTV</td><td>2166751504</td></tr><tr><td>JYP Entertainment</td><td>1817159459</td></tr></tbody></table></div>"
      ]
     },
     "metadata": {
      "application/vnd.databricks.v1+output": {
       "addedWidgets": {},
       "aggData": [],
       "aggError": "",
       "aggOverflow": false,
       "aggSchema": [],
       "aggSeriesLimitReached": false,
       "aggType": "",
       "arguments": {},
       "columnCustomDisplayInfos": {},
       "data": [
        [
         "Sourav Joshi Vlogs",
         11612820466
        ],
        [
         "MrBeast",
         6945954473
        ],
        [
         "Techno Gamerz",
         4036737467
        ],
        [
         "BLACKPINK",
         3745421521
        ],
        [
         "Crazy XYZ",
         3617357304
        ],
        [
         "HYBE LABELS",
         3204194216
        ],
        [
         "MR. INDIAN HACKER",
         2900138871
        ],
        [
         "T-Series",
         2470578523
        ],
        [
         "BANGTANTV",
         2166751504
        ],
        [
         "JYP Entertainment",
         1817159459
        ]
       ],
       "datasetInfos": [],
       "dbfsResultPath": null,
       "isJsonSchema": true,
       "metadata": {},
       "overflow": false,
       "plotOptions": {
        "customPlotOptions": {},
        "displayType": "table",
        "pivotAggregation": null,
        "pivotColumns": null,
        "xColumns": null,
        "yColumns": null
       },
       "removedWidgets": [],
       "schema": [
        {
         "metadata": "{}",
         "name": "channelTitle",
         "type": "\"string\""
        },
        {
         "metadata": "{}",
         "name": "TotalViews",
         "type": "\"long\""
        }
       ],
       "type": "table"
      }
     },
     "output_type": "display_data"
    },
    {
     "output_type": "display_data",
     "data": {
      "text/plain": [
       "Databricks visualization. Run in Databricks to view."
      ]
     },
     "metadata": {
      "application/vnd.databricks.v1.subcommand+json": {
       "baseErrorDetails": null,
       "bindings": {},
       "collapsed": false,
       "command": "%python\n__backend_agg_display_orig = display\n__backend_agg_dfs = []\ndef __backend_agg_display_new(df):\n    __backend_agg_df_modules = [\"pandas.core.frame\", \"databricks.koalas.frame\", \"pyspark.sql.dataframe\", \"pyspark.pandas.frame\", \"pyspark.sql.connect.dataframe\"]\n    if (type(df).__module__ in __backend_agg_df_modules and type(df).__name__ == 'DataFrame') or isinstance(df, list):\n        __backend_agg_dfs.append(df)\n\ndisplay = __backend_agg_display_new\n\ndef __backend_agg_user_code_fn():\n    import base64\n    exec(base64.standard_b64decode(\"ZnJvbSBweXNwYXJrLnNxbC5mdW5jdGlvbnMgaW1wb3J0IHN1bQp0b3BfY2hhbm5lbHMgPSBqb2luZWRfZGYuZ3JvdXBCeSgiY2hhbm5lbFRpdGxlIikuYWdnKHN1bSgidmlld19jb3VudCIpLmFsaWFzKCJUb3RhbFZpZXdzIikpIFwKICAgIC5vcmRlckJ5KGNvbCgiVG90YWxWaWV3cyIpLmRlc2MoKSkubGltaXQoMTApCnRvcF9jaGFubmVscy5kaXNwbGF5KCk=\").decode())\n\ntry:\n    # run user code\n    __backend_agg_user_code_fn()\n\n    #reset display function\n    display = __backend_agg_display_orig\n\n    if len(__backend_agg_dfs) > 0:\n        # create a temp view\n        if type(__backend_agg_dfs[0]).__module__ == \"databricks.koalas.frame\":\n            # koalas dataframe\n            __backend_agg_dfs[0].to_spark().createOrReplaceTempView(\"DatabricksView68e431e\")\n        elif type(__backend_agg_dfs[0]).__module__ == \"pandas.core.frame\" or isinstance(__backend_agg_dfs[0], list):\n            # pandas dataframe\n            spark.createDataFrame(__backend_agg_dfs[0]).createOrReplaceTempView(\"DatabricksView68e431e\")\n        else:\n            __backend_agg_dfs[0].createOrReplaceTempView(\"DatabricksView68e431e\")\n        #run backend agg\n        display(spark.sql(\"\"\"WITH q AS (select * from DatabricksView68e431e) SELECT `channelTitle`,SUM(`TotalViews`) `column_f225be36103` FROM q GROUP BY `channelTitle`\"\"\"))\n    else:\n        displayHTML(\"dataframe no longer exists. If you're using dataframe.display(), use display(dataframe) instead.\")\n\n\nfinally:\n    spark.sql(\"drop view if exists DatabricksView68e431e\")\n    display = __backend_agg_display_orig\n    del __backend_agg_display_new\n    del __backend_agg_display_orig\n    del __backend_agg_dfs\n    del __backend_agg_user_code_fn\n\n",
       "commandTitle": "Visualization 1",
       "commandType": "auto",
       "commandVersion": 0,
       "commentThread": [],
       "commentsVisible": false,
       "contentSha256Hex": null,
       "customPlotOptions": {
        "redashChart": [
         {
          "key": "type",
          "value": "CHART"
         },
         {
          "key": "options",
          "value": {
           "alignYAxesAtZero": true,
           "coefficient": 1,
           "columnConfigurationMap": {
            "x": {
             "column": "channelTitle",
             "id": "column_f225be3699"
            },
            "y": [
             {
              "column": "TotalViews",
              "id": "column_f225be36103",
              "transform": "SUM"
             }
            ]
           },
           "dateTimeFormat": "DD/MM/YYYY HH:mm",
           "direction": {
            "type": "counterclockwise"
           },
           "error_y": {
            "type": "data",
            "visible": true
           },
           "globalSeriesType": "line",
           "isAggregationOn": true,
           "legend": {
            "traceorder": "normal"
           },
           "missingValuesAsZero": true,
           "numberFormat": "0,0.[00000]",
           "percentFormat": "0[.]00%",
           "series": {
            "error_y": {
             "type": "data",
             "visible": true
            },
            "stacking": null
           },
           "seriesOptions": {
            "column_f225be36101": {
             "type": "line",
             "yAxis": 0
            },
            "column_f225be36103": {
             "type": "line",
             "yAxis": 0
            }
           },
           "showDataLabels": false,
           "sizemode": "diameter",
           "sortX": true,
           "sortY": true,
           "swappedAxes": false,
           "textFormat": "",
           "useAggregationsUi": true,
           "valuesOptions": {},
           "version": 2,
           "xAxis": {
            "labels": {
             "enabled": true
            },
            "type": "-"
           },
           "yAxis": [
            {
             "type": "-"
            },
            {
             "opposite": true,
             "type": "-"
            }
           ]
          }
         }
        ]
       },
       "datasetPreviewNameToCmdIdMap": {},
       "diffDeletes": [],
       "diffInserts": [],
       "displayType": "redashChart",
       "error": null,
       "errorDetails": null,
       "errorSummary": null,
       "errorTraceType": null,
       "finishTime": 0,
       "globalVars": {},
       "guid": "",
       "height": "auto",
       "hideCommandCode": false,
       "hideCommandResult": false,
       "iPythonMetadata": null,
       "inputWidgets": {},
       "isLockedInExamMode": false,
       "latestUser": "a user",
       "latestUserId": null,
       "listResultMetadata": null,
       "metadata": {
        "byteLimit": 2048000,
        "rowLimit": 10000
       },
       "nuid": "872b7f2f-f934-4bc2-8de7-bdf090a4f95e",
       "origId": 0,
       "parentHierarchy": [],
       "pivotAggregation": null,
       "pivotColumns": null,
       "position": 14.0,
       "resultDbfsErrorMessage": null,
       "resultDbfsStatus": "INLINED_IN_TREE",
       "results": null,
       "showCommandTitle": false,
       "startTime": 0,
       "state": "finished",
       "streamStates": {},
       "subcommandOptions": {
        "queryPlan": {
         "groups": [
          {
           "column": "channelTitle",
           "type": "column"
          }
         ],
         "selects": [
          {
           "column": "channelTitle",
           "type": "column"
          },
          {
           "alias": "column_f225be36103",
           "args": [
            {
             "column": "TotalViews",
             "type": "column"
            }
           ],
           "function": "SUM",
           "type": "function"
          }
         ]
        }
       },
       "submitTime": 0,
       "subtype": "tableResultSubCmd.visualization",
       "tableResultIndex": 0,
       "tableResultSettingsMap": {},
       "useConsistentColors": false,
       "version": "CommandV1",
       "width": "auto",
       "workflows": [],
       "xColumns": null,
       "yColumns": null
      }
     },
     "output_type": "display_data"
    }
   ],
   "source": [
    "from pyspark.sql.functions import sum\n",
    "top_channels = joined_df.groupBy(\"channelTitle\").agg(sum(\"view_count\").alias(\"TotalViews\")) \\\n",
    "    .orderBy(col(\"TotalViews\").desc()).limit(10)\n",
    "top_channels.display()"
   ]
  }
 ],
 "metadata": {
  "application/vnd.databricks.v1+notebook": {
   "computePreferences": null,
   "dashboards": [],
   "environmentMetadata": {
    "base_environment": "",
    "client": "1"
   },
   "language": "python",
   "notebookMetadata": {
    "pythonIndentUnit": 4
   },
   "notebookName": "youtubeAnalysis",
   "widgets": {}
  },
  "language_info": {
   "name": "python"
  }
 },
 "nbformat": 4,
 "nbformat_minor": 0
}