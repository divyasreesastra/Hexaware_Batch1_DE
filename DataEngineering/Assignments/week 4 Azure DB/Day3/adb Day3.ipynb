{
 "cells": [
  {
   "cell_type": "code",
   "execution_count": 0,
   "metadata": {
    "application/vnd.databricks.v1+cell": {
     "cellMetadata": {
      "byteLimit": 2048000,
      "rowLimit": 10000
     },
     "inputWidgets": {},
     "nuid": "c7ac8d88-f30e-45fa-84a9-bed009c638d0",
     "showTitle": false,
     "tableResultSettingsMap": {},
     "title": ""
    }
   },
   "outputs": [],
   "source": [
    "from pyspark.sql import SparkSession\n",
    "spark=SparkSession.builder.appName(\"Delta\").getOrCreate()"
   ]
  },
  {
   "cell_type": "code",
   "execution_count": 0,
   "metadata": {
    "application/vnd.databricks.v1+cell": {
     "cellMetadata": {
      "byteLimit": 2048000,
      "rowLimit": 10000
     },
     "inputWidgets": {},
     "nuid": "11f647b8-f0b6-4ee3-b4ed-9e0f68a1d4f3",
     "showTitle": false,
     "tableResultSettingsMap": {},
     "title": ""
    }
   },
   "outputs": [],
   "source": [
    "s1=spark.read.option(\"inferschema\",True).option(\"header\",True).csv(\"/FileStore/tables/text1.txt\")\n",
    "s1.write.format(\"delta\").mode(\"overwrite\").save(\"/FileStore/tables/delta_train/\")  \n",
    "#Below we are listing the data in destination path"
   ]
  },
  {
   "cell_type": "code",
   "execution_count": 0,
   "metadata": {
    "application/vnd.databricks.v1+cell": {
     "cellMetadata": {
      "byteLimit": 2048000,
      "rowLimit": 10000
     },
     "inputWidgets": {},
     "nuid": "30b5e5d3-4273-4de8-8f23-7cae38e2dde0",
     "showTitle": false,
     "tableResultSettingsMap": {},
     "title": ""
    }
   },
   "outputs": [
    {
     "output_type": "display_data",
     "data": {
      "text/html": [
       "<style scoped>\n",
       "  .table-result-container {\n",
       "    max-height: 300px;\n",
       "    overflow: auto;\n",
       "  }\n",
       "  table, th, td {\n",
       "    border: 1px solid black;\n",
       "    border-collapse: collapse;\n",
       "  }\n",
       "  th, td {\n",
       "    padding: 5px;\n",
       "  }\n",
       "  th {\n",
       "    text-align: left;\n",
       "  }\n",
       "</style><div class='table-result-container'><table class='table-result'><thead style='background-color: white'><tr><th>path</th><th>name</th><th>size</th><th>modificationTime</th></tr></thead><tbody><tr><td>dbfs:/FileStore/tables/delta_train/_delta_log/</td><td>_delta_log/</td><td>0</td><td>1732855317000</td></tr><tr><td>dbfs:/FileStore/tables/delta_train/part-00000-d20bd9c8-e94d-4afc-90fc-c4c4c74f044a-c000.snappy.parquet</td><td>part-00000-d20bd9c8-e94d-4afc-90fc-c4c4c74f044a-c000.snappy.parquet</td><td>3872</td><td>1732855317000</td></tr></tbody></table></div>"
      ]
     },
     "metadata": {
      "application/vnd.databricks.v1+output": {
       "addedWidgets": {},
       "aggData": [],
       "aggError": "",
       "aggOverflow": false,
       "aggSchema": [],
       "aggSeriesLimitReached": false,
       "aggType": "",
       "arguments": {},
       "columnCustomDisplayInfos": {},
       "data": [
        [
         "dbfs:/FileStore/tables/delta_train/_delta_log/",
         "_delta_log/",
         0,
         1732855317000
        ],
        [
         "dbfs:/FileStore/tables/delta_train/part-00000-d20bd9c8-e94d-4afc-90fc-c4c4c74f044a-c000.snappy.parquet",
         "part-00000-d20bd9c8-e94d-4afc-90fc-c4c4c74f044a-c000.snappy.parquet",
         3872,
         1732855317000
        ]
       ],
       "datasetInfos": [],
       "dbfsResultPath": null,
       "isJsonSchema": true,
       "metadata": {},
       "overflow": false,
       "plotOptions": {
        "customPlotOptions": {},
        "displayType": "table",
        "pivotAggregation": null,
        "pivotColumns": null,
        "xColumns": null,
        "yColumns": null
       },
       "removedWidgets": [],
       "schema": [
        {
         "metadata": "{}",
         "name": "path",
         "type": "\"string\""
        },
        {
         "metadata": "{}",
         "name": "name",
         "type": "\"string\""
        },
        {
         "metadata": "{}",
         "name": "size",
         "type": "\"long\""
        },
        {
         "metadata": "{}",
         "name": "modificationTime",
         "type": "\"long\""
        }
       ],
       "type": "table"
      }
     },
     "output_type": "display_data"
    }
   ],
   "source": [
    "display(dbutils.fs.ls(\"/FileStore/tables/delta_train/\"))"
   ]
  },
  {
   "cell_type": "code",
   "execution_count": 0,
   "metadata": {
    "application/vnd.databricks.v1+cell": {
     "cellMetadata": {
      "byteLimit": 2048000,
      "rowLimit": 10000
     },
     "inputWidgets": {},
     "nuid": "f45205ac-7694-4888-bcb5-d78eb1df49d6",
     "showTitle": false,
     "tableResultSettingsMap": {},
     "title": ""
    }
   },
   "outputs": [
    {
     "output_type": "execute_result",
     "data": {
      "text/plain": [
       "DataFrame[]"
      ]
     },
     "execution_count": 10,
     "metadata": {},
     "output_type": "execute_result"
    }
   ],
   "source": [
    "spark.sql(\"create database if not exists delta_training\") #Table creation"
   ]
  },
  {
   "cell_type": "code",
   "execution_count": 0,
   "metadata": {
    "application/vnd.databricks.v1+cell": {
     "cellMetadata": {
      "byteLimit": 2048000,
      "rowLimit": 10000
     },
     "inputWidgets": {},
     "nuid": "48a2e82f-a5ca-40a0-9d28-04dbd9911785",
     "showTitle": false,
     "tableResultSettingsMap": {},
     "title": ""
    }
   },
   "outputs": [
    {
     "output_type": "display_data",
     "data": {
      "text/html": [
       "<style scoped>\n",
       "  .table-result-container {\n",
       "    max-height: 300px;\n",
       "    overflow: auto;\n",
       "  }\n",
       "  table, th, td {\n",
       "    border: 1px solid black;\n",
       "    border-collapse: collapse;\n",
       "  }\n",
       "  th, td {\n",
       "    padding: 5px;\n",
       "  }\n",
       "  th {\n",
       "    text-align: left;\n",
       "  }\n",
       "</style><div class='table-result-container'><table class='table-result'><thead style='background-color: white'><tr><th>name</th><th>catalog</th><th>namespace</th><th>description</th><th>tableType</th><th>isTemporary</th></tr></thead><tbody><tr><td>export</td><td>spark_catalog</td><td>List(default)</td><td>Created by the file upload UI</td><td>MANAGED</td><td>false</td></tr><tr><td>loan</td><td>spark_catalog</td><td>List(default)</td><td>null</td><td>MANAGED</td><td>false</td></tr><tr><td>student1</td><td>spark_catalog</td><td>List(default)</td><td>null</td><td>MANAGED</td><td>false</td></tr><tr><td>text1_txt</td><td>spark_catalog</td><td>List(default)</td><td>null</td><td>MANAGED</td><td>false</td></tr></tbody></table></div>"
      ]
     },
     "metadata": {
      "application/vnd.databricks.v1+output": {
       "addedWidgets": {},
       "aggData": [],
       "aggError": "",
       "aggOverflow": false,
       "aggSchema": [],
       "aggSeriesLimitReached": false,
       "aggType": "",
       "arguments": {},
       "columnCustomDisplayInfos": {},
       "data": [
        [
         "export",
         "spark_catalog",
         [
          "default"
         ],
         "Created by the file upload UI",
         "MANAGED",
         false
        ],
        [
         "loan",
         "spark_catalog",
         [
          "default"
         ],
         null,
         "MANAGED",
         false
        ],
        [
         "student1",
         "spark_catalog",
         [
          "default"
         ],
         null,
         "MANAGED",
         false
        ],
        [
         "text1_txt",
         "spark_catalog",
         [
          "default"
         ],
         null,
         "MANAGED",
         false
        ]
       ],
       "datasetInfos": [],
       "dbfsResultPath": null,
       "isJsonSchema": true,
       "metadata": {},
       "overflow": false,
       "plotOptions": {
        "customPlotOptions": {},
        "displayType": "table",
        "pivotAggregation": null,
        "pivotColumns": null,
        "xColumns": null,
        "yColumns": null
       },
       "removedWidgets": [],
       "schema": [
        {
         "metadata": "{}",
         "name": "name",
         "type": "\"string\""
        },
        {
         "metadata": "{}",
         "name": "catalog",
         "type": "\"string\""
        },
        {
         "metadata": "{}",
         "name": "namespace",
         "type": "{\"type\":\"array\",\"elementType\":\"string\",\"containsNull\":true}"
        },
        {
         "metadata": "{}",
         "name": "description",
         "type": "\"string\""
        },
        {
         "metadata": "{}",
         "name": "tableType",
         "type": "\"string\""
        },
        {
         "metadata": "{}",
         "name": "isTemporary",
         "type": "\"boolean\""
        }
       ],
       "type": "table"
      }
     },
     "output_type": "display_data"
    }
   ],
   "source": [
    "display(spark.catalog.listTables(\"default\")) # to display list of table under database schema"
   ]
  },
  {
   "cell_type": "code",
   "execution_count": 0,
   "metadata": {
    "application/vnd.databricks.v1+cell": {
     "cellMetadata": {
      "byteLimit": 2048000,
      "rowLimit": 10000
     },
     "inputWidgets": {},
     "nuid": "3fdc21dd-e28d-4580-b096-aa332a051981",
     "showTitle": false,
     "tableResultSettingsMap": {},
     "title": ""
    }
   },
   "outputs": [
    {
     "output_type": "stream",
     "name": "stdout",
     "output_type": "stream",
     "text": [
      "+---+-----------------+------------------------+-------------------+------+----+---+-------------+----------+--------------+--------------+\n|_c0|_c1              |_c2                     |_c3                |_c4   |_c5 |_c6|_c7          |_c8       |_c9           |_c10          |\n+---+-----------------+------------------------+-------------------+------+----+---+-------------+----------+--------------+--------------+\n|id |name             |nationality             |city               |gender|NULL|age|english.grade|math.grade|sciences.grade|language.grade|\n|0  |Kiana Lor        |China                   |Suzhou             |F     |NULL|22 |3.5          |3.7       |3.1           |1             |\n|1  |Joshua Lonaker   |United States of America|Santa Clarita      |M     |NULL|22 |2.9          |3.2       |3.6           |5             |\n|2  |Dakota Blanco    |United States of America|Oakland            |F     |NULL|22 |3.9          |3.8       |3.2           |5             |\n|3  |Natasha Yarusso  |United States of America|Castro Valley      |F     |NULL|20 |3.3          |2.8       |3.2           |5             |\n|4  |Brooke Cazares   |Brazil                  |São José dos Campos|F     |NULL|21 |3.7          |2.6       |3.4           |1             |\n|5  |Rochelle Johnson |United States of America|Indianapolis       |F     |NULL|21 |3.4          |3.1       |3.7           |5             |\n|6  |Joey Abreu       |China                   |Shenyang           |M     |NULL|22 |3.7          |3.9       |3.6           |2             |\n|7  |Preston Suarez   |Brazil                  |São Paulo          |M     |NULL|22 |3.8          |3.7       |3.6           |2             |\n|8  |Lee Dong         |Philippines             |Manila             |F     |NULL|24 |3.9          |3.6       |3.2           |2             |\n|9  |Maa'iz al-Dia    |Turkey                  |Istanbul           |M     |NULL|22 |2.4          |2.8       |3.8           |3             |\n|10 |Maja Nicholson   |United States of America|Dallas             |F     |NULL|23 |3.4          |3.5       |3.2           |5             |\n|11 |Sasha Jansen     |United States of America|Chicago            |F     |NULL|21 |1.7          |4         |3.6           |5             |\n|12 |Alexander Sherman|United States of America|Omaha              |M     |NULL|20 |3.8          |3.6       |3.9           |5             |\n|13 |Edgar Sanchez    |Mexico                  |Tijuana            |M     |NULL|23 |3.7          |3.5       |4             |4             |\n|14 |Kolbi Strunk     |United States of America|Mission Viejo      |M     |NULL|21 |3.2          |3.9       |3.3           |5             |\n|15 |Brittany Sath    |Japan                   |Tokyo              |F     |NULL|21 |4            |3.9       |3.7           |3             |\n|16 |Meggan Smith     |United States of America|Los Angeles        |F     |NULL|21 |2.9          |3.4       |3.6           |5             |\n|17 |Ericka Arreola   |Mexico                  |Mexico             |other |NULL|23 |3.1          |3.5       |2.8           |4             |\n|18 |David Pulc       |Canada                  |Toronto            |M     |NULL|24 |3.9          |2.9       |4             |5             |\n+---+-----------------+------------------------+-------------------+------+----+---+-------------+----------+--------------+--------------+\nonly showing top 20 rows\n\n"
     ]
    }
   ],
   "source": [
    "# spark.sql(\"select * from delta_training.emp_file\").show(truncate=False)\n",
    "spark.sql(\"select * from default.student1\").show(truncate=False)"
   ]
  },
  {
   "cell_type": "code",
   "execution_count": 0,
   "metadata": {
    "application/vnd.databricks.v1+cell": {
     "cellMetadata": {
      "byteLimit": 2048000,
      "rowLimit": 10000
     },
     "inputWidgets": {},
     "nuid": "5a73910b-61cd-452d-b59b-384e9e6b20c1",
     "showTitle": false,
     "tableResultSettingsMap": {},
     "title": ""
    }
   },
   "outputs": [],
   "source": [
    "data=spark.read.format(\"delta\").load(\"dbfs:/user/hive/warehouse/export\")"
   ]
  },
  {
   "cell_type": "code",
   "execution_count": 0,
   "metadata": {
    "application/vnd.databricks.v1+cell": {
     "cellMetadata": {
      "byteLimit": 2048000,
      "implicitDf": true,
      "rowLimit": 10000
     },
     "inputWidgets": {},
     "nuid": "39fde42e-2843-440f-b4e2-edc3933c6ed6",
     "showTitle": false,
     "tableResultSettingsMap": {},
     "title": ""
    }
   },
   "outputs": [
    {
     "output_type": "display_data",
     "data": {
      "text/html": [
       "<style scoped>\n",
       "  .table-result-container {\n",
       "    max-height: 300px;\n",
       "    overflow: auto;\n",
       "  }\n",
       "  table, th, td {\n",
       "    border: 1px solid black;\n",
       "    border-collapse: collapse;\n",
       "  }\n",
       "  th, td {\n",
       "    padding: 5px;\n",
       "  }\n",
       "  th {\n",
       "    text-align: left;\n",
       "  }\n",
       "</style><div class='table-result-container'><table class='table-result'><thead style='background-color: white'><tr><th>format</th><th>id</th><th>name</th><th>description</th><th>location</th><th>createdAt</th><th>lastModified</th><th>partitionColumns</th><th>clusteringColumns</th><th>numFiles</th><th>sizeInBytes</th><th>properties</th><th>minReaderVersion</th><th>minWriterVersion</th><th>tableFeatures</th><th>statistics</th></tr></thead><tbody><tr><td>delta</td><td>643fd51b-d784-4878-8ed3-ecfc1b1acaba</td><td>spark_catalog.default.export</td><td>Created by the file upload UI</td><td>dbfs:/user/hive/warehouse/export</td><td>2024-11-28T06:30:01.275Z</td><td>2024-11-29T05:31:56Z</td><td>List()</td><td>List()</td><td>2</td><td>97244</td><td>Map(delta.enableDeletionVectors -> true)</td><td>3</td><td>7</td><td>List(deletionVectors)</td><td>Map(numRowsDeletedByDeletionVectors -> 0, numDeletionVectors -> 0)</td></tr></tbody></table></div>"
      ]
     },
     "metadata": {
      "application/vnd.databricks.v1+output": {
       "addedWidgets": {},
       "aggData": [],
       "aggError": "",
       "aggOverflow": false,
       "aggSchema": [],
       "aggSeriesLimitReached": false,
       "aggType": "",
       "arguments": {},
       "columnCustomDisplayInfos": {},
       "data": [
        [
         "delta",
         "643fd51b-d784-4878-8ed3-ecfc1b1acaba",
         "spark_catalog.default.export",
         "Created by the file upload UI",
         "dbfs:/user/hive/warehouse/export",
         "2024-11-28T06:30:01.275Z",
         "2024-11-29T05:31:56Z",
         [],
         [],
         2,
         97244,
         {
          "delta.enableDeletionVectors": "true"
         },
         3,
         7,
         [
          "deletionVectors"
         ],
         {
          "numDeletionVectors": 0,
          "numRowsDeletedByDeletionVectors": 0
         }
        ]
       ],
       "datasetInfos": [],
       "dbfsResultPath": null,
       "isJsonSchema": true,
       "metadata": {
        "createTempViewForImplicitDf": true,
        "dataframeName": "_sqldf",
        "executionCount": 18
       },
       "overflow": false,
       "plotOptions": {
        "customPlotOptions": {},
        "displayType": "table",
        "pivotAggregation": null,
        "pivotColumns": null,
        "xColumns": null,
        "yColumns": null
       },
       "removedWidgets": [],
       "schema": [
        {
         "metadata": "{}",
         "name": "format",
         "type": "\"string\""
        },
        {
         "metadata": "{}",
         "name": "id",
         "type": "\"string\""
        },
        {
         "metadata": "{}",
         "name": "name",
         "type": "\"string\""
        },
        {
         "metadata": "{}",
         "name": "description",
         "type": "\"string\""
        },
        {
         "metadata": "{}",
         "name": "location",
         "type": "\"string\""
        },
        {
         "metadata": "{}",
         "name": "createdAt",
         "type": "\"timestamp\""
        },
        {
         "metadata": "{}",
         "name": "lastModified",
         "type": "\"timestamp\""
        },
        {
         "metadata": "{}",
         "name": "partitionColumns",
         "type": "{\"type\":\"array\",\"elementType\":\"string\",\"containsNull\":true}"
        },
        {
         "metadata": "{}",
         "name": "clusteringColumns",
         "type": "{\"type\":\"array\",\"elementType\":\"string\",\"containsNull\":true}"
        },
        {
         "metadata": "{}",
         "name": "numFiles",
         "type": "\"long\""
        },
        {
         "metadata": "{}",
         "name": "sizeInBytes",
         "type": "\"long\""
        },
        {
         "metadata": "{}",
         "name": "properties",
         "type": "{\"type\":\"map\",\"keyType\":\"string\",\"valueType\":\"string\",\"valueContainsNull\":true}"
        },
        {
         "metadata": "{}",
         "name": "minReaderVersion",
         "type": "\"integer\""
        },
        {
         "metadata": "{}",
         "name": "minWriterVersion",
         "type": "\"integer\""
        },
        {
         "metadata": "{}",
         "name": "tableFeatures",
         "type": "{\"type\":\"array\",\"elementType\":\"string\",\"containsNull\":true}"
        },
        {
         "metadata": "{}",
         "name": "statistics",
         "type": "{\"type\":\"map\",\"keyType\":\"string\",\"valueType\":\"long\",\"valueContainsNull\":true}"
        }
       ],
       "type": "table"
      }
     },
     "output_type": "display_data"
    }
   ],
   "source": [
    "%sql\n",
    "describe detail export"
   ]
  },
  {
   "cell_type": "code",
   "execution_count": 0,
   "metadata": {
    "application/vnd.databricks.v1+cell": {
     "cellMetadata": {
      "byteLimit": 2048000,
      "rowLimit": 10000
     },
     "inputWidgets": {},
     "nuid": "c62884ef-c45d-4f60-baa3-565f7889a617",
     "showTitle": false,
     "tableResultSettingsMap": {},
     "title": ""
    }
   },
   "outputs": [],
   "source": [
    "data.write.format(\"delta\").mode(\"append\").save(\"dbfs:/user/hive/warehouse/export\")"
   ]
  },
  {
   "cell_type": "code",
   "execution_count": 0,
   "metadata": {
    "application/vnd.databricks.v1+cell": {
     "cellMetadata": {
      "byteLimit": 2048000,
      "rowLimit": 10000
     },
     "inputWidgets": {},
     "nuid": "4443b4a3-d6c1-4b3e-82f0-c7f8a6934dee",
     "showTitle": false,
     "tableResultSettingsMap": {},
     "title": ""
    }
   },
   "outputs": [
    {
     "output_type": "display_data",
     "data": {
      "text/html": [
       "<style scoped>\n",
       "  .table-result-container {\n",
       "    max-height: 300px;\n",
       "    overflow: auto;\n",
       "  }\n",
       "  table, th, td {\n",
       "    border: 1px solid black;\n",
       "    border-collapse: collapse;\n",
       "  }\n",
       "  th, td {\n",
       "    padding: 5px;\n",
       "  }\n",
       "  th {\n",
       "    text-align: left;\n",
       "  }\n",
       "</style><div class='table-result-container'><table class='table-result'><thead style='background-color: white'><tr><th>id</th><th>firstName</th><th>middleName</th><th>lastName</th><th>gender</th><th>birthDate</th><th>ssn</th><th>salary</th></tr></thead><tbody><tr><td>2</td><td>An</td><td>Amira</td><td>Cowper</td><td>F</td><td>1992-02-08T05:00:00Z</td><td>978-97-8086</td><td>40203</td></tr><tr><td>19</td><td>Adelle</td><td>Kathyrn</td><td>Grigoriev</td><td>F</td><td>1978-11-14T05:00:00Z</td><td>923-23-5984</td><td>60600</td></tr><tr><td>40</td><td>Alethea</td><td>Dolly</td><td>Brickdale</td><td>F</td><td>1960-06-26T04:00:00Z</td><td>908-46-4236</td><td>89151</td></tr><tr><td>61</td><td>Adelia</td><td>Gita</td><td>Vassel</td><td>F</td><td>1990-10-24T04:00:00Z</td><td>947-17-3832</td><td>63563</td></tr><tr><td>63</td><td>Anjanette</td><td>Clelia</td><td>Hicks</td><td>F</td><td>1973-10-26T04:00:00Z</td><td>981-32-5795</td><td>61310</td></tr><tr><td>75</td><td>Alica</td><td>Elfrieda</td><td>Mousdall</td><td>F</td><td>1953-12-21T05:00:00Z</td><td>954-16-6401</td><td>96490</td></tr><tr><td>90</td><td>Alice</td><td>Marisol</td><td>Novill</td><td>F</td><td>1992-05-21T04:00:00Z</td><td>924-10-7563</td><td>34053</td></tr><tr><td>100</td><td>Annalisa</td><td>Nova</td><td>Patesel</td><td>F</td><td>1974-01-25T04:00:00Z</td><td>922-68-2542</td><td>66481</td></tr><tr><td>105</td><td>Annie</td><td>Jeanne</td><td>Beecker</td><td>F</td><td>1961-12-09T05:00:00Z</td><td>903-15-7880</td><td>63493</td></tr><tr><td>110</td><td>Alayna</td><td>Donnetta</td><td>Passby</td><td>F</td><td>1985-11-09T05:00:00Z</td><td>937-24-5796</td><td>76967</td></tr><tr><td>119</td><td>Andra</td><td>Serafina</td><td>Dripps</td><td>F</td><td>1991-11-30T05:00:00Z</td><td>913-16-2090</td><td>82231</td></tr><tr><td>131</td><td>Allene</td><td>Vanita</td><td>Merchant</td><td>F</td><td>1980-07-10T04:00:00Z</td><td>926-80-8802</td><td>57109</td></tr><tr><td>135</td><td>Alana</td><td>Delfina</td><td>Mackness</td><td>F</td><td>1971-01-22T05:00:00Z</td><td>969-15-7250</td><td>92080</td></tr><tr><td>159</td><td>Armida</td><td>Lizbeth</td><td>Bladen</td><td>F</td><td>1958-07-12T04:00:00Z</td><td>946-79-6467</td><td>61072</td></tr><tr><td>178</td><td>Abbie</td><td>Gertude</td><td>Towe</td><td>F</td><td>1987-08-27T04:00:00Z</td><td>950-82-4442</td><td>89306</td></tr><tr><td>181</td><td>Anamaria</td><td>Fae</td><td>Bavridge</td><td>F</td><td>1986-05-26T04:00:00Z</td><td>988-43-6728</td><td>90934</td></tr><tr><td>195</td><td>Adeline</td><td>Melani</td><td>O'Geneay</td><td>F</td><td>1988-06-07T04:00:00Z</td><td>940-96-5753</td><td>56515</td></tr><tr><td>204</td><td>Alyce</td><td>Tameka</td><td>Loghan</td><td>F</td><td>1972-11-29T05:00:00Z</td><td>904-53-3534</td><td>54605</td></tr><tr><td>214</td><td>Angelia</td><td>Dorothy</td><td>Denley</td><td>F</td><td>1982-06-23T04:00:00Z</td><td>911-77-4660</td><td>100027</td></tr><tr><td>220</td><td>Anya</td><td>Machelle</td><td>Alben</td><td>F</td><td>1998-06-27T04:00:00Z</td><td>992-48-8976</td><td>92219</td></tr><tr><td>243</td><td>Arianna</td><td>Gaylene</td><td>Wale</td><td>F</td><td>1977-10-14T04:00:00Z</td><td>944-43-6032</td><td>80850</td></tr><tr><td>251</td><td>Avril</td><td>Santa</td><td>Bruggen</td><td>F</td><td>1998-06-02T04:00:00Z</td><td>968-74-1391</td><td>59021</td></tr><tr><td>279</td><td>Angelica</td><td>Jerica</td><td>Landreth</td><td>F</td><td>1981-05-13T04:00:00Z</td><td>982-24-5095</td><td>81134</td></tr><tr><td>288</td><td>Apryl</td><td>Andria</td><td>Beels</td><td>F</td><td>1982-07-31T04:00:00Z</td><td>951-19-3557</td><td>81941</td></tr><tr><td>293</td><td>Alida</td><td>Peggy</td><td>Bracher</td><td>F</td><td>1972-09-18T04:00:00Z</td><td>953-82-2303</td><td>107303</td></tr><tr><td>296</td><td>Ann</td><td>Vinita</td><td>Roscher</td><td>F</td><td>1986-05-31T04:00:00Z</td><td>936-40-3049</td><td>36909</td></tr><tr><td>297</td><td>Ara</td><td>Marie</td><td>Yirrell</td><td>F</td><td>1985-01-07T05:00:00Z</td><td>941-64-1407</td><td>65106</td></tr><tr><td>305</td><td>Afton</td><td>Eden</td><td>Klimes</td><td>F</td><td>1993-02-17T05:00:00Z</td><td>992-54-8408</td><td>71136</td></tr><tr><td>322</td><td>Ada</td><td>Nidia</td><td>Fowlston</td><td>F</td><td>1956-07-16T04:00:00Z</td><td>965-47-3150</td><td>95613</td></tr><tr><td>327</td><td>Andrea</td><td>Josie</td><td>Loney</td><td>F</td><td>1965-08-08T04:00:00Z</td><td>939-59-2912</td><td>94514</td></tr><tr><td>330</td><td>Altha</td><td>Contessa</td><td>Terne</td><td>F</td><td>1992-04-21T04:00:00Z</td><td>924-49-8199</td><td>101372</td></tr><tr><td>340</td><td>Asha</td><td>Kristie</td><td>Flett</td><td>F</td><td>1960-05-22T04:00:00Z</td><td>941-80-2445</td><td>39079</td></tr><tr><td>348</td><td>Andra</td><td>Ami</td><td>Player</td><td>F</td><td>1984-09-10T04:00:00Z</td><td>986-41-7846</td><td>97363</td></tr><tr><td>364</td><td>Arlinda</td><td>Alene</td><td>Tilte</td><td>F</td><td>1957-02-20T05:00:00Z</td><td>961-48-7930</td><td>57645</td></tr><tr><td>372</td><td>Arlena</td><td>Azucena</td><td>Trunby</td><td>F</td><td>1982-03-15T05:00:00Z</td><td>922-60-6411</td><td>103732</td></tr><tr><td>374</td><td>Alice</td><td>Sheridan</td><td>Imlacke</td><td>F</td><td>1981-07-18T04:00:00Z</td><td>981-20-2851</td><td>107158</td></tr><tr><td>386</td><td>Adeline</td><td>Dominga</td><td>Brittian</td><td>F</td><td>1973-01-30T05:00:00Z</td><td>927-92-5942</td><td>54880</td></tr><tr><td>390</td><td>Alma</td><td>Kristle</td><td>Matz</td><td>F</td><td>1981-05-20T04:00:00Z</td><td>995-96-9839</td><td>77408</td></tr><tr><td>399</td><td>Ariane</td><td>Alesha</td><td>Edden</td><td>F</td><td>1995-08-23T04:00:00Z</td><td>997-24-9280</td><td>59872</td></tr><tr><td>407</td><td>Arletha</td><td>Gillian</td><td>Wasteney</td><td>F</td><td>1958-08-16T04:00:00Z</td><td>981-94-7665</td><td>77969</td></tr><tr><td>409</td><td>Aura</td><td>Beulah</td><td>Tiddeman</td><td>F</td><td>1956-04-01T05:00:00Z</td><td>996-87-3713</td><td>83470</td></tr><tr><td>415</td><td>Angeline</td><td>Karlene</td><td>Liveing</td><td>F</td><td>1963-10-18T04:00:00Z</td><td>992-15-7713</td><td>76278</td></tr><tr><td>426</td><td>Ann</td><td>Leone</td><td>Peddie</td><td>F</td><td>1978-01-17T05:00:00Z</td><td>945-98-1180</td><td>57985</td></tr><tr><td>433</td><td>Angela</td><td>Augustina</td><td>Kunisch</td><td>F</td><td>1996-07-01T04:00:00Z</td><td>935-85-5005</td><td>34907</td></tr><tr><td>434</td><td>Amiee</td><td>Dierdre</td><td>Curtois</td><td>F</td><td>1999-03-22T05:00:00Z</td><td>995-14-8154</td><td>80232</td></tr><tr><td>446</td><td>Angelina</td><td>Aleida</td><td>Schubart</td><td>F</td><td>1984-06-03T04:00:00Z</td><td>994-31-5833</td><td>73818</td></tr><tr><td>452</td><td>Aleta</td><td>Golda</td><td>Deboy</td><td>F</td><td>1992-03-16T05:00:00Z</td><td>972-57-9148</td><td>57547</td></tr><tr><td>501</td><td>Aline</td><td>Deloris</td><td>Beardsworth</td><td>F</td><td>1990-05-15T04:00:00Z</td><td>666-33-7782</td><td>66081</td></tr><tr><td>519</td><td>Adrienne</td><td>Catalina</td><td>Pretty</td><td>F</td><td>1993-01-13T05:00:00Z</td><td>901-57-3844</td><td>49687</td></tr><tr><td>527</td><td>Alice</td><td>Dian</td><td>Bischoff</td><td>F</td><td>1983-11-26T05:00:00Z</td><td>931-62-3413</td><td>84897</td></tr><tr><td>536</td><td>Arcelia</td><td>Tiana</td><td>Kullmann</td><td>F</td><td>1990-09-05T04:00:00Z</td><td>947-32-2591</td><td>61856</td></tr><tr><td>558</td><td>Aleta</td><td>Sheri</td><td>Pett</td><td>F</td><td>1970-11-19T05:00:00Z</td><td>986-27-2573</td><td>71206</td></tr><tr><td>567</td><td>Addie</td><td>Mellisa</td><td>Swannell</td><td>F</td><td>1984-07-04T04:00:00Z</td><td>984-22-4846</td><td>34451</td></tr><tr><td>578</td><td>Ali</td><td>Winnie</td><td>Grahlmans</td><td>F</td><td>1960-05-02T04:00:00Z</td><td>993-98-8508</td><td>68701</td></tr><tr><td>584</td><td>Ardis</td><td>Delta</td><td>Berwick</td><td>F</td><td>1999-07-22T04:00:00Z</td><td>945-45-2990</td><td>54244</td></tr><tr><td>590</td><td>Alicia</td><td>Kari</td><td>Devas</td><td>F</td><td>1983-03-08T05:00:00Z</td><td>980-80-2517</td><td>85799</td></tr><tr><td>616</td><td>Alene</td><td>Meryl</td><td>Killingsworth</td><td>F</td><td>1955-06-19T04:00:00Z</td><td>937-96-1703</td><td>51176</td></tr><tr><td>627</td><td>Agatha</td><td>Danielle</td><td>Mallebone</td><td>F</td><td>1977-03-05T05:00:00Z</td><td>922-86-9365</td><td>48232</td></tr><tr><td>640</td><td>Angelic</td><td>Rossana</td><td>Raiker</td><td>F</td><td>1969-06-07T04:00:00Z</td><td>985-74-9894</td><td>30965</td></tr><tr><td>646</td><td>Alecia</td><td>Latrice</td><td>Dener</td><td>F</td><td>1973-04-02T05:00:00Z</td><td>926-24-5548</td><td>64624</td></tr><tr><td>650</td><td>Amparo</td><td>Alison</td><td>Braxton</td><td>F</td><td>1997-05-13T04:00:00Z</td><td>963-74-3766</td><td>67351</td></tr><tr><td>685</td><td>Armanda</td><td>Sammie</td><td>Crabbe</td><td>F</td><td>1986-10-21T04:00:00Z</td><td>924-93-3122</td><td>91560</td></tr><tr><td>710</td><td>Adaline</td><td>Dina</td><td>Mees</td><td>F</td><td>1989-05-14T04:00:00Z</td><td>946-75-4704</td><td>95970</td></tr><tr><td>718</td><td>Aurea</td><td>Kemberly</td><td>Bew</td><td>F</td><td>1998-10-07T04:00:00Z</td><td>950-15-3914</td><td>51305</td></tr><tr><td>729</td><td>Amie</td><td>Karri</td><td>Redding</td><td>F</td><td>1966-12-02T05:00:00Z</td><td>992-32-3965</td><td>74445</td></tr><tr><td>743</td><td>Akiko</td><td>Kamala</td><td>De Michele</td><td>F</td><td>1989-02-10T05:00:00Z</td><td>985-54-2317</td><td>64790</td></tr><tr><td>776</td><td>Amina</td><td>Eve</td><td>Ausiello</td><td>F</td><td>1968-12-31T05:00:00Z</td><td>994-45-9156</td><td>67509</td></tr><tr><td>808</td><td>Aurea</td><td>Tosha</td><td>Paxton</td><td>F</td><td>1977-10-11T04:00:00Z</td><td>928-38-4350</td><td>97860</td></tr><tr><td>813</td><td>Angelica</td><td>Darla</td><td>Orpyne</td><td>F</td><td>1988-06-24T04:00:00Z</td><td>987-69-5830</td><td>77940</td></tr><tr><td>815</td><td>Alice</td><td>Lakesha</td><td>Sammon</td><td>F</td><td>1979-03-14T05:00:00Z</td><td>955-17-2571</td><td>86689</td></tr><tr><td>831</td><td>Amber</td><td>Johana</td><td>Quenby</td><td>F</td><td>1974-01-05T05:00:00Z</td><td>965-67-2644</td><td>70861</td></tr><tr><td>832</td><td>Arcelia</td><td>Amberly</td><td>Andriveaux</td><td>F</td><td>1979-06-15T04:00:00Z</td><td>970-44-1211</td><td>108495</td></tr><tr><td>835</td><td>Antoinette</td><td>Era</td><td>Warriner</td><td>F</td><td>1982-07-08T04:00:00Z</td><td>954-43-1908</td><td>69049</td></tr><tr><td>847</td><td>Audrey</td><td>Alva</td><td>Ralph</td><td>F</td><td>1964-06-22T04:00:00Z</td><td>989-97-1420</td><td>45728</td></tr><tr><td>854</td><td>Arleen</td><td>Nicolette</td><td>Edgington</td><td>F</td><td>1958-04-11T05:00:00Z</td><td>947-58-4827</td><td>65058</td></tr><tr><td>871</td><td>Amparo</td><td>Kasandra</td><td>MacAndie</td><td>F</td><td>1960-02-05T05:00:00Z</td><td>961-54-4024</td><td>68832</td></tr><tr><td>874</td><td>Arnetta</td><td>Lakeisha</td><td>Voas</td><td>F</td><td>1959-03-30T05:00:00Z</td><td>981-46-7954</td><td>48907</td></tr><tr><td>911</td><td>Adrianne</td><td>Cristi</td><td>Keelan</td><td>F</td><td>2000-01-10T05:00:00Z</td><td>948-18-1402</td><td>69663</td></tr><tr><td>938</td><td>Albertha</td><td>Isabell</td><td>Tamburi</td><td>F</td><td>1983-03-07T05:00:00Z</td><td>925-77-3714</td><td>70859</td></tr><tr><td>946</td><td>Arline</td><td>Anne</td><td>Dumigan</td><td>F</td><td>1966-04-27T04:00:00Z</td><td>964-75-9285</td><td>48460</td></tr><tr><td>963</td><td>Angelina</td><td>Elza</td><td>Beric</td><td>F</td><td>1952-02-21T05:00:00Z</td><td>996-34-5947</td><td>81446</td></tr><tr><td>2</td><td>An</td><td>Amira</td><td>Cowper</td><td>F</td><td>1992-02-08T05:00:00Z</td><td>978-97-8086</td><td>40203</td></tr><tr><td>19</td><td>Adelle</td><td>Kathyrn</td><td>Grigoriev</td><td>F</td><td>1978-11-14T05:00:00Z</td><td>923-23-5984</td><td>60600</td></tr><tr><td>40</td><td>Alethea</td><td>Dolly</td><td>Brickdale</td><td>F</td><td>1960-06-26T04:00:00Z</td><td>908-46-4236</td><td>89151</td></tr><tr><td>61</td><td>Adelia</td><td>Gita</td><td>Vassel</td><td>F</td><td>1990-10-24T04:00:00Z</td><td>947-17-3832</td><td>63563</td></tr><tr><td>63</td><td>Anjanette</td><td>Clelia</td><td>Hicks</td><td>F</td><td>1973-10-26T04:00:00Z</td><td>981-32-5795</td><td>61310</td></tr><tr><td>75</td><td>Alica</td><td>Elfrieda</td><td>Mousdall</td><td>F</td><td>1953-12-21T05:00:00Z</td><td>954-16-6401</td><td>96490</td></tr><tr><td>90</td><td>Alice</td><td>Marisol</td><td>Novill</td><td>F</td><td>1992-05-21T04:00:00Z</td><td>924-10-7563</td><td>34053</td></tr><tr><td>100</td><td>Annalisa</td><td>Nova</td><td>Patesel</td><td>F</td><td>1974-01-25T04:00:00Z</td><td>922-68-2542</td><td>66481</td></tr><tr><td>105</td><td>Annie</td><td>Jeanne</td><td>Beecker</td><td>F</td><td>1961-12-09T05:00:00Z</td><td>903-15-7880</td><td>63493</td></tr><tr><td>110</td><td>Alayna</td><td>Donnetta</td><td>Passby</td><td>F</td><td>1985-11-09T05:00:00Z</td><td>937-24-5796</td><td>76967</td></tr><tr><td>119</td><td>Andra</td><td>Serafina</td><td>Dripps</td><td>F</td><td>1991-11-30T05:00:00Z</td><td>913-16-2090</td><td>82231</td></tr><tr><td>131</td><td>Allene</td><td>Vanita</td><td>Merchant</td><td>F</td><td>1980-07-10T04:00:00Z</td><td>926-80-8802</td><td>57109</td></tr><tr><td>135</td><td>Alana</td><td>Delfina</td><td>Mackness</td><td>F</td><td>1971-01-22T05:00:00Z</td><td>969-15-7250</td><td>92080</td></tr><tr><td>159</td><td>Armida</td><td>Lizbeth</td><td>Bladen</td><td>F</td><td>1958-07-12T04:00:00Z</td><td>946-79-6467</td><td>61072</td></tr><tr><td>178</td><td>Abbie</td><td>Gertude</td><td>Towe</td><td>F</td><td>1987-08-27T04:00:00Z</td><td>950-82-4442</td><td>89306</td></tr><tr><td>181</td><td>Anamaria</td><td>Fae</td><td>Bavridge</td><td>F</td><td>1986-05-26T04:00:00Z</td><td>988-43-6728</td><td>90934</td></tr><tr><td>195</td><td>Adeline</td><td>Melani</td><td>O'Geneay</td><td>F</td><td>1988-06-07T04:00:00Z</td><td>940-96-5753</td><td>56515</td></tr><tr><td>204</td><td>Alyce</td><td>Tameka</td><td>Loghan</td><td>F</td><td>1972-11-29T05:00:00Z</td><td>904-53-3534</td><td>54605</td></tr><tr><td>214</td><td>Angelia</td><td>Dorothy</td><td>Denley</td><td>F</td><td>1982-06-23T04:00:00Z</td><td>911-77-4660</td><td>100027</td></tr><tr><td>220</td><td>Anya</td><td>Machelle</td><td>Alben</td><td>F</td><td>1998-06-27T04:00:00Z</td><td>992-48-8976</td><td>92219</td></tr><tr><td>243</td><td>Arianna</td><td>Gaylene</td><td>Wale</td><td>F</td><td>1977-10-14T04:00:00Z</td><td>944-43-6032</td><td>80850</td></tr><tr><td>251</td><td>Avril</td><td>Santa</td><td>Bruggen</td><td>F</td><td>1998-06-02T04:00:00Z</td><td>968-74-1391</td><td>59021</td></tr><tr><td>279</td><td>Angelica</td><td>Jerica</td><td>Landreth</td><td>F</td><td>1981-05-13T04:00:00Z</td><td>982-24-5095</td><td>81134</td></tr><tr><td>288</td><td>Apryl</td><td>Andria</td><td>Beels</td><td>F</td><td>1982-07-31T04:00:00Z</td><td>951-19-3557</td><td>81941</td></tr><tr><td>293</td><td>Alida</td><td>Peggy</td><td>Bracher</td><td>F</td><td>1972-09-18T04:00:00Z</td><td>953-82-2303</td><td>107303</td></tr><tr><td>296</td><td>Ann</td><td>Vinita</td><td>Roscher</td><td>F</td><td>1986-05-31T04:00:00Z</td><td>936-40-3049</td><td>36909</td></tr><tr><td>297</td><td>Ara</td><td>Marie</td><td>Yirrell</td><td>F</td><td>1985-01-07T05:00:00Z</td><td>941-64-1407</td><td>65106</td></tr><tr><td>305</td><td>Afton</td><td>Eden</td><td>Klimes</td><td>F</td><td>1993-02-17T05:00:00Z</td><td>992-54-8408</td><td>71136</td></tr><tr><td>322</td><td>Ada</td><td>Nidia</td><td>Fowlston</td><td>F</td><td>1956-07-16T04:00:00Z</td><td>965-47-3150</td><td>95613</td></tr><tr><td>327</td><td>Andrea</td><td>Josie</td><td>Loney</td><td>F</td><td>1965-08-08T04:00:00Z</td><td>939-59-2912</td><td>94514</td></tr><tr><td>330</td><td>Altha</td><td>Contessa</td><td>Terne</td><td>F</td><td>1992-04-21T04:00:00Z</td><td>924-49-8199</td><td>101372</td></tr><tr><td>340</td><td>Asha</td><td>Kristie</td><td>Flett</td><td>F</td><td>1960-05-22T04:00:00Z</td><td>941-80-2445</td><td>39079</td></tr><tr><td>348</td><td>Andra</td><td>Ami</td><td>Player</td><td>F</td><td>1984-09-10T04:00:00Z</td><td>986-41-7846</td><td>97363</td></tr><tr><td>364</td><td>Arlinda</td><td>Alene</td><td>Tilte</td><td>F</td><td>1957-02-20T05:00:00Z</td><td>961-48-7930</td><td>57645</td></tr><tr><td>372</td><td>Arlena</td><td>Azucena</td><td>Trunby</td><td>F</td><td>1982-03-15T05:00:00Z</td><td>922-60-6411</td><td>103732</td></tr><tr><td>374</td><td>Alice</td><td>Sheridan</td><td>Imlacke</td><td>F</td><td>1981-07-18T04:00:00Z</td><td>981-20-2851</td><td>107158</td></tr><tr><td>386</td><td>Adeline</td><td>Dominga</td><td>Brittian</td><td>F</td><td>1973-01-30T05:00:00Z</td><td>927-92-5942</td><td>54880</td></tr><tr><td>390</td><td>Alma</td><td>Kristle</td><td>Matz</td><td>F</td><td>1981-05-20T04:00:00Z</td><td>995-96-9839</td><td>77408</td></tr><tr><td>399</td><td>Ariane</td><td>Alesha</td><td>Edden</td><td>F</td><td>1995-08-23T04:00:00Z</td><td>997-24-9280</td><td>59872</td></tr><tr><td>407</td><td>Arletha</td><td>Gillian</td><td>Wasteney</td><td>F</td><td>1958-08-16T04:00:00Z</td><td>981-94-7665</td><td>77969</td></tr><tr><td>409</td><td>Aura</td><td>Beulah</td><td>Tiddeman</td><td>F</td><td>1956-04-01T05:00:00Z</td><td>996-87-3713</td><td>83470</td></tr><tr><td>415</td><td>Angeline</td><td>Karlene</td><td>Liveing</td><td>F</td><td>1963-10-18T04:00:00Z</td><td>992-15-7713</td><td>76278</td></tr><tr><td>426</td><td>Ann</td><td>Leone</td><td>Peddie</td><td>F</td><td>1978-01-17T05:00:00Z</td><td>945-98-1180</td><td>57985</td></tr><tr><td>433</td><td>Angela</td><td>Augustina</td><td>Kunisch</td><td>F</td><td>1996-07-01T04:00:00Z</td><td>935-85-5005</td><td>34907</td></tr><tr><td>434</td><td>Amiee</td><td>Dierdre</td><td>Curtois</td><td>F</td><td>1999-03-22T05:00:00Z</td><td>995-14-8154</td><td>80232</td></tr><tr><td>446</td><td>Angelina</td><td>Aleida</td><td>Schubart</td><td>F</td><td>1984-06-03T04:00:00Z</td><td>994-31-5833</td><td>73818</td></tr><tr><td>452</td><td>Aleta</td><td>Golda</td><td>Deboy</td><td>F</td><td>1992-03-16T05:00:00Z</td><td>972-57-9148</td><td>57547</td></tr><tr><td>501</td><td>Aline</td><td>Deloris</td><td>Beardsworth</td><td>F</td><td>1990-05-15T04:00:00Z</td><td>666-33-7782</td><td>66081</td></tr><tr><td>519</td><td>Adrienne</td><td>Catalina</td><td>Pretty</td><td>F</td><td>1993-01-13T05:00:00Z</td><td>901-57-3844</td><td>49687</td></tr><tr><td>527</td><td>Alice</td><td>Dian</td><td>Bischoff</td><td>F</td><td>1983-11-26T05:00:00Z</td><td>931-62-3413</td><td>84897</td></tr><tr><td>536</td><td>Arcelia</td><td>Tiana</td><td>Kullmann</td><td>F</td><td>1990-09-05T04:00:00Z</td><td>947-32-2591</td><td>61856</td></tr><tr><td>558</td><td>Aleta</td><td>Sheri</td><td>Pett</td><td>F</td><td>1970-11-19T05:00:00Z</td><td>986-27-2573</td><td>71206</td></tr><tr><td>567</td><td>Addie</td><td>Mellisa</td><td>Swannell</td><td>F</td><td>1984-07-04T04:00:00Z</td><td>984-22-4846</td><td>34451</td></tr><tr><td>578</td><td>Ali</td><td>Winnie</td><td>Grahlmans</td><td>F</td><td>1960-05-02T04:00:00Z</td><td>993-98-8508</td><td>68701</td></tr><tr><td>584</td><td>Ardis</td><td>Delta</td><td>Berwick</td><td>F</td><td>1999-07-22T04:00:00Z</td><td>945-45-2990</td><td>54244</td></tr><tr><td>590</td><td>Alicia</td><td>Kari</td><td>Devas</td><td>F</td><td>1983-03-08T05:00:00Z</td><td>980-80-2517</td><td>85799</td></tr><tr><td>616</td><td>Alene</td><td>Meryl</td><td>Killingsworth</td><td>F</td><td>1955-06-19T04:00:00Z</td><td>937-96-1703</td><td>51176</td></tr><tr><td>627</td><td>Agatha</td><td>Danielle</td><td>Mallebone</td><td>F</td><td>1977-03-05T05:00:00Z</td><td>922-86-9365</td><td>48232</td></tr><tr><td>640</td><td>Angelic</td><td>Rossana</td><td>Raiker</td><td>F</td><td>1969-06-07T04:00:00Z</td><td>985-74-9894</td><td>30965</td></tr><tr><td>646</td><td>Alecia</td><td>Latrice</td><td>Dener</td><td>F</td><td>1973-04-02T05:00:00Z</td><td>926-24-5548</td><td>64624</td></tr><tr><td>650</td><td>Amparo</td><td>Alison</td><td>Braxton</td><td>F</td><td>1997-05-13T04:00:00Z</td><td>963-74-3766</td><td>67351</td></tr><tr><td>685</td><td>Armanda</td><td>Sammie</td><td>Crabbe</td><td>F</td><td>1986-10-21T04:00:00Z</td><td>924-93-3122</td><td>91560</td></tr><tr><td>710</td><td>Adaline</td><td>Dina</td><td>Mees</td><td>F</td><td>1989-05-14T04:00:00Z</td><td>946-75-4704</td><td>95970</td></tr><tr><td>718</td><td>Aurea</td><td>Kemberly</td><td>Bew</td><td>F</td><td>1998-10-07T04:00:00Z</td><td>950-15-3914</td><td>51305</td></tr><tr><td>729</td><td>Amie</td><td>Karri</td><td>Redding</td><td>F</td><td>1966-12-02T05:00:00Z</td><td>992-32-3965</td><td>74445</td></tr><tr><td>743</td><td>Akiko</td><td>Kamala</td><td>De Michele</td><td>F</td><td>1989-02-10T05:00:00Z</td><td>985-54-2317</td><td>64790</td></tr><tr><td>776</td><td>Amina</td><td>Eve</td><td>Ausiello</td><td>F</td><td>1968-12-31T05:00:00Z</td><td>994-45-9156</td><td>67509</td></tr><tr><td>808</td><td>Aurea</td><td>Tosha</td><td>Paxton</td><td>F</td><td>1977-10-11T04:00:00Z</td><td>928-38-4350</td><td>97860</td></tr><tr><td>813</td><td>Angelica</td><td>Darla</td><td>Orpyne</td><td>F</td><td>1988-06-24T04:00:00Z</td><td>987-69-5830</td><td>77940</td></tr><tr><td>815</td><td>Alice</td><td>Lakesha</td><td>Sammon</td><td>F</td><td>1979-03-14T05:00:00Z</td><td>955-17-2571</td><td>86689</td></tr><tr><td>831</td><td>Amber</td><td>Johana</td><td>Quenby</td><td>F</td><td>1974-01-05T05:00:00Z</td><td>965-67-2644</td><td>70861</td></tr><tr><td>832</td><td>Arcelia</td><td>Amberly</td><td>Andriveaux</td><td>F</td><td>1979-06-15T04:00:00Z</td><td>970-44-1211</td><td>108495</td></tr><tr><td>835</td><td>Antoinette</td><td>Era</td><td>Warriner</td><td>F</td><td>1982-07-08T04:00:00Z</td><td>954-43-1908</td><td>69049</td></tr><tr><td>847</td><td>Audrey</td><td>Alva</td><td>Ralph</td><td>F</td><td>1964-06-22T04:00:00Z</td><td>989-97-1420</td><td>45728</td></tr><tr><td>854</td><td>Arleen</td><td>Nicolette</td><td>Edgington</td><td>F</td><td>1958-04-11T05:00:00Z</td><td>947-58-4827</td><td>65058</td></tr><tr><td>871</td><td>Amparo</td><td>Kasandra</td><td>MacAndie</td><td>F</td><td>1960-02-05T05:00:00Z</td><td>961-54-4024</td><td>68832</td></tr><tr><td>874</td><td>Arnetta</td><td>Lakeisha</td><td>Voas</td><td>F</td><td>1959-03-30T05:00:00Z</td><td>981-46-7954</td><td>48907</td></tr><tr><td>911</td><td>Adrianne</td><td>Cristi</td><td>Keelan</td><td>F</td><td>2000-01-10T05:00:00Z</td><td>948-18-1402</td><td>69663</td></tr><tr><td>938</td><td>Albertha</td><td>Isabell</td><td>Tamburi</td><td>F</td><td>1983-03-07T05:00:00Z</td><td>925-77-3714</td><td>70859</td></tr><tr><td>946</td><td>Arline</td><td>Anne</td><td>Dumigan</td><td>F</td><td>1966-04-27T04:00:00Z</td><td>964-75-9285</td><td>48460</td></tr><tr><td>963</td><td>Angelina</td><td>Elza</td><td>Beric</td><td>F</td><td>1952-02-21T05:00:00Z</td><td>996-34-5947</td><td>81446</td></tr></tbody></table></div>"
      ]
     },
     "metadata": {
      "application/vnd.databricks.v1+output": {
       "addedWidgets": {},
       "aggData": [],
       "aggError": "",
       "aggOverflow": false,
       "aggSchema": [],
       "aggSeriesLimitReached": false,
       "aggType": "",
       "arguments": {},
       "columnCustomDisplayInfos": {},
       "data": [
        [
         2,
         "An",
         "Amira",
         "Cowper",
         "F",
         "1992-02-08T05:00:00Z",
         "978-97-8086",
         40203
        ],
        [
         19,
         "Adelle",
         "Kathyrn",
         "Grigoriev",
         "F",
         "1978-11-14T05:00:00Z",
         "923-23-5984",
         60600
        ],
        [
         40,
         "Alethea",
         "Dolly",
         "Brickdale",
         "F",
         "1960-06-26T04:00:00Z",
         "908-46-4236",
         89151
        ],
        [
         61,
         "Adelia",
         "Gita",
         "Vassel",
         "F",
         "1990-10-24T04:00:00Z",
         "947-17-3832",
         63563
        ],
        [
         63,
         "Anjanette",
         "Clelia",
         "Hicks",
         "F",
         "1973-10-26T04:00:00Z",
         "981-32-5795",
         61310
        ],
        [
         75,
         "Alica",
         "Elfrieda",
         "Mousdall",
         "F",
         "1953-12-21T05:00:00Z",
         "954-16-6401",
         96490
        ],
        [
         90,
         "Alice",
         "Marisol",
         "Novill",
         "F",
         "1992-05-21T04:00:00Z",
         "924-10-7563",
         34053
        ],
        [
         100,
         "Annalisa",
         "Nova",
         "Patesel",
         "F",
         "1974-01-25T04:00:00Z",
         "922-68-2542",
         66481
        ],
        [
         105,
         "Annie",
         "Jeanne",
         "Beecker",
         "F",
         "1961-12-09T05:00:00Z",
         "903-15-7880",
         63493
        ],
        [
         110,
         "Alayna",
         "Donnetta",
         "Passby",
         "F",
         "1985-11-09T05:00:00Z",
         "937-24-5796",
         76967
        ],
        [
         119,
         "Andra",
         "Serafina",
         "Dripps",
         "F",
         "1991-11-30T05:00:00Z",
         "913-16-2090",
         82231
        ],
        [
         131,
         "Allene",
         "Vanita",
         "Merchant",
         "F",
         "1980-07-10T04:00:00Z",
         "926-80-8802",
         57109
        ],
        [
         135,
         "Alana",
         "Delfina",
         "Mackness",
         "F",
         "1971-01-22T05:00:00Z",
         "969-15-7250",
         92080
        ],
        [
         159,
         "Armida",
         "Lizbeth",
         "Bladen",
         "F",
         "1958-07-12T04:00:00Z",
         "946-79-6467",
         61072
        ],
        [
         178,
         "Abbie",
         "Gertude",
         "Towe",
         "F",
         "1987-08-27T04:00:00Z",
         "950-82-4442",
         89306
        ],
        [
         181,
         "Anamaria",
         "Fae",
         "Bavridge",
         "F",
         "1986-05-26T04:00:00Z",
         "988-43-6728",
         90934
        ],
        [
         195,
         "Adeline",
         "Melani",
         "O'Geneay",
         "F",
         "1988-06-07T04:00:00Z",
         "940-96-5753",
         56515
        ],
        [
         204,
         "Alyce",
         "Tameka",
         "Loghan",
         "F",
         "1972-11-29T05:00:00Z",
         "904-53-3534",
         54605
        ],
        [
         214,
         "Angelia",
         "Dorothy",
         "Denley",
         "F",
         "1982-06-23T04:00:00Z",
         "911-77-4660",
         100027
        ],
        [
         220,
         "Anya",
         "Machelle",
         "Alben",
         "F",
         "1998-06-27T04:00:00Z",
         "992-48-8976",
         92219
        ],
        [
         243,
         "Arianna",
         "Gaylene",
         "Wale",
         "F",
         "1977-10-14T04:00:00Z",
         "944-43-6032",
         80850
        ],
        [
         251,
         "Avril",
         "Santa",
         "Bruggen",
         "F",
         "1998-06-02T04:00:00Z",
         "968-74-1391",
         59021
        ],
        [
         279,
         "Angelica",
         "Jerica",
         "Landreth",
         "F",
         "1981-05-13T04:00:00Z",
         "982-24-5095",
         81134
        ],
        [
         288,
         "Apryl",
         "Andria",
         "Beels",
         "F",
         "1982-07-31T04:00:00Z",
         "951-19-3557",
         81941
        ],
        [
         293,
         "Alida",
         "Peggy",
         "Bracher",
         "F",
         "1972-09-18T04:00:00Z",
         "953-82-2303",
         107303
        ],
        [
         296,
         "Ann",
         "Vinita",
         "Roscher",
         "F",
         "1986-05-31T04:00:00Z",
         "936-40-3049",
         36909
        ],
        [
         297,
         "Ara",
         "Marie",
         "Yirrell",
         "F",
         "1985-01-07T05:00:00Z",
         "941-64-1407",
         65106
        ],
        [
         305,
         "Afton",
         "Eden",
         "Klimes",
         "F",
         "1993-02-17T05:00:00Z",
         "992-54-8408",
         71136
        ],
        [
         322,
         "Ada",
         "Nidia",
         "Fowlston",
         "F",
         "1956-07-16T04:00:00Z",
         "965-47-3150",
         95613
        ],
        [
         327,
         "Andrea",
         "Josie",
         "Loney",
         "F",
         "1965-08-08T04:00:00Z",
         "939-59-2912",
         94514
        ],
        [
         330,
         "Altha",
         "Contessa",
         "Terne",
         "F",
         "1992-04-21T04:00:00Z",
         "924-49-8199",
         101372
        ],
        [
         340,
         "Asha",
         "Kristie",
         "Flett",
         "F",
         "1960-05-22T04:00:00Z",
         "941-80-2445",
         39079
        ],
        [
         348,
         "Andra",
         "Ami",
         "Player",
         "F",
         "1984-09-10T04:00:00Z",
         "986-41-7846",
         97363
        ],
        [
         364,
         "Arlinda",
         "Alene",
         "Tilte",
         "F",
         "1957-02-20T05:00:00Z",
         "961-48-7930",
         57645
        ],
        [
         372,
         "Arlena",
         "Azucena",
         "Trunby",
         "F",
         "1982-03-15T05:00:00Z",
         "922-60-6411",
         103732
        ],
        [
         374,
         "Alice",
         "Sheridan",
         "Imlacke",
         "F",
         "1981-07-18T04:00:00Z",
         "981-20-2851",
         107158
        ],
        [
         386,
         "Adeline",
         "Dominga",
         "Brittian",
         "F",
         "1973-01-30T05:00:00Z",
         "927-92-5942",
         54880
        ],
        [
         390,
         "Alma",
         "Kristle",
         "Matz",
         "F",
         "1981-05-20T04:00:00Z",
         "995-96-9839",
         77408
        ],
        [
         399,
         "Ariane",
         "Alesha",
         "Edden",
         "F",
         "1995-08-23T04:00:00Z",
         "997-24-9280",
         59872
        ],
        [
         407,
         "Arletha",
         "Gillian",
         "Wasteney",
         "F",
         "1958-08-16T04:00:00Z",
         "981-94-7665",
         77969
        ],
        [
         409,
         "Aura",
         "Beulah",
         "Tiddeman",
         "F",
         "1956-04-01T05:00:00Z",
         "996-87-3713",
         83470
        ],
        [
         415,
         "Angeline",
         "Karlene",
         "Liveing",
         "F",
         "1963-10-18T04:00:00Z",
         "992-15-7713",
         76278
        ],
        [
         426,
         "Ann",
         "Leone",
         "Peddie",
         "F",
         "1978-01-17T05:00:00Z",
         "945-98-1180",
         57985
        ],
        [
         433,
         "Angela",
         "Augustina",
         "Kunisch",
         "F",
         "1996-07-01T04:00:00Z",
         "935-85-5005",
         34907
        ],
        [
         434,
         "Amiee",
         "Dierdre",
         "Curtois",
         "F",
         "1999-03-22T05:00:00Z",
         "995-14-8154",
         80232
        ],
        [
         446,
         "Angelina",
         "Aleida",
         "Schubart",
         "F",
         "1984-06-03T04:00:00Z",
         "994-31-5833",
         73818
        ],
        [
         452,
         "Aleta",
         "Golda",
         "Deboy",
         "F",
         "1992-03-16T05:00:00Z",
         "972-57-9148",
         57547
        ],
        [
         501,
         "Aline",
         "Deloris",
         "Beardsworth",
         "F",
         "1990-05-15T04:00:00Z",
         "666-33-7782",
         66081
        ],
        [
         519,
         "Adrienne",
         "Catalina",
         "Pretty",
         "F",
         "1993-01-13T05:00:00Z",
         "901-57-3844",
         49687
        ],
        [
         527,
         "Alice",
         "Dian",
         "Bischoff",
         "F",
         "1983-11-26T05:00:00Z",
         "931-62-3413",
         84897
        ],
        [
         536,
         "Arcelia",
         "Tiana",
         "Kullmann",
         "F",
         "1990-09-05T04:00:00Z",
         "947-32-2591",
         61856
        ],
        [
         558,
         "Aleta",
         "Sheri",
         "Pett",
         "F",
         "1970-11-19T05:00:00Z",
         "986-27-2573",
         71206
        ],
        [
         567,
         "Addie",
         "Mellisa",
         "Swannell",
         "F",
         "1984-07-04T04:00:00Z",
         "984-22-4846",
         34451
        ],
        [
         578,
         "Ali",
         "Winnie",
         "Grahlmans",
         "F",
         "1960-05-02T04:00:00Z",
         "993-98-8508",
         68701
        ],
        [
         584,
         "Ardis",
         "Delta",
         "Berwick",
         "F",
         "1999-07-22T04:00:00Z",
         "945-45-2990",
         54244
        ],
        [
         590,
         "Alicia",
         "Kari",
         "Devas",
         "F",
         "1983-03-08T05:00:00Z",
         "980-80-2517",
         85799
        ],
        [
         616,
         "Alene",
         "Meryl",
         "Killingsworth",
         "F",
         "1955-06-19T04:00:00Z",
         "937-96-1703",
         51176
        ],
        [
         627,
         "Agatha",
         "Danielle",
         "Mallebone",
         "F",
         "1977-03-05T05:00:00Z",
         "922-86-9365",
         48232
        ],
        [
         640,
         "Angelic",
         "Rossana",
         "Raiker",
         "F",
         "1969-06-07T04:00:00Z",
         "985-74-9894",
         30965
        ],
        [
         646,
         "Alecia",
         "Latrice",
         "Dener",
         "F",
         "1973-04-02T05:00:00Z",
         "926-24-5548",
         64624
        ],
        [
         650,
         "Amparo",
         "Alison",
         "Braxton",
         "F",
         "1997-05-13T04:00:00Z",
         "963-74-3766",
         67351
        ],
        [
         685,
         "Armanda",
         "Sammie",
         "Crabbe",
         "F",
         "1986-10-21T04:00:00Z",
         "924-93-3122",
         91560
        ],
        [
         710,
         "Adaline",
         "Dina",
         "Mees",
         "F",
         "1989-05-14T04:00:00Z",
         "946-75-4704",
         95970
        ],
        [
         718,
         "Aurea",
         "Kemberly",
         "Bew",
         "F",
         "1998-10-07T04:00:00Z",
         "950-15-3914",
         51305
        ],
        [
         729,
         "Amie",
         "Karri",
         "Redding",
         "F",
         "1966-12-02T05:00:00Z",
         "992-32-3965",
         74445
        ],
        [
         743,
         "Akiko",
         "Kamala",
         "De Michele",
         "F",
         "1989-02-10T05:00:00Z",
         "985-54-2317",
         64790
        ],
        [
         776,
         "Amina",
         "Eve",
         "Ausiello",
         "F",
         "1968-12-31T05:00:00Z",
         "994-45-9156",
         67509
        ],
        [
         808,
         "Aurea",
         "Tosha",
         "Paxton",
         "F",
         "1977-10-11T04:00:00Z",
         "928-38-4350",
         97860
        ],
        [
         813,
         "Angelica",
         "Darla",
         "Orpyne",
         "F",
         "1988-06-24T04:00:00Z",
         "987-69-5830",
         77940
        ],
        [
         815,
         "Alice",
         "Lakesha",
         "Sammon",
         "F",
         "1979-03-14T05:00:00Z",
         "955-17-2571",
         86689
        ],
        [
         831,
         "Amber",
         "Johana",
         "Quenby",
         "F",
         "1974-01-05T05:00:00Z",
         "965-67-2644",
         70861
        ],
        [
         832,
         "Arcelia",
         "Amberly",
         "Andriveaux",
         "F",
         "1979-06-15T04:00:00Z",
         "970-44-1211",
         108495
        ],
        [
         835,
         "Antoinette",
         "Era",
         "Warriner",
         "F",
         "1982-07-08T04:00:00Z",
         "954-43-1908",
         69049
        ],
        [
         847,
         "Audrey",
         "Alva",
         "Ralph",
         "F",
         "1964-06-22T04:00:00Z",
         "989-97-1420",
         45728
        ],
        [
         854,
         "Arleen",
         "Nicolette",
         "Edgington",
         "F",
         "1958-04-11T05:00:00Z",
         "947-58-4827",
         65058
        ],
        [
         871,
         "Amparo",
         "Kasandra",
         "MacAndie",
         "F",
         "1960-02-05T05:00:00Z",
         "961-54-4024",
         68832
        ],
        [
         874,
         "Arnetta",
         "Lakeisha",
         "Voas",
         "F",
         "1959-03-30T05:00:00Z",
         "981-46-7954",
         48907
        ],
        [
         911,
         "Adrianne",
         "Cristi",
         "Keelan",
         "F",
         "2000-01-10T05:00:00Z",
         "948-18-1402",
         69663
        ],
        [
         938,
         "Albertha",
         "Isabell",
         "Tamburi",
         "F",
         "1983-03-07T05:00:00Z",
         "925-77-3714",
         70859
        ],
        [
         946,
         "Arline",
         "Anne",
         "Dumigan",
         "F",
         "1966-04-27T04:00:00Z",
         "964-75-9285",
         48460
        ],
        [
         963,
         "Angelina",
         "Elza",
         "Beric",
         "F",
         "1952-02-21T05:00:00Z",
         "996-34-5947",
         81446
        ],
        [
         2,
         "An",
         "Amira",
         "Cowper",
         "F",
         "1992-02-08T05:00:00Z",
         "978-97-8086",
         40203
        ],
        [
         19,
         "Adelle",
         "Kathyrn",
         "Grigoriev",
         "F",
         "1978-11-14T05:00:00Z",
         "923-23-5984",
         60600
        ],
        [
         40,
         "Alethea",
         "Dolly",
         "Brickdale",
         "F",
         "1960-06-26T04:00:00Z",
         "908-46-4236",
         89151
        ],
        [
         61,
         "Adelia",
         "Gita",
         "Vassel",
         "F",
         "1990-10-24T04:00:00Z",
         "947-17-3832",
         63563
        ],
        [
         63,
         "Anjanette",
         "Clelia",
         "Hicks",
         "F",
         "1973-10-26T04:00:00Z",
         "981-32-5795",
         61310
        ],
        [
         75,
         "Alica",
         "Elfrieda",
         "Mousdall",
         "F",
         "1953-12-21T05:00:00Z",
         "954-16-6401",
         96490
        ],
        [
         90,
         "Alice",
         "Marisol",
         "Novill",
         "F",
         "1992-05-21T04:00:00Z",
         "924-10-7563",
         34053
        ],
        [
         100,
         "Annalisa",
         "Nova",
         "Patesel",
         "F",
         "1974-01-25T04:00:00Z",
         "922-68-2542",
         66481
        ],
        [
         105,
         "Annie",
         "Jeanne",
         "Beecker",
         "F",
         "1961-12-09T05:00:00Z",
         "903-15-7880",
         63493
        ],
        [
         110,
         "Alayna",
         "Donnetta",
         "Passby",
         "F",
         "1985-11-09T05:00:00Z",
         "937-24-5796",
         76967
        ],
        [
         119,
         "Andra",
         "Serafina",
         "Dripps",
         "F",
         "1991-11-30T05:00:00Z",
         "913-16-2090",
         82231
        ],
        [
         131,
         "Allene",
         "Vanita",
         "Merchant",
         "F",
         "1980-07-10T04:00:00Z",
         "926-80-8802",
         57109
        ],
        [
         135,
         "Alana",
         "Delfina",
         "Mackness",
         "F",
         "1971-01-22T05:00:00Z",
         "969-15-7250",
         92080
        ],
        [
         159,
         "Armida",
         "Lizbeth",
         "Bladen",
         "F",
         "1958-07-12T04:00:00Z",
         "946-79-6467",
         61072
        ],
        [
         178,
         "Abbie",
         "Gertude",
         "Towe",
         "F",
         "1987-08-27T04:00:00Z",
         "950-82-4442",
         89306
        ],
        [
         181,
         "Anamaria",
         "Fae",
         "Bavridge",
         "F",
         "1986-05-26T04:00:00Z",
         "988-43-6728",
         90934
        ],
        [
         195,
         "Adeline",
         "Melani",
         "O'Geneay",
         "F",
         "1988-06-07T04:00:00Z",
         "940-96-5753",
         56515
        ],
        [
         204,
         "Alyce",
         "Tameka",
         "Loghan",
         "F",
         "1972-11-29T05:00:00Z",
         "904-53-3534",
         54605
        ],
        [
         214,
         "Angelia",
         "Dorothy",
         "Denley",
         "F",
         "1982-06-23T04:00:00Z",
         "911-77-4660",
         100027
        ],
        [
         220,
         "Anya",
         "Machelle",
         "Alben",
         "F",
         "1998-06-27T04:00:00Z",
         "992-48-8976",
         92219
        ],
        [
         243,
         "Arianna",
         "Gaylene",
         "Wale",
         "F",
         "1977-10-14T04:00:00Z",
         "944-43-6032",
         80850
        ],
        [
         251,
         "Avril",
         "Santa",
         "Bruggen",
         "F",
         "1998-06-02T04:00:00Z",
         "968-74-1391",
         59021
        ],
        [
         279,
         "Angelica",
         "Jerica",
         "Landreth",
         "F",
         "1981-05-13T04:00:00Z",
         "982-24-5095",
         81134
        ],
        [
         288,
         "Apryl",
         "Andria",
         "Beels",
         "F",
         "1982-07-31T04:00:00Z",
         "951-19-3557",
         81941
        ],
        [
         293,
         "Alida",
         "Peggy",
         "Bracher",
         "F",
         "1972-09-18T04:00:00Z",
         "953-82-2303",
         107303
        ],
        [
         296,
         "Ann",
         "Vinita",
         "Roscher",
         "F",
         "1986-05-31T04:00:00Z",
         "936-40-3049",
         36909
        ],
        [
         297,
         "Ara",
         "Marie",
         "Yirrell",
         "F",
         "1985-01-07T05:00:00Z",
         "941-64-1407",
         65106
        ],
        [
         305,
         "Afton",
         "Eden",
         "Klimes",
         "F",
         "1993-02-17T05:00:00Z",
         "992-54-8408",
         71136
        ],
        [
         322,
         "Ada",
         "Nidia",
         "Fowlston",
         "F",
         "1956-07-16T04:00:00Z",
         "965-47-3150",
         95613
        ],
        [
         327,
         "Andrea",
         "Josie",
         "Loney",
         "F",
         "1965-08-08T04:00:00Z",
         "939-59-2912",
         94514
        ],
        [
         330,
         "Altha",
         "Contessa",
         "Terne",
         "F",
         "1992-04-21T04:00:00Z",
         "924-49-8199",
         101372
        ],
        [
         340,
         "Asha",
         "Kristie",
         "Flett",
         "F",
         "1960-05-22T04:00:00Z",
         "941-80-2445",
         39079
        ],
        [
         348,
         "Andra",
         "Ami",
         "Player",
         "F",
         "1984-09-10T04:00:00Z",
         "986-41-7846",
         97363
        ],
        [
         364,
         "Arlinda",
         "Alene",
         "Tilte",
         "F",
         "1957-02-20T05:00:00Z",
         "961-48-7930",
         57645
        ],
        [
         372,
         "Arlena",
         "Azucena",
         "Trunby",
         "F",
         "1982-03-15T05:00:00Z",
         "922-60-6411",
         103732
        ],
        [
         374,
         "Alice",
         "Sheridan",
         "Imlacke",
         "F",
         "1981-07-18T04:00:00Z",
         "981-20-2851",
         107158
        ],
        [
         386,
         "Adeline",
         "Dominga",
         "Brittian",
         "F",
         "1973-01-30T05:00:00Z",
         "927-92-5942",
         54880
        ],
        [
         390,
         "Alma",
         "Kristle",
         "Matz",
         "F",
         "1981-05-20T04:00:00Z",
         "995-96-9839",
         77408
        ],
        [
         399,
         "Ariane",
         "Alesha",
         "Edden",
         "F",
         "1995-08-23T04:00:00Z",
         "997-24-9280",
         59872
        ],
        [
         407,
         "Arletha",
         "Gillian",
         "Wasteney",
         "F",
         "1958-08-16T04:00:00Z",
         "981-94-7665",
         77969
        ],
        [
         409,
         "Aura",
         "Beulah",
         "Tiddeman",
         "F",
         "1956-04-01T05:00:00Z",
         "996-87-3713",
         83470
        ],
        [
         415,
         "Angeline",
         "Karlene",
         "Liveing",
         "F",
         "1963-10-18T04:00:00Z",
         "992-15-7713",
         76278
        ],
        [
         426,
         "Ann",
         "Leone",
         "Peddie",
         "F",
         "1978-01-17T05:00:00Z",
         "945-98-1180",
         57985
        ],
        [
         433,
         "Angela",
         "Augustina",
         "Kunisch",
         "F",
         "1996-07-01T04:00:00Z",
         "935-85-5005",
         34907
        ],
        [
         434,
         "Amiee",
         "Dierdre",
         "Curtois",
         "F",
         "1999-03-22T05:00:00Z",
         "995-14-8154",
         80232
        ],
        [
         446,
         "Angelina",
         "Aleida",
         "Schubart",
         "F",
         "1984-06-03T04:00:00Z",
         "994-31-5833",
         73818
        ],
        [
         452,
         "Aleta",
         "Golda",
         "Deboy",
         "F",
         "1992-03-16T05:00:00Z",
         "972-57-9148",
         57547
        ],
        [
         501,
         "Aline",
         "Deloris",
         "Beardsworth",
         "F",
         "1990-05-15T04:00:00Z",
         "666-33-7782",
         66081
        ],
        [
         519,
         "Adrienne",
         "Catalina",
         "Pretty",
         "F",
         "1993-01-13T05:00:00Z",
         "901-57-3844",
         49687
        ],
        [
         527,
         "Alice",
         "Dian",
         "Bischoff",
         "F",
         "1983-11-26T05:00:00Z",
         "931-62-3413",
         84897
        ],
        [
         536,
         "Arcelia",
         "Tiana",
         "Kullmann",
         "F",
         "1990-09-05T04:00:00Z",
         "947-32-2591",
         61856
        ],
        [
         558,
         "Aleta",
         "Sheri",
         "Pett",
         "F",
         "1970-11-19T05:00:00Z",
         "986-27-2573",
         71206
        ],
        [
         567,
         "Addie",
         "Mellisa",
         "Swannell",
         "F",
         "1984-07-04T04:00:00Z",
         "984-22-4846",
         34451
        ],
        [
         578,
         "Ali",
         "Winnie",
         "Grahlmans",
         "F",
         "1960-05-02T04:00:00Z",
         "993-98-8508",
         68701
        ],
        [
         584,
         "Ardis",
         "Delta",
         "Berwick",
         "F",
         "1999-07-22T04:00:00Z",
         "945-45-2990",
         54244
        ],
        [
         590,
         "Alicia",
         "Kari",
         "Devas",
         "F",
         "1983-03-08T05:00:00Z",
         "980-80-2517",
         85799
        ],
        [
         616,
         "Alene",
         "Meryl",
         "Killingsworth",
         "F",
         "1955-06-19T04:00:00Z",
         "937-96-1703",
         51176
        ],
        [
         627,
         "Agatha",
         "Danielle",
         "Mallebone",
         "F",
         "1977-03-05T05:00:00Z",
         "922-86-9365",
         48232
        ],
        [
         640,
         "Angelic",
         "Rossana",
         "Raiker",
         "F",
         "1969-06-07T04:00:00Z",
         "985-74-9894",
         30965
        ],
        [
         646,
         "Alecia",
         "Latrice",
         "Dener",
         "F",
         "1973-04-02T05:00:00Z",
         "926-24-5548",
         64624
        ],
        [
         650,
         "Amparo",
         "Alison",
         "Braxton",
         "F",
         "1997-05-13T04:00:00Z",
         "963-74-3766",
         67351
        ],
        [
         685,
         "Armanda",
         "Sammie",
         "Crabbe",
         "F",
         "1986-10-21T04:00:00Z",
         "924-93-3122",
         91560
        ],
        [
         710,
         "Adaline",
         "Dina",
         "Mees",
         "F",
         "1989-05-14T04:00:00Z",
         "946-75-4704",
         95970
        ],
        [
         718,
         "Aurea",
         "Kemberly",
         "Bew",
         "F",
         "1998-10-07T04:00:00Z",
         "950-15-3914",
         51305
        ],
        [
         729,
         "Amie",
         "Karri",
         "Redding",
         "F",
         "1966-12-02T05:00:00Z",
         "992-32-3965",
         74445
        ],
        [
         743,
         "Akiko",
         "Kamala",
         "De Michele",
         "F",
         "1989-02-10T05:00:00Z",
         "985-54-2317",
         64790
        ],
        [
         776,
         "Amina",
         "Eve",
         "Ausiello",
         "F",
         "1968-12-31T05:00:00Z",
         "994-45-9156",
         67509
        ],
        [
         808,
         "Aurea",
         "Tosha",
         "Paxton",
         "F",
         "1977-10-11T04:00:00Z",
         "928-38-4350",
         97860
        ],
        [
         813,
         "Angelica",
         "Darla",
         "Orpyne",
         "F",
         "1988-06-24T04:00:00Z",
         "987-69-5830",
         77940
        ],
        [
         815,
         "Alice",
         "Lakesha",
         "Sammon",
         "F",
         "1979-03-14T05:00:00Z",
         "955-17-2571",
         86689
        ],
        [
         831,
         "Amber",
         "Johana",
         "Quenby",
         "F",
         "1974-01-05T05:00:00Z",
         "965-67-2644",
         70861
        ],
        [
         832,
         "Arcelia",
         "Amberly",
         "Andriveaux",
         "F",
         "1979-06-15T04:00:00Z",
         "970-44-1211",
         108495
        ],
        [
         835,
         "Antoinette",
         "Era",
         "Warriner",
         "F",
         "1982-07-08T04:00:00Z",
         "954-43-1908",
         69049
        ],
        [
         847,
         "Audrey",
         "Alva",
         "Ralph",
         "F",
         "1964-06-22T04:00:00Z",
         "989-97-1420",
         45728
        ],
        [
         854,
         "Arleen",
         "Nicolette",
         "Edgington",
         "F",
         "1958-04-11T05:00:00Z",
         "947-58-4827",
         65058
        ],
        [
         871,
         "Amparo",
         "Kasandra",
         "MacAndie",
         "F",
         "1960-02-05T05:00:00Z",
         "961-54-4024",
         68832
        ],
        [
         874,
         "Arnetta",
         "Lakeisha",
         "Voas",
         "F",
         "1959-03-30T05:00:00Z",
         "981-46-7954",
         48907
        ],
        [
         911,
         "Adrianne",
         "Cristi",
         "Keelan",
         "F",
         "2000-01-10T05:00:00Z",
         "948-18-1402",
         69663
        ],
        [
         938,
         "Albertha",
         "Isabell",
         "Tamburi",
         "F",
         "1983-03-07T05:00:00Z",
         "925-77-3714",
         70859
        ],
        [
         946,
         "Arline",
         "Anne",
         "Dumigan",
         "F",
         "1966-04-27T04:00:00Z",
         "964-75-9285",
         48460
        ],
        [
         963,
         "Angelina",
         "Elza",
         "Beric",
         "F",
         "1952-02-21T05:00:00Z",
         "996-34-5947",
         81446
        ]
       ],
       "datasetInfos": [],
       "dbfsResultPath": null,
       "isJsonSchema": true,
       "metadata": {},
       "overflow": false,
       "plotOptions": {
        "customPlotOptions": {},
        "displayType": "table",
        "pivotAggregation": null,
        "pivotColumns": null,
        "xColumns": null,
        "yColumns": null
       },
       "removedWidgets": [],
       "schema": [
        {
         "metadata": "{}",
         "name": "id",
         "type": "\"long\""
        },
        {
         "metadata": "{}",
         "name": "firstName",
         "type": "\"string\""
        },
        {
         "metadata": "{}",
         "name": "middleName",
         "type": "\"string\""
        },
        {
         "metadata": "{}",
         "name": "lastName",
         "type": "\"string\""
        },
        {
         "metadata": "{}",
         "name": "gender",
         "type": "\"string\""
        },
        {
         "metadata": "{}",
         "name": "birthDate",
         "type": "\"timestamp\""
        },
        {
         "metadata": "{}",
         "name": "ssn",
         "type": "\"string\""
        },
        {
         "metadata": "{}",
         "name": "salary",
         "type": "\"long\""
        }
       ],
       "type": "table"
      }
     },
     "output_type": "display_data"
    }
   ],
   "source": [
    "from pyspark.sql.functions import *\n",
    "dfresult=data.select(\"*\").filter(col(\"firstname\").startswith(\"A\"))\n",
    "display(dfresult)"
   ]
  },
  {
   "cell_type": "code",
   "execution_count": 0,
   "metadata": {
    "application/vnd.databricks.v1+cell": {
     "cellMetadata": {
      "byteLimit": 2048000,
      "implicitDf": true,
      "rowLimit": 10000
     },
     "inputWidgets": {},
     "nuid": "da8fb155-fdbc-4246-9761-9bc3d71b24fb",
     "showTitle": false,
     "tableResultSettingsMap": {},
     "title": ""
    }
   },
   "outputs": [
    {
     "output_type": "display_data",
     "data": {
      "text/html": [
       "<style scoped>\n",
       "  .table-result-container {\n",
       "    max-height: 300px;\n",
       "    overflow: auto;\n",
       "  }\n",
       "  table, th, td {\n",
       "    border: 1px solid black;\n",
       "    border-collapse: collapse;\n",
       "  }\n",
       "  th, td {\n",
       "    padding: 5px;\n",
       "  }\n",
       "  th {\n",
       "    text-align: left;\n",
       "  }\n",
       "</style><div class='table-result-container'><table class='table-result'><thead style='background-color: white'><tr></tr></thead><tbody></tbody></table></div>"
      ]
     },
     "metadata": {
      "application/vnd.databricks.v1+output": {
       "addedWidgets": {},
       "aggData": [],
       "aggError": "",
       "aggOverflow": false,
       "aggSchema": [],
       "aggSeriesLimitReached": false,
       "aggType": "",
       "arguments": {},
       "columnCustomDisplayInfos": {},
       "data": [],
       "datasetInfos": [],
       "dbfsResultPath": null,
       "isJsonSchema": true,
       "metadata": {
        "dataframeName": null
       },
       "overflow": false,
       "plotOptions": {
        "customPlotOptions": {},
        "displayType": "table",
        "pivotAggregation": null,
        "pivotColumns": null,
        "xColumns": null,
        "yColumns": null
       },
       "removedWidgets": [],
       "schema": [],
       "type": "table"
      }
     },
     "output_type": "display_data"
    }
   ],
   "source": [
    "%sql\n",
    "drop table if exists data;"
   ]
  },
  {
   "cell_type": "code",
   "execution_count": 0,
   "metadata": {
    "application/vnd.databricks.v1+cell": {
     "cellMetadata": {
      "byteLimit": 2048000,
      "rowLimit": 10000
     },
     "inputWidgets": {},
     "nuid": "57f1a0a5-ab34-46b9-9a21-a84a835f925a",
     "showTitle": false,
     "tableResultSettingsMap": {},
     "title": ""
    }
   },
   "outputs": [
    {
     "output_type": "display_data",
     "data": {
      "text/plain": [
       "\u001B[0;36m  File \u001B[0;32m<command-1854992560119325>, line 1\u001B[0;36m\u001B[0m\n",
       "\u001B[0;31m    describe detail data\u001B[0m\n",
       "\u001B[0m             ^\u001B[0m\n",
       "\u001B[0;31mSyntaxError\u001B[0m\u001B[0;31m:\u001B[0m invalid syntax\n"
      ]
     },
     "metadata": {
      "application/vnd.databricks.v1+output": {
       "addedWidgets": {},
       "arguments": {},
       "datasetInfos": [],
       "jupyterProps": {
        "ename": "SyntaxError",
        "evalue": "invalid syntax (command-1854992560119325-397340060, line 1)"
       },
       "metadata": {
        "errorSummary": "<span class='ansi-red-fg'>SyntaxError</span>: invalid syntax (command-1854992560119325-397340060, line 1)"
       },
       "removedWidgets": [],
       "sqlProps": null,
       "stackFrames": [
        "\u001B[0;36m  File \u001B[0;32m<command-1854992560119325>, line 1\u001B[0;36m\u001B[0m\n\u001B[0;31m    describe detail data\u001B[0m\n\u001B[0m             ^\u001B[0m\n\u001B[0;31mSyntaxError\u001B[0m\u001B[0;31m:\u001B[0m invalid syntax\n"
       ],
       "type": "baseError"
      }
     },
     "output_type": "display_data"
    }
   ],
   "source": [
    "describe detail data"
   ]
  },
  {
   "cell_type": "code",
   "execution_count": 0,
   "metadata": {
    "application/vnd.databricks.v1+cell": {
     "cellMetadata": {},
     "inputWidgets": {},
     "nuid": "b457fd98-1e5b-477a-ac01-7abce98a5386",
     "showTitle": false,
     "tableResultSettingsMap": {},
     "title": ""
    }
   },
   "outputs": [],
   "source": []
  }
 ],
 "metadata": {
  "application/vnd.databricks.v1+notebook": {
   "dashboards": [],
   "environmentMetadata": {
    "base_environment": "",
    "client": "1"
   },
   "language": "python",
   "notebookMetadata": {
    "mostRecentlyExecutedCommandWithImplicitDF": {
     "commandId": 1854992560119324,
     "dataframes": [
      "_sqldf"
     ]
    },
    "pythonIndentUnit": 4
   },
   "notebookName": "adb Day3",
   "widgets": {}
  },
  "language_info": {
   "name": "python"
  }
 },
 "nbformat": 4,
 "nbformat_minor": 0
}